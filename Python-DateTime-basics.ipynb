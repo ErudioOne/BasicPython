{
 "cells": [
  {
   "cell_type": "markdown",
   "metadata": {},
   "source": [
    "![Erudio logo](img/erudio-logo-small.png)"
   ]
  },
  {
   "cell_type": "markdown",
   "metadata": {},
   "source": [
    "# Using Dates, Times, and Datetimes in Python\n",
    "\n",
    "This lesson aims at understanding more about the concepts of date and time in Python. In this module, we will explore the intricacies of working with dates and times in Python, covering fundamental concepts such as datetime objects, timedelta, and the datetime module. We will delve into the challenges posed by timezones, discussing how to properly account for them in your applications to ensure accurate and reliable time-based functionality.\n",
    "\n",
    "Concepts covered:\n",
    "* datetimes\n",
    "* dates / times\n",
    "* timedeltas. \n",
    "* timezones\n",
    "\n",
    "Python provides solid, basic handling of timestamps and other time and calendar functions.  \n",
    "\n",
    "With a little bit of assistance from third-party libraries, we can manage more intricate behavior of time zones and the complications attached thereto.\n",
    "\n",
    "In almost any domain of software development, dealing with time-related indicators will be essential, and this course will give you a solid foundation for your work.\n",
    "\n",
    "Whether you are a beginner looking to understand the basics or an experienced developer seeking to enhance your proficiency, this lesson aims to provide you with a comprehensive understanding of how Python facilitates the manipulation and management of dates, datetimes, and timezones."
   ]
  },
  {
   "cell_type": "markdown",
   "metadata": {},
   "source": [
    "# Basic Datetimes\n",
    "\n",
    "The Python standard library comes with a module `datetime` that handles working with dates and times.  It contains the classes `datetime`, `time`, `date`, and `timedelta` that allow constructing, representing and working with time-oriented objects.  However, issues about timezones are deferred until the next lesson of this course."
   ]
  },
  {
   "cell_type": "markdown",
   "metadata": {},
   "source": [
    "One oddity about the `datetime` module is shared by a few other (older) standard library modules like `glob`, `array`, `copy`, and `time` and `pprint`.  In each, the main names inside the module you wish to import has the same name as the module itself.  I often trip over whether I used `import glob` or `from glob import glob` at the top of my code."
   ]
  },
  {
   "cell_type": "code",
   "execution_count": 1,
   "metadata": {},
   "outputs": [],
   "source": [
    "# Import cessary modules \n",
    "import datetime\n",
    "from pprint import pprint"
   ]
  },
  {
   "cell_type": "markdown",
   "metadata": {},
   "source": [
    "## Datetime\n",
    "\n",
    "A `datetime` object represents a complete timestamp or \"moment\" in time, optionally including time zone information.  There are a number of different ways of constructing these objects and a number of formats they can be represented as.  The actual class constructor takes a tuple of different components of the instant in time.  For example we might want to represent the current time when the code is called."
   ]
  },
  {
   "cell_type": "code",
   "execution_count": 3,
   "metadata": {},
   "outputs": [
    {
     "data": {
      "text/plain": [
       "datetime.datetime(2024, 2, 8, 19, 38, 38, 42120)"
      ]
     },
     "execution_count": 3,
     "metadata": {},
     "output_type": "execute_result"
    }
   ],
   "source": [
    "# Creating a datetime object\n",
    "ts0 = datetime.datetime.now()\n",
    "ts0"
   ]
  },
  {
   "cell_type": "markdown",
   "metadata": {},
   "source": [
    "Or we can represent a specific time by providing numeric arguments for each component of the time."
   ]
  },
  {
   "cell_type": "code",
   "execution_count": 4,
   "metadata": {},
   "outputs": [
    {
     "data": {
      "text/plain": [
       "datetime.datetime(2021, 1, 20, 12, 0, 0, 123456)"
      ]
     },
     "execution_count": 4,
     "metadata": {},
     "output_type": "execute_result"
    }
   ],
   "source": [
    "ts1 = datetime.datetime(year=2021, month=1, day=20, \n",
    "                        hour=12, minute=0, second=0, \n",
    "                        microsecond=123_456)\n",
    "ts1"
   ]
  },
  {
   "cell_type": "code",
   "execution_count": 5,
   "metadata": {},
   "outputs": [
    {
     "data": {
      "text/plain": [
       "datetime.datetime(2021, 1, 20, 12, 0, 0, 345678)"
      ]
     },
     "execution_count": 5,
     "metadata": {},
     "output_type": "execute_result"
    }
   ],
   "source": [
    "# Parameters may be passed purely positionally\n",
    "ts2 = datetime.datetime(2021, 1, 20, 12, 0, 0, 345_678)\n",
    "ts2"
   ]
  },
  {
   "cell_type": "markdown",
   "metadata": {},
   "source": [
    "Often it is useful to create datetimes from or export to popular string representations. ISO 8601 format is the best choice, of course, but your requirement might be different."
   ]
  },
  {
   "cell_type": "code",
   "execution_count": 7,
   "metadata": {},
   "outputs": [
    {
     "data": {
      "text/plain": [
       "datetime.datetime(2021, 1, 20, 12, 0, 0, 345678)"
      ]
     },
     "execution_count": 7,
     "metadata": {},
     "output_type": "execute_result"
    }
   ],
   "source": [
    "# Equivalent to: '2021-01-20T12:00:00.678901'\n",
    "ts3 = datetime.datetime.fromisoformat('2021-01-20 12:00:00.345678')\n",
    "ts3"
   ]
  },
  {
   "cell_type": "code",
   "execution_count": 8,
   "metadata": {},
   "outputs": [
    {
     "data": {
      "text/plain": [
       "'2024-02-08T19:38:38.042120'"
      ]
     },
     "execution_count": 8,
     "metadata": {},
     "output_type": "execute_result"
    }
   ],
   "source": [
    "ts0.isoformat()"
   ]
  },
  {
   "cell_type": "markdown",
   "metadata": {},
   "source": [
    "Custom formats can be defined using the format codes from C-family languages (ANSI X3.159-1989).  For Python, you can read documentation at:\n",
    "\n",
    "> https://docs.python.org/3/library/datetime.html#strftime-strptime-behavior\n",
    "\n",
    "There are a large number of these format codes, many of them locale aware.  For example, `%A` will produce one of \"Sunday\", \"Monday\", etc. in the locale `en_US`, but will produce \"Sonntag\", \"Montag\", etc. for `de_DE`.  The names `strptime()` and `strftime()` are also taken from that old C standard."
   ]
  },
  {
   "cell_type": "markdown",
   "metadata": {},
   "source": [
    "An example of output."
   ]
  },
  {
   "cell_type": "code",
   "execution_count": 9,
   "metadata": {
    "slideshow": {
     "slide_type": "fragment"
    }
   },
   "outputs": [
    {
     "name": "stdout",
     "output_type": "stream",
     "text": [
      "('en_IN', 'cp1252')\n"
     ]
    },
    {
     "data": {
      "text/plain": [
       "'Thursday Feb 08; 2024; 07:38:38 PM'"
      ]
     },
     "execution_count": 9,
     "metadata": {},
     "output_type": "execute_result"
    }
   ],
   "source": [
    "import locale\n",
    "print(locale.getdefaultlocale())\n",
    "\n",
    "fmt = '%A %b %d; %Y; %I:%M:%S %p'\n",
    "datetime.datetime.strftime(ts0, fmt)"
   ]
  },
  {
   "cell_type": "markdown",
   "metadata": {
    "slideshow": {
     "slide_type": "subslide"
    }
   },
   "source": [
    "Reading in these formats uses the same codes.  The module is only semi-smart about validation."
   ]
  },
  {
   "cell_type": "code",
   "execution_count": 10,
   "metadata": {
    "slideshow": {
     "slide_type": "fragment"
    }
   },
   "outputs": [
    {
     "data": {
      "text/plain": [
       "datetime.datetime(2020, 8, 12, 17, 29, 12)"
      ]
     },
     "execution_count": 10,
     "metadata": {},
     "output_type": "execute_result"
    }
   ],
   "source": [
    "# Good datetime object\n",
    "strptime = datetime.datetime.strptime\n",
    "strptime('Wednesday Aug 12; 2020; 05:29:12 PM', fmt)"
   ]
  },
  {
   "cell_type": "code",
   "execution_count": 11,
   "metadata": {
    "slideshow": {
     "slide_type": "fragment"
    }
   },
   "outputs": [
    {
     "data": {
      "text/plain": [
       "datetime.datetime(2020, 8, 12, 17, 29, 12)"
      ]
     },
     "execution_count": 11,
     "metadata": {},
     "output_type": "execute_result"
    }
   ],
   "source": [
    "# Still \"good\" even though wrong weekday\n",
    "strptime('Monday Aug 12; 2020; 05:29:12 PM', fmt)"
   ]
  },
  {
   "cell_type": "markdown",
   "metadata": {
    "slideshow": {
     "slide_type": "subslide"
    }
   },
   "source": [
    "Some validation is performed though."
   ]
  },
  {
   "cell_type": "code",
   "execution_count": 12,
   "metadata": {
    "slideshow": {
     "slide_type": "fragment"
    }
   },
   "outputs": [
    {
     "name": "stdout",
     "output_type": "stream",
     "text": [
      "(\"time data 'Humpday Aug 08; 2020; 05:29:12 PM' does \"\n",
      " \"not match format '%A %b %d; %Y; %I:%M:%S %p'\")\n"
     ]
    }
   ],
   "source": [
    "# It DOES check that it is a day name at all\n",
    "try:\n",
    "    strptime('Humpday Aug 08; 2020; 05:29:12 PM', fmt)\n",
    "except ValueError as err:\n",
    "    pprint(str(err), width=54)"
   ]
  },
  {
   "cell_type": "code",
   "execution_count": 13,
   "metadata": {
    "slideshow": {
     "slide_type": "fragment"
    }
   },
   "outputs": [
    {
     "name": "stdout",
     "output_type": "stream",
     "text": [
      "day is out of range for month\n"
     ]
    }
   ],
   "source": [
    "# Day number not in month\n",
    "try:\n",
    "    strptime('Thursday Sep 31; 2020; 05:29:12 PM', fmt)\n",
    "except ValueError as err:\n",
    "    print(err)"
   ]
  },
  {
   "cell_type": "markdown",
   "metadata": {
    "slideshow": {
     "slide_type": "slide"
    }
   },
   "source": [
    "# Basic Datetimes\n",
    "## Comparing Datetimes\n",
    "\n",
    "Datetime objects are comparable and hashable.  This makes it easy both to compare different datetimes and to use these objects as elements in sets or keys in dictionaries.  When you try out this notebookBasic DatetimesBasic DatetimesBasic DatetimesBasic DatetimesBasic DatetimesBasic Datetimes## Comparing Datetimes"
   ]
  },
  {
   "cell_type": "markdown",
   "metadata": {},
   "source": [
    "Inequalities and equality:"
   ]
  },
  {
   "cell_type": "code",
   "execution_count": 14,
   "metadata": {},
   "outputs": [
    {
     "name": "stdout",
     "output_type": "stream",
     "text": [
      "2024-02-08 19:38:38.042120\n",
      "2021-01-20 12:00:00.123456\n"
     ]
    },
    {
     "data": {
      "text/plain": [
       "False"
      ]
     },
     "execution_count": 14,
     "metadata": {},
     "output_type": "execute_result"
    }
   ],
   "source": [
    "print(ts0, ts1, sep='\\n')\n",
    "ts0 < ts1"
   ]
  },
  {
   "cell_type": "code",
   "execution_count": 15,
   "metadata": {},
   "outputs": [
    {
     "name": "stdout",
     "output_type": "stream",
     "text": [
      "2021-01-20 12:00:00.345678\n",
      "2021-01-20 12:00:00.345678\n"
     ]
    },
    {
     "data": {
      "text/plain": [
       "True"
      ]
     },
     "execution_count": 15,
     "metadata": {},
     "output_type": "execute_result"
    }
   ],
   "source": [
    "print(ts2, ts3, sep='\\n')\n",
    "ts2 == ts3"
   ]
  },
  {
   "cell_type": "code",
   "execution_count": 16,
   "metadata": {},
   "outputs": [
    {
     "name": "stdout",
     "output_type": "stream",
     "text": [
      "{1789656710336, 1789656696368, 1789656698000, 1789656709568}\n"
     ]
    },
    {
     "data": {
      "text/plain": [
       "{datetime.datetime(2021, 1, 20, 12, 0, 0, 123456),\n",
       " datetime.datetime(2021, 1, 20, 12, 0, 0, 345678),\n",
       " datetime.datetime(2024, 2, 8, 19, 38, 38, 42120)}"
      ]
     },
     "execution_count": 16,
     "metadata": {},
     "output_type": "execute_result"
    }
   ],
   "source": [
    "dates = [ts0, ts1, ts2, ts3]\n",
    "objs = {id(ts) for ts in dates}\n",
    "distinct = set(dates)\n",
    "print(objs)\n",
    "distinct"
   ]
  },
  {
   "cell_type": "markdown",
   "metadata": {},
   "source": [
    "dates = [ts0, ts1, ts2, ts3] objs = {id(ts) for ts in dates} distinct = set(dates) print(objs) distinctSimilarly with dictionary keys."
   ]
  },
  {
   "cell_type": "code",
   "execution_count": 17,
   "metadata": {},
   "outputs": [
    {
     "data": {
      "text/plain": [
       "{datetime.datetime(2024, 2, 8, 19, 38, 38, 42120): 'Hope',\n",
       " datetime.datetime(2021, 1, 20, 12, 0, 0, 123456): 'Change',\n",
       " datetime.datetime(2021, 1, 20, 12, 0, 0, 345678): 'Progress'}"
      ]
     },
     "execution_count": 17,
     "metadata": {},
     "output_type": "execute_result"
    }
   ],
   "source": [
    "{ts0: \"Hope\", ts1: \"Change\", ts2: \"Progress\"}"
   ]
  },
  {
   "cell_type": "markdown",
   "metadata": {},
   "source": [
    "## Date and Time\n",
    "\n",
    "The separate classes `date` and `time` represent those named components of an overall `datetime`.  However, these time-related datatypes are simply different, and require explicit conversion to or from a `datetime`.  As with full datetime objects, we can construct dates and times in a number of ways.\n",
    "\n",
    "The most basic constructors just give componets."
   ]
  },
  {
   "cell_type": "code",
   "execution_count": 19,
   "metadata": {},
   "outputs": [
    {
     "name": "stdout",
     "output_type": "stream",
     "text": [
      "Date: 1941-12-07\n",
      "Time: 07:55:00\n"
     ]
    }
   ],
   "source": [
    "print(\"Date:\", datetime.date(1941, 12, 7))\n",
    "print(\"Time:\", datetime.time(7, 55, 0))"
   ]
  },
  {
   "cell_type": "markdown",
   "metadata": {},
   "source": [
    "One way of constructing a date (or a datetime) is in terms of \"seconds since the beginning of (Unix) time.\" For a date alone, this only gets you \"some time during that day.\""
   ]
  },
  {
   "cell_type": "code",
   "execution_count": 21,
   "metadata": {},
   "outputs": [
    {
     "name": "stdout",
     "output_type": "stream",
     "text": [
      " Seconds: 1,707,402,600.2836485\n",
      "Datetime: 2024-02-08 20:00:00.283648\n",
      "    Date: 2024-02-08\n"
     ]
    }
   ],
   "source": [
    "import time\n",
    "now = time.time()\n",
    "# Seconds since the epoch\n",
    "print(f\" Seconds: {now:,}\")\n",
    "# What timestamp is that?\n",
    "print(\"Datetime:\", datetime.datetime.fromtimestamp(now))\n",
    "# What day is that?\n",
    "print(\"    Date:\", datetime.date.fromtimestamp(now))"
   ]
  },
  {
   "cell_type": "markdown",
   "metadata": {
    "slideshow": {
     "slide_type": "subslide"
    }
   },
   "source": [
    "Inequalities and equality:"
   ]
  },
  {
   "cell_type": "code",
   "execution_count": 12,
   "metadata": {
    "slideshow": {
     "slide_type": "fragment"
    }
   },
   "outputs": [
    {
     "name": "stdout",
     "output_type": "stream",
     "text": [
      "2020-08-15 16:08:11.183949\n",
      "2021-01-20 12:00:00.123456\n"
     ]
    },
    {
     "data": {
      "text/plain": [
       "True"
      ]
     },
     "execution_count": 12,
     "metadata": {},
     "output_type": "execute_result"
    }
   ],
   "source": [
    "print(ts0, ts1, sep='\\n')\n",
    "ts0 < ts1"
   ]
  },
  {
   "cell_type": "code",
   "execution_count": 13,
   "metadata": {
    "slideshow": {
     "slide_type": "fragment"
    }
   },
   "outputs": [
    {
     "name": "stdout",
     "output_type": "stream",
     "text": [
      "2021-01-20 12:00:00.345678\n",
      "2021-01-20 12:00:00.345678\n"
     ]
    },
    {
     "data": {
      "text/plain": [
       "True"
      ]
     },
     "execution_count": 13,
     "metadata": {},
     "output_type": "execute_result"
    }
   ],
   "source": [
    "print(ts2, ts3, sep='\\n')\n",
    "ts2 == ts3"
   ]
  },
  {
   "cell_type": "markdown",
   "metadata": {
    "slideshow": {
     "slide_type": "subslide"
    }
   },
   "source": [
    "\n",
    "Datetime objects are hashable.  Equality, of course, means that only one equal object is in a set."
   ]
  },
  {
   "cell_type": "code",
   "execution_count": 14,
   "metadata": {
    "slideshow": {
     "slide_type": "fragment"
    }
   },
   "outputs": [
    {
     "name": "stdout",
     "output_type": "stream",
     "text": [
      "{140149750458912, 140149750513408, 140149750512784, 140149750512112}\n"
     ]
    },
    {
     "data": {
      "text/plain": [
       "{datetime.datetime(2020, 8, 15, 16, 8, 11, 183949),\n",
       " datetime.datetime(2021, 1, 20, 12, 0, 0, 123456),\n",
       " datetime.datetime(2021, 1, 20, 12, 0, 0, 345678)}"
      ]
     },
     "execution_count": 14,
     "metadata": {},
     "output_type": "execute_result"
    }
   ],
   "source": [
    "dates = [ts0, ts1, ts2, ts3]\n",
    "objs = {id(ts) for ts in dates}\n",
    "distinct = set(dates)\n",
    "print(objs)\n",
    "distinct"
   ]
  },
  {
   "cell_type": "markdown",
   "metadata": {
    "slideshow": {
     "slide_type": "subslide"
    }
   },
   "source": [
    "Similarly with dictionary keys."
   ]
  },
  {
   "cell_type": "code",
   "execution_count": 15,
   "metadata": {
    "slideshow": {
     "slide_type": "fragment"
    }
   },
   "outputs": [
    {
     "data": {
      "text/plain": [
       "{datetime.datetime(2020, 8, 15, 16, 8, 11, 183949): 'Hope',\n",
       " datetime.datetime(2021, 1, 20, 12, 0, 0, 123456): 'Change',\n",
       " datetime.datetime(2021, 1, 20, 12, 0, 0, 345678): 'Progress'}"
      ]
     },
     "execution_count": 15,
     "metadata": {},
     "output_type": "execute_result"
    }
   ],
   "source": [
    "{ts0: \"Hope\", ts1: \"Change\", ts2: \"Progress\"}"
   ]
  },
  {
   "cell_type": "markdown",
   "metadata": {
    "slideshow": {
     "slide_type": "subslide"
    }
   },
   "source": [
    "If we pick an arbitrary number, lets say \"0\" as the seconds-since-epoch, we will get a date (or datetime; but **not** a time for this method)."
   ]
  },
  {
   "cell_type": "code",
   "execution_count": 22,
   "metadata": {
    "slideshow": {
     "slide_type": "fragment"
    }
   },
   "outputs": [
    {
     "data": {
      "text/plain": [
       "datetime.date(1970, 1, 1)"
      ]
     },
     "execution_count": 22,
     "metadata": {},
     "output_type": "execute_result"
    }
   ],
   "source": [
    "datetime.date.fromtimestamp(0)"
   ]
  },
  {
   "cell_type": "markdown",
   "metadata": {
    "slideshow": {
     "slide_type": "fragment"
    }
   },
   "source": [
    "This is a somewhat odd date, given that Unix time started at the stroke of midnight on January 1, 1970.  The key thing is Unix time start in UTC timezone, and my local time writing this is EST."
   ]
  },
  {
   "cell_type": "markdown",
   "metadata": {
    "slideshow": {
     "slide_type": "subslide"
    }
   },
   "source": [
    "Negative numbers are perfectly fine, But does it work with the fromtimestamp function? Let's see"
   ]
  },
  {
   "cell_type": "code",
   "execution_count": 26,
   "metadata": {},
   "outputs": [
    {
     "ename": "OSError",
     "evalue": "[Errno 22] Invalid argument",
     "output_type": "error",
     "traceback": [
      "\u001b[1;31m---------------------------------------------------------------------------\u001b[0m",
      "\u001b[1;31mOSError\u001b[0m                                   Traceback (most recent call last)",
      "Cell \u001b[1;32mIn [26], line 1\u001b[0m\n\u001b[1;32m----> 1\u001b[0m long_ago \u001b[38;5;241m=\u001b[39m \u001b[43mdatetime\u001b[49m\u001b[38;5;241;43m.\u001b[39;49m\u001b[43mdate\u001b[49m\u001b[38;5;241;43m.\u001b[39;49m\u001b[43mfromtimestamp\u001b[49m\u001b[43m(\u001b[49m\u001b[38;5;241;43m-\u001b[39;49m\u001b[38;5;241;43m6_857_300_000\u001b[39;49m\u001b[43m)\u001b[49m\n\u001b[0;32m      2\u001b[0m long_ago\n",
      "\u001b[1;31mOSError\u001b[0m: [Errno 22] Invalid argument"
     ]
    }
   ],
   "source": [
    "long_ago = datetime.date.fromtimestamp(-6_857_300_000)\n",
    "long_ago"
   ]
  },
  {
   "cell_type": "markdown",
   "metadata": {},
   "source": [
    "The issue we're encountering is related to the limitations of the **fromtimestamp** method in the datetime module when dealing with negative timestamps.\n",
    "\n",
    "The fromtimestamp method expects a timestamp representing the number of seconds since the epoch (January 1, 1970, 00:00:00 UTC). However, when you provide a negative timestamp, it attempts to interpret it as a date before the epoch, which is not supported.\n",
    "\n",
    "If you want to work with a date that is far in the past or future, you can use the datetime constructor directly, specifying the year, month, and day. Here's an example for a date far in the past:"
   ]
  },
  {
   "cell_type": "code",
   "execution_count": 28,
   "metadata": {},
   "outputs": [
    {
     "name": "stdout",
     "output_type": "stream",
     "text": [
      "1752-09-13 02:26:40\n"
     ]
    }
   ],
   "source": [
    "from datetime import datetime, timedelta\n",
    "\n",
    "long_ago = datetime(1970, 1, 1) + timedelta(seconds=-6_857_300_000)\n",
    "print(long_ago)\n"
   ]
  },
  {
   "cell_type": "markdown",
   "metadata": {},
   "source": [
    "This gives us another fun date, in that in England, and all its colonies of the time, the calendar was adjusted in 1752 between the Julian and Gregorian calendars, meaning that the dates between September 2 and September 14 did not occur that year. Most of the rest of Europe had made the switch back in 1582, but there were some quibbles, and large wars, going on in that part of the world, known as the \"Reformation\" and \"Counter-Reformation.\"\n",
    "\n",
    "Calendrics are a strange and confusing story. We might jump forward from that date that perhaps did not exist to my our own birth date.\n"
   ]
  },
  {
   "cell_type": "code",
   "execution_count": 29,
   "metadata": {},
   "outputs": [
    {
     "data": {
      "text/plain": [
       "datetime.datetime(1964, 9, 13, 2, 26, 40)"
      ]
     },
     "execution_count": 29,
     "metadata": {},
     "output_type": "execute_result"
    }
   ],
   "source": [
    "one_day = long_ago.replace(year=1964)\n",
    "one_day"
   ]
  },
  {
   "cell_type": "markdown",
   "metadata": {},
   "source": [
    "## Converting Among Time Objects\n",
    "\n",
    "We need to use explicit methods to move among the different kinds of date/time objects.  A datetime is the more universal object; I rarely bother with a date or time alone except perhaps as a final conversion step."
   ]
  },
  {
   "cell_type": "code",
   "execution_count": 30,
   "metadata": {},
   "outputs": [
    {
     "name": "stdout",
     "output_type": "stream",
     "text": [
      " Now: 2024-02-08 19:38:38.042120\n",
      "Date: 2024-02-08\n",
      "Time: 19:38:38.042120\n"
     ]
    }
   ],
   "source": [
    "print(\" Now:\", ts0)\n",
    "print(\"Date:\", ts0.date())\n",
    "print(\"Time:\", ts0.time())"
   ]
  },
  {
   "cell_type": "markdown",
   "metadata": {},
   "source": [
    "From a datetime it is perfectly sensible to extract a date or a time, but the other direction is either lossy or impossible.  In concept, you could destructure component to generate a datetime."
   ]
  },
  {
   "cell_type": "code",
   "execution_count": 35,
   "metadata": {},
   "outputs": [
    {
     "data": {
      "text/plain": [
       "'1752-09-13T12:01:30'"
      ]
     },
     "execution_count": 35,
     "metadata": {},
     "output_type": "execute_result"
    }
   ],
   "source": [
    "import datetime\n",
    "y, mon, d = long_ago.year, long_ago.month, long_ago.day\n",
    "h, m, s = (12, 1, 30)\n",
    "datetime.datetime(2021, 1, 20, 12, 0, 0, 345_678)\n",
    "datetime.datetime(y, mon, d, h, m, s).isoformat()"
   ]
  },
  {
   "cell_type": "markdown",
   "metadata": {},
   "source": [
    "In practice, we have a method to put these together."
   ]
  },
  {
   "cell_type": "code",
   "execution_count": 36,
   "metadata": {},
   "outputs": [
    {
     "data": {
      "text/plain": [
       "datetime.datetime(1752, 9, 13, 12, 1, 30)"
      ]
     },
     "execution_count": 36,
     "metadata": {},
     "output_type": "execute_result"
    }
   ],
   "source": [
    "combine = datetime.datetime.combine\n",
    "combine(long_ago, datetime.time(12, 1, 30))"
   ]
  },
  {
   "cell_type": "markdown",
   "metadata": {},
   "source": [
    "## Timedelta\n",
    "\n",
    "One thing that is often important is measuring the distance between datetimes.  To work with durations—or \"deltas\"—we use the `timedelta` class.  This is also produced as the result of subtraction between objects."
   ]
  },
  {
   "cell_type": "code",
   "execution_count": 38,
   "metadata": {},
   "outputs": [
    {
     "name": "stdout",
     "output_type": "stream",
     "text": [
      "1000 days, 0:00:00\n"
     ]
    }
   ],
   "source": [
    "thousand_days = datetime.timedelta(days=1000)\n",
    "print(thousand_days)"
   ]
  },
  {
   "cell_type": "code",
   "execution_count": 39,
   "metadata": {},
   "outputs": [
    {
     "name": "stdout",
     "output_type": "stream",
     "text": [
      "0:05:00\n"
     ]
    }
   ],
   "source": [
    "five_minutes = datetime.timedelta(minutes=5)\n",
    "print(five_minutes)"
   ]
  },
  {
   "cell_type": "markdown",
   "metadata": {},
   "source": [
    "Timedeltas can be added of subtracted from each other, with reasonable behavior."
   ]
  },
  {
   "cell_type": "code",
   "execution_count": 40,
   "metadata": {},
   "outputs": [
    {
     "name": "stdout",
     "output_type": "stream",
     "text": [
      "1000 days, 0:05:00\n"
     ]
    }
   ],
   "source": [
    "after_a_while = thousand_days + five_minutes\n",
    "print(after_a_while)"
   ]
  },
  {
   "cell_type": "code",
   "execution_count": 41,
   "metadata": {},
   "outputs": [
    {
     "data": {
      "text/plain": [
       "datetime.timedelta(days=999, seconds=86100)"
      ]
     },
     "execution_count": 41,
     "metadata": {},
     "output_type": "execute_result"
    }
   ],
   "source": [
    "a_bit_less = thousand_days - five_minutes\n",
    "a_bit_less"
   ]
  },
  {
   "cell_type": "code",
   "execution_count": 42,
   "metadata": {},
   "outputs": [
    {
     "name": "stdout",
     "output_type": "stream",
     "text": [
      "4000 days, 0:20:00\n"
     ]
    }
   ],
   "source": [
    "print(4 * after_a_while)"
   ]
  },
  {
   "cell_type": "markdown",
   "metadata": {},
   "source": [
    "### Equalities and inequalities behave as you would expect."
   ]
  },
  {
   "cell_type": "code",
   "execution_count": 43,
   "metadata": {},
   "outputs": [
    {
     "data": {
      "text/plain": [
       "True"
      ]
     },
     "execution_count": 43,
     "metadata": {},
     "output_type": "execute_result"
    }
   ],
   "source": [
    "after_a_while == datetime.timedelta(days=1000, minutes=5)"
   ]
  },
  {
   "cell_type": "code",
   "execution_count": 44,
   "metadata": {},
   "outputs": [
    {
     "data": {
      "text/plain": [
       "True"
      ]
     },
     "execution_count": 44,
     "metadata": {},
     "output_type": "execute_result"
    }
   ],
   "source": [
    "a_bit_less < after_a_while"
   ]
  },
  {
   "cell_type": "markdown",
   "metadata": {},
   "source": [
    "There are a number of units available in constructing timedeltas, but the most coarse is days, not months, years, or centuries.  Units are not limited to the number of their cyclicities (24 hours, 60 seconds, etc)."
   ]
  },
  {
   "cell_type": "code",
   "execution_count": 45,
   "metadata": {},
   "outputs": [
    {
     "name": "stdout",
     "output_type": "stream",
     "text": [
      "2083 days, 8:00:00\n"
     ]
    }
   ],
   "source": [
    "hours_50k = datetime.timedelta(hours=50_000)\n",
    "print(hours_50k)"
   ]
  },
  {
   "cell_type": "code",
   "execution_count": 46,
   "metadata": {},
   "outputs": [
    {
     "data": {
      "text/plain": [
       "False"
      ]
     },
     "execution_count": 46,
     "metadata": {},
     "output_type": "execute_result"
    }
   ],
   "source": [
    "hours_50k <= thousand_days + thousand_days"
   ]
  },
  {
   "cell_type": "markdown",
   "metadata": {},
   "source": [
    "### Addition and Subtraction\n",
    "\n",
    "Subtracting one datetime, or date, from another produces a timedelta.  Long increments will account for leap days where relevant, even though the units will not include years (just more days).  For days, the delta will be whole days only, and other units will not appear."
   ]
  },
  {
   "cell_type": "code",
   "execution_count": 47,
   "metadata": {},
   "outputs": [
    {
     "data": {
      "text/plain": [
       "datetime.timedelta(days=77431)"
      ]
     },
     "execution_count": 47,
     "metadata": {},
     "output_type": "execute_result"
    }
   ],
   "source": [
    "one_day - long_ago"
   ]
  },
  {
   "cell_type": "code",
   "execution_count": 48,
   "metadata": {},
   "outputs": [
    {
     "data": {
      "text/plain": [
       "datetime.timedelta(days=1114, seconds=27517, microseconds=918664)"
      ]
     },
     "execution_count": 48,
     "metadata": {},
     "output_type": "execute_result"
    }
   ],
   "source": [
    "ts0 - ts1"
   ]
  },
  {
   "cell_type": "markdown",
   "metadata": {},
   "source": [
    "Using times is more limited, correctly so. Subtracting times seems like it makes sense, but of course they roll over at midnight each night, which causes problems."
   ]
  },
  {
   "cell_type": "code",
   "execution_count": 53,
   "metadata": {},
   "outputs": [
    {
     "name": "stdout",
     "output_type": "stream",
     "text": [
      "unsupported operand type(s) for -: 'datetime.time' and 'datetime.time'\n"
     ]
    }
   ],
   "source": [
    "t1 = datetime.time(hour=18, minute=25, second=35)\n",
    "t2 = datetime.time(hour=20, minute=0, second=0)\n",
    "try:\n",
    "    t2 - t1\n",
    "except TypeError as err:\n",
    "    print(err)"
   ]
  },
  {
   "cell_type": "markdown",
   "metadata": {},
   "source": [
    "The solution is to use datetimes rather than only times."
   ]
  },
  {
   "cell_type": "code",
   "execution_count": 54,
   "metadata": {},
   "outputs": [
    {
     "name": "stdout",
     "output_type": "stream",
     "text": [
      "Waiting: 1:34:25\n"
     ]
    }
   ],
   "source": [
    "today = datetime.date.today()\n",
    "ts4 = combine(today, t1)\n",
    "ts5 = combine(today, t2)\n",
    "print(\"Waiting:\", ts5 - ts4)"
   ]
  },
  {
   "cell_type": "markdown",
   "metadata": {},
   "source": [
    "Code like that just above could go wrong if times you want the difference between cross midnight.  This is something that can commonly occur, for example, when writing to log files. However, the solution is simple.  Do not fix \"today\" as I did above, but rather call `today()` at the moment the entry is created.  "
   ]
  },
  {
   "cell_type": "markdown",
   "metadata": {},
   "source": [
    "In other cases, it will not be \"today\" you want; but just think about appropriate date components."
   ]
  },
  {
   "cell_type": "code",
   "execution_count": 55,
   "metadata": {},
   "outputs": [
    {
     "name": "stdout",
     "output_type": "stream",
     "text": [
      "23:59:30\n",
      "00:02:15\n"
     ]
    }
   ],
   "source": [
    "tomorrow = today + datetime.timedelta(days=1)\n",
    "late_night = datetime.time(23, 59, 30)\n",
    "early_next = datetime.time(0, 2, 15)\n",
    "print(late_night)\n",
    "print(early_next)"
   ]
  },
  {
   "cell_type": "code",
   "execution_count": 56,
   "metadata": {},
   "outputs": [
    {
     "data": {
      "text/plain": [
       "datetime.timedelta(seconds=165)"
      ]
     },
     "execution_count": 56,
     "metadata": {},
     "output_type": "execute_result"
    }
   ],
   "source": [
    "ts6 = combine(today, late_night)\n",
    "ts7 = combine(tomorrow, early_next)\n",
    "ts7 - ts6"
   ]
  },
  {
   "cell_type": "markdown",
   "metadata": {},
   "source": [
    "Often the use of a timedelta is not simply describing a duration, but also applying it to an existing datetime or date. We cannot similarly apply it to a time because of the wrap-around issues (even though some such operations would not wrap, it is excluded at the level of the datatype)."
   ]
  },
  {
   "cell_type": "code",
   "execution_count": 57,
   "metadata": {},
   "outputs": [
    {
     "name": "stdout",
     "output_type": "stream",
     "text": [
      "2021-01-20 12:00:00.123456\n",
      "1000 days, 0:05:00\n"
     ]
    },
    {
     "data": {
      "text/plain": [
       "datetime.datetime(2023, 10, 17, 12, 5, 0, 123456)"
      ]
     },
     "execution_count": 57,
     "metadata": {},
     "output_type": "execute_result"
    }
   ],
   "source": [
    "print(ts1)\n",
    "print(after_a_while)\n",
    "ts1 + after_a_while"
   ]
  },
  {
   "cell_type": "code",
   "execution_count": 58,
   "metadata": {},
   "outputs": [
    {
     "name": "stdout",
     "output_type": "stream",
     "text": [
      "2024-02-08\n",
      "2026-11-04\n"
     ]
    }
   ],
   "source": [
    "print(today)\n",
    "print(today + after_a_while)"
   ]
  },
  {
   "cell_type": "markdown",
   "metadata": {},
   "source": [
    "Some deltas will not change the date."
   ]
  },
  {
   "cell_type": "code",
   "execution_count": 59,
   "metadata": {},
   "outputs": [
    {
     "name": "stdout",
     "output_type": "stream",
     "text": [
      "2024-02-08\n"
     ]
    }
   ],
   "source": [
    "print(today + datetime.timedelta(seconds=1))"
   ]
  },
  {
   "cell_type": "markdown",
   "metadata": {},
   "source": [
    "But not for a time. Not even one that is not near midnight."
   ]
  },
  {
   "cell_type": "code",
   "execution_count": 60,
   "metadata": {},
   "outputs": [
    {
     "name": "stdout",
     "output_type": "stream",
     "text": [
      "18:25:35\n",
      "unsupported operand type(s) for +: 'datetime.time' and 'datetime.timedelta'\n"
     ]
    }
   ],
   "source": [
    "print(t1)\n",
    "try: \n",
    "    t1 + datetime.timedelta(seconds=1)\n",
    "except Exception as err:\n",
    "    print(err)"
   ]
  },
  {
   "cell_type": "markdown",
   "metadata": {},
   "source": [
    "#### Why the above code erroed out?\n",
    "We are attempting to add a timedelta to a variable t1, and t1 is a datetime object. However, there is a minor syntax error in your code. The datetime module needs to be imported to use timedelta. Here's the corrected code:"
   ]
  },
  {
   "cell_type": "code",
   "execution_count": 61,
   "metadata": {},
   "outputs": [
    {
     "name": "stdout",
     "output_type": "stream",
     "text": [
      "2024-02-08 20:46:10.316040\n"
     ]
    }
   ],
   "source": [
    "from datetime import datetime, timedelta\n",
    "\n",
    "t1 = datetime.now()\n",
    "print(t1)\n",
    "\n",
    "try:\n",
    "    t1 + timedelta(seconds=1)\n",
    "except Exception as err:\n",
    "    print(err)\n"
   ]
  },
  {
   "cell_type": "markdown",
   "metadata": {},
   "source": [
    "## More on this as we explore the different concepts"
   ]
  },
  {
   "cell_type": "markdown",
   "metadata": {},
   "source": [
    "# Exercise "
   ]
  },
  {
   "cell_type": "markdown",
   "metadata": {},
   "source": [
    "For this exercise, you will need to consult a reference on date formatting codes, such as:\n",
    "\n",
    "> https://docs.python.org/3/library/datetime.html#strftime-strptime-behavior\n",
    "\n",
    "Since the conventions are shared by a great many programming languages and tools, other references are equally accurate.\n",
    "\n",
    "Your goal is to write a function, `future()` that will take a string that describes a timestamp, calculates the timestamp at a certain distance into the future, and prints out the future date in the same format.  The signature of your function will be:\n",
    "\n",
    "```python\n",
    "def future(ts: str, days: int=0, hours: int=0, minutes: int=0) -> str:\n",
    "    ...\n",
    "```\n",
    "\n",
    "In a basic version of this solution, simply match the format in the examples shown.  If you would like to practice a little bit more, add an optional argument `fmt` that allows accepting other timestamp formats.\n",
    "\n",
    "```python\n",
    ">>> future(\"9 April 2019; 07:08:09\", days=100, minutes=100)\n",
    "'18 July 2019; 08:48:09'\n",
    "\n",
    ">>> future(\"10 May 2020; 23:24:25\", hours=10_000)\n",
    "'01 July 2021; 15:24:25'\n",
    "\n",
    ">>> future(\"11 June 2021; 11:12:13\", hours=10**4, minutes=-10**6)\n",
    "'06 September 2020; 16:32:13'\n",
    "```"
   ]
  },
  {
   "cell_type": "markdown",
   "metadata": {},
   "source": [
    "# Setup"
   ]
  },
  {
   "cell_type": "code",
   "execution_count": 63,
   "metadata": {},
   "outputs": [],
   "source": [
    "dt = datetime.now()\n",
    "date = dt.date()\n",
    "time = dt.time()\n",
    "delta = timedelta(hours=2)"
   ]
  },
  {
   "cell_type": "code",
   "execution_count": 64,
   "metadata": {},
   "outputs": [],
   "source": [
    "from datetime import datetime, timedelta\n",
    "\n",
    "# This function has correct signature, but wrong behavior\n",
    "def future(ts, days=0, hours=0, minutes=0):\n",
    "    return datetime.now().isoformat()"
   ]
  },
  {
   "cell_type": "markdown",
   "metadata": {},
   "source": [
    "# Solution"
   ]
  },
  {
   "cell_type": "code",
   "execution_count": 65,
   "metadata": {},
   "outputs": [],
   "source": [
    "def future(ts, days=0, hours=0, minutes=0,\n",
    "           fmt = '%d %B %Y; %H:%M:%S'):\n",
    "    dt = datetime.strptime(ts, fmt)\n",
    "    delta = timedelta(days=days, hours=hours, minutes=minutes)\n",
    "    return datetime.strftime(dt + delta, fmt)"
   ]
  },
  {
   "cell_type": "code",
   "execution_count": 66,
   "metadata": {},
   "outputs": [],
   "source": [
    "def test_conversion():\n",
    "    ts = \"9 April 2019; 07:08:09\"\n",
    "    new = future(ts, days=100, minutes=100)\n",
    "    assert new == '18 July 2019; 08:48:09', new\n",
    "    ts = \"10 May 2020; 23:24:25\"\n",
    "    new = future(ts, hours=10_000)\n",
    "    assert new == '01 July 2021; 15:24:25', new\n",
    "    ts = \"11 June 2021; 11:12:13\"\n",
    "    new = future(ts, hours=10**4, minutes=-10**6)\n",
    "    assert new == '06 September 2020; 16:32:13', new"
   ]
  },
  {
   "cell_type": "code",
   "execution_count": 67,
   "metadata": {},
   "outputs": [],
   "source": [
    "test_conversion()"
   ]
  },
  {
   "cell_type": "markdown",
   "metadata": {},
   "source": [
    "-------------\n",
    "Materials licensed under [CC BY-NC-ND 4.0](https://creativecommons.org/licenses/by-nc-nd/4.0/) by the authors"
   ]
  },
  {
   "cell_type": "code",
   "execution_count": null,
   "metadata": {},
   "outputs": [],
   "source": []
  }
 ],
 "metadata": {
  "kernelspec": {
   "display_name": "Python 3 (ipykernel)",
   "language": "python",
   "name": "python3"
  },
  "language_info": {
   "codemirror_mode": {
    "name": "ipython",
    "version": 3
   },
   "file_extension": ".py",
   "mimetype": "text/x-python",
   "name": "python",
   "nbconvert_exporter": "python",
   "pygments_lexer": "ipython3",
   "version": "3.10.7"
  }
 },
 "nbformat": 4,
 "nbformat_minor": 4
}
