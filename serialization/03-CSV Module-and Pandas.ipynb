{
 "cells": [
  {
   "cell_type": "markdown",
   "metadata": {},
   "source": [
    "![Erudio logo](../img/erudio-logo-small.png)"
   ]
  },
  {
   "cell_type": "markdown",
   "metadata": {
    "slideshow": {
     "slide_type": "slide"
    }
   },
   "source": [
    "# Reading CSV with Standard Library\n",
    "\n",
    "Python provides a module in its standard library for reading and writing CSV or other delimited files.  It can be tempting to create or read such files using only Python's powerful string manipulation functionality.  Indeed, the author of this tutorial has done so far more often than he wishes to admit; however, it is a mistake to eschew the `csv` module which simply deals with many edge cases that are easy to overlook in quick scripts."
   ]
  },
  {
   "cell_type": "markdown",
   "metadata": {
    "slideshow": {
     "slide_type": "fragment"
    }
   },
   "source": [
    "Let us start out by loading a few Python standard library modules that this lesson will utilize."
   ]
  },
  {
   "cell_type": "code",
   "execution_count": 1,
   "metadata": {
    "slideshow": {
     "slide_type": "fragment"
    }
   },
   "outputs": [],
   "source": [
    "import csv\n",
    "from pprint import pprint\n",
    "from collections import namedtuple\n",
    "from decimal import Decimal"
   ]
  },
  {
   "cell_type": "markdown",
   "metadata": {
    "slideshow": {
     "slide_type": "slide"
    }
   },
   "source": [
    "# Doing it Wrong\n",
    "\n",
    "In Python, the string methods `.split()` and `.join()` do 90% of what we need to in working with CSV.  The problem is, they do not do the other 10%.  Let's try a naive approach that goes bad."
   ]
  },
  {
   "cell_type": "code",
   "execution_count": 2,
   "metadata": {
    "slideshow": {
     "slide_type": "fragment"
    }
   },
   "outputs": [],
   "source": [
    "fields = [\"Name\", \"Evaluation\", \"Rating\", \"Age\"]\n",
    "data = [\n",
    "    [\"Mia Johnson\", \"The movie was excellent\", 9.5, 25],\n",
    "    [\"Liam Lopez\", \"Didn't really like it\", 3.0, 35],\n",
    "    [\"Isabella Lee\", \"Wow! That was great\", 8.0, 45]\n",
    "]"
   ]
  },
  {
   "cell_type": "markdown",
   "metadata": {
    "slideshow": {
     "slide_type": "subslide"
    }
   },
   "source": [
    "This is unremarkable data about several movie evaluations.  Let us try to serialize it."
   ]
  },
  {
   "cell_type": "code",
   "execution_count": 3,
   "metadata": {
    "slideshow": {
     "slide_type": "fragment"
    }
   },
   "outputs": [
    {
     "name": "stdout",
     "output_type": "stream",
     "text": [
      "sequence item 2: expected str instance, float found\n"
     ]
    }
   ],
   "source": [
    "with open('data/movie.csv', 'w') as movie:\n",
    "    try:\n",
    "        print(\",\".join(fields), file=movie)\n",
    "        for record in data:\n",
    "            print(\",\".join(record), file=movie)\n",
    "    except Exception as err:\n",
    "        print(err)"
   ]
  },
  {
   "cell_type": "markdown",
   "metadata": {
    "slideshow": {
     "slide_type": "subslide"
    }
   },
   "source": [
    "It is easy to see what went wrong.  The `.join()` method needs only strings in the iterable argument.  We can fix that fairly easily.  Python knows how to *stringify* all its objects."
   ]
  },
  {
   "cell_type": "code",
   "execution_count": 4,
   "metadata": {
    "slideshow": {
     "slide_type": "fragment"
    }
   },
   "outputs": [],
   "source": [
    "with open('data/movie.csv', 'w') as movie:\n",
    "    try:\n",
    "        print(\",\".join(fields), file=movie)\n",
    "        for record in data:\n",
    "            print(\",\".join(str(r) for r in record), file=movie)\n",
    "    except Exception as err:\n",
    "        print(err)"
   ]
  },
  {
   "cell_type": "markdown",
   "metadata": {
    "slideshow": {
     "slide_type": "fragment"
    }
   },
   "source": [
    "Success! At least for now. Perhaps we want to read it back as a list of dictionaries."
   ]
  },
  {
   "cell_type": "markdown",
   "metadata": {
    "slideshow": {
     "slide_type": "subslide"
    }
   },
   "source": [
    "We need to read the header first to use as keys, then we can pull values from each corresponding position in later rows."
   ]
  },
  {
   "cell_type": "code",
   "execution_count": 5,
   "metadata": {
    "slideshow": {
     "slide_type": "fragment"
    }
   },
   "outputs": [
    {
     "name": "stdout",
     "output_type": "stream",
     "text": [
      "[{'Age\\n': '25\\n',\n",
      "  'Evaluation': 'The movie was excellent',\n",
      "  'Name': 'Mia Johnson',\n",
      "  'Rating': '9.5'},\n",
      " {'Age\\n': '35\\n',\n",
      "  'Evaluation': \"Didn't really like it\",\n",
      "  'Name': 'Liam Lopez',\n",
      "  'Rating': '3.0'},\n",
      " {'Age\\n': '45\\n',\n",
      "  'Evaluation': 'Wow! That was great',\n",
      "  'Name': 'Isabella Lee',\n",
      "  'Rating': '8.0'}]\n"
     ]
    }
   ],
   "source": [
    "with open('data/movie.csv') as movie:\n",
    "    newdata = []\n",
    "    keys = next(movie).split(',') # Header\n",
    "    for line in movie:\n",
    "        newdata.append(dict(zip(keys, line.split(','))))\n",
    "    \n",
    "pprint(newdata)"
   ]
  },
  {
   "cell_type": "markdown",
   "metadata": {
    "slideshow": {
     "slide_type": "subslide"
    }
   },
   "source": [
    "We did *pretty well*.  However, the last field of header and data have a trailing newline chacter we do not really want.  We can strip that, but other problems still arise."
   ]
  },
  {
   "cell_type": "code",
   "execution_count": 6,
   "metadata": {
    "slideshow": {
     "slide_type": "fragment"
    }
   },
   "outputs": [
    {
     "name": "stdout",
     "output_type": "stream",
     "text": [
      "[{'Age': '25',\n",
      "  'Evaluation': 'The movie was excellent',\n",
      "  'Name': 'Mia Johnson',\n",
      "  'Rating': '9.5'},\n",
      " {'Age': '35',\n",
      "  'Evaluation': \"Didn't really like it\",\n",
      "  'Name': 'Liam Lopez',\n",
      "  'Rating': '3.0'},\n",
      " {'Age': '45',\n",
      "  'Evaluation': 'Wow! That was great',\n",
      "  'Name': 'Isabella Lee',\n",
      "  'Rating': '8.0'}]\n"
     ]
    }
   ],
   "source": [
    "with open('data/movie.csv') as movie:\n",
    "    newdata = []\n",
    "    line = next(movie).rstrip()  # Header\n",
    "    keys = line.split(',') \n",
    "    for line in movie:\n",
    "        line = line.rstrip()\n",
    "        newdata.append(dict(zip(keys, line.split(','))))\n",
    "    \n",
    "pprint(newdata)"
   ]
  },
  {
   "cell_type": "markdown",
   "metadata": {
    "slideshow": {
     "slide_type": "subslide"
    }
   },
   "source": [
    "Our ad hoc reader and writer behave well enough.  Let us add an additional record and try again."
   ]
  },
  {
   "cell_type": "code",
   "execution_count": 7,
   "metadata": {
    "slideshow": {
     "slide_type": "fragment"
    }
   },
   "outputs": [],
   "source": [
    "new_eval = [\"Olivia Gupta\", \"Meh, not my thing\", 2.5, 55]\n",
    "data.append(new_eval)\n",
    "\n",
    "with open('data/movie.csv', 'w') as movie:\n",
    "    try:\n",
    "        print(\",\".join(fields), file=movie)\n",
    "        for record in data:\n",
    "            print(\",\".join(str(r) for r in record), file=movie)\n",
    "    except Exception as err:\n",
    "        print(err)"
   ]
  },
  {
   "cell_type": "markdown",
   "metadata": {
    "slideshow": {
     "slide_type": "fragment"
    }
   },
   "source": [
    "We can see that something is going to go wrong when a field can legitimately contain the delimiter."
   ]
  },
  {
   "cell_type": "code",
   "execution_count": 9,
   "metadata": {
    "slideshow": {
     "slide_type": "fragment"
    }
   },
   "outputs": [
    {
     "data": {
      "text/plain": [
       "\u001b[0mName\u001b[0m\u001b[1;33m,\u001b[0m\u001b[0mEvaluation\u001b[0m\u001b[1;33m,\u001b[0m\u001b[0mRating\u001b[0m\u001b[1;33m,\u001b[0m\u001b[0mAge\u001b[0m\u001b[1;33m\n",
       "\u001b[0m\u001b[0mMia\u001b[0m \u001b[0mJohnson\u001b[0m\u001b[1;33m,\u001b[0m\u001b[0mThe\u001b[0m \u001b[0mmovie\u001b[0m \u001b[0mwas\u001b[0m \u001b[0mexcellent\u001b[0m\u001b[1;33m,\u001b[0m\u001b[1;36m9.5\u001b[0m\u001b[1;33m,\u001b[0m\u001b[1;36m25\u001b[0m\u001b[1;33m\n",
       "\u001b[0m\u001b[0mLiam\u001b[0m \u001b[0mLopez\u001b[0m\u001b[1;33m,\u001b[0m\u001b[0mDidn\u001b[0m\u001b[0;31m'\u001b[0m\u001b[0mt\u001b[0m \u001b[0mreally\u001b[0m \u001b[0mlike\u001b[0m \u001b[0mit\u001b[0m\u001b[1;33m,\u001b[0m\u001b[1;36m3.0\u001b[0m\u001b[1;33m,\u001b[0m\u001b[1;36m35\u001b[0m\u001b[1;33m\n",
       "\u001b[0m\u001b[0mIsabella\u001b[0m \u001b[0mLee\u001b[0m\u001b[1;33m,\u001b[0m\u001b[0mWow\u001b[0m\u001b[0;31m!\u001b[0m \u001b[0mThat\u001b[0m \u001b[0mwas\u001b[0m \u001b[0mgreat\u001b[0m\u001b[1;33m,\u001b[0m\u001b[1;36m8.0\u001b[0m\u001b[1;33m,\u001b[0m\u001b[1;36m45\u001b[0m\u001b[1;33m\n",
       "\u001b[0m\u001b[0mOlivia\u001b[0m \u001b[0mGupta\u001b[0m\u001b[1;33m,\u001b[0m\u001b[0mMeh\u001b[0m\u001b[1;33m,\u001b[0m \u001b[1;32mnot\u001b[0m \u001b[0mmy\u001b[0m \u001b[0mthing\u001b[0m\u001b[1;33m,\u001b[0m\u001b[1;36m2.5\u001b[0m\u001b[1;33m,\u001b[0m\u001b[1;36m55\u001b[0m\u001b[1;33m\u001b[0m\u001b[1;33m\u001b[0m\u001b[0m\n"
      ]
     },
     "metadata": {},
     "output_type": "display_data"
    }
   ],
   "source": [
    "%pycat data/movie.csv"
   ]
  },
  {
   "cell_type": "markdown",
   "metadata": {
    "slideshow": {
     "slide_type": "subslide"
    }
   },
   "source": [
    "Let's use the idential ad hoc reader to read the data on disk again."
   ]
  },
  {
   "cell_type": "code",
   "execution_count": 10,
   "metadata": {
    "slideshow": {
     "slide_type": "fragment"
    }
   },
   "outputs": [
    {
     "name": "stdout",
     "output_type": "stream",
     "text": [
      "[{'Age': '25',\n",
      "  'Evaluation': 'The movie was excellent',\n",
      "  'Name': 'Mia Johnson',\n",
      "  'Rating': '9.5'},\n",
      " {'Age': '35',\n",
      "  'Evaluation': \"Didn't really like it\",\n",
      "  'Name': 'Liam Lopez',\n",
      "  'Rating': '3.0'},\n",
      " {'Age': '45',\n",
      "  'Evaluation': 'Wow! That was great',\n",
      "  'Name': 'Isabella Lee',\n",
      "  'Rating': '8.0'},\n",
      " {'Age': '2.5',\n",
      "  'Evaluation': 'Meh',\n",
      "  'Name': 'Olivia Gupta',\n",
      "  'Rating': ' not my thing'}]\n"
     ]
    }
   ],
   "source": [
    "with open('data/movie.csv') as movie:\n",
    "    newdata = []\n",
    "    line = next(movie).rstrip()\n",
    "    keys = line.split(',') # Header\n",
    "    for line in movie:\n",
    "        line = line.rstrip()\n",
    "        newdata.append(dict(zip(keys, line.split(','))))\n",
    "\n",
    "pprint(newdata)"
   ]
  },
  {
   "cell_type": "markdown",
   "metadata": {
    "slideshow": {
     "slide_type": "subslide"
    }
   },
   "source": [
    "As written, nothing crashed.  But we also get data in the wrong fields sometimes. Another likely problem is handling embedded newlines in strings; a few other edge cases also occur. We could complicate matters with some additional code, and eventually get it right.  But the Python standard library does that for us."
   ]
  },
  {
   "cell_type": "markdown",
   "metadata": {
    "slideshow": {
     "slide_type": "slide"
    }
   },
   "source": [
    "# The `csv` Module\n",
    "\n",
    "In the basic case, using the `csv` module gives us a largely file-like interface.  It merely handles a few things that can go wrong automatically."
   ]
  },
  {
   "cell_type": "code",
   "execution_count": 12,
   "metadata": {
    "slideshow": {
     "slide_type": "fragment"
    }
   },
   "outputs": [
    {
     "data": {
      "text/plain": [
       "\u001b[0mName\u001b[0m\u001b[1;33m,\u001b[0m\u001b[0mEvaluation\u001b[0m\u001b[1;33m,\u001b[0m\u001b[0mRating\u001b[0m\u001b[1;33m,\u001b[0m\u001b[0mAge\u001b[0m\u001b[1;33m\n",
       "\u001b[0m\u001b[1;33m\n",
       "\u001b[0m\u001b[0mMia\u001b[0m \u001b[0mJohnson\u001b[0m\u001b[1;33m,\u001b[0m\u001b[0mThe\u001b[0m \u001b[0mmovie\u001b[0m \u001b[0mwas\u001b[0m \u001b[0mexcellent\u001b[0m\u001b[1;33m,\u001b[0m\u001b[1;36m9.5\u001b[0m\u001b[1;33m,\u001b[0m\u001b[1;36m25\u001b[0m\u001b[1;33m\n",
       "\u001b[0m\u001b[1;33m\n",
       "\u001b[0m\u001b[0mLiam\u001b[0m \u001b[0mLopez\u001b[0m\u001b[1;33m,\u001b[0m\u001b[0mDidn\u001b[0m\u001b[0;31m'\u001b[0m\u001b[0mt\u001b[0m \u001b[0mreally\u001b[0m \u001b[0mlike\u001b[0m \u001b[0mit\u001b[0m\u001b[1;33m,\u001b[0m\u001b[1;36m3.0\u001b[0m\u001b[1;33m,\u001b[0m\u001b[1;36m35\u001b[0m\u001b[1;33m\n",
       "\u001b[0m\u001b[1;33m\n",
       "\u001b[0m\u001b[0mIsabella\u001b[0m \u001b[0mLee\u001b[0m\u001b[1;33m,\u001b[0m\u001b[0mWow\u001b[0m\u001b[0;31m!\u001b[0m \u001b[0mThat\u001b[0m \u001b[0mwas\u001b[0m \u001b[0mgreat\u001b[0m\u001b[1;33m,\u001b[0m\u001b[1;36m8.0\u001b[0m\u001b[1;33m,\u001b[0m\u001b[1;36m45\u001b[0m\u001b[1;33m\n",
       "\u001b[0m\u001b[1;33m\n",
       "\u001b[0m\u001b[0mOlivia\u001b[0m \u001b[0mGupta\u001b[0m\u001b[1;33m,\u001b[0m\u001b[1;34m\"Meh, not my thing\"\u001b[0m\u001b[1;33m,\u001b[0m\u001b[1;36m2.5\u001b[0m\u001b[1;33m,\u001b[0m\u001b[1;36m55\u001b[0m\u001b[1;33m\u001b[0m\u001b[1;33m\u001b[0m\u001b[0m\n"
      ]
     },
     "metadata": {},
     "output_type": "display_data"
    }
   ],
   "source": [
    "with open('data/movie.csv', 'w') as fh:\n",
    "    movie = csv.writer(fh, quoting=csv.QUOTE_MINIMAL)\n",
    "    for record in [fields]+data:\n",
    "        movie.writerow(record)\n",
    "        \n",
    "%pycat data/movie.csv"
   ]
  },
  {
   "cell_type": "markdown",
   "metadata": {
    "slideshow": {
     "slide_type": "subslide"
    }
   },
   "source": [
    "Reading the data back is similar, with quoting and escaping handled properly."
   ]
  },
  {
   "cell_type": "code",
   "execution_count": 13,
   "metadata": {
    "slideshow": {
     "slide_type": "fragment"
    }
   },
   "outputs": [
    {
     "name": "stdout",
     "output_type": "stream",
     "text": [
      "['Name', 'Evaluation', 'Rating', 'Age']\n",
      "[]\n",
      "['Mia Johnson', 'The movie was excellent', '9.5', '25']\n",
      "[]\n",
      "['Liam Lopez', \"Didn't really like it\", '3.0', '35']\n",
      "[]\n",
      "['Isabella Lee', 'Wow! That was great', '8.0', '45']\n",
      "[]\n",
      "['Olivia Gupta', 'Meh, not my thing', '2.5', '55']\n",
      "[]\n"
     ]
    }
   ],
   "source": [
    "with open('data/movie.csv') as fh:\n",
    "    movie = csv.reader(fh)\n",
    "    for record in movie:\n",
    "        print(record)"
   ]
  },
  {
   "cell_type": "markdown",
   "metadata": {
    "slideshow": {
     "slide_type": "subslide"
    }
   },
   "source": [
    "## Data Typing\n",
    "\n",
    "Unlike some other tools, the standard library `csv` module makes little attempt to impose datatypes.  During writing, it will, of course, stringify objects that are not strings.  It usually leaves the decision of casting to other types up to the programmer.  "
   ]
  },
  {
   "cell_type": "code",
   "execution_count": 15,
   "metadata": {
    "slideshow": {
     "slide_type": "fragment"
    }
   },
   "outputs": [
    {
     "data": {
      "text/plain": [
       "\u001b[1;34m\"Name\"\u001b[0m\u001b[1;33m,\u001b[0m\u001b[1;34m\"Evaluation\"\u001b[0m\u001b[1;33m,\u001b[0m\u001b[1;34m\"Rating\"\u001b[0m\u001b[1;33m,\u001b[0m\u001b[1;34m\"Age\"\u001b[0m\u001b[1;33m\n",
       "\u001b[0m\u001b[1;33m\n",
       "\u001b[0m\u001b[1;34m\"Mia Johnson\"\u001b[0m\u001b[1;33m,\u001b[0m\u001b[1;34m\"The movie was excellent\"\u001b[0m\u001b[1;33m,\u001b[0m\u001b[1;36m9.5\u001b[0m\u001b[1;33m,\u001b[0m\u001b[1;36m25\u001b[0m\u001b[1;33m\n",
       "\u001b[0m\u001b[1;33m\n",
       "\u001b[0m\u001b[1;34m\"Liam Lopez\"\u001b[0m\u001b[1;33m,\u001b[0m\u001b[1;34m\"Didn't really like it\"\u001b[0m\u001b[1;33m,\u001b[0m\u001b[1;36m3.0\u001b[0m\u001b[1;33m,\u001b[0m\u001b[1;36m35\u001b[0m\u001b[1;33m\n",
       "\u001b[0m\u001b[1;33m\n",
       "\u001b[0m\u001b[1;34m\"Isabella Lee\"\u001b[0m\u001b[1;33m,\u001b[0m\u001b[1;34m\"Wow! That was great\"\u001b[0m\u001b[1;33m,\u001b[0m\u001b[1;36m8.0\u001b[0m\u001b[1;33m,\u001b[0m\u001b[1;36m45\u001b[0m\u001b[1;33m\n",
       "\u001b[0m\u001b[1;33m\n",
       "\u001b[0m\u001b[1;34m\"Olivia Gupta\"\u001b[0m\u001b[1;33m,\u001b[0m\u001b[1;34m\"Meh, not my thing\"\u001b[0m\u001b[1;33m,\u001b[0m\u001b[1;36m2.5\u001b[0m\u001b[1;33m,\u001b[0m\u001b[1;36m55\u001b[0m\u001b[1;33m\u001b[0m\u001b[1;33m\u001b[0m\u001b[0m\n"
      ]
     },
     "metadata": {},
     "output_type": "display_data"
    }
   ],
   "source": [
    "with open('data/movie.csv', 'w') as fh:\n",
    "    movie = csv.writer(fh, quoting=csv.QUOTE_NONNUMERIC)\n",
    "    for record in [fields]+data:\n",
    "        movie.writerow(record)\n",
    "        \n",
    "%pycat data/movie.csv"
   ]
  },
  {
   "cell_type": "markdown",
   "metadata": {
    "slideshow": {
     "slide_type": "subslide"
    }
   },
   "source": [
    "The `csv` module provides a limited option to quote all strings and to infer that anything unquoted is a number instead.  The numeric type used is always a floating point for this rule.  If you wish to read in an int, or a Decimal or Fraction, or another numeric type, you still need to write more custom code."
   ]
  },
  {
   "cell_type": "code",
   "execution_count": 16,
   "metadata": {
    "slideshow": {
     "slide_type": "fragment"
    }
   },
   "outputs": [
    {
     "name": "stdout",
     "output_type": "stream",
     "text": [
      "['Name', 'Evaluation', 'Rating', 'Age']\n",
      "[]\n",
      "['Mia Johnson', 'The movie was excellent', 9.5, 25.0]\n",
      "[]\n",
      "['Liam Lopez', \"Didn't really like it\", 3.0, 35.0]\n",
      "[]\n",
      "['Isabella Lee', 'Wow! That was great', 8.0, 45.0]\n",
      "[]\n",
      "['Olivia Gupta', 'Meh, not my thing', 2.5, 55.0]\n",
      "[]\n"
     ]
    }
   ],
   "source": [
    "with open('data/movie.csv') as fh:\n",
    "    movie = csv.reader(fh, quoting=csv.QUOTE_NONNUMERIC)\n",
    "    for record in movie:\n",
    "        print(record)"
   ]
  },
  {
   "cell_type": "markdown",
   "metadata": {
    "slideshow": {
     "slide_type": "subslide"
    }
   },
   "source": [
    "Probably what we really want is to specify various data types for various columns.  In the example, Age is probably meant as in integer and Rating as a fractional number.  While we are customizing, perhaps a different collection type than a list is a more descriptive way to store records."
   ]
  },
  {
   "cell_type": "code",
   "execution_count": 18,
   "metadata": {
    "slideshow": {
     "slide_type": "fragment"
    }
   },
   "outputs": [
    {
     "name": "stdout",
     "output_type": "stream",
     "text": [
      "[Movie(Name='Mia Johnson', Evaluation='The movie was excellent', Rating=Decimal('9.5'), Age=25),\n",
      " Movie(Name='Liam Lopez', Evaluation=\"Didn't really like it\", Rating=Decimal('3.0'), Age=35),\n",
      " Movie(Name='Isabella Lee', Evaluation='Wow! That was great', Rating=Decimal('8.0'), Age=45),\n",
      " Movie(Name='Olivia Gupta', Evaluation='Meh, not my thing', Rating=Decimal('2.5'), Age=55)]\n"
     ]
    }
   ],
   "source": [
    "# Specify special types, string by default\n",
    "types = {'Age': int, 'Rating': Decimal}\n",
    "\n",
    "with open('data/movie.csv') as fh:\n",
    "    newdata = []\n",
    "    # Create a descriptive record for this data\n",
    "    movie = csv.reader(fh)\n",
    "    fields = next(movie)\n",
    "    Movie = namedtuple(\"Movie\", fields)\n",
    "    for record in movie:\n",
    "        # Cast each item to its needed datatype\n",
    "        if len(record) !=0:\n",
    "            for pos, datum in enumerate(record):\n",
    "                cast = types.get(fields[pos], str)\n",
    "                record[pos] = cast(datum)\n",
    "            newdata.append(Movie(*record))\n",
    "        \n",
    "pprint(newdata)"
   ]
  },
  {
   "cell_type": "markdown",
   "metadata": {
    "slideshow": {
     "slide_type": "slide"
    }
   },
   "source": [
    "## Records as Dictionaries\n",
    "\n",
    "A namedtuple or a dataclass are useful Python standard library types for structured collections. The built-in standard type for doing that is a dictionary.  The `csv` module includes classes to make reading or writing dicts convenient.  These different types have pros and cons, but all are useful.  Dictionaries come with convenience classes to make similar code slightly shorter."
   ]
  },
  {
   "cell_type": "code",
   "execution_count": 19,
   "metadata": {
    "slideshow": {
     "slide_type": "fragment"
    }
   },
   "outputs": [
    {
     "name": "stdout",
     "output_type": "stream",
     "text": [
      "{'Name': 'Mia Johnson', 'Evaluation': 'The movie was excellent', 'Rating': 9.5, 'Age': 25.0}\n",
      "{'Name': 'Liam Lopez', 'Evaluation': \"Didn't really like it\", 'Rating': 3.0, 'Age': 35.0}\n",
      "{'Name': 'Isabella Lee', 'Evaluation': 'Wow! That was great', 'Rating': 8.0, 'Age': 45.0}\n",
      "{'Name': 'Olivia Gupta', 'Evaluation': 'Meh, not my thing', 'Rating': 2.5, 'Age': 55.0}\n"
     ]
    }
   ],
   "source": [
    "with open('data/movie.csv') as fh:\n",
    "    movie = csv.DictReader(fh, quoting=csv.QUOTE_NONNUMERIC)\n",
    "    for record in movie:\n",
    "        print(record)"
   ]
  },
  {
   "cell_type": "markdown",
   "metadata": {
    "slideshow": {
     "slide_type": "subslide"
    }
   },
   "source": [
    "Writing dictionaries back out to CSV is very similar.  Here we add a minor option, `newline=` in order to be able to write records with newlines in strings.  While we are doing that, let us also use a different delimiter to demonstrate that."
   ]
  },
  {
   "cell_type": "code",
   "execution_count": 20,
   "metadata": {
    "slideshow": {
     "slide_type": "fragment"
    }
   },
   "outputs": [
    {
     "data": {
      "text/plain": [
       "\u001b[0mName\u001b[0m\u001b[1;33m|\u001b[0m\u001b[0mRating\u001b[0m\u001b[1;33m|\u001b[0m\u001b[0mAge\u001b[0m\u001b[1;33m\n",
       "\u001b[0m\u001b[0;31m\"\u001b[0m\u001b[0mMia\u001b[0m\u001b[1;33m\n",
       "\u001b[0m\u001b[0mJohnson\u001b[0m\u001b[0;31m\"\u001b[0m\u001b[1;33m|\u001b[0m\u001b[1;36m9.5\u001b[0m\u001b[1;33m|\u001b[0m\u001b[1;36m25\u001b[0m\u001b[1;33m\n",
       "\u001b[0m\u001b[0mLiam\u001b[0m \u001b[0mLopez\u001b[0m\u001b[1;33m|\u001b[0m\u001b[1;33m|\u001b[0m\u001b[1;36m35\u001b[0m\u001b[1;33m\n",
       "\u001b[0m\u001b[1;34m\"Isabella \"\u001b[0m\u001b[1;34m\"Bella\"\u001b[0m\u001b[1;34m\" Lee\"\u001b[0m\u001b[1;33m|\u001b[0m\u001b[1;36m8.0\u001b[0m\u001b[1;33m|\u001b[0m\u001b[1;36m45\u001b[0m\u001b[1;33m\u001b[0m\u001b[1;33m\u001b[0m\u001b[0m\n"
      ]
     },
     "metadata": {},
     "output_type": "display_data"
    }
   ],
   "source": [
    "with open('data/movie.txt', 'w', newline='') as fh:\n",
    "    fields = ['Name', 'Rating', 'Age']\n",
    "    movie = csv.DictWriter(fh, fieldnames=fields, delimiter=\"|\")\n",
    "    movie.writeheader()\n",
    "    movie.writerow({'Name': 'Mia\\nJohnson', 'Rating': 9.5, 'Age': 25})\n",
    "    movie.writerow({'Age': 35, 'Name': 'Liam Lopez'})\n",
    "    movie.writerow({'Name': 'Isabella \"Bella\" Lee', 'Rating': 8.0, 'Age': 45})\n",
    "\n",
    "%pycat data/movie.txt"
   ]
  },
  {
   "cell_type": "markdown",
   "metadata": {
    "slideshow": {
     "slide_type": "subslide"
    }
   },
   "source": [
    "Despite the slightly surprising newline inside a field, this will round-trip perfectly fine because of the quote.  The quotes inside one of the fields are also handle correctly."
   ]
  },
  {
   "cell_type": "code",
   "execution_count": 21,
   "metadata": {
    "slideshow": {
     "slide_type": "fragment"
    }
   },
   "outputs": [
    {
     "name": "stdout",
     "output_type": "stream",
     "text": [
      "{'Name': 'Mia\\nJohnson', 'Rating': '9.5', 'Age': '25'}\n",
      "{'Name': 'Liam Lopez', 'Rating': '', 'Age': '35'}\n",
      "{'Name': 'Isabella \"Bella\" Lee', 'Rating': '8.0', 'Age': '45'}\n"
     ]
    }
   ],
   "source": [
    "with open('data/movie.txt', newline='') as fh:\n",
    "    movie = csv.DictReader(fh, delimiter=\"|\")\n",
    "    for record in movie:\n",
    "        print(record)"
   ]
  },
  {
   "cell_type": "markdown",
   "metadata": {
    "slideshow": {
     "slide_type": "slide"
    }
   },
   "source": [
    "# Reading CSV with Pandas\n",
    "\n",
    "If it is available in your environment, the `Pandas` package provides a versatile, flexible, and fast reader and writer of CSV and other delimited files.  Moreover, when read, delimited files are read into a flexible data structure called a DataFrame that has numerous useful methods.  The Pandas library can perform a great deal of work for data processing and data manipulation, but most of that is outside the scope of this lesson."
   ]
  },
  {
   "cell_type": "markdown",
   "metadata": {
    "slideshow": {
     "slide_type": "fragment"
    }
   },
   "source": [
    "Let us start out by loading the Pandas library and the CSV module.  Pandas is conventionally loaded as the short name `pd`.  Similarly, `NumPy` is conventionally loaded as `np`."
   ]
  },
  {
   "cell_type": "code",
   "execution_count": 22,
   "metadata": {
    "slideshow": {
     "slide_type": "fragment"
    }
   },
   "outputs": [],
   "source": [
    "import numpy as np\n",
    "import pandas as pd\n",
    "import csv"
   ]
  },
  {
   "cell_type": "markdown",
   "metadata": {
    "slideshow": {
     "slide_type": "slide"
    }
   },
   "source": [
    "# Basic Reading\n",
    "\n",
    "In principle, Pandas provides a huge number of options for reading CSV or other delimited files.  In fact, it has readers for a huge number of entirely different data formats as well.  In the simple case, it could hardly be simpler.  Let us look at a CSV file then read it to a DataFrame."
   ]
  },
  {
   "cell_type": "code",
   "execution_count": 24,
   "metadata": {
    "slideshow": {
     "slide_type": "fragment"
    }
   },
   "outputs": [
    {
     "data": {
      "text/plain": [
       "\u001b[1;34m\"Name\"\u001b[0m\u001b[1;33m,\u001b[0m\u001b[1;34m\"Evaluation\"\u001b[0m\u001b[1;33m,\u001b[0m\u001b[1;34m\"Rating\"\u001b[0m\u001b[1;33m,\u001b[0m\u001b[1;34m\"Age\"\u001b[0m\u001b[1;33m\n",
       "\u001b[0m\u001b[1;33m\n",
       "\u001b[0m\u001b[1;34m\"Mia Johnson\"\u001b[0m\u001b[1;33m,\u001b[0m\u001b[1;34m\"The movie was excellent\"\u001b[0m\u001b[1;33m,\u001b[0m\u001b[1;36m9.5\u001b[0m\u001b[1;33m,\u001b[0m\u001b[1;36m25\u001b[0m\u001b[1;33m\n",
       "\u001b[0m\u001b[1;33m\n",
       "\u001b[0m\u001b[1;34m\"Liam Lopez\"\u001b[0m\u001b[1;33m,\u001b[0m\u001b[1;34m\"Didn't really like it\"\u001b[0m\u001b[1;33m,\u001b[0m\u001b[1;36m3.0\u001b[0m\u001b[1;33m,\u001b[0m\u001b[1;36m35\u001b[0m\u001b[1;33m\n",
       "\u001b[0m\u001b[1;33m\n",
       "\u001b[0m\u001b[1;34m\"Isabella Lee\"\u001b[0m\u001b[1;33m,\u001b[0m\u001b[1;34m\"Wow! That was great\"\u001b[0m\u001b[1;33m,\u001b[0m\u001b[1;36m8.0\u001b[0m\u001b[1;33m,\u001b[0m\u001b[1;36m45\u001b[0m\u001b[1;33m\n",
       "\u001b[0m\u001b[1;33m\n",
       "\u001b[0m\u001b[1;34m\"Olivia Gupta\"\u001b[0m\u001b[1;33m,\u001b[0m\u001b[1;34m\"Meh, not my thing\"\u001b[0m\u001b[1;33m,\u001b[0m\u001b[1;36m2.5\u001b[0m\u001b[1;33m,\u001b[0m\u001b[1;36m55\u001b[0m\u001b[1;33m\u001b[0m\u001b[1;33m\u001b[0m\u001b[0m\n"
      ]
     },
     "metadata": {},
     "output_type": "display_data"
    }
   ],
   "source": [
    "%pycat data/movie.csv"
   ]
  },
  {
   "cell_type": "code",
   "execution_count": 25,
   "metadata": {
    "slideshow": {
     "slide_type": "subslide"
    }
   },
   "outputs": [
    {
     "data": {
      "text/html": [
       "<div>\n",
       "<style scoped>\n",
       "    .dataframe tbody tr th:only-of-type {\n",
       "        vertical-align: middle;\n",
       "    }\n",
       "\n",
       "    .dataframe tbody tr th {\n",
       "        vertical-align: top;\n",
       "    }\n",
       "\n",
       "    .dataframe thead th {\n",
       "        text-align: right;\n",
       "    }\n",
       "</style>\n",
       "<table border=\"1\" class=\"dataframe\">\n",
       "  <thead>\n",
       "    <tr style=\"text-align: right;\">\n",
       "      <th></th>\n",
       "      <th>Name</th>\n",
       "      <th>Evaluation</th>\n",
       "      <th>Rating</th>\n",
       "      <th>Age</th>\n",
       "    </tr>\n",
       "  </thead>\n",
       "  <tbody>\n",
       "    <tr>\n",
       "      <th>0</th>\n",
       "      <td>Mia Johnson</td>\n",
       "      <td>The movie was excellent</td>\n",
       "      <td>9.5</td>\n",
       "      <td>25</td>\n",
       "    </tr>\n",
       "    <tr>\n",
       "      <th>1</th>\n",
       "      <td>Liam Lopez</td>\n",
       "      <td>Didn't really like it</td>\n",
       "      <td>3.0</td>\n",
       "      <td>35</td>\n",
       "    </tr>\n",
       "    <tr>\n",
       "      <th>2</th>\n",
       "      <td>Isabella Lee</td>\n",
       "      <td>Wow! That was great</td>\n",
       "      <td>8.0</td>\n",
       "      <td>45</td>\n",
       "    </tr>\n",
       "    <tr>\n",
       "      <th>3</th>\n",
       "      <td>Olivia Gupta</td>\n",
       "      <td>Meh, not my thing</td>\n",
       "      <td>2.5</td>\n",
       "      <td>55</td>\n",
       "    </tr>\n",
       "  </tbody>\n",
       "</table>\n",
       "</div>"
      ],
      "text/plain": [
       "           Name               Evaluation  Rating  Age\n",
       "0   Mia Johnson  The movie was excellent     9.5   25\n",
       "1    Liam Lopez    Didn't really like it     3.0   35\n",
       "2  Isabella Lee      Wow! That was great     8.0   45\n",
       "3  Olivia Gupta        Meh, not my thing     2.5   55"
      ]
     },
     "execution_count": 25,
     "metadata": {},
     "output_type": "execute_result"
    }
   ],
   "source": [
    "df = pd.read_csv(\"data/movie.csv\")\n",
    "df"
   ]
  },
  {
   "cell_type": "markdown",
   "metadata": {
    "slideshow": {
     "slide_type": "subslide"
    }
   },
   "source": [
    "## Data Types\n",
    "\n",
    "Or interest here especially is the type inference that was performed by Pandas.  Things that look like integers get converted to integers, things that look like floats get converted to floats."
   ]
  },
  {
   "cell_type": "code",
   "execution_count": 26,
   "metadata": {
    "slideshow": {
     "slide_type": "fragment"
    }
   },
   "outputs": [
    {
     "data": {
      "text/plain": [
       "Name           object\n",
       "Evaluation     object\n",
       "Rating        float64\n",
       "Age             int64\n",
       "dtype: object"
      ]
     },
     "execution_count": 26,
     "metadata": {},
     "output_type": "execute_result"
    }
   ],
   "source": [
    "df.dtypes"
   ]
  },
  {
   "cell_type": "markdown",
   "metadata": {
    "slideshow": {
     "slide_type": "subslide"
    }
   },
   "source": [
    "## Explicit Typing\n",
    "\n",
    "Pandas lets you specify the types of columns explicitly, inasmuch as datatypes make sense for a given column.  For the most part, this is useful only to encode in fewer bits or to explicitly use floats where a column might be inferred as integer."
   ]
  },
  {
   "cell_type": "code",
   "execution_count": 27,
   "metadata": {
    "slideshow": {
     "slide_type": "fragment"
    }
   },
   "outputs": [
    {
     "data": {
      "text/plain": [
       "Name           object\n",
       "Evaluation     object\n",
       "Rating        float32\n",
       "Age           float16\n",
       "dtype: object"
      ]
     },
     "execution_count": 27,
     "metadata": {},
     "output_type": "execute_result"
    }
   ],
   "source": [
    "df = pd.read_csv(\"data/movie.csv\", \n",
    "            dtype={'Age': np.float16, 'Rating': np.float32})\n",
    "df.dtypes"
   ]
  },
  {
   "cell_type": "markdown",
   "metadata": {
    "slideshow": {
     "slide_type": "subslide"
    }
   },
   "source": [
    "## Parsing Dates\n",
    "\n",
    "Pandas goes further than the standard library `csv` module can in also optionally parsing dates.  The next example not only has dates in an extra field, but in fact encodes the dates in multiple different formats.  If parsing a column as a date is specified, Pandas will attempt a large collection of heuristic rules to guess at what format was intended.  One of the dates given is accompanied by a particular time as well, down to a fraction of a second."
   ]
  },
  {
   "cell_type": "code",
   "execution_count": 29,
   "metadata": {
    "slideshow": {
     "slide_type": "subslide"
    }
   },
   "outputs": [
    {
     "data": {
      "text/plain": [
       "\u001b[0mName\u001b[0m\u001b[1;33m,\u001b[0m\u001b[0mEvaluation\u001b[0m\u001b[1;33m,\u001b[0m\u001b[0mRating\u001b[0m\u001b[1;33m,\u001b[0m\u001b[0mAge\u001b[0m\u001b[1;33m,\u001b[0m\u001b[0mDate\u001b[0m\u001b[1;33m\n",
       "\u001b[0m\u001b[0mMia\u001b[0m \u001b[0mJohnson\u001b[0m\u001b[1;33m,\u001b[0m\u001b[0mThe\u001b[0m \u001b[0mmovie\u001b[0m \u001b[0mwas\u001b[0m \u001b[0mexcellent\u001b[0m\u001b[1;33m,\u001b[0m\u001b[1;36m9.5\u001b[0m\u001b[1;33m,\u001b[0m\u001b[1;36m25\u001b[0m\u001b[1;33m,\u001b[0m\u001b[1;36m2020\u001b[0m\u001b[1;33m-\u001b[0m\u001b[1;36m0\u001b[0m\u001b[1;36m6\u001b[0m\u001b[1;33m-\u001b[0m\u001b[1;36m0\u001b[0m\u001b[1;36m8\u001b[0m\u001b[1;33m\n",
       "\u001b[0m\u001b[0mLiam\u001b[0m \u001b[0mLopez\u001b[0m\u001b[1;33m,\u001b[0m\u001b[0mDidn\u001b[0m\u001b[0;31m'\u001b[0m\u001b[0mt\u001b[0m \u001b[0mreally\u001b[0m \u001b[0mlike\u001b[0m \u001b[0mit\u001b[0m\u001b[1;33m,\u001b[0m\u001b[1;36m3.0\u001b[0m\u001b[1;33m,\u001b[0m\u001b[1;36m35\u001b[0m\u001b[1;33m,\u001b[0m\u001b[1;34m\"June 8, 2020\"\u001b[0m\u001b[1;33m\n",
       "\u001b[0m\u001b[0mIsabella\u001b[0m \u001b[0mLee\u001b[0m\u001b[1;33m,\u001b[0m\u001b[0mWow\u001b[0m\u001b[0;31m!\u001b[0m \u001b[0mThat\u001b[0m \u001b[0mwas\u001b[0m \u001b[0mgreat\u001b[0m\u001b[1;33m,\u001b[0m\u001b[1;36m8.0\u001b[0m\u001b[1;33m,\u001b[0m\u001b[1;36m45\u001b[0m\u001b[1;33m,\u001b[0m\u001b[1;36m2020\u001b[0m\u001b[1;33m-\u001b[0m\u001b[1;36m0\u001b[0m\u001b[1;36m6\u001b[0m\u001b[1;33m-\u001b[0m\u001b[1;36m0\u001b[0m\u001b[1;36m7\u001b[0m\u001b[1;33m\n",
       "\u001b[0m\u001b[0mOlivia\u001b[0m \u001b[0mGupta\u001b[0m\u001b[1;33m,\u001b[0m\u001b[1;34m\"Meh, not my thing\"\u001b[0m\u001b[1;33m,\u001b[0m\u001b[1;36m2.5\u001b[0m\u001b[1;33m,\u001b[0m\u001b[1;36m55\u001b[0m\u001b[1;33m,\u001b[0m\u001b[1;36m2020\u001b[0m\u001b[1;33m-\u001b[0m\u001b[1;36m0\u001b[0m\u001b[1;36m6\u001b[0m\u001b[1;33m-\u001b[0m\u001b[1;36m0\u001b[0m\u001b[1;36m6\u001b[0m\u001b[0mT12\u001b[0m\u001b[1;33m:\u001b[0m\u001b[1;36m12\u001b[0m\u001b[1;33m:\u001b[0m\u001b[1;36m12.1212\u001b[0m\u001b[1;33m\u001b[0m\u001b[1;33m\u001b[0m\u001b[0m\n"
      ]
     },
     "metadata": {},
     "output_type": "display_data"
    }
   ],
   "source": [
    "%pycat data/movie-date.csv"
   ]
  },
  {
   "cell_type": "code",
   "execution_count": 30,
   "metadata": {
    "slideshow": {
     "slide_type": "fragment"
    }
   },
   "outputs": [
    {
     "data": {
      "text/html": [
       "<div>\n",
       "<style scoped>\n",
       "    .dataframe tbody tr th:only-of-type {\n",
       "        vertical-align: middle;\n",
       "    }\n",
       "\n",
       "    .dataframe tbody tr th {\n",
       "        vertical-align: top;\n",
       "    }\n",
       "\n",
       "    .dataframe thead th {\n",
       "        text-align: right;\n",
       "    }\n",
       "</style>\n",
       "<table border=\"1\" class=\"dataframe\">\n",
       "  <thead>\n",
       "    <tr style=\"text-align: right;\">\n",
       "      <th></th>\n",
       "      <th>Name</th>\n",
       "      <th>Evaluation</th>\n",
       "      <th>Rating</th>\n",
       "      <th>Age</th>\n",
       "      <th>Date</th>\n",
       "    </tr>\n",
       "  </thead>\n",
       "  <tbody>\n",
       "    <tr>\n",
       "      <th>0</th>\n",
       "      <td>Mia Johnson</td>\n",
       "      <td>The movie was excellent</td>\n",
       "      <td>9.5</td>\n",
       "      <td>25</td>\n",
       "      <td>2020-06-08 00:00:00.000000</td>\n",
       "    </tr>\n",
       "    <tr>\n",
       "      <th>1</th>\n",
       "      <td>Liam Lopez</td>\n",
       "      <td>Didn't really like it</td>\n",
       "      <td>3.0</td>\n",
       "      <td>35</td>\n",
       "      <td>2020-06-08 00:00:00.000000</td>\n",
       "    </tr>\n",
       "    <tr>\n",
       "      <th>2</th>\n",
       "      <td>Isabella Lee</td>\n",
       "      <td>Wow! That was great</td>\n",
       "      <td>8.0</td>\n",
       "      <td>45</td>\n",
       "      <td>2020-06-07 00:00:00.000000</td>\n",
       "    </tr>\n",
       "    <tr>\n",
       "      <th>3</th>\n",
       "      <td>Olivia Gupta</td>\n",
       "      <td>Meh, not my thing</td>\n",
       "      <td>2.5</td>\n",
       "      <td>55</td>\n",
       "      <td>2020-06-06 12:12:12.121200</td>\n",
       "    </tr>\n",
       "  </tbody>\n",
       "</table>\n",
       "</div>"
      ],
      "text/plain": [
       "           Name               Evaluation  Rating  Age  \\\n",
       "0   Mia Johnson  The movie was excellent     9.5   25   \n",
       "1    Liam Lopez    Didn't really like it     3.0   35   \n",
       "2  Isabella Lee      Wow! That was great     8.0   45   \n",
       "3  Olivia Gupta        Meh, not my thing     2.5   55   \n",
       "\n",
       "                        Date  \n",
       "0 2020-06-08 00:00:00.000000  \n",
       "1 2020-06-08 00:00:00.000000  \n",
       "2 2020-06-07 00:00:00.000000  \n",
       "3 2020-06-06 12:12:12.121200  "
      ]
     },
     "execution_count": 30,
     "metadata": {},
     "output_type": "execute_result"
    }
   ],
   "source": [
    "pd.read_csv('data/movie-date.csv', parse_dates=['Date'])"
   ]
  },
  {
   "cell_type": "markdown",
   "metadata": {
    "slideshow": {
     "slide_type": "slide"
    }
   },
   "source": [
    "# Format Variations\n",
    "\n",
    "By choosing from various available parameters, the same `pd.read_csv()` function can read most delimited formats.  For example, we can read the pipe (`|`) delimited file created in the last lesson that also had embedded newlines and quotes. The special value `NaN` (Not a Number) is used to mark missing data."
   ]
  },
  {
   "cell_type": "code",
   "execution_count": 32,
   "metadata": {
    "slideshow": {
     "slide_type": "fragment"
    }
   },
   "outputs": [
    {
     "data": {
      "text/plain": [
       "\u001b[0mName\u001b[0m\u001b[1;33m|\u001b[0m\u001b[0mRating\u001b[0m\u001b[1;33m|\u001b[0m\u001b[0mAge\u001b[0m\u001b[1;33m\n",
       "\u001b[0m\u001b[0;31m\"\u001b[0m\u001b[0mMia\u001b[0m\u001b[1;33m\n",
       "\u001b[0m\u001b[0mJohnson\u001b[0m\u001b[0;31m\"\u001b[0m\u001b[1;33m|\u001b[0m\u001b[1;36m9.5\u001b[0m\u001b[1;33m|\u001b[0m\u001b[1;36m25\u001b[0m\u001b[1;33m\n",
       "\u001b[0m\u001b[0mLiam\u001b[0m \u001b[0mLopez\u001b[0m\u001b[1;33m|\u001b[0m\u001b[1;33m|\u001b[0m\u001b[1;36m35\u001b[0m\u001b[1;33m\n",
       "\u001b[0m\u001b[1;34m\"Isabella \"\u001b[0m\u001b[1;34m\"Bella\"\u001b[0m\u001b[1;34m\" Lee\"\u001b[0m\u001b[1;33m|\u001b[0m\u001b[1;36m8.0\u001b[0m\u001b[1;33m|\u001b[0m\u001b[1;36m45\u001b[0m\u001b[1;33m\u001b[0m\u001b[1;33m\u001b[0m\u001b[0m\n"
      ]
     },
     "metadata": {},
     "output_type": "display_data"
    }
   ],
   "source": [
    "%pycat data/movie.txt"
   ]
  },
  {
   "cell_type": "markdown",
   "metadata": {
    "slideshow": {
     "slide_type": "subslide"
    }
   },
   "source": [
    "Some of the parameters used in the below example are simply their default values. They are shown to illustrate the range of options."
   ]
  },
  {
   "cell_type": "code",
   "execution_count": 33,
   "metadata": {
    "slideshow": {
     "slide_type": "fragment"
    }
   },
   "outputs": [
    {
     "data": {
      "text/html": [
       "<div>\n",
       "<style scoped>\n",
       "    .dataframe tbody tr th:only-of-type {\n",
       "        vertical-align: middle;\n",
       "    }\n",
       "\n",
       "    .dataframe tbody tr th {\n",
       "        vertical-align: top;\n",
       "    }\n",
       "\n",
       "    .dataframe thead th {\n",
       "        text-align: right;\n",
       "    }\n",
       "</style>\n",
       "<table border=\"1\" class=\"dataframe\">\n",
       "  <thead>\n",
       "    <tr style=\"text-align: right;\">\n",
       "      <th></th>\n",
       "      <th>Name</th>\n",
       "      <th>Rating</th>\n",
       "      <th>Age</th>\n",
       "    </tr>\n",
       "  </thead>\n",
       "  <tbody>\n",
       "    <tr>\n",
       "      <th>0</th>\n",
       "      <td>Mia\\nJohnson</td>\n",
       "      <td>9.5</td>\n",
       "      <td>25</td>\n",
       "    </tr>\n",
       "    <tr>\n",
       "      <th>1</th>\n",
       "      <td>Liam Lopez</td>\n",
       "      <td>NaN</td>\n",
       "      <td>35</td>\n",
       "    </tr>\n",
       "    <tr>\n",
       "      <th>2</th>\n",
       "      <td>Isabella \"Bella\" Lee</td>\n",
       "      <td>8.0</td>\n",
       "      <td>45</td>\n",
       "    </tr>\n",
       "  </tbody>\n",
       "</table>\n",
       "</div>"
      ],
      "text/plain": [
       "                   Name  Rating  Age\n",
       "0          Mia\\nJohnson     9.5   25\n",
       "1            Liam Lopez     NaN   35\n",
       "2  Isabella \"Bella\" Lee     8.0   45"
      ]
     },
     "execution_count": 33,
     "metadata": {},
     "output_type": "execute_result"
    }
   ],
   "source": [
    "df = pd.read_csv('data/movie.txt', \n",
    "                 sep=\"|\", \n",
    "                 nrows=100, \n",
    "                 skip_blank_lines=True, \n",
    "                 decimal='.', \n",
    "                 quotechar='\"')\n",
    "df"
   ]
  },
  {
   "cell_type": "markdown",
   "metadata": {
    "slideshow": {
     "slide_type": "subslide"
    }
   },
   "source": [
    "Sometimes you will encounter CSV or other delimited files without headers.  A few options can handle that.  If we do not give parameters to indicate this, the DataFrame will be confused."
   ]
  },
  {
   "cell_type": "code",
   "execution_count": 34,
   "metadata": {
    "slideshow": {
     "slide_type": "fragment"
    }
   },
   "outputs": [
    {
     "data": {
      "text/html": [
       "<div>\n",
       "<style scoped>\n",
       "    .dataframe tbody tr th:only-of-type {\n",
       "        vertical-align: middle;\n",
       "    }\n",
       "\n",
       "    .dataframe tbody tr th {\n",
       "        vertical-align: top;\n",
       "    }\n",
       "\n",
       "    .dataframe thead th {\n",
       "        text-align: right;\n",
       "    }\n",
       "</style>\n",
       "<table border=\"1\" class=\"dataframe\">\n",
       "  <thead>\n",
       "    <tr style=\"text-align: right;\">\n",
       "      <th></th>\n",
       "      <th>Mia Johnson</th>\n",
       "      <th>The movie was excellent</th>\n",
       "      <th>9.5</th>\n",
       "      <th>25</th>\n",
       "    </tr>\n",
       "  </thead>\n",
       "  <tbody>\n",
       "    <tr>\n",
       "      <th>0</th>\n",
       "      <td>Liam Lopez</td>\n",
       "      <td>Didn't really like it</td>\n",
       "      <td>3.0</td>\n",
       "      <td>35</td>\n",
       "    </tr>\n",
       "    <tr>\n",
       "      <th>1</th>\n",
       "      <td>Isabella Lee</td>\n",
       "      <td>Wow! That was great</td>\n",
       "      <td>8.0</td>\n",
       "      <td>45</td>\n",
       "    </tr>\n",
       "    <tr>\n",
       "      <th>2</th>\n",
       "      <td>Olivia Gupta</td>\n",
       "      <td>Meh, not my thing</td>\n",
       "      <td>2.5</td>\n",
       "      <td>55</td>\n",
       "    </tr>\n",
       "  </tbody>\n",
       "</table>\n",
       "</div>"
      ],
      "text/plain": [
       "    Mia Johnson The movie was excellent  9.5  25\n",
       "0    Liam Lopez   Didn't really like it  3.0  35\n",
       "1  Isabella Lee     Wow! That was great  8.0  45\n",
       "2  Olivia Gupta       Meh, not my thing  2.5  55"
      ]
     },
     "execution_count": 34,
     "metadata": {},
     "output_type": "execute_result"
    }
   ],
   "source": [
    "pd.read_csv('data/movie-noheader.csv')"
   ]
  },
  {
   "cell_type": "code",
   "execution_count": 35,
   "metadata": {
    "slideshow": {
     "slide_type": "fragment"
    }
   },
   "outputs": [
    {
     "data": {
      "text/html": [
       "<div>\n",
       "<style scoped>\n",
       "    .dataframe tbody tr th:only-of-type {\n",
       "        vertical-align: middle;\n",
       "    }\n",
       "\n",
       "    .dataframe tbody tr th {\n",
       "        vertical-align: top;\n",
       "    }\n",
       "\n",
       "    .dataframe thead th {\n",
       "        text-align: right;\n",
       "    }\n",
       "</style>\n",
       "<table border=\"1\" class=\"dataframe\">\n",
       "  <thead>\n",
       "    <tr style=\"text-align: right;\">\n",
       "      <th></th>\n",
       "      <th>Person</th>\n",
       "      <th>Description</th>\n",
       "      <th>Score</th>\n",
       "      <th>Age</th>\n",
       "    </tr>\n",
       "  </thead>\n",
       "  <tbody>\n",
       "    <tr>\n",
       "      <th>0</th>\n",
       "      <td>Mia Johnson</td>\n",
       "      <td>The movie was excellent</td>\n",
       "      <td>9.5</td>\n",
       "      <td>25</td>\n",
       "    </tr>\n",
       "    <tr>\n",
       "      <th>1</th>\n",
       "      <td>Liam Lopez</td>\n",
       "      <td>Didn't really like it</td>\n",
       "      <td>3.0</td>\n",
       "      <td>35</td>\n",
       "    </tr>\n",
       "    <tr>\n",
       "      <th>2</th>\n",
       "      <td>Isabella Lee</td>\n",
       "      <td>Wow! That was great</td>\n",
       "      <td>8.0</td>\n",
       "      <td>45</td>\n",
       "    </tr>\n",
       "    <tr>\n",
       "      <th>3</th>\n",
       "      <td>Olivia Gupta</td>\n",
       "      <td>Meh, not my thing</td>\n",
       "      <td>2.5</td>\n",
       "      <td>55</td>\n",
       "    </tr>\n",
       "  </tbody>\n",
       "</table>\n",
       "</div>"
      ],
      "text/plain": [
       "         Person              Description  Score  Age\n",
       "0   Mia Johnson  The movie was excellent    9.5   25\n",
       "1    Liam Lopez    Didn't really like it    3.0   35\n",
       "2  Isabella Lee      Wow! That was great    8.0   45\n",
       "3  Olivia Gupta        Meh, not my thing    2.5   55"
      ]
     },
     "execution_count": 35,
     "metadata": {},
     "output_type": "execute_result"
    }
   ],
   "source": [
    "pd.read_csv('data/movie-noheader.csv', \n",
    "             names=['Person', 'Description', 'Score', 'Age'])"
   ]
  },
  {
   "cell_type": "markdown",
   "metadata": {
    "slideshow": {
     "slide_type": "slide"
    }
   },
   "source": [
    "# Exporting to CSV\n",
    "\n",
    "Once you *have* a Pandas DataFrame, whether constructed from scratch, read from any of numerous data formats, modified and filtered using Pandas methods, or whatever, it is easy to export it to a new CSV file.  This is not as completely general purpose as the Python `csv` module in that it is only a DataFrame that can do the writing, not arbitrary arrangements of data that you have manually programmed to write as records.  However, it is extremely straightforward, and allows generally the same numerous parameters as the reader."
   ]
  },
  {
   "cell_type": "code",
   "execution_count": 36,
   "metadata": {
    "slideshow": {
     "slide_type": "subslide"
    }
   },
   "outputs": [],
   "source": [
    "# Notice automatic compression based on extension\n",
    "df.to_csv('data/movie.tsv.gz', \n",
    "          sep='\\t', \n",
    "          na_rep=\"N/A\",\n",
    "          quotechar=\"'\")"
   ]
  },
  {
   "cell_type": "code",
   "execution_count": 40,
   "metadata": {
    "slideshow": {
     "slide_type": "fragment"
    }
   },
   "outputs": [
    {
     "name": "stdout",
     "output_type": "stream",
     "text": [
      "\tName\tRating\tAge\n",
      "0\t'Mia\n",
      "Johnson'\t9.5\t25\n",
      "1\tLiam Lopez\tN/A\t35\n",
      "2\tIsabella \"Bella\" Lee\t8.0\t45\n"
     ]
    }
   ],
   "source": [
    "%%bash\n",
    "zcat data/movie.tsv.gz"
   ]
  },
  {
   "cell_type": "markdown",
   "metadata": {},
   "source": [
    "-------------\n",
    "Materials licensed under [CC BY-NC-ND 4.0](https://creativecommons.org/licenses/by-nc-nd/4.0/) by the authors"
   ]
  }
 ],
 "metadata": {
  "celltoolbar": "Slideshow",
  "kernelspec": {
   "display_name": "Python 3 (ipykernel)",
   "language": "python",
   "name": "python3"
  },
  "language_info": {
   "codemirror_mode": {
    "name": "ipython",
    "version": 3
   },
   "file_extension": ".py",
   "mimetype": "text/x-python",
   "name": "python",
   "nbconvert_exporter": "python",
   "pygments_lexer": "ipython3",
   "version": "3.10.7"
  }
 },
 "nbformat": 4,
 "nbformat_minor": 4
}
