{
 "cells": [
  {
   "cell_type": "markdown",
   "metadata": {},
   "source": [
    "![Erudio logo](../img/erudio-logo-small.png)"
   ]
  },
  {
   "cell_type": "markdown",
   "metadata": {
    "slideshow": {
     "slide_type": "slide"
    }
   },
   "source": [
    "# Reading and Writing JSON\n",
    "\n",
    "JavaScript Object Notation (JSON) is a widely used data exchange format.  As the name suggests, it is a format derived from JavaScript, but it is strictly language neutral. JSON is currently specified by Internet Engineering Task Force (IETF) RFC 8259.  \n",
    "\n",
    "JSON is supported by a great many programming languages, in their standard library, or as built-ins, or with widely available libraries for those languages.  Many JSON strings are also identical to valid Python expression for some data structure or scalar."
   ]
  },
  {
   "cell_type": "markdown",
   "metadata": {
    "slideshow": {
     "slide_type": "subslide"
    }
   },
   "source": [
    "Let us start out by loading a few Python standard library modules (and one external package) that this lesson will utilize."
   ]
  },
  {
   "cell_type": "code",
   "execution_count": 2,
   "metadata": {},
   "outputs": [
    {
     "name": "stdout",
     "output_type": "stream",
     "text": [
      "Collecting jsonpickle\n",
      "  Downloading jsonpickle-3.0.2-py3-none-any.whl (40 kB)\n",
      "     ---------------------------------------- 40.7/40.7 kB 2.0 MB/s eta 0:00:00\n",
      "Installing collected packages: jsonpickle\n",
      "Successfully installed jsonpickle-3.0.2\n"
     ]
    },
    {
     "name": "stderr",
     "output_type": "stream",
     "text": [
      "\n",
      "[notice] A new release of pip available: 22.2.2 -> 24.0\n",
      "[notice] To update, run: python.exe -m pip install --upgrade pip\n"
     ]
    }
   ],
   "source": [
    "!pip install jsonpickle"
   ]
  },
  {
   "cell_type": "code",
   "execution_count": 3,
   "metadata": {
    "slideshow": {
     "slide_type": "fragment"
    }
   },
   "outputs": [],
   "source": [
    "import json\n",
    "from pprint import pprint\n",
    "from textwrap import fill\n",
    "from dataclasses import dataclass, asdict\n",
    "from datetime import datetime\n",
    "from decimal import Decimal\n",
    "from fractions import Fraction\n",
    "from math import pi\n",
    "import jsonpickle"
   ]
  },
  {
   "cell_type": "markdown",
   "metadata": {
    "slideshow": {
     "slide_type": "slide"
    }
   },
   "source": [
    "## A String Representation\n",
    "\n",
    "Let us create a dictionary and use the `json` module to serialize it in a string form. The examples in this lesson will largely follow those used the the lesson on Python pickles."
   ]
  },
  {
   "cell_type": "code",
   "execution_count": 4,
   "metadata": {
    "slideshow": {
     "slide_type": "fragment"
    }
   },
   "outputs": [
    {
     "name": "stdout",
     "output_type": "stream",
     "text": [
      "{\"name\": \"David\", \"real_number\": 76.54, \"count\": 22,\n",
      "\"likes_python\": true, \"lifespan\": NaN, \"end_of_time\": Infinity,\n",
      "\"pets\": [\"Astrophe\", \"Kachina\", \"Jackson\", \"Rebel\"]}\n"
     ]
    }
   ],
   "source": [
    "# Being still alive, lifespan is unknown & marked with NaN\n",
    "my_data = dict(name=\"David\", real_number=76.54, count=22, likes_python=True, \n",
    "               lifespan=float('nan'), end_of_time=float('inf'),\n",
    "               pets=['Astrophe', 'Kachina', 'Jackson', 'Rebel'])\n",
    "\n",
    "jstr =json.dumps(my_data)\n",
    "print(fill(jstr, width=65))"
   ]
  },
  {
   "cell_type": "code",
   "execution_count": 5,
   "metadata": {
    "slideshow": {
     "slide_type": "fragment"
    }
   },
   "outputs": [
    {
     "name": "stdout",
     "output_type": "stream",
     "text": [
      "{'name': 'David', 'real_number': 76.54, 'count': 22,\n",
      "'likes_python': True, 'lifespan': nan, 'end_of_time': inf,\n",
      "'pets': ['Astrophe', 'Kachina', 'Jackson', 'Rebel']}\n"
     ]
    }
   ],
   "source": [
    "print(fill(str(my_data), width=65))"
   ]
  },
  {
   "cell_type": "markdown",
   "metadata": {
    "slideshow": {
     "slide_type": "subslide"
    }
   },
   "source": [
    "## Almost Just Python\n",
    "\n",
    "The JSON string representing the `my_data` dictionary is *almost* valid Python that we could copy-paste or `eval()`.  The main differences are the spelling different of `true` versus `True`, of `false` versus `False`, and of `null` versus `None`."
   ]
  },
  {
   "cell_type": "markdown",
   "metadata": {
    "slideshow": {
     "slide_type": "fragment"
    }
   },
   "source": [
    "Another subtle issue occurred in the example, however.  The name `nan` is neither a Python keyword or built-in name *nor* is it strictly part of the JSON spec.  This special class of floating-point values (Not-a-Number) is very useful for certain numeric purposes, so many JSON libraries add it as an informal extension.  "
   ]
  },
  {
   "cell_type": "markdown",
   "metadata": {
    "slideshow": {
     "slide_type": "subslide"
    }
   },
   "source": [
    "The JSON version is spelled `NaN`.  In Python, we could import the name `nan` from the `math` or `numpy` modules, or we can build it using the `float()` constructor.  The constants `+Infinity` and `-Infinity` which are part of the IEEE-754 floating point standard, likewise are often useful, but are not part of JSON narrowly."
   ]
  },
  {
   "cell_type": "code",
   "execution_count": 6,
   "metadata": {
    "slideshow": {
     "slide_type": "fragment"
    }
   },
   "outputs": [
    {
     "name": "stdout",
     "output_type": "stream",
     "text": [
      "Out of range float values are not JSON compliant\n"
     ]
    }
   ],
   "source": [
    "try:\n",
    "    json.dumps(my_data, allow_nan=False)\n",
    "except Exception as err:\n",
    "    print(err)"
   ]
  },
  {
   "cell_type": "markdown",
   "metadata": {
    "slideshow": {
     "slide_type": "subslide"
    }
   },
   "source": [
    "## Same Values, Different Object\n",
    "\n",
    "Serialization and deserialization will create an *equivalent* object, but not an identical object.  It should not be confused with a shared memory or concurrency mechanism (but serialization is a building block for *some* concurrency models)."
   ]
  },
  {
   "cell_type": "code",
   "execution_count": 7,
   "metadata": {
    "slideshow": {
     "slide_type": "fragment"
    }
   },
   "outputs": [],
   "source": [
    "# Avoid the NaN issue\n",
    "my_data = dict(name=\"David\", likes_python=True, count=None,\n",
    "               pets=['Astrophe', 'Kachina', 'Jackson', 'Rebel'])\n",
    "\n",
    "jstr =json.dumps(my_data)\n",
    "new_data = json.loads(jstr)"
   ]
  },
  {
   "cell_type": "code",
   "execution_count": 8,
   "metadata": {
    "slideshow": {
     "slide_type": "fragment"
    }
   },
   "outputs": [
    {
     "name": "stdout",
     "output_type": "stream",
     "text": [
      "Equality: True\n",
      "Identity: False\n"
     ]
    }
   ],
   "source": [
    "print(\"Equality:\", new_data == my_data)\n",
    "print(\"Identity:\", new_data is my_data)"
   ]
  },
  {
   "cell_type": "markdown",
   "metadata": {
    "slideshow": {
     "slide_type": "subslide"
    }
   },
   "source": [
    "## Serializing JSON to Files\n",
    "\n",
    "The API of the `json` module generally matches that of `pickle`.  Along with the `dumps()` and `loads()`, the `json` module also has `dump()` and `load()`.  In all of these, the final 's' is a very compact way of expressing the idea that the function consumes or produces *strings* rather than files.  That naming convention has an old history; most likely newer methods that did not require backward compatibility would use more obvious names."
   ]
  },
  {
   "cell_type": "markdown",
   "metadata": {
    "slideshow": {
     "slide_type": "fragment"
    }
   },
   "source": [
    "In contrast to pickle format, which is *usually* used to save files with serialized objects, JSON is *usually* used to create an in-memory string to send over various wire protocols. "
   ]
  },
  {
   "cell_type": "code",
   "execution_count": 11,
   "metadata": {
    "slideshow": {
     "slide_type": "fragment"
    }
   },
   "outputs": [],
   "source": [
    "with open('tmp/data.json', 'w') as fh:\n",
    "    json.dump(my_data, fh)"
   ]
  },
  {
   "cell_type": "code",
   "execution_count": 14,
   "metadata": {},
   "outputs": [
    {
     "data": {
      "text/plain": [
       "\u001b[1;33m{\u001b[0m\u001b[1;34m\"name\"\u001b[0m\u001b[1;33m:\u001b[0m \u001b[1;34m\"David\"\u001b[0m\u001b[1;33m,\u001b[0m \u001b[1;34m\"likes_python\"\u001b[0m\u001b[1;33m:\u001b[0m \u001b[0mtrue\u001b[0m\u001b[1;33m,\u001b[0m \u001b[1;34m\"count\"\u001b[0m\u001b[1;33m:\u001b[0m \u001b[0mnull\u001b[0m\u001b[1;33m,\u001b[0m \u001b[1;34m\"pets\"\u001b[0m\u001b[1;33m:\u001b[0m \u001b[1;33m[\u001b[0m\u001b[1;34m\"Astrophe\"\u001b[0m\u001b[1;33m,\u001b[0m \u001b[1;34m\"Kachina\"\u001b[0m\u001b[1;33m,\u001b[0m \u001b[1;34m\"Jackson\"\u001b[0m\u001b[1;33m,\u001b[0m \u001b[1;34m\"Rebel\"\u001b[0m\u001b[1;33m]\u001b[0m\u001b[1;33m}\u001b[0m\u001b[1;33m\u001b[0m\u001b[1;33m\u001b[0m\u001b[0m\n"
      ]
     },
     "metadata": {},
     "output_type": "display_data"
    }
   ],
   "source": [
    "%pycat tmp/data.json"
   ]
  },
  {
   "cell_type": "markdown",
   "metadata": {
    "slideshow": {
     "slide_type": "subslide"
    }
   },
   "source": [
    "## Reading Objects from Files\n",
    "\n",
    "Reading JSON from a file—or from another file-like object—is exactly symmetrical with writing it.  With Python's so-called duck-typing, anything with a `.read()` method producing bytes allows unpickling.  Symmetrically, any object with a `.write()` method accepting bytes is suitable for pickling.  See examples in the previous lesson for use of several file-like objects. In this respect, `pickle` and `json` functions are the same."
   ]
  },
  {
   "cell_type": "code",
   "execution_count": 15,
   "metadata": {
    "slideshow": {
     "slide_type": "fragment"
    }
   },
   "outputs": [
    {
     "data": {
      "text/plain": [
       "{'name': 'David',\n",
       " 'likes_python': True,\n",
       " 'count': None,\n",
       " 'pets': ['Astrophe', 'Kachina', 'Jackson', 'Rebel']}"
      ]
     },
     "execution_count": 15,
     "metadata": {},
     "output_type": "execute_result"
    }
   ],
   "source": [
    "json.load(open('tmp/data.json'))"
   ]
  },
  {
   "cell_type": "markdown",
   "metadata": {
    "slideshow": {
     "slide_type": "slide"
    }
   },
   "source": [
    "# JSON Limitations\n",
    "\n",
    "Only basic Python collections and scalars can be directly represented in JSON; however, these collections *can* be nested indefinitely.  Specifically, JSON allows for dictionaries (called \"objects\" in the spec) and lists (called \"arrays\" in the spec); JSON does not have a way of representing tuples, sets, `collections.deque`, `collections.Counter`, NumPy arrays, or other collections you might use in Python.  The keys for JSON objects may only be strings, unlike Python dictionaries that can use any hashable object. For many purposes, casting another collection to a list suffices to transmit the data."
   ]
  },
  {
   "cell_type": "markdown",
   "metadata": {
    "slideshow": {
     "slide_type": "subslide"
    }
   },
   "source": [
    "The scalars supported by JSON are exclusively: the three literal names `true`, `false`, and `null`, strings, and numbers.  Strings are surrounded by double quotes, and may contain escaped Unicode code points.  JSON itself only contains a generic \"number\" datatype.  By default, numbers without decimal points will be interpreted as Python ints.  Numbers with decimals will be interpreted as Python floats.  Python allows other number types, such as `decimal.Decimal`, `fraction.Fraction`, or NumPy values of specific bit lengths."
   ]
  },
  {
   "cell_type": "markdown",
   "metadata": {
    "slideshow": {
     "slide_type": "subslide"
    }
   },
   "source": [
    "## Serialization Failures\n",
    "\n",
    "Any custom classes, including ones that represent special scalars, will fail by default in JSON serialization."
   ]
  },
  {
   "cell_type": "code",
   "execution_count": 16,
   "metadata": {
    "slideshow": {
     "slide_type": "fragment"
    }
   },
   "outputs": [
    {
     "name": "stdout",
     "output_type": "stream",
     "text": [
      "Object of type datetime is not JSON serializable\n"
     ]
    }
   ],
   "source": [
    "timestamp = datetime.fromisoformat('2020-05-24T00:55:10')\n",
    "try:\n",
    "    json.dumps(timestamp)\n",
    "except Exception as err:\n",
    "    print(err)"
   ]
  },
  {
   "cell_type": "code",
   "execution_count": 17,
   "metadata": {
    "slideshow": {
     "slide_type": "fragment"
    }
   },
   "outputs": [
    {
     "name": "stdout",
     "output_type": "stream",
     "text": [
      "Object of type Decimal is not JSON serializable\n"
     ]
    }
   ],
   "source": [
    "decnum = Decimal('3.1415')\n",
    "try:\n",
    "    json.dumps(decnum)\n",
    "except Exception as err:\n",
    "    print(err)"
   ]
  },
  {
   "cell_type": "markdown",
   "metadata": {
    "slideshow": {
     "slide_type": "subslide"
    }
   },
   "source": [
    "## Forcing Serialization\n",
    "\n",
    "We can customize how special Python datatypes are serialized and deserialized.  This should be done with a caution, however, because it also can impact interoperability with other systems.  This might mean system in other programming languages, or it might simply be other Python machines without the same customizations.  First let us handle extra serialization."
   ]
  },
  {
   "cell_type": "code",
   "execution_count": 18,
   "metadata": {
    "slideshow": {
     "slide_type": "fragment"
    }
   },
   "outputs": [],
   "source": [
    "class ScalarEncoder(json.JSONEncoder):\n",
    "    def default(self, o):\n",
    "        if isinstance(o, (Decimal, Fraction)):\n",
    "            return float(o)\n",
    "        elif isinstance(o, datetime):\n",
    "            return datetime.isoformat(o)\n",
    "        else:\n",
    "            return super().default(o)"
   ]
  },
  {
   "cell_type": "markdown",
   "metadata": {
    "slideshow": {
     "slide_type": "subslide"
    }
   },
   "source": [
    "### Semi-Generic Types\n",
    "\n",
    "Let us encode some data using the custom encoder we developed."
   ]
  },
  {
   "cell_type": "code",
   "execution_count": 19,
   "metadata": {
    "slideshow": {
     "slide_type": "fragment"
    }
   },
   "outputs": [
    {
     "name": "stdout",
     "output_type": "stream",
     "text": [
      "('[\"2020-05-24T00:55:10\", 42, 3.1415, '\n",
      " '3.141592653589793, 3.142857142857143]')\n"
     ]
    }
   ],
   "source": [
    "nums = [timestamp, 42, decnum, pi, Fraction(22, 7)] \n",
    "jnums = json.dumps(nums, cls=ScalarEncoder)\n",
    "pprint(jnums, width=55)"
   ]
  },
  {
   "cell_type": "markdown",
   "metadata": {
    "slideshow": {
     "slide_type": "fragment"
    }
   },
   "source": [
    "This customization will not introduce much compatibility concern.  The same \"number\" can be represented in different systems.  However, notice that in the JSON representation absolutely nothing distinguishes the float, Decimal, and Fraction we started with as several approximations of the transcendental number pi.  The timestamp has simply become a string, but one that contains all the underlying information."
   ]
  },
  {
   "cell_type": "markdown",
   "metadata": {
    "slideshow": {
     "slide_type": "subslide"
    }
   },
   "source": [
    "Reading back in this JSON serialization will work fine, but with all non-integral numbers as platform-native floats.  We can change the default deserialization type for floats and ints if we would like to. We impose just one type for each of float and int."
   ]
  },
  {
   "cell_type": "code",
   "execution_count": 20,
   "metadata": {
    "slideshow": {
     "slide_type": "fragment"
    }
   },
   "outputs": [
    {
     "data": {
      "text/plain": [
       "['2020-05-24T00:55:10', 42, 3.1415, 3.141592653589793, 3.142857142857143]"
      ]
     },
     "execution_count": 20,
     "metadata": {},
     "output_type": "execute_result"
    }
   ],
   "source": [
    "json.loads(jnums)"
   ]
  },
  {
   "cell_type": "code",
   "execution_count": 21,
   "metadata": {
    "slideshow": {
     "slide_type": "fragment"
    }
   },
   "outputs": [
    {
     "data": {
      "text/plain": [
       "['2020-05-24T00:55:10',\n",
       " Fraction(42, 1),\n",
       " Decimal('3.1415'),\n",
       " Decimal('3.141592653589793'),\n",
       " Decimal('3.142857142857143')]"
      ]
     },
     "execution_count": 21,
     "metadata": {},
     "output_type": "execute_result"
    }
   ],
   "source": [
    "json.loads(jnums, parse_float=Decimal, parse_int=Fraction)"
   ]
  },
  {
   "cell_type": "markdown",
   "metadata": {
    "slideshow": {
     "slide_type": "subslide"
    }
   },
   "source": [
    "## Customizing Serialization\n",
    "\n",
    "For complex objects, the `.__dict__` of the object often serves as a reasonable proxy for \"the interesting data\" inside the object. We saw a definition of a custom encoder and could enhance it to deal with additional types that way. However, this is about the point where you want to worry more about the actual utility of your serialization, especially if you will transmit it to other systems (i.e. running different programming languages).  "
   ]
  },
  {
   "cell_type": "code",
   "execution_count": 22,
   "metadata": {
    "slideshow": {
     "slide_type": "fragment"
    }
   },
   "outputs": [],
   "source": [
    "class RobustEncoder(ScalarEncoder):\n",
    "    def default(self, o):\n",
    "        try:\n",
    "            return super().default(o)\n",
    "        except:\n",
    "            return o.__dict__"
   ]
  },
  {
   "cell_type": "markdown",
   "metadata": {
    "slideshow": {
     "slide_type": "subslide"
    }
   },
   "source": [
    "Let us create a custom instance that has some \"problem\" nested data, and serialize it using this new encoder."
   ]
  },
  {
   "cell_type": "code",
   "execution_count": 23,
   "metadata": {
    "slideshow": {
     "slide_type": "fragment"
    }
   },
   "outputs": [],
   "source": [
    "@dataclass\n",
    "class TestData:\n",
    "    description: str\n",
    "    timestamp: datetime\n",
    "    numbers: list"
   ]
  },
  {
   "cell_type": "code",
   "execution_count": 24,
   "metadata": {
    "slideshow": {
     "slide_type": "fragment"
    }
   },
   "outputs": [
    {
     "name": "stdout",
     "output_type": "stream",
     "text": [
      "(\"TestData(description='Pi approximations', \"\n",
      " 'timestamp=datetime.datetime(2020, 5, 24, 0, 55, 10), '\n",
      " \"numbers=[Decimal('3.1415'), 3.141592653589793, \"\n",
      " 'Fraction(22, 7)])')\n"
     ]
    }
   ],
   "source": [
    "test_data = TestData(description=\"Pi approximations\",\n",
    "                     timestamp=timestamp,\n",
    "                     numbers=[decnum, pi, Fraction(22, 7)])\n",
    "pprint(str(test_data), width=56)"
   ]
  },
  {
   "cell_type": "markdown",
   "metadata": {
    "slideshow": {
     "slide_type": "subslide"
    }
   },
   "source": [
    "At this point we are able to serialize to JSON a custom class, albeit without specifically maintaining any information about the class it belongs to, only the underlying data."
   ]
  },
  {
   "cell_type": "code",
   "execution_count": 25,
   "metadata": {
    "slideshow": {
     "slide_type": "fragment"
    }
   },
   "outputs": [
    {
     "name": "stdout",
     "output_type": "stream",
     "text": [
      "('{\"description\": \"Pi approximations\", \"timestamp\": \"2020-05-24T00:55:10\", '\n",
      " '\"numbers\": [3.1415, 3.141592653589793, 3.142857142857143]}')\n"
     ]
    }
   ],
   "source": [
    "pprint(json.dumps(test_data, cls=RobustEncoder))"
   ]
  },
  {
   "cell_type": "markdown",
   "metadata": {
    "slideshow": {
     "slide_type": "fragment"
    }
   },
   "source": [
    "The example used a Data Class, but that was only because of the compact form of its definition.  The same example would work for any custom class."
   ]
  },
  {
   "cell_type": "markdown",
   "metadata": {
    "slideshow": {
     "slide_type": "slide"
    }
   },
   "source": [
    "# JSON Pickles\n",
    "\n",
    "If your concern for interoperability is low, and you only wish to exchange data between reasonably similarly configured Python systems (or only persist objects on the same system), the third-party module `jsonpickle` does this abstraction for you.  This achieves round-tripping, which is often useful.  Its capabilities and limitations are essentially identical to `pickle` itself.  However, the binary pickle format is considerably more compact than the JSON string format."
   ]
  },
  {
   "cell_type": "code",
   "execution_count": 26,
   "metadata": {
    "slideshow": {
     "slide_type": "fragment"
    }
   },
   "outputs": [
    {
     "name": "stdout",
     "output_type": "stream",
     "text": [
      "(\"TestData(description='Pi approximations', \"\n",
      " 'timestamp=datetime.datetime(2020, 5, 24, 0, 55, 10), '\n",
      " \"numbers=[Decimal('3.1415'), 3.141592653589793, \"\n",
      " 'Fraction(22, 7)])')\n"
     ]
    }
   ],
   "source": [
    "jpkl = jsonpickle.encode(test_data, indent=True)\n",
    "new_data = jsonpickle.decode(jpkl)\n",
    "pprint(str(new_data), width=56)"
   ]
  },
  {
   "cell_type": "markdown",
   "metadata": {
    "slideshow": {
     "slide_type": "fragment"
    }
   },
   "source": [
    "The various nested datatypes are fully preserved, as well as the class they belong to."
   ]
  },
  {
   "cell_type": "markdown",
   "metadata": {
    "slideshow": {
     "slide_type": "subslide"
    }
   },
   "source": [
    "## The Verbose Format\n",
    "\n",
    "Above, I used the `indent=True` option to produce more human readable (but somewhat larger) JSON output.  It only modifies semantically meaningless whitespace.  The same switch exits on the `pickle` module itself.  Let us look at what is contained in this specialized JSON format. We will use several slides to see the parts."
   ]
  },
  {
   "cell_type": "code",
   "execution_count": 27,
   "metadata": {
    "slideshow": {
     "slide_type": "fragment"
    }
   },
   "outputs": [
    {
     "name": "stdout",
     "output_type": "stream",
     "text": [
      "{\n",
      " \"py/object\": \"__main__.TestData\",\n",
      " \"description\": \"Pi approximations\",\n",
      " \"timestamp\": {\n",
      "  \"py/object\": \"datetime.datetime\",\n",
      "  \"__reduce__\": [\n",
      "   {\n",
      "    \"py/type\": \"datetime.datetime\"\n",
      "   },\n",
      "   [\n",
      "    \"B+QFGAA3CgAAAA==\"\n",
      "   ]\n",
      "  ]\n",
      " },\n"
     ]
    }
   ],
   "source": [
    "lines = jpkl.splitlines()\n",
    "print('\\n'.join(lines[:14]))"
   ]
  },
  {
   "cell_type": "code",
   "execution_count": 28,
   "metadata": {
    "slideshow": {
     "slide_type": "subslide"
    }
   },
   "outputs": [
    {
     "name": "stdout",
     "output_type": "stream",
     "text": [
      " \"numbers\": [\n",
      "  {\n",
      "   \"py/reduce\": [\n",
      "    {\n",
      "     \"py/type\": \"decimal.Decimal\"\n",
      "    },\n",
      "    {\n",
      "     \"py/tuple\": [\n",
      "      \"3.1415\"\n",
      "     ]\n",
      "    }\n",
      "   ]\n",
      "  },\n",
      "  3.141592653589793,\n"
     ]
    }
   ],
   "source": [
    "print('\\n'.join(lines[14:28]))"
   ]
  },
  {
   "cell_type": "code",
   "execution_count": 29,
   "metadata": {
    "slideshow": {
     "slide_type": "subslide"
    }
   },
   "outputs": [
    {
     "name": "stdout",
     "output_type": "stream",
     "text": [
      "  {\n",
      "   \"py/reduce\": [\n",
      "    {\n",
      "     \"py/type\": \"fractions.Fraction\"\n",
      "    },\n",
      "    {\n",
      "     \"py/tuple\": [\n",
      "      \"22/7\"\n",
      "     ]\n",
      "    }\n",
      "   ]\n",
      "  }\n",
      " ]\n",
      "}\n"
     ]
    }
   ],
   "source": [
    "print('\\n'.join(lines[28:]))"
   ]
  },
  {
   "cell_type": "markdown",
   "metadata": {
    "slideshow": {
     "slide_type": "slide"
    }
   },
   "source": [
    "# Sharing JSON Among Languages\n",
    "\n",
    "JavaScript Object Notation (JSON) is designed as a data interchange format.  Specifically, it is pobably used most commonly for RESTful web service (Representational state transfer).  While those might run in Python, there are numerous other programming languages and frameworks they might use; notably JavaScript is a prominent option.  Every widely used modern programming language has libraries supporting JSON."
   ]
  },
  {
   "cell_type": "markdown",
   "metadata": {
    "slideshow": {
     "slide_type": "fragment"
    }
   },
   "source": [
    "For this lesson, we utilize an example Node.js server that is licensed as GPL v.3.0, and can be installed from Rob Kendal's GitHub repository at https://github.com/bpk68/api-server-starter.  That repository is accompanied by an excellent introductory article that describes the steps of creating a simple Node.js webserver.  I have modified that code only in minor ways for this lesson.  I will show two snippets of the JavaScript code used for illustration, but the focus here is on talking to the server from Python, not learning JavaScript or Node.js."
   ]
  },
  {
   "cell_type": "markdown",
   "metadata": {
    "slideshow": {
     "slide_type": "subslide"
    }
   },
   "source": [
    "Let us start out by loading a few Python standard library modules, and one widely-used third-party package, that this lesson will utilize."
   ]
  },
  {
   "cell_type": "code",
   "execution_count": 32,
   "metadata": {
    "slideshow": {
     "slide_type": "fragment"
    }
   },
   "outputs": [],
   "source": [
    "import json\n",
    "from http import HTTPStatus\n",
    "import requests"
   ]
  },
  {
   "cell_type": "code",
   "execution_count": 31,
   "metadata": {},
   "outputs": [],
   "source": [
    "%%bash\n",
    "cp node-server/data/users-start.json node-server/data/users.json"
   ]
  },
  {
   "cell_type": "markdown",
   "metadata": {
    "slideshow": {
     "slide_type": "slide"
    }
   },
   "source": [
    "## Making REST Requests\n",
    "\n",
    "This lesson—and *microservices* very commonly—will consist of calling a webserver with a *payload* formatted as JSON, and receiving a response, also usually formatted as JSON.  This structure allows many servers to interact in a manner similar to function calls, with both computation and state distributed among the various servers.  An older approach to this same architecture was XMLRPC, which in fact has a current but legacy Python standard library module `xmlrpc` to support it."
   ]
  },
  {
   "cell_type": "markdown",
   "metadata": {
    "slideshow": {
     "slide_type": "subslide"
    }
   },
   "source": [
    "The server in this lesson provides a simple key/value database of users.  All users must have a name and a password, but they may also optionally have other data associated with them.  This design is obviously terrible from a security perspective, since \"passwords\" are transmitted and stored without encryption (as is other data), but that concern is not for this lesson."
   ]
  },
  {
   "cell_type": "markdown",
   "metadata": {
    "slideshow": {
     "slide_type": "fragment"
    }
   },
   "source": [
    "The third-party package `requests` is recommended for HTTP clients, even in the Python standard library documentation itself.  However, the standard library package `urllib.request` has a less intuitive API, but will perform the same tasks if the third-party package is not available.  In our server, we can query the data it contains by making a GET request to the endpoint `/users`.\n",
    "\n",
    "### You need to start a local node server befoe executing the below cells. The instructions to start one are present in ```node-server/README.md```\n",
    "**NOTE: If you run the server on another port other than 3001, please update the ceels with the port number on which you run the localhost**"
   ]
  },
  {
   "cell_type": "markdown",
   "metadata": {
    "slideshow": {
     "slide_type": "subslide"
    }
   },
   "source": [
    "A GET request does not pass any JSON body data; in principle it could pass URL parameters to communicate data, but that style is not used in this lesson."
   ]
  },
  {
   "cell_type": "code",
   "execution_count": 2,
   "metadata": {
    "slideshow": {
     "slide_type": "fragment"
    }
   },
   "outputs": [
    {
     "name": "stdout",
     "output_type": "stream",
     "text": [
      "200\n",
      "application/json; charset=utf-8\n"
     ]
    },
    {
     "data": {
      "text/plain": [
       "{'1': {'name': 'Guido van Rossum',\n",
       "  'password': 'unladenswallow',\n",
       "  'details': {'profession': 'ex-BDFL'}},\n",
       " '2': {'name': 'Brendan Eich',\n",
       "  'password': 'nontransitiveequality',\n",
       "  'details': {'profession': 'Mozillan'}},\n",
       " '3': {'name': 'Ken Thompson',\n",
       "  'password': 'p/q2-q4!',\n",
       "  'details': {'profession': 'Unix Creator'}}}"
      ]
     },
     "execution_count": 2,
     "metadata": {},
     "output_type": "execute_result"
    }
   ],
   "source": [
    "# The URL of the RESTful server\n",
    "url = 'http://localhost:3001/users'\n",
    "\n",
    "# A response to the HTTP request\n",
    "response = requests.get(url) \n",
    "\n",
    "# Show status code and load JSON body\n",
    "print(response.status_code)\n",
    "print(response.headers['Content-Type'])\n",
    "json.loads(response.text)"
   ]
  },
  {
   "cell_type": "markdown",
   "metadata": {
    "slideshow": {
     "slide_type": "subslide"
    }
   },
   "source": [
    "### Unsuccessful Requests\n",
    "\n",
    "A well behaving webserver will return a status code indicating the nature of the problem with a request. A very small support function will help us show the response details."
   ]
  },
  {
   "cell_type": "code",
   "execution_count": 3,
   "metadata": {
    "slideshow": {
     "slide_type": "fragment"
    }
   },
   "outputs": [],
   "source": [
    "def phrase(response):\n",
    "    for st in HTTPStatus:\n",
    "        if st.value == response.status_code:\n",
    "            return f\"{st.value} {st.phrase}\""
   ]
  },
  {
   "cell_type": "markdown",
   "metadata": {
    "slideshow": {
     "slide_type": "subslide"
    }
   },
   "source": [
    "Trying a resource that simply does not exist."
   ]
  },
  {
   "cell_type": "code",
   "execution_count": 4,
   "metadata": {
    "slideshow": {
     "slide_type": "fragment"
    }
   },
   "outputs": [
    {
     "name": "stdout",
     "output_type": "stream",
     "text": [
      "404 Not Found\n",
      "Expecting value: line 1 column 1 (char 0)\n"
     ]
    }
   ],
   "source": [
    "url2 = 'http://localhost:3001/nonesuch'\n",
    "response = requests.get(url2) \n",
    "print(phrase(response))\n",
    "try:\n",
    "    json.loads(response.text)\n",
    "except Exception as err:\n",
    "    print(err)"
   ]
  },
  {
   "cell_type": "markdown",
   "metadata": {
    "slideshow": {
     "slide_type": "subslide"
    }
   },
   "source": [
    "At times we might see a status code that is neither 200 nor 404.  A 404 will not have any body, but other status codes are likely to have a body that is encoded as plain text or in another manner.  We can use this clue to decide whether to JSON decode the body."
   ]
  },
  {
   "cell_type": "code",
   "execution_count": 5,
   "metadata": {
    "slideshow": {
     "slide_type": "fragment"
    }
   },
   "outputs": [
    {
     "name": "stdout",
     "output_type": "stream",
     "text": [
      "410 Gone\n",
      "text/plain; charset=utf-8\n"
     ]
    },
    {
     "data": {
      "text/plain": [
       "'Resource has been disabled'"
      ]
     },
     "execution_count": 5,
     "metadata": {},
     "output_type": "execute_result"
    }
   ],
   "source": [
    "url3 = 'http://localhost:3001/disabled'\n",
    "response = requests.get(url3) \n",
    "print(phrase(response))\n",
    "print(response.headers['Content-Type'])\n",
    "response.text"
   ]
  },
  {
   "cell_type": "markdown",
   "metadata": {
    "slideshow": {
     "slide_type": "slide"
    }
   },
   "source": [
    "## Pushing JSON\n",
    "\n",
    "The way this server is configured, the same endpoint behaves differently if it receives a POST request rather than a GET request.  With a POST, a new record is added to the database."
   ]
  },
  {
   "cell_type": "code",
   "execution_count": 6,
   "metadata": {
    "slideshow": {
     "slide_type": "fragment"
    }
   },
   "outputs": [
    {
     "name": "stdout",
     "output_type": "stream",
     "text": [
      "200 OK\n"
     ]
    },
    {
     "data": {
      "text/plain": [
       "'new user id:4 added'"
      ]
     },
     "execution_count": 6,
     "metadata": {},
     "output_type": "execute_result"
    }
   ],
   "source": [
    "headers = {'content-type': 'application/json'}\n",
    "user = {\"name\": \"David Mertz\",  \n",
    "        \"password\": \"badpassword\", \n",
    "        \"details\": {\n",
    "            \"profession\": \"Data Scientist\", \n",
    "            \"publisher\": \"INE\"},\n",
    "        \"lucky_numbers\": [12, 42, 55, 87]\n",
    "       }\n",
    "\n",
    "response = requests.post(url, data=json.dumps(user), headers=headers)\n",
    "print(phrase(response))\n",
    "response.text"
   ]
  },
  {
   "cell_type": "markdown",
   "metadata": {
    "slideshow": {
     "slide_type": "subslide"
    }
   },
   "source": [
    "Let us make sure the database has the contents we hope for."
   ]
  },
  {
   "cell_type": "code",
   "execution_count": 7,
   "metadata": {
    "slideshow": {
     "slide_type": "fragment"
    }
   },
   "outputs": [
    {
     "data": {
      "text/plain": [
       "{'1': {'name': 'Guido van Rossum',\n",
       "  'password': 'unladenswallow',\n",
       "  'details': {'profession': 'ex-BDFL'}},\n",
       " '2': {'name': 'Brendan Eich',\n",
       "  'password': 'nontransitiveequality',\n",
       "  'details': {'profession': 'Mozillan'}},\n",
       " '3': {'name': 'Ken Thompson',\n",
       "  'password': 'p/q2-q4!',\n",
       "  'details': {'profession': 'Unix Creator'}},\n",
       " '4': {'name': 'David Mertz',\n",
       "  'password': 'badpassword',\n",
       "  'details': {'profession': 'Data Scientist', 'publisher': 'INE'},\n",
       "  'lucky_numbers': [12, 42, 55, 87]}}"
      ]
     },
     "execution_count": 7,
     "metadata": {},
     "output_type": "execute_result"
    }
   ],
   "source": [
    "response = requests.get(url) \n",
    "json.loads(response.text)"
   ]
  },
  {
   "cell_type": "markdown",
   "metadata": {
    "slideshow": {
     "slide_type": "subslide"
    }
   },
   "source": [
    "The server may validate a POST request (or any request) in some manner, and return an appropriate status based on the JSON passed to it."
   ]
  },
  {
   "cell_type": "code",
   "execution_count": 9,
   "metadata": {
    "slideshow": {
     "slide_type": "fragment"
    }
   },
   "outputs": [
    {
     "name": "stdout",
     "output_type": "stream",
     "text": [
      "400 Bad Request\n"
     ]
    },
    {
     "data": {
      "text/plain": [
       "'User property \"name\" is required'"
      ]
     },
     "execution_count": 9,
     "metadata": {},
     "output_type": "execute_result"
    }
   ],
   "source": [
    "anon = {\"password\": \"P4cC!^*8chWz8\", \"profession\": \"Hacker\"}\n",
    "response = requests.post(url, data=json.dumps(anon), headers=headers)\n",
    "print(phrase(response))\n",
    "response.text"
   ]
  },
  {
   "cell_type": "markdown",
   "metadata": {
    "slideshow": {
     "slide_type": "slide"
    }
   },
   "source": [
    "# What the Server is Doing\n",
    "\n",
    "The Node.js server has a bit of scaffolding to implement a server.  A very similar webserver could be implemented in Python or any other programming language.  While you may not be familiar with JavaScript, the below code should not be difficult to understand in outline.  This is the code that handle a POST to the `/users` route."
   ]
  },
  {
   "cell_type": "markdown",
   "metadata": {
    "slideshow": {
     "slide_type": "subslide"
    }
   },
   "source": [
    "```javascript\n",
    "// CREATE\n",
    "app.post('/users', (req, res) => {      \n",
    "    // validation\n",
    "    if (! req.body.hasOwnProperty('name')) {\n",
    "        res.status(400).send('User property \"name\" is required');\n",
    "    }\n",
    "```\n",
    "```javascript\n",
    "    // add the new user\n",
    "    else {\n",
    "        readFile(data => {\n",
    "            const newUserId = Object.keys(data).length + 1;\n",
    "            data[newUserId.toString()] = req.body;\n",
    "            writeFile(JSON.stringify(data, null, 2), () => {\n",
    "                res.status(200).send(`new user id:${newUserId} added`);\n",
    "            });\n",
    "```\n",
    "```javascript\n",
    "        },\n",
    "            true);\n",
    "    }\n",
    "});\n",
    "```"
   ]
  },
  {
   "cell_type": "markdown",
   "metadata": {
    "slideshow": {
     "slide_type": "subslide"
    }
   },
   "source": [
    "Although the data file that stores the database is itself simply JSON, the server explicitly parses it as JSON to assure the format.  Setting the header immediately before the call to `res.send()` is redundant because the server can detect the type from the JSON object; I added it to illustrate that we are able to explicitly set it.  Very similar APIs are present in Python websevers."
   ]
  },
  {
   "cell_type": "markdown",
   "metadata": {
    "slideshow": {
     "slide_type": "fragment"
    }
   },
   "source": [
    "```json\n",
    "// READ\n",
    "app.get('/users', (req, res) => {\n",
    "    fs.readFile(dataPath, 'utf8', (err, data) => {\n",
    "        if (err) {\n",
    "            throw err;\n",
    "        }\n",
    "```\n",
    "```javascript\n",
    "        // framework detects JSON, but set explicitly\n",
    "        res.setHeader('Content-Type', 'application/json');\n",
    "        res.send(JSON.parse(data));\n",
    "    });\n",
    "});\n",
    "```"
   ]
  },
  {
   "cell_type": "markdown",
   "metadata": {
    "slideshow": {
     "slide_type": "slide"
    }
   },
   "source": [
    "# JSON Schema\n",
    "\n",
    "The prior lesson demonstrated communicating between a RESTful web server and a client.  Recall that we sent HTTP POST messages with a JSON body to a server and received JSON responses from GET queries.  One thing that was not done in the example was any validation of the format of these messages.  Or rather, there was one element of ad-hoc validation in that the server required the field \"name\" to be present in a user record."
   ]
  },
  {
   "cell_type": "markdown",
   "metadata": {
    "slideshow": {
     "slide_type": "fragment"
    }
   },
   "source": [
    "Using JSON Schema, we can more precisely specify all the elements that may be present in an acceptable JSON document, including which are requires versus option, and indicate datatypes and nesting of containers.  JSON Schema can contain varying levels of details.  We will look at some possible schemata to define a valid user with varying degrees of specificity."
   ]
  },
  {
   "cell_type": "markdown",
   "metadata": {
    "slideshow": {
     "slide_type": "subslide"
    }
   },
   "source": [
    "Let us start out by loading Python standard library modules and the third-party `jsonschema` module.  We also create JSON strings for several users to validate."
   ]
  },
  {
   "cell_type": "code",
   "execution_count": 33,
   "metadata": {
    "slideshow": {
     "slide_type": "fragment"
    }
   },
   "outputs": [],
   "source": [
    "import json\n",
    "from jsonschema import validate, ValidationError"
   ]
  },
  {
   "cell_type": "code",
   "execution_count": 36,
   "metadata": {
    "slideshow": {
     "slide_type": "fragment"
    }
   },
   "outputs": [],
   "source": [
    "guido = json.loads(\"\"\"{\n",
    "  \"name\": \"Guido van Rossum\",\n",
    "  \"password\": \"unladenswallow\",\n",
    "  \"details\": {\n",
    "    \"profession\": \"ex-BDFL\"\n",
    "  }\n",
    "}\"\"\")"
   ]
  },
  {
   "cell_type": "code",
   "execution_count": 37,
   "metadata": {
    "slideshow": {
     "slide_type": "subslide"
    }
   },
   "outputs": [],
   "source": [
    "roberto = json.loads(\"\"\"{\n",
    "  \"name\": \"Roberto Sanchez\",\n",
    "  \"password\": \"badpassword\",\n",
    "  \"details\": {\n",
    "    \"profession\": \"Software Developer\",\n",
    "    \"publisher\": \"INE\"\n",
    "  },\n",
    "  \"lucky_numbers\": [12, 42, 55, 87]\n",
    "}\"\"\")"
   ]
  },
  {
   "cell_type": "code",
   "execution_count": 38,
   "metadata": {
    "slideshow": {
     "slide_type": "fragment"
    }
   },
   "outputs": [],
   "source": [
    "intruder = json.loads(\"\"\"{\n",
    "  \"password\": \"P4cC!^*8chWz8\", \n",
    "  \"profession\": \"Hacker\"\n",
    "}\"\"\")"
   ]
  },
  {
   "cell_type": "markdown",
   "metadata": {
    "slideshow": {
     "slide_type": "slide"
    }
   },
   "source": [
    "# Validation\n",
    "\n",
    "A JSON Schema is itself a JSON document following certain specifications.  At the simplest, it needs to specify a type for the JSON being validated. The module `jsonschema` expects Python objects as both `instance` and `schema` arguments.  If you are beginning with JSON—which is, after all, the point of using it—you need to use the `json` module to convert both to Python objects first."
   ]
  },
  {
   "cell_type": "markdown",
   "metadata": {
    "slideshow": {
     "slide_type": "fragment"
    }
   },
   "source": [
    "The API the `jsonschema` module uses might be surprising.  It raises an exception on failure, but passes silently on success.  Let us look at a couple examples."
   ]
  },
  {
   "cell_type": "markdown",
   "metadata": {
    "slideshow": {
     "slide_type": "subslide"
    }
   },
   "source": [
    "## Checking Scalars"
   ]
  },
  {
   "cell_type": "code",
   "execution_count": 39,
   "metadata": {
    "slideshow": {
     "slide_type": "fragment"
    }
   },
   "outputs": [
    {
     "name": "stdout",
     "output_type": "stream",
     "text": [
      "99 is a number\n"
     ]
    }
   ],
   "source": [
    "try:\n",
    "    validate(instance=99, schema={\"type\": \"number\"})\n",
    "    print(\"99 is a number\")\n",
    "except ValidationError as err:\n",
    "    print(err)    "
   ]
  },
  {
   "cell_type": "code",
   "execution_count": 40,
   "metadata": {
    "slideshow": {
     "slide_type": "subslide"
    }
   },
   "outputs": [
    {
     "name": "stdout",
     "output_type": "stream",
     "text": [
      "99 is not of type 'string'\n",
      "\n",
      "Failed validating 'type' in schema:\n",
      "    {'type': 'string'}\n",
      "\n",
      "On instance:\n",
      "    99\n"
     ]
    }
   ],
   "source": [
    "try:\n",
    "    validate(99, {\"type\": \"string\"})\n",
    "    print(\"99 is a string\")\n",
    "except ValidationError as err:\n",
    "    print(err)"
   ]
  },
  {
   "cell_type": "code",
   "execution_count": 41,
   "metadata": {
    "slideshow": {
     "slide_type": "fragment"
    }
   },
   "outputs": [
    {
     "name": "stdout",
     "output_type": "stream",
     "text": [
      "'99' is not of type 'number'\n",
      "\n",
      "Failed validating 'type' in schema:\n",
      "    {'type': 'number'}\n",
      "\n",
      "On instance:\n",
      "    '99'\n"
     ]
    }
   ],
   "source": [
    "try:\n",
    "    validate(\"99\", {\"type\": \"number\"})\n",
    "    print(\"99 is a string\")\n",
    "except ValidationError as err:\n",
    "    print(err)"
   ]
  },
  {
   "cell_type": "markdown",
   "metadata": {
    "slideshow": {
     "slide_type": "subslide"
    }
   },
   "source": [
    "## A Test Function\n",
    "\n",
    "I find it easier to wrap the exception raising API with a function that will return either the error description as a string or None as a sentinel for \"no errors.\""
   ]
  },
  {
   "cell_type": "code",
   "execution_count": 42,
   "metadata": {
    "slideshow": {
     "slide_type": "fragment"
    }
   },
   "outputs": [],
   "source": [
    "def not_valid(instance, schema):\n",
    "    try:\n",
    "        validate(instance, schema)\n",
    "        return None\n",
    "    except ValidationError as err:\n",
    "        return str(err)"
   ]
  },
  {
   "cell_type": "markdown",
   "metadata": {
    "slideshow": {
     "slide_type": "subslide"
    }
   },
   "source": [
    "The following is the pattern we will use for the remaining examples."
   ]
  },
  {
   "cell_type": "code",
   "execution_count": 43,
   "metadata": {
    "slideshow": {
     "slide_type": "fragment"
    }
   },
   "outputs": [
    {
     "name": "stdout",
     "output_type": "stream",
     "text": [
      "'Ooops' is not of type 'array'\n",
      "\n",
      "Failed validating 'type' in schema:\n",
      "    {'type': 'array'}\n",
      "\n",
      "On instance:\n",
      "    'Ooops'\n"
     ]
    }
   ],
   "source": [
    "# The \"walrus operator\" requires Python 3.8+\n",
    "if msg := not_valid(\"Ooops\", {\"type\": \"array\"}):\n",
    "    print(msg)"
   ]
  },
  {
   "cell_type": "markdown",
   "metadata": {
    "slideshow": {
     "slide_type": "slide"
    }
   },
   "source": [
    "# Checking Users\n",
    "\n",
    "The simple examples above do not check structured collections. All user JSON records are what JavaScript calls \"objects\" but Python calls dicts.   For a JSON object, we need to define both the type and the properties we expect it to have.  We may specify keys as required, but validation will not prohibit inclusion of \"cargo\" in keys we have not specified.  Very often this is exactly desired behavior; JSON often carries extra information that might be used by other consumers, but a particular consumer only needs to assure the parts it cares about are present."
   ]
  },
  {
   "cell_type": "code",
   "execution_count": 44,
   "metadata": {
    "slideshow": {
     "slide_type": "fragment"
    }
   },
   "outputs": [],
   "source": [
    "schema = json.loads(\"\"\"{\n",
    "  \"type\" : \"object\",\n",
    "  \"required\": [\"name\"],\n",
    "  \"properties\" : {\n",
    "    \"name\" : {\"type\" : \"string\"}\n",
    "    }\n",
    "}\"\"\")"
   ]
  },
  {
   "cell_type": "markdown",
   "metadata": {
    "slideshow": {
     "slide_type": "subslide"
    }
   },
   "source": [
    "Validate standard users."
   ]
  },
  {
   "cell_type": "code",
   "execution_count": 45,
   "metadata": {
    "slideshow": {
     "slide_type": "fragment"
    }
   },
   "outputs": [
    {
     "name": "stdout",
     "output_type": "stream",
     "text": [
      "User Guido van Rossum validates correctly\n",
      "User Roberto Sanchez validates correctly\n"
     ]
    }
   ],
   "source": [
    "for user in [guido, roberto]:\n",
    "    if msg := not_valid(user, schema):\n",
    "        print(msg, \"\\n--------------------\")\n",
    "    else:\n",
    "        print(f\"User {user['name']} validates correctly\")"
   ]
  },
  {
   "cell_type": "markdown",
   "metadata": {
    "slideshow": {
     "slide_type": "fragment"
    }
   },
   "source": [
    "The schema in this first pass suffices to check the constraint the server in the prior lesson imposed.  In fact, it checks slightly more in guaranteeing that the field \"name\" is a string."
   ]
  },
  {
   "cell_type": "code",
   "execution_count": 46,
   "metadata": {
    "slideshow": {
     "slide_type": "fragment"
    }
   },
   "outputs": [],
   "source": [
    "barbara_feldon = json.loads(\"\"\"{\n",
    "  \"name\": 99, \n",
    "  \"details\": {\"profession\": \"CONTROL Agent\"}\n",
    "}\"\"\")"
   ]
  },
  {
   "cell_type": "markdown",
   "metadata": {
    "slideshow": {
     "slide_type": "subslide"
    }
   },
   "source": [
    "We have two not-quite-conformant user JSON documents to validate. Each fails in a different way."
   ]
  },
  {
   "cell_type": "code",
   "execution_count": 47,
   "metadata": {
    "slideshow": {
     "slide_type": "fragment"
    }
   },
   "outputs": [
    {
     "name": "stdout",
     "output_type": "stream",
     "text": [
      "99 is not of type 'string'\n",
      "\n",
      "Failed validating 'type' in schema['properties']['name']:\n",
      "    {'type': 'string'}\n",
      "\n",
      "On instance['name']:\n",
      "    99 \n",
      "--------------------\n",
      "'name' is a required property\n",
      "\n",
      "Failed validating 'required' in schema:\n",
      "    {'properties': {'name': {'type': 'string'}},\n",
      "     'required': ['name'],\n",
      "     'type': 'object'}\n",
      "\n",
      "On instance:\n",
      "    {'password': 'P4cC!^*8chWz8', 'profession': 'Hacker'} \n",
      "--------------------\n"
     ]
    }
   ],
   "source": [
    "for user in [barbara_feldon, intruder]:\n",
    "    if msg := not_valid(user, schema):\n",
    "        print(msg, \"\\n--------------------\")\n",
    "    else:\n",
    "        print(f\"User {user['name']} validates correctly\")"
   ]
  },
  {
   "cell_type": "markdown",
   "metadata": {
    "slideshow": {
     "slide_type": "slide"
    }
   },
   "source": [
    "## Nested Structure\n",
    "\n",
    "A JSON Schema allows specification of nested structures, including type and cardinality, and also may optionally contain a number of annotations to describe the schema itself.  Let us add a few. In the expanded schema, we will require a password along with a name.  Notice that we describe several aspects of what the field \"lucky_numbers\" might look like, but we do not make it required.  Guido had none, but David did; both should validate."
   ]
  },
  {
   "cell_type": "code",
   "execution_count": 48,
   "metadata": {
    "slideshow": {
     "slide_type": "subslide"
    }
   },
   "outputs": [],
   "source": [
    "schema = json.loads(\"\"\"{\n",
    "  \"$schema\": \"http://json-schema.org/draft-07/schema#\",\n",
    "  \"$id\": \"http://example.com/user.schema.json\",\n",
    "  \"title\": \"User\",\n",
    "  \"description\": \"A User of Our Computer System\",\n",
    "  \"type\" : \"object\",\n",
    "  \"required\": [\"name\", \"password\"],\n",
    "  \"properties\" : {\n",
    "     \"name\" : {\"type\" : \"string\"},\n",
    "     \"password\": {\n",
    "         \"description\": \"Use special characters and mixed case\",\n",
    "         \"type\": \"string\"},\n",
    "     \"lucky_numbers\": {\n",
    "         \"description\": \"Up to 6 favorite numbers 1-100\",\n",
    "         \"type\": \"array\",\n",
    "         \"items\": {\n",
    "           \"type\": \"number\",\n",
    "           \"minimum\": 1,\n",
    "           \"maximum\": 100\n",
    "         },\n",
    "         \"uniqueItems\": true,\n",
    "         \"minItems\": 0,\n",
    "         \"maxItems\": 6\n",
    "    }\n",
    "  }\n",
    "}\"\"\")"
   ]
  },
  {
   "cell_type": "markdown",
   "metadata": {
    "slideshow": {
     "slide_type": "subslide"
    }
   },
   "source": [
    "Our existing users continue to validate without a problem."
   ]
  },
  {
   "cell_type": "code",
   "execution_count": 50,
   "metadata": {
    "slideshow": {
     "slide_type": "fragment"
    }
   },
   "outputs": [
    {
     "name": "stdout",
     "output_type": "stream",
     "text": [
      "User Guido van Rossum validates correctly\n",
      "User Roberto Sanchez validates correctly\n"
     ]
    }
   ],
   "source": [
    "for user in [guido, roberto]:\n",
    "    if msg := not_valid(user, schema):\n",
    "        print(msg, \"\\n--------------------\")\n",
    "    else:\n",
    "        print(f\"User {user['name']} validates correctly\")"
   ]
  },
  {
   "cell_type": "markdown",
   "metadata": {
    "slideshow": {
     "slide_type": "subslide"
    }
   },
   "source": [
    "There are a few ways that validation might fail with the expanded schema.  Obviously, \"password\" was added as a required field, but the pattern there is identical as with \"name\".  The field \"lucky_numbers\" has more going on.  It might be omitted altogether for a valid users, but if it is included, it can only be an array (Python list) of numbers between 1 and 100; moreover, it can only have from zero to six numbers that must be distinct."
   ]
  },
  {
   "cell_type": "code",
   "execution_count": 51,
   "metadata": {
    "slideshow": {
     "slide_type": "subslide"
    }
   },
   "outputs": [
    {
     "name": "stdout",
     "output_type": "stream",
     "text": [
      "'one' is not of type 'number'\n",
      "\n",
      "Failed validating 'type' in schema['properties']['lucky_numbers']['items']:\n",
      "    {'maximum': 100, 'minimum': 1, 'type': 'number'}\n",
      "\n",
      "On instance['lucky_numbers'][0]:\n",
      "    'one' \n",
      "--------------------\n"
     ]
    }
   ],
   "source": [
    "the_count = json.loads(\"\"\"{\n",
    "  \"name\": \"Count von Count\",\n",
    "  \"password\": \"fourbananas\",\n",
    "  \"lucky_numbers\": [\"one\", \"two\", \"three\"]\n",
    "}\"\"\")\n",
    "\n",
    "if msg := not_valid(the_count, schema):\n",
    "    print(msg, \"\\n--------------------\")\n",
    "else:\n",
    "    print(f\"User {user['name']} validates correctly\")"
   ]
  },
  {
   "cell_type": "code",
   "execution_count": 52,
   "metadata": {
    "slideshow": {
     "slide_type": "subslide"
    }
   },
   "outputs": [
    {
     "name": "stdout",
     "output_type": "stream",
     "text": [
      "[1, 2, 3, 4, 5, 6, 7, 8] is too long\n",
      "\n",
      "Failed validating 'maxItems' in schema['properties']['lucky_numbers']:\n",
      "    {'description': 'Up to 6 favorite numbers 1-100',\n",
      "     'items': {'maximum': 100, 'minimum': 1, 'type': 'number'},\n",
      "     'maxItems': 6,\n",
      "     'minItems': 0,\n",
      "     'type': 'array',\n",
      "     'uniqueItems': True}\n",
      "\n",
      "On instance['lucky_numbers']:\n",
      "    [1, 2, 3, 4, 5, 6, 7, 8] \n",
      "--------------------\n"
     ]
    }
   ],
   "source": [
    "cantor = json.loads(\"\"\"{\n",
    "  \"name\": \"Georg Cantor\",\n",
    "  \"password\": \"omega_aleph\",\n",
    "  \"lucky_numbers\": [1, 2, 3, 4, 5, 6, 7, 8]\n",
    "}\"\"\")\n",
    "\n",
    "if msg := not_valid(cantor, schema):\n",
    "    print(msg, \"\\n--------------------\")\n",
    "else:\n",
    "    print(f\"User {user['name']} validates correctly\")"
   ]
  },
  {
   "cell_type": "code",
   "execution_count": 53,
   "metadata": {
    "slideshow": {
     "slide_type": "subslide"
    }
   },
   "outputs": [
    {
     "name": "stdout",
     "output_type": "stream",
     "text": [
      "[9, 9, 9] has non-unique elements\n",
      "\n",
      "Failed validating 'uniqueItems' in schema['properties']['lucky_numbers']:\n",
      "    {'description': 'Up to 6 favorite numbers 1-100',\n",
      "     'items': {'maximum': 100, 'minimum': 1, 'type': 'number'},\n",
      "     'maxItems': 6,\n",
      "     'minItems': 0,\n",
      "     'type': 'array',\n",
      "     'uniqueItems': True}\n",
      "\n",
      "On instance['lucky_numbers']:\n",
      "    [9, 9, 9] \n",
      "--------------------\n"
     ]
    }
   ],
   "source": [
    "revolution_9 = json.loads(\"\"\"{\n",
    "  \"name\": \"Yoko Ono\",\n",
    "  \"password\": \"grapefruit\",\n",
    "  \"lucky_numbers\": [9, 9, 9]\n",
    "}\"\"\")\n",
    "\n",
    "if msg := not_valid(revolution_9, schema):\n",
    "    print(msg, \"\\n--------------------\")\n",
    "else:\n",
    "    print(f\"User {user['name']} validates correctly\")"
   ]
  },
  {
   "cell_type": "code",
   "execution_count": 54,
   "metadata": {
    "slideshow": {
     "slide_type": "subslide"
    }
   },
   "outputs": [
    {
     "name": "stdout",
     "output_type": "stream",
     "text": [
      "1000000 is greater than the maximum of 100\n",
      "\n",
      "Failed validating 'maximum' in schema['properties']['lucky_numbers']['items']:\n",
      "    {'maximum': 100, 'minimum': 1, 'type': 'number'}\n",
      "\n",
      "On instance['lucky_numbers'][0]:\n",
      "    1000000 \n",
      "--------------------\n"
     ]
    }
   ],
   "source": [
    "go_big = json.loads(\"\"\"{\n",
    "  \"name\": \"Leslie Knope\",\n",
    "  \"password\": \"ilovepawnee\",\n",
    "  \"lucky_numbers\": [1000000, 200000]\n",
    "}\"\"\")\n",
    "\n",
    "if msg := not_valid(go_big, schema):\n",
    "    print(msg, \"\\n--------------------\")\n",
    "else:\n",
    "    print(f\"User {user['name']} validates correctly\")"
   ]
  },
  {
   "cell_type": "markdown",
   "metadata": {},
   "source": [
    "-------------\n",
    "Materials licensed under [CC BY-NC-ND 4.0](https://creativecommons.org/licenses/by-nc-nd/4.0/) by the authors"
   ]
  }
 ],
 "metadata": {
  "celltoolbar": "Slideshow",
  "kernelspec": {
   "display_name": "Python 3 (ipykernel)",
   "language": "python",
   "name": "python3"
  },
  "language_info": {
   "codemirror_mode": {
    "name": "ipython",
    "version": 3
   },
   "file_extension": ".py",
   "mimetype": "text/x-python",
   "name": "python",
   "nbconvert_exporter": "python",
   "pygments_lexer": "ipython3",
   "version": "3.10.7"
  }
 },
 "nbformat": 4,
 "nbformat_minor": 4
}
