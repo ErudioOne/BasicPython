{
 "cells": [
  {
   "cell_type": "markdown",
   "id": "3e5dcd14-01f7-4dd2-b22b-1159c8c10fe6",
   "metadata": {},
   "source": [
    "![Erudio logo](img/erudio-logo-small.png)"
   ]
  },
  {
   "cell_type": "markdown",
   "id": "bde87803",
   "metadata": {},
   "source": [
    "Data Structures are a way of organizing data so that it can be accessed more efficiently depending upon the situation. Data Structures are fundamentals of any programming language around which a program is built. Python provides a slightly easier path to learn the fundamentals of these data structures in a simpler way as compared to other programming languages."
   ]
  },
  {
   "cell_type": "markdown",
   "id": "2d4d2b2e-ab75-4f19-ba80-469ba1e7ca50",
   "metadata": {},
   "source": [
    "# Built-In Data Structures"
   ]
  },
  {
   "cell_type": "markdown",
   "id": "50e8f7c6-69ac-40eb-a648-22cd5cbd6366",
   "metadata": {},
   "source": [
    "Data Structures can be either built in or uder-defined (a more advanced set of data structures). The complete collection of *data structures* in Python's `__builtins__` module includes `list`, `dict`, `set`, `frozenset`, `tuple`, `bytearray`, and perhaps `str`, `bytes`, and `complex`. The builtin types gradually shades from *data structures* into *data types*.  In my mind, `int`, `float`, and `bool` fall on the latter side of that divide, but the last three \"structures\" listed are somewhere in the middle.\n",
    "\n",
    "We need not draw too fine a point with this distinction since every object in Python has *methods* and *attributes*.  Some of these objects still feel *scalar* in containing *a single value* while others feel like they are composed of many values, with specific relationships among those values also implied."
   ]
  },
  {
   "cell_type": "markdown",
   "id": "01641706",
   "metadata": {},
   "source": [
    "![DataStructures](img/datastructures.png)"
   ]
  },
  {
   "cell_type": "markdown",
   "id": "23382064-e52d-4c80-911a-dcd254c8dc25",
   "metadata": {},
   "source": [
    "Many additional data structures are available in the `collections` module, in numerous other Python standard library modules, and in numerous third-party libraries including NumPy and Pandas. We will be discussing advanced data structures in the next lesson. "
   ]
  },
  {
   "cell_type": "markdown",
   "id": "e9ad61da-398b-4671-bf88-df5070ef4b27",
   "metadata": {},
   "source": [
    "## Mutable and Immutable Data Structures\n",
    "\n",
    "One of the important distinctions among Python data structures is their mutability.  For some structures, a user is able to change the values contained within the structure after creation, for others a user can only create new objects (but the new objects might be based on prior ones).\n",
    "\n",
    "Of the builtins, `list`, `dict`, `set`, and `bytearray` are mutable.  The remainder are immutable.  Importantly, NumPy arrays and Pandas DataFrames and Series that are discussed later in this course are mutable data structures."
   ]
  },
  {
   "cell_type": "markdown",
   "id": "bfcc6e70-2b11-41c7-8496-4d65cdbf7653",
   "metadata": {},
   "source": [
    "### List versus tuple\n",
    "\n",
    "In some sense a list and a tuple are mutable and immutable versions of the same data structure.  Both allow numeric indexing, slicing, iteration, and share a few utility methods.  Specifically, both data structures are ordered collections of arbitrary Python objects, with fixed length, and $O(1)$ access time for elements by index (regardless of how large the structures are)."
   ]
  },
  {
   "cell_type": "code",
   "execution_count": 2,
   "id": "9f72f87f-3c24-42a1-bd91-d50b4084916d",
   "metadata": {},
   "outputs": [
    {
     "data": {
      "text/plain": [
       "(5, 5)"
      ]
     },
     "execution_count": 2,
     "metadata": {},
     "output_type": "execute_result"
    }
   ],
   "source": [
    "mylist = [3, 1, 4, 1, 5]\n",
    "mytup = (3, 1, 4, 1, 5)\n",
    "len(mylist), len(mytup)"
   ]
  },
  {
   "cell_type": "code",
   "execution_count": 3,
   "id": "631dafeb-0cda-4df3-a938-e97c972d5144",
   "metadata": {},
   "outputs": [
    {
     "name": "stdout",
     "output_type": "stream",
     "text": [
      "[1, 4, 1]\n",
      "(1, 4, 1)\n"
     ]
    }
   ],
   "source": [
    "print(mylist[1:4])\n",
    "print(mytup[1:4])"
   ]
  },
  {
   "cell_type": "code",
   "execution_count": 4,
   "id": "4f4fad6e-4cb8-46db-8ca0-446d5fc864fd",
   "metadata": {},
   "outputs": [
    {
     "name": "stdout",
     "output_type": "stream",
     "text": [
      "14 14\n"
     ]
    }
   ],
   "source": [
    "sum_of_digitsL = 0\n",
    "for digit in mylist:\n",
    "    sum_of_digitsL += digit\n",
    "\n",
    "sum_of_digitsT = 0\n",
    "for digit in mytup:\n",
    "    sum_of_digitsT += digit\n",
    "\n",
    "print(sum_of_digitsL, sum_of_digitsT)"
   ]
  },
  {
   "cell_type": "code",
   "execution_count": 5,
   "id": "c75fdf47-ae1a-45be-bf69-3b7c973034e5",
   "metadata": {},
   "outputs": [
    {
     "data": {
      "text/plain": [
       "(2, 2)"
      ]
     },
     "execution_count": 5,
     "metadata": {},
     "output_type": "execute_result"
    }
   ],
   "source": [
    "mylist.count(1), mytup.count(1)"
   ]
  },
  {
   "cell_type": "markdown",
   "id": "aa6a6689-479b-4d97-ae4d-d12c5ee2437c",
   "metadata": {},
   "source": [
    "---\n",
    "\n",
    "Despite the similarities in their interfaces, tuples are usually data we think of as \"records\" while lists are usually data we think of as \"sequential items of similar data.\"  A list-of-tuples is a common compount data structure, but in later lessons we see how data frames often serve a similar purpose more powerfully."
   ]
  },
  {
   "cell_type": "markdown",
   "id": "82e8e442-0a24-4154-9dc3-51585b5280b9",
   "metadata": {},
   "source": [
    "Lists have methods like `.append()`, `.extend()`, `.remove()` and the statement `del` to modify their items, whereas tuples do not."
   ]
  },
  {
   "cell_type": "code",
   "execution_count": 6,
   "id": "2fad214f-adaa-4217-9b1d-e35abd20577f",
   "metadata": {},
   "outputs": [
    {
     "data": {
      "text/plain": [
       "[3, 1, 4, 1, 5, 9, 2, 6, 5, 3]"
      ]
     },
     "execution_count": 6,
     "metadata": {},
     "output_type": "execute_result"
    }
   ],
   "source": [
    "mylist.extend([9, 2, 6, 5, 3])\n",
    "mylist"
   ]
  },
  {
   "cell_type": "code",
   "execution_count": 7,
   "id": "a5837759-de67-4b3c-b5ac-bf53e4a6c60e",
   "metadata": {},
   "outputs": [
    {
     "data": {
      "text/plain": [
       "[1, 4, 1, 5, 9, 2, 6, 5, 3]"
      ]
     },
     "execution_count": 7,
     "metadata": {},
     "output_type": "execute_result"
    }
   ],
   "source": [
    "del mylist[0]\n",
    "mylist"
   ]
  },
  {
   "cell_type": "markdown",
   "id": "de0b886e-8817-4418-9d55-8664df88f6b0",
   "metadata": {},
   "source": [
    "It's possible to construct new tuples based on previous ones, but the point to keep in mind is that they are distinct objects, allocated elsewhere in memory; lists, in contrast can change while remaining the same object.\n",
    "Tuples are unchangeable, so you cannot remove items from it, but you can delete the tuple completely."
   ]
  },
  {
   "cell_type": "code",
   "execution_count": 10,
   "id": "8882d518-ab60-4088-a8a3-2df5e4070323",
   "metadata": {},
   "outputs": [],
   "source": [
    "del mytup[0] #Will throw an error comment this to run the below line \n",
    "\n",
    "# del mytup # This will work. "
   ]
  },
  {
   "cell_type": "code",
   "execution_count": 11,
   "id": "db8bcd4e-0688-47ba-9f9c-38d789afbdf1",
   "metadata": {},
   "outputs": [
    {
     "data": {
      "text/plain": [
       "(1, 4, 1, 5, 9, 2, 6, 5, 3)"
      ]
     },
     "execution_count": 11,
     "metadata": {},
     "output_type": "execute_result"
    }
   ],
   "source": [
    "mytup = (3, 1, 4, 1, 5)\n",
    "newtup = mytup[1:] + (9, 2, 6, 5, 3)\n",
    "newtup"
   ]
  },
  {
   "cell_type": "markdown",
   "id": "1a053fec-8346-4090-9eec-1587dfa068db",
   "metadata": {},
   "source": [
    "### Dict"
   ]
  },
  {
   "cell_type": "markdown",
   "id": "78598e76-afd5-4e4f-9bd5-f652cb8aaa26",
   "metadata": {},
   "source": [
    "A dictionary is a mapping between (hashable) keys and arbitrary Python objects.  As you dig further into Python, you'll find that almost everything is built around dictionaries (such as classes, modules, packages).  `dict` is somewhat unusual in the Python menagerie in not having a standard immutable twin.\n",
    "\n",
    "Like most Python objects, `dict` comes with an assortment of useful methods, but also with some convenient syntax that is part of the language itself.\n",
    "\n",
    "![dict](img/dict.png)"
   ]
  },
  {
   "cell_type": "code",
   "execution_count": 12,
   "id": "ae389e2c-f4ee-45f8-ae26-b267845cc071",
   "metadata": {},
   "outputs": [
    {
     "data": {
      "text/plain": [
       "dict_values([3.141592653589793, 2.718281828459045])"
      ]
     },
     "execution_count": 12,
     "metadata": {},
     "output_type": "execute_result"
    }
   ],
   "source": [
    "math_constants = {\"pi\": 3.141592653589793, \"e\": 2.718281828459045}\n",
    "math_constants.values()"
   ]
  },
  {
   "cell_type": "code",
   "execution_count": 13,
   "id": "71db10a4-5ae7-4db0-acc7-43a6d27ca634",
   "metadata": {},
   "outputs": [
    {
     "data": {
      "text/plain": [
       "dict_items([('pi', 3.141592653589793), ('e', 2.718281828459045), ('phi', 1.618033988749895)])"
      ]
     },
     "execution_count": 13,
     "metadata": {},
     "output_type": "execute_result"
    }
   ],
   "source": [
    "math_constants['phi'] = (1 + 5**0.5) / 2\n",
    "math_constants.items()"
   ]
  },
  {
   "cell_type": "code",
   "execution_count": 14,
   "id": "36143a13-3ec5-4f58-8083-540f1f01534e",
   "metadata": {},
   "outputs": [
    {
     "data": {
      "text/plain": [
       "{'pi': 3.141592653589793, 'e': 2.718281828459045, 'phi': 1.618033988749895}"
      ]
     },
     "execution_count": 14,
     "metadata": {},
     "output_type": "execute_result"
    }
   ],
   "source": [
    "math_constants"
   ]
  },
  {
   "cell_type": "code",
   "execution_count": 15,
   "id": "7339c300-2182-4758-bd06-db7d4b544cd5",
   "metadata": {},
   "outputs": [
    {
     "data": {
      "text/plain": [
       "dict_items([('e', 2.718281828459045), ('phi', 1.618033988749895)])"
      ]
     },
     "execution_count": 15,
     "metadata": {},
     "output_type": "execute_result"
    }
   ],
   "source": [
    "del math_constants['pi']\n",
    "math_constants.items()"
   ]
  },
  {
   "cell_type": "code",
   "execution_count": 16,
   "id": "d7aa55a3-c448-4a41-94b6-638e32f1c119",
   "metadata": {},
   "outputs": [
    {
     "data": {
      "text/plain": [
       "{'numbers': {'e': 2.718281828459045, 'phi': 1.618033988749895},\n",
       " 'nations': ['Indonesia', 'Brasil', 'Ghana'],\n",
       " 'version': '3.10.7 (tags/v3.10.7:6cc6b13, Sep  5 2022, 14:08:36) [MSC v.1933 64 bit (AMD64)]'}"
      ]
     },
     "execution_count": 16,
     "metadata": {},
     "output_type": "execute_result"
    }
   ],
   "source": [
    "import sys\n",
    "data = {\"numbers\": math_constants, \n",
    "        \"nations\": [\"Indonesia\", \"Brasil\", \"Ghana\"],\n",
    "        \"version\": sys.version}\n",
    "data"
   ]
  },
  {
   "cell_type": "code",
   "execution_count": 17,
   "id": "c02fbfba-5f39-43f0-aaa2-06f47f07a5c5",
   "metadata": {},
   "outputs": [
    {
     "data": {
      "text/plain": [
       "[('nations', ['Indonesia', 'Brasil', 'Ghana']),\n",
       " ('numbers', {'e': 2.718281828459045, 'phi': 1.618033988749895}),\n",
       " ('version',\n",
       "  '3.10.7 (tags/v3.10.7:6cc6b13, Sep  5 2022, 14:08:36) [MSC v.1933 64 bit (AMD64)]')]"
      ]
     },
     "execution_count": 17,
     "metadata": {},
     "output_type": "execute_result"
    }
   ],
   "source": [
    "sorted(data.items())"
   ]
  },
  {
   "cell_type": "markdown",
   "id": "e61537e3-b0e0-43f9-b48d-d35e6921f966",
   "metadata": {},
   "source": [
    "Notice where this next cell goes wrong (*immutable* and *hashable* aren't exactly the same thing, but at first pass it's fine to pretend they are):"
   ]
  },
  {
   "cell_type": "code",
   "execution_count": 18,
   "id": "e7b3b3bb-b1f1-4b94-90b5-2cc08cc8cc83",
   "metadata": {},
   "outputs": [
    {
     "ename": "TypeError",
     "evalue": "unhashable type: 'dict'",
     "output_type": "error",
     "traceback": [
      "\u001b[1;31m---------------------------------------------------------------------------\u001b[0m",
      "\u001b[1;31mTypeError\u001b[0m                                 Traceback (most recent call last)",
      "Cell \u001b[1;32mIn [18], line 1\u001b[0m\n\u001b[1;32m----> 1\u001b[0m {math_constants: \u001b[38;5;124m\"\u001b[39m\u001b[38;5;124mnumbers\u001b[39m\u001b[38;5;124m\"\u001b[39m, sys\u001b[38;5;241m.\u001b[39mversion: \u001b[38;5;124m\"\u001b[39m\u001b[38;5;124mversion\u001b[39m\u001b[38;5;124m\"\u001b[39m, [\u001b[38;5;124m\"\u001b[39m\u001b[38;5;124mIndonesia\u001b[39m\u001b[38;5;124m\"\u001b[39m, \u001b[38;5;124m\"\u001b[39m\u001b[38;5;124mBrasil\u001b[39m\u001b[38;5;124m\"\u001b[39m, \u001b[38;5;124m\"\u001b[39m\u001b[38;5;124mGhana\u001b[39m\u001b[38;5;124m\"\u001b[39m]: \u001b[38;5;124m\"\u001b[39m\u001b[38;5;124mnations\u001b[39m\u001b[38;5;124m\"\u001b[39m}\n",
      "\u001b[1;31mTypeError\u001b[0m: unhashable type: 'dict'"
     ]
    }
   ],
   "source": [
    "{math_constants: \"numbers\", sys.version: \"version\", [\"Indonesia\", \"Brasil\", \"Ghana\"]: \"nations\"}"
   ]
  },
  {
   "cell_type": "markdown",
   "id": "51294222",
   "metadata": {},
   "source": [
    "## Why did the above cell error out? Aren't lists supported as a valid type for dictionary keys?\n",
    "\n",
    "Dict keys need to be hashable, and lists are mutable. Hashing mutable objects is a bad idea because hash values should be computed on the basis of instance attributes. Any mutable Python object doesn't have a consistent hash value over its lifetime, and so can't be used as a key. \n",
    "List can't be a key, because elements can be added to or removed from a list. Likewise, a dictionary itself can't be a key for the same reason\n",
    "\n",
    "**It's not impossible, there are definitelty sneaky ways to break this but it's not recommended.**"
   ]
  },
  {
   "cell_type": "markdown",
   "id": "3a038896-6e93-4a4f-812e-77f00b496ba3",
   "metadata": {},
   "source": [
    "### Set versus frozenset\n",
    "\n",
    "A parallel similar to that between `list` and `tuple` exists between `set` and `frozenset`. However, in the case of this pair, `set` is extremely commonly used, and `frozenset` somewhat rarely.\n",
    "\n",
    "As with dictionary keys, elements of sets must be hashable.  One of the uncommon uses of `frozenset`, in fact, is to allow a kid of set to be an element within another set.\n",
    "\n",
    "A set (frozen or mutable) contains a collection of Python objects, but without regard to their order or frequency.  Any given object simply is or is not in a set."
   ]
  },
  {
   "cell_type": "markdown",
   "id": "6723cb2c-1110-4e29-883e-cd50af4282b5",
   "metadata": {},
   "source": [
    "While lack of order or count is disadvantageous for some purposes, it is a large benefit in that checking for membership—and also adding an element—is an $O(1)$ operation.  For many operations, including the basic *set theoretic* operations one would expect, this efficiency is a very big win.  Let's define a two sets of paint colors taken from a store catalog."
   ]
  },
  {
   "cell_type": "code",
   "execution_count": 26,
   "id": "fbdf602e-40ca-4700-89fa-fd3f2f8b1b15",
   "metadata": {},
   "outputs": [],
   "source": [
    "wall_colors = {\n",
    "    \"Snow drift\", \n",
    "    \"Wheat field\", \n",
    "    \"Sage leaf\",\n",
    "    \"Rawhide\",\n",
    "    \"Ash gray\",\n",
    "    \"Slate stone\",\n",
    "    \"Brick red\",\n",
    "}\n",
    "trim_colors = {\n",
    "    \"Brick red\",\n",
    "    \"Ash gray\",\n",
    "    \"Grass green\",\n",
    "    \"River blue\",\n",
    "}\n",
    "outdoor_colors = {\n",
    "    \"Brick red\",\n",
    "    \"Sage leaf\",\n",
    "    \"Sunny day\",\n",
    "    \"Sky blue\",\n",
    "    \"Wheat field\",\n",
    "}"
   ]
  },
  {
   "cell_type": "markdown",
   "id": "990bbc6a-bc76-49ce-aa16-3e16380e3dea",
   "metadata": {},
   "source": [
    "We can ask membership questions, but not only of one set, but also of a union. For example: "
   ]
  },
  {
   "cell_type": "code",
   "execution_count": 27,
   "id": "4f3acb97-86ac-45e7-b406-4f366530226a",
   "metadata": {},
   "outputs": [
    {
     "data": {
      "text/plain": [
       "False"
      ]
     },
     "execution_count": 27,
     "metadata": {},
     "output_type": "execute_result"
    }
   ],
   "source": [
    "\"Pebble path\" in (wall_colors | trim_colors)"
   ]
  },
  {
   "cell_type": "code",
   "execution_count": 28,
   "id": "30dfeb36-f685-4ad7-b8f7-532619dea0bd",
   "metadata": {},
   "outputs": [
    {
     "data": {
      "text/plain": [
       "True"
      ]
     },
     "execution_count": 28,
     "metadata": {},
     "output_type": "execute_result"
    }
   ],
   "source": [
    "\"Rawhide\" in (wall_colors | trim_colors)"
   ]
  },
  {
   "cell_type": "markdown",
   "id": "bec57403-911e-4650-9b94-bdc293cc4311",
   "metadata": {},
   "source": [
    "Perhaps we'd like to ask \n",
    "for the intersection of the color sets:"
   ]
  },
  {
   "cell_type": "code",
   "execution_count": 29,
   "id": "8f683a40-4336-4f21-bfcb-4b8ab5ee1c62",
   "metadata": {},
   "outputs": [
    {
     "data": {
      "text/plain": [
       "{'Ash gray', 'Brick red'}"
      ]
     },
     "execution_count": 29,
     "metadata": {},
     "output_type": "execute_result"
    }
   ],
   "source": [
    "wall_colors & trim_colors"
   ]
  },
  {
   "cell_type": "markdown",
   "id": "11ca7023-f7f6-445f-9cfd-ad3abb0d970d",
   "metadata": {},
   "source": [
    "Conversely, we might ask which trim colors are not suitable for wall colors:"
   ]
  },
  {
   "cell_type": "code",
   "execution_count": 30,
   "id": "a2046095-e99a-4e23-a798-23156e973a5d",
   "metadata": {},
   "outputs": [
    {
     "data": {
      "text/plain": [
       "{'Grass green', 'River blue'}"
      ]
     },
     "execution_count": 30,
     "metadata": {},
     "output_type": "execute_result"
    }
   ],
   "source": [
    "trim_colors - wall_colors"
   ]
  },
  {
   "cell_type": "markdown",
   "id": "5b229ac6-ede4-4b40-9bb5-f95c109c8d77",
   "metadata": {},
   "source": [
    "---\n",
    "\n",
    "If we try to put sets inside sets, we get an exception."
   ]
  },
  {
   "cell_type": "code",
   "execution_count": 31,
   "id": "ed115d6b-1bde-412b-abe9-d06938050004",
   "metadata": {},
   "outputs": [
    {
     "ename": "TypeError",
     "evalue": "unhashable type: 'set'",
     "output_type": "error",
     "traceback": [
      "\u001b[1;31m---------------------------------------------------------------------------\u001b[0m",
      "\u001b[1;31mTypeError\u001b[0m                                 Traceback (most recent call last)",
      "Cell \u001b[1;32mIn [31], line 1\u001b[0m\n\u001b[1;32m----> 1\u001b[0m sets_of_colors \u001b[38;5;241m=\u001b[39m {wall_colors, trim_colors, outdoor_colors}\n",
      "\u001b[1;31mTypeError\u001b[0m: unhashable type: 'set'"
     ]
    }
   ],
   "source": [
    "sets_of_colors = {wall_colors, trim_colors, outdoor_colors}"
   ]
  },
  {
   "cell_type": "markdown",
   "id": "209b74ea",
   "metadata": {},
   "source": [
    "---\n",
    "\n",
    "But we could group frozensets this way"
   ]
  },
  {
   "cell_type": "code",
   "execution_count": 32,
   "id": "40b23119-9edc-4a6c-970f-5c9268b064ce",
   "metadata": {},
   "outputs": [
    {
     "data": {
      "text/plain": [
       "{frozenset({'Brick red', 'Sage leaf', 'Sky blue', 'Sunny day', 'Wheat field'}),\n",
       " frozenset({'Ash gray',\n",
       "            'Brick red',\n",
       "            'Rawhide',\n",
       "            'Sage leaf',\n",
       "            'Slate stone',\n",
       "            'Snow drift',\n",
       "            'Wheat field'}),\n",
       " frozenset({'Ash gray', 'Brick red', 'Grass green', 'River blue'})}"
      ]
     },
     "execution_count": 32,
     "metadata": {},
     "output_type": "execute_result"
    }
   ],
   "source": [
    "sets_of_colors = {frozenset(wall_colors), frozenset(trim_colors), frozenset(outdoor_colors)}\n",
    "sets_of_colors"
   ]
  },
  {
   "cell_type": "markdown",
   "id": "55c95587-e2c1-45db-a9f9-f98adc7a3e02",
   "metadata": {},
   "source": [
    "Simiarly, these frozensets could serve as dictionary keys, for example, associating sets of colors with the various paint stores that sell them."
   ]
  },
  {
   "cell_type": "markdown",
   "id": "ce61d6c3-834b-4938-873e-e22a32f6f7d2",
   "metadata": {},
   "source": [
    "### Strings, bytes, and bytearrays\n",
    "\n",
    "Python does not have a concept of a \"mutable string\"; if you really wanted such a thing, you might use a list of characters (each of which is itself a string), and join them together when you needed a string.  You need to do this only uncommonly.  Operations like \"adding\" strings work fine, but they do so by creating brand new string objects."
   ]
  },
  {
   "cell_type": "code",
   "execution_count": 33,
   "id": "fde74946-1ed5-4f94-80ed-413abd91eb89",
   "metadata": {},
   "outputs": [
    {
     "data": {
      "text/plain": [
       "'τέχνη επιστήμη γνσις'"
      ]
     },
     "execution_count": 33,
     "metadata": {},
     "output_type": "execute_result"
    }
   ],
   "source": [
    "techne_episteme_gnosis = 'τέχνη ' + 'επιστήμη ' + 'γνσις'\n",
    "#\"τέχνη \" + \"ἐπιστήμη \" + \"γνῶσις\"\n",
    "techne_episteme_gnosis"
   ]
  },
  {
   "cell_type": "markdown",
   "id": "3485446d-7877-41ab-bfe0-c44ad2ef63bd",
   "metadata": {},
   "source": [
    "Each of the shorter strings (Greek words for kinds of *knowledge* in this case) are immutable, but the objects are also short-lived because they are never individually bound to any Python names.\n",
    "\n",
    "The crucial thing to understand is that immutable strings consist of Unicode code point and have a variety of useful methods."
   ]
  },
  {
   "cell_type": "code",
   "execution_count": 34,
   "id": "37cbaea6-04d2-405f-a72f-9ef46cd72a75",
   "metadata": {},
   "outputs": [
    {
     "data": {
      "text/plain": [
       "'ΤΈΧΝΗ ΕΠΙΣΤΉΜΗ ΓΝΣΙΣ'"
      ]
     },
     "execution_count": 34,
     "metadata": {},
     "output_type": "execute_result"
    }
   ],
   "source": [
    "techne_episteme_gnosis.upper()"
   ]
  },
  {
   "cell_type": "code",
   "execution_count": 35,
   "id": "92a7d6f8-2d51-4823-b8fc-1c788a0beb39",
   "metadata": {},
   "outputs": [
    {
     "data": {
      "text/plain": [
       "['τέχνη', 'επιστήμη', 'γνσις']"
      ]
     },
     "execution_count": 35,
     "metadata": {},
     "output_type": "execute_result"
    }
   ],
   "source": [
    "techne_episteme_gnosis.split()"
   ]
  },
  {
   "cell_type": "code",
   "execution_count": 36,
   "id": "28ba31ac-63f5-478c-a582-5e96684b5991",
   "metadata": {},
   "outputs": [
    {
     "data": {
      "text/plain": [
       "'επιστήμη'"
      ]
     },
     "execution_count": 36,
     "metadata": {},
     "output_type": "execute_result"
    }
   ],
   "source": [
    "techne_episteme_gnosis[6:14]"
   ]
  },
  {
   "cell_type": "markdown",
   "id": "45343d83-a143-4b7d-bcd3-f421efec10d4",
   "metadata": {},
   "source": [
    "There is, however, no singular way of representing a string as bytes, rather we need to **encode** it by get bytes."
   ]
  },
  {
   "cell_type": "code",
   "execution_count": 37,
   "id": "8269d9ba-2dd6-4d62-b212-12361e033a18",
   "metadata": {},
   "outputs": [
    {
     "data": {
      "text/plain": [
       "b'\\xcf\\x84\\xce\\xad\\xcf\\x87\\xce\\xbd\\xce\\xb7 \\xce\\xb5\\xcf\\x80\\xce\\xb9\\xcf\\x83\\xcf\\x84\\xce\\xae\\xce\\xbc\\xce\\xb7 \\xce\\xb3\\xce\\xbd\\xcf\\x83\\xce\\xb9\\xcf\\x82'"
      ]
     },
     "execution_count": 37,
     "metadata": {},
     "output_type": "execute_result"
    }
   ],
   "source": [
    "techne_episteme_gnosis.encode('utf-8')"
   ]
  },
  {
   "cell_type": "code",
   "execution_count": 38,
   "id": "69bc4877-17ba-4951-b92c-c9316e7ba130",
   "metadata": {},
   "outputs": [
    {
     "data": {
      "text/plain": [
       "b'\\xf4\\xdd\\xf7\\xed\\xe7 \\xe5\\xf0\\xe9\\xf3\\xf4\\xde\\xec\\xe7 \\xe3\\xed\\xf3\\xe9\\xf2'"
      ]
     },
     "execution_count": 38,
     "metadata": {},
     "output_type": "execute_result"
    }
   ],
   "source": [
    "techne_episteme_gnosis.encode('iso-8859-7')  # older 8-bit ASCII extension for Greek"
   ]
  },
  {
   "cell_type": "markdown",
   "id": "682568fe-41a6-41ca-9b44-27db38771e1f",
   "metadata": {},
   "source": [
    "Absent specifying something else, encoding and decoding are assumed to be UTF-8, and you should avoid using other encodings unless you have a *very good reason*."
   ]
  },
  {
   "cell_type": "code",
   "execution_count": 39,
   "id": "2fb19287-1310-4b35-b30a-f49f737c05e9",
   "metadata": {},
   "outputs": [
    {
     "data": {
      "text/plain": [
       "'τέχνη επιστήμη γνσις'"
      ]
     },
     "execution_count": 39,
     "metadata": {},
     "output_type": "execute_result"
    }
   ],
   "source": [
    "techne_episteme_gnosis.encode().decode()"
   ]
  },
  {
   "cell_type": "markdown",
   "id": "d6d8a23d-4614-4998-8257-122ae2cae8fb",
   "metadata": {},
   "source": [
    "\"Enhanced ASCII\" encodings are fragile. For example, encoding our Greek clause using such an encoding could be followed by later decoding it as incompatible Cyrillic (which is a silent failure, but produces gibberish—i.e. data corruption—in the new alphabet).  "
   ]
  },
  {
   "cell_type": "code",
   "execution_count": 40,
   "id": "955fa6d4-bd15-4f7b-800e-5a8b5bae1aa5",
   "metadata": {},
   "outputs": [
    {
     "data": {
      "text/plain": [
       "'єнїэч х№щѓєоьч уэѓщђ'"
      ]
     },
     "execution_count": 40,
     "metadata": {},
     "output_type": "execute_result"
    }
   ],
   "source": [
    "techne_episteme_gnosis.encode('iso-8859-7').decode('iso-8859-5')"
   ]
  },
  {
   "cell_type": "markdown",
   "id": "d00c1462-47e6-4e73-a1e7-3f344b880371",
   "metadata": {},
   "source": [
    "Failing quickly and noisily is nearly always better, since you know to fix the problem"
   ]
  },
  {
   "cell_type": "code",
   "execution_count": 41,
   "id": "b2517736-fb3a-42f1-b6f4-32da0e4a4bbc",
   "metadata": {},
   "outputs": [
    {
     "ename": "UnicodeDecodeError",
     "evalue": "'utf-8' codec can't decode byte 0xf4 in position 0: invalid continuation byte",
     "output_type": "error",
     "traceback": [
      "\u001b[1;31m---------------------------------------------------------------------------\u001b[0m",
      "\u001b[1;31mUnicodeDecodeError\u001b[0m                        Traceback (most recent call last)",
      "Cell \u001b[1;32mIn [41], line 1\u001b[0m\n\u001b[1;32m----> 1\u001b[0m \u001b[43mtechne_episteme_gnosis\u001b[49m\u001b[38;5;241;43m.\u001b[39;49m\u001b[43mencode\u001b[49m\u001b[43m(\u001b[49m\u001b[38;5;124;43m'\u001b[39;49m\u001b[38;5;124;43miso-8859-7\u001b[39;49m\u001b[38;5;124;43m'\u001b[39;49m\u001b[43m)\u001b[49m\u001b[38;5;241;43m.\u001b[39;49m\u001b[43mdecode\u001b[49m\u001b[43m(\u001b[49m\u001b[43m)\u001b[49m\n",
      "\u001b[1;31mUnicodeDecodeError\u001b[0m: 'utf-8' codec can't decode byte 0xf4 in position 0: invalid continuation byte"
     ]
    }
   ],
   "source": [
    "techne_episteme_gnosis.encode('iso-8859-7').decode()"
   ]
  },
  {
   "cell_type": "markdown",
   "id": "1a062b82-5609-44ac-b34e-670a1a95334c",
   "metadata": {},
   "source": [
    "---\n",
    "\n",
    "`bytes` and `bytearray` simply make no claim to be strings at all.  However, because many wire and on-disk protocols nonetheless intend bytes as strings, they have the `.decode()` method that we have already seen.  That method will fail, of course, when bytes are truly not interpretable as strings.  `bytes` also share many of the useful methods of `str` as a convenience.\n",
    "\n",
    "Working directly with bytes as such is very often useful.  `bytes` are immutable, but `bytearray` is mutable.  Let's look at a file in the `data/` directory to illustrate this.  Students on Windows systems may not have the `file` utility, but I'll illustrate the file type detected here."
   ]
  },
  {
   "cell_type": "markdown",
   "id": "d6b0d8b9-db66-4b31-bced-a72fa2fff7ef",
   "metadata": {},
   "source": [
    "This file is used in a later lesson, but let's read in this file as bytes now, and maninpulate it slightly as such."
   ]
  },
  {
   "cell_type": "code",
   "execution_count": 43,
   "id": "f1f9d190-7ba9-41b8-9022-67ac8fcf628d",
   "metadata": {},
   "outputs": [
    {
     "name": "stdout",
     "output_type": "stream",
     "text": [
      "b'\\x1f\\x8b\\x08\\x08z\\xbb\\xfc@\\x00\\x03basement\\x00t'\n"
     ]
    }
   ],
   "source": [
    "with open(\"data/basement.gz\", \"rb\") as fh:\n",
    "    basement = fh.read()\n",
    "\n",
    "print(basement[:20])"
   ]
  },
  {
   "cell_type": "code",
   "execution_count": 44,
   "id": "a61a92da-88ef-47bd-88ef-0e5704488091",
   "metadata": {},
   "outputs": [
    {
     "data": {
      "text/plain": [
       "bytearray(b'basement')"
      ]
     },
     "execution_count": 44,
     "metadata": {},
     "output_type": "execute_result"
    }
   ],
   "source": [
    "ba = bytearray(basement)\n",
    "ba[10:18]"
   ]
  },
  {
   "cell_type": "markdown",
   "id": "a525c337-b56a-4b00-8812-30b69654ee62",
   "metadata": {},
   "source": [
    "We can modify the contents of a bytearray, and write the contents back to disk."
   ]
  },
  {
   "cell_type": "code",
   "execution_count": 48,
   "id": "c06b7126-7f57-4e18-b0c5-c71993a1bf78",
   "metadata": {},
   "outputs": [],
   "source": [
    "import os\n",
    "ba[10:18] = b\"driveway\"\n",
    "if not os.path.exists('tmp/'):\n",
    "    os.makedirs('tmp/')\n",
    "with open(\"tmp/driveway.gz\", \"wb\") as fh:\n",
    "    fh.write(ba)"
   ]
  },
  {
   "cell_type": "markdown",
   "id": "ac06cc60-1a15-4642-9440-1b67bd244b5e",
   "metadata": {},
   "source": [
    "If we hadn't kept the length of the gzip compressed file the same, and substituted only the portion devoted to the stored filename, we'd get unpredictable results. Still, we've worked directly with a binary format easily enough, and more robust code is easily possible to write."
   ]
  },
  {
   "cell_type": "markdown",
   "id": "e252a6ee-f4ca-4d1f-b2de-1cc703027d50",
   "metadata": {},
   "source": [
    "## The Boundary Between Scalars and Data Structures\n",
    "\n",
    "In Python, even values that we usually think of as scalars have attributes and methods.  It might be natural to think that immutable values are scalar and mutable ones are data structures.  However, we've already seen examples of immutable objects that have quite intricate internal structure (for example, frozensets of frozensets).  Moreover, in many *other* programming language, \"simple\" values like numbers and strings are mutable (although not in Python.\n",
    "\n",
    "The better distinction, in my mind is asking whether an object *contains* other values.  Unfortunately, the answer here is not obvious.  Take complex numbers:"
   ]
  },
  {
   "cell_type": "code",
   "execution_count": 49,
   "id": "0b2b6efa-d4e2-417f-9125-c48b5a1df24f",
   "metadata": {},
   "outputs": [
    {
     "data": {
      "text/plain": [
       "(1.5, 2.3)"
      ]
     },
     "execution_count": 49,
     "metadata": {},
     "output_type": "execute_result"
    }
   ],
   "source": [
    "cnum = 1.5 + 2.3j\n",
    "cnum.real, cnum.imag"
   ]
  },
  {
   "cell_type": "markdown",
   "id": "5b8f7bff-0b6e-4aa8-b264-8b0b1a848fcc",
   "metadata": {},
   "source": [
    "In a straightforward way, a complex number contains both a real and imaginary component. Yes, these are immutable, but that's incidental.\n",
    "\n",
    "In contrast, a `bool` is about as simple a value (a *singleton* even, but let's not go there) as one might want."
   ]
  },
  {
   "cell_type": "code",
   "execution_count": 50,
   "id": "03e36ddd-67f5-420d-9f85-c34d83aea9a2",
   "metadata": {},
   "outputs": [
    {
     "data": {
      "text/plain": [
       "(True, False)"
      ]
     },
     "execution_count": 50,
     "metadata": {},
     "output_type": "execute_result"
    }
   ],
   "source": [
    "trueval = (2 + 2 == 4)\n",
    "falseval = (4 // 2 == 3)\n",
    "trueval, falseval"
   ]
  },
  {
   "cell_type": "markdown",
   "id": "5391391a-6ded-42c3-85b2-37195ae76c3c",
   "metadata": {},
   "source": [
    "Fair enough, but even numbers, whether integers or floating point numbers can cause us some uncertainty."
   ]
  },
  {
   "cell_type": "code",
   "execution_count": 51,
   "id": "4738f8bd-ef97-4b3f-9e74-cc3911792dc0",
   "metadata": {},
   "outputs": [
    {
     "data": {
      "text/plain": [
       "(12345, 1.2345, 12346.2345)"
      ]
     },
     "execution_count": 51,
     "metadata": {},
     "output_type": "execute_result"
    }
   ],
   "source": [
    "myint = 12345\n",
    "myfloat = 1.2345\n",
    "mysum = myint + myfloat\n",
    "myint, myfloat, mysum"
   ]
  },
  {
   "cell_type": "markdown",
   "id": "988158dc-3448-4a62-8438-5744f78d5891",
   "metadata": {},
   "source": [
    "However, let's look at this (is an integer actually two values, as we thought of complex?):"
   ]
  },
  {
   "cell_type": "code",
   "execution_count": 52,
   "id": "cfeb7e7a-794f-4bc6-9f7d-ff7fe9e8221a",
   "metadata": {},
   "outputs": [
    {
     "data": {
      "text/plain": [
       "(12345, 1)"
      ]
     },
     "execution_count": 52,
     "metadata": {},
     "output_type": "execute_result"
    }
   ],
   "source": [
    "myint.numerator, myint.denominator"
   ]
  },
  {
   "cell_type": "markdown",
   "id": "47a41d85-cbeb-48a3-96a0-6cc2edbf5afc",
   "metadata": {},
   "source": [
    "And likewise, even non-complex numbers have an imaginary component (that happens to equal zero)."
   ]
  },
  {
   "cell_type": "code",
   "execution_count": 53,
   "id": "b29f52bb-9093-407e-a3f5-6af118a27c91",
   "metadata": {},
   "outputs": [
    {
     "data": {
      "text/plain": [
       "(0.0, 1.2345)"
      ]
     },
     "execution_count": 53,
     "metadata": {},
     "output_type": "execute_result"
    }
   ],
   "source": [
    "myfloat.imag, myfloat.real"
   ]
  },
  {
   "cell_type": "markdown",
   "id": "c5c1622f-31c2-4224-aeed-3759d32fada4",
   "metadata": {},
   "source": [
    "However we wish to think of these *simple* values, they definitely have some interesting methods, as well as attributes."
   ]
  },
  {
   "cell_type": "code",
   "execution_count": 54,
   "id": "ec1bfb62-5369-419d-8414-90f86db49b3d",
   "metadata": {},
   "outputs": [],
   "source": [
    "myint.bit_count?"
   ]
  },
  {
   "cell_type": "code",
   "execution_count": 55,
   "id": "00cf5c8c-74be-4b70-879e-374f819974c7",
   "metadata": {},
   "outputs": [],
   "source": [
    "myint.bit_length?"
   ]
  },
  {
   "cell_type": "code",
   "execution_count": 56,
   "id": "7c034796-82d3-4e27-b4aa-7f3272cde4b3",
   "metadata": {},
   "outputs": [
    {
     "data": {
      "text/plain": [
       "(6, 14)"
      ]
     },
     "execution_count": 56,
     "metadata": {},
     "output_type": "execute_result"
    }
   ],
   "source": [
    "myint.bit_count(), myint.bit_length()"
   ]
  },
  {
   "cell_type": "markdown",
   "id": "9bdd7950-4abc-4192-9e5b-3780a5e83c98",
   "metadata": {},
   "source": [
    "## Comprehensions\n",
    "\n",
    "Python provides a collection of handy shortcuts for creating its basic data structures.  These are called *comprehensions*, and express both conditionals and limited flow control within the same expressions that create data structures.\n",
    "\n",
    "Lists, sets, and dicts may be created in this manner.  In all cases, we describe what should be contained within a data structure in terms of what is already inside one or more iterables (which includes data structures, but also sometimes includes other things)."
   ]
  },
  {
   "cell_type": "code",
   "execution_count": 57,
   "id": "f0d571fa-4fee-4e04-ad1a-4b9c165f1e0a",
   "metadata": {},
   "outputs": [
    {
     "data": {
      "text/plain": [
       "['River blue', 'Sky blue', 'Brick red']"
      ]
     },
     "execution_count": 57,
     "metadata": {},
     "output_type": "execute_result"
    }
   ],
   "source": [
    "reds_and_blues = [  # Construct a list\n",
    "    color \n",
    "    for color in wall_colors | trim_colors | outdoor_colors \n",
    "    if \"red\" in color or \"blue\" in color\n",
    "]\n",
    "reds_and_blues"
   ]
  },
  {
   "cell_type": "code",
   "execution_count": 58,
   "id": "f1734893-2eb7-4ea0-a02a-fb6aaaa53c70",
   "metadata": {},
   "outputs": [
    {
     "data": {
      "text/plain": [
       "{'Brick red', 'River blue', 'Sky blue'}"
      ]
     },
     "execution_count": 58,
     "metadata": {},
     "output_type": "execute_result"
    }
   ],
   "source": [
    "reds_and_blues = {  # construct a set\n",
    "    color\n",
    "    for color in wall_colors | trim_colors | outdoor_colors\n",
    "    if \"red\" in color or \"blue\" in color\n",
    "}\n",
    "reds_and_blues"
   ]
  },
  {
   "cell_type": "code",
   "execution_count": 59,
   "id": "c768b455-032d-4d39-a8e4-c83cd8d77bb0",
   "metadata": {},
   "outputs": [
    {
     "data": {
      "text/plain": [
       "{'River blue': 10, 'Sky blue': 8, 'Brick red': 9}"
      ]
     },
     "execution_count": 59,
     "metadata": {},
     "output_type": "execute_result"
    }
   ],
   "source": [
    "color_to_length = {\n",
    "    color:len(color)\n",
    "    for color in wall_colors | trim_colors | outdoor_colors\n",
    "    if \"red\" in color or \"blue\" in color\n",
    "}\n",
    "color_to_length"
   ]
  },
  {
   "cell_type": "markdown",
   "id": "0c70cf72",
   "metadata": {},
   "source": [
    "**Dictionary Comprehensions**"
   ]
  },
  {
   "cell_type": "code",
   "execution_count": 61,
   "id": "c90607d1",
   "metadata": {},
   "outputs": [
    {
     "name": "stdout",
     "output_type": "stream",
     "text": [
      "Output Dictionary: {1: 1, 3: 27, 5: 125, 7: 343}\n"
     ]
    }
   ],
   "source": [
    "\n",
    "input_list = [1, 2, 3, 4, 5, 6, 7]\n",
    "   \n",
    "output_dict = {}\n",
    "   \n",
    "for var in input_list:\n",
    "    if var % 2 != 0:\n",
    "        output_dict[var] = var**3\n",
    "    else:\n",
    "        output_dict[var] = var**2\n",
    "   \n",
    "print(\"Output Dictionary:\",output_dict )\n"
   ]
  },
  {
   "cell_type": "code",
   "execution_count": 65,
   "id": "7a5dfd0d",
   "metadata": {},
   "outputs": [],
   "source": [
    "# Another way of doing the same thing\n",
    "number_range = 10\n",
    "output_dict = {x: x**2 if x % 2 == 0 else x**3 for x in range(1, number_range + 1)}"
   ]
  }
 ],
 "metadata": {
  "kernelspec": {
   "display_name": "Python 3 (ipykernel)",
   "language": "python",
   "name": "python3"
  },
  "language_info": {
   "codemirror_mode": {
    "name": "ipython",
    "version": 3
   },
   "file_extension": ".py",
   "mimetype": "text/x-python",
   "name": "python",
   "nbconvert_exporter": "python",
   "pygments_lexer": "ipython3",
   "version": "3.10.7"
  },
  "widgets": {
   "application/vnd.jupyter.widget-state+json": {
    "state": {},
    "version_major": 2,
    "version_minor": 0
   }
  }
 },
 "nbformat": 4,
 "nbformat_minor": 5
}
