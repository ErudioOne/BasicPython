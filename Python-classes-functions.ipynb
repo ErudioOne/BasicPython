{
 "cells": [
  {
   "cell_type": "markdown",
   "id": "5a095e99-b3a9-465c-8a5a-e0d2f7d806b4",
   "metadata": {},
   "source": [
    "![Erudio logo](img/erudio-logo-small.png)"
   ]
  },
  {
   "cell_type": "markdown",
   "id": "590e3d6c-ce69-44b8-9442-dbdf20daf9fe",
   "metadata": {},
   "source": [
    "# Functions and Classes\n",
    "\n",
    "The fundamental units of modularity in Python are packages, modules, classes, and functions.  Creating packages and modules is outside the scope of this introductory course, but every time you utilize `import foo` or `from foo.bar import baz as bz` you are utilizing those means of packaging related functionality.\n",
    "\n",
    "What you *will* write a lot of, even as a beginner or intermediate Python user, is **functions**.  Classes, in turn, are essentially just ways of bundling together several functions, and often some data those functions use, into the same Python object."
   ]
  },
  {
   "cell_type": "markdown",
   "id": "95fb15cd-f738-4bc6-be33-a9f5975ff706",
   "metadata": {},
   "source": [
    "## Functions\n",
    "\n",
    "A function is simply a mechanism to encapsulate a number of program steps that you could, in concept, simply write sequentially in a main program.  Most of the time, functions also take a collection of parameters.  These parameters can either be *positional* or *named*.\n",
    "\n",
    "Continuing the conceit of the last lesson, let's write a few functions to create ASCII art versions of the Mandelbrot set.  Recall that the Mandelbrot set is defined  in the complex plane as the complex numbers c for which the function $f_{c}(z)=z^{2}+c$ does not diverge to infinity when iterated starting at $z=0$. There is a nice property of this iteration that if any iteration of the function has an absolute value greater than 2, we know already that the function (indexed by that complex number) diverges.\n",
    "\n",
    "That may be a mouthful, and the code can make it clearer.  The first step in our approach will be to create a grid of points representing in iteration of the Mandelbrot generating function across a region of the complex plane.  We will use a `list` of `namedtuple` objects in a simlar way as we did with the earlier ASCII art."
   ]
  },
  {
   "cell_type": "markdown",
   "id": "33da58aa-2aa2-4bbd-bf27-2669b3636050",
   "metadata": {},
   "source": [
    "### Create a base data structure"
   ]
  },
  {
   "cell_type": "code",
   "execution_count": null,
   "id": "10d03a5e-1499-4772-b9de-6402b55b1947",
   "metadata": {},
   "outputs": [],
   "source": [
    "from collections import namedtuple\n",
    "from typing import List\n",
    "\n",
    "Point = namedtuple(\"Point\", [\"c\", \"z\", \"iteration\"])\n",
    "\n",
    "def make_comlex_grid(  # type hints do not change runtime behavior\n",
    "    x_min: float = -2, \n",
    "    x_max: float = 0.5, \n",
    "    y_min: float = -1, \n",
    "    y_max: float = 1,\n",
    "    x_ticks: int = 80,\n",
    "    y_ticks: int = 30,\n",
    ") -> List[Point]:\n",
    "    # Arrange the points left-to-right, top-to-bottom\n",
    "    y_step = (y_max - y_min) / y_ticks\n",
    "    x_step = (x_max - x_min) / x_ticks\n",
    "\n",
    "    points = []\n",
    "    for n_imag in range(y_ticks):\n",
    "        row = []\n",
    "        for n_real in range(x_ticks):\n",
    "            c = (x_min + (x_step * n_real)) + 1j * (y_max - (y_step * n_imag))\n",
    "            row.append(Point(c, 0, 0))\n",
    "        points.append(row)\n",
    "    return points"
   ]
  },
  {
   "cell_type": "code",
   "execution_count": null,
   "id": "b474f7c8-f6ba-410a-ac19-4ed52f6dba2e",
   "metadata": {},
   "outputs": [],
   "source": [
    "from pprint import pprint\n",
    "\n",
    "grid = make_comlex_grid()\n",
    "# Display a few points from top-left corner of the grid\n",
    "pprint([row[:3] for row in grid[:3]])"
   ]
  },
  {
   "cell_type": "markdown",
   "id": "f49c2011-1eec-42ff-a66f-83e5e19c289d",
   "metadata": {},
   "source": [
    "At this point, we simply have a grid of 60×30 points, each at iteration zero.  "
   ]
  },
  {
   "cell_type": "markdown",
   "id": "6815bcbf-f11c-4238-8ec3-14f791701eb5",
   "metadata": {},
   "source": [
    "### Implement \"orbits\" of the Mandelbrot function\n",
    "\n",
    "We can iterate each of these points individually, since the so-called *orbit* of each is independent of the others.  Let's write a function for that.  \n",
    "\n",
    "If any point diverges, we will simply return its value at the iteration where it diverged rather than continue to calculate values."
   ]
  },
  {
   "cell_type": "code",
   "execution_count": null,
   "id": "debcbcc6-01ae-487d-b1de-1309a7eab50f",
   "metadata": {},
   "outputs": [],
   "source": [
    "def iterate_point(point: Point) -> Point:\n",
    "    if abs(point.z) > 2:  # already diverged\n",
    "        return point\n",
    "    return Point(point.c, point.z**2 + point.c, point.iteration + 1)"
   ]
  },
  {
   "cell_type": "markdown",
   "id": "a19826d5-be64-445d-8dd4-d510429b4e10",
   "metadata": {},
   "source": [
    "As an example, let's loop through a few iterations of a particular point in the grid.  There's a small hack below because iterations can be *too fast* for the Jupyter server to keep up if we pick a point with many orbits (we wait a microsecond artificially between iterations)."
   ]
  },
  {
   "cell_type": "code",
   "execution_count": null,
   "id": "71ada861-66ac-46a3-bcba-82e2cfa803bc",
   "metadata": {},
   "outputs": [],
   "source": [
    "from time import sleep\n",
    "\n",
    "p = grid[14][15]\n",
    "while abs(p.z) < 2:\n",
    "    print(p)\n",
    "    sleep(1e-6)\n",
    "    p = iterate_point(p)"
   ]
  },
  {
   "cell_type": "markdown",
   "id": "d5ee9e9c-637e-4874-acb2-3835bc538b19",
   "metadata": {},
   "source": [
    "We see how iteration and \"escape\" happens for one point, but let's write a function to evolve the entire grid of complex poionts."
   ]
  },
  {
   "cell_type": "code",
   "execution_count": null,
   "id": "c1584b3e-2395-41fb-b496-2242d3bb375a",
   "metadata": {},
   "outputs": [],
   "source": [
    "from copy import deepcopy\n",
    "\n",
    "def evolve_grid(grid, n_steps=100):\n",
    "    new_grid = deepcopy(grid)  # Leave the original grid as it was\n",
    "    for _ in range(n_steps):\n",
    "        for y_dim, row in enumerate(new_grid):\n",
    "            for x_dim, point in enumerate(row):\n",
    "                new_grid[y_dim][x_dim] = iterate_point(point)\n",
    "    return new_grid"
   ]
  },
  {
   "cell_type": "code",
   "execution_count": null,
   "id": "38a62eca-723c-411e-a6f1-7764470c73e2",
   "metadata": {},
   "outputs": [],
   "source": [
    "new_grid = evolve_grid(grid, 120)\n",
    "\n",
    "# The top-left corner escapes immediately, let's look somewhere in the middle\n",
    "pprint([row[12:15] for row in new_grid[15:18]])"
   ]
  },
  {
   "cell_type": "markdown",
   "id": "117d086a-2ba2-4b87-9f15-3acdbcee1210",
   "metadata": {},
   "source": [
    "As most students will have seen, sometimes visually appealing displays of the Mandelbrot set use the iteration where the orbits escape to represent different colors, often producing striking patterns.  In the few points shown, some escape their orbit quickly, and others either never will, or at least will take more than the 120 steps that we ran."
   ]
  },
  {
   "cell_type": "markdown",
   "id": "6f491aec-1935-4f7e-aa3a-3a6ece1ef21e",
   "metadata": {},
   "source": [
    "### Visualization\n",
    "\n",
    "To round out this example, let's create an ASCII art visualization of the grid in the complex plane we have already implemented."
   ]
  },
  {
   "cell_type": "code",
   "execution_count": null,
   "id": "37d56f48-5636-40a3-93fa-53005a06c3a4",
   "metadata": {},
   "outputs": [],
   "source": [
    "def show_grid(grid, fillchar=\"•\"):\n",
    "    ascii = \"\"\n",
    "    for row in grid:\n",
    "        for point in row:\n",
    "            ascii += \"\".join(fillchar if abs(point.z) <= 2 else \" \")\n",
    "        ascii += \"\\n\"            \n",
    "    return ascii"
   ]
  },
  {
   "cell_type": "code",
   "execution_count": null,
   "id": "c446726f-423f-4ed6-a984-79c2b4c05022",
   "metadata": {},
   "outputs": [],
   "source": [
    "from IPython.display import HTML\n",
    "\n",
    "image = show_grid(evolve_grid(make_comlex_grid()))\n",
    "HTML(f\"<pre>{image}</pre>\")"
   ]
  },
  {
   "cell_type": "markdown",
   "id": "ce6e211d-5a86-4043-b637-c5de31bbaa8e",
   "metadata": {},
   "source": [
    "## Classes\n",
    "\n",
    "The several functions written here all operate on the same—or at least closely related—data.  How you would write this class is left as an **exercise** for students to work on after this session is over.  The key thing to understand about class is simply that they often refer to their own instances.  As well, a number of \"magic methods\" of classes can affect the behavior of their instances.\n",
    "\n",
    "Let's implement a small class, mostly only to show its syntax and a few *magic methods* (their pattern of beginning and ending with double underscores makes them often informally named as \"dunders\")."
   ]
  },
  {
   "cell_type": "code",
   "execution_count": null,
   "id": "869cac2f-81f0-4a8a-b46a-f244b9b01ab7",
   "metadata": {},
   "outputs": [],
   "source": [
    "from string import ascii_lowercase\n",
    "from random import shuffle\n",
    "\n",
    "class ASCIIArt:\n",
    "    def __init__(self, x_dim, y_dim):\n",
    "        self.grid = []\n",
    "        for _ in range(y_dim):\n",
    "            letters = list(ascii_lowercase + \" \"*6)\n",
    "            shuffle(letters)\n",
    "            self.grid.append(letters[:x_dim])\n",
    "            \n",
    "    def reshuffle(self):\n",
    "        for n, row in enumerate(self.grid):\n",
    "            shuffle(row)\n",
    "            self.grid[n] = row\n",
    "        shuffle(self.grid)\n",
    "\n",
    "    def __str__(self):\n",
    "        return \"\\n\".join(\"\".join(row) for row in self.grid)        "
   ]
  },
  {
   "cell_type": "code",
   "execution_count": null,
   "id": "b2e0d669-daf6-4142-b5b1-942dc1d19a77",
   "metadata": {},
   "outputs": [],
   "source": [
    "my_art = ASCIIArt(15, y_dim=6)\n",
    "print(my_art)"
   ]
  },
  {
   "cell_type": "code",
   "execution_count": null,
   "id": "36146c56-7d9a-4bf1-98bb-69e7aba5e69c",
   "metadata": {},
   "outputs": [],
   "source": [
    "my_art.reshuffle()\n",
    "print(my_art)"
   ]
  },
  {
   "cell_type": "markdown",
   "id": "8a8125ab-e9a2-4b50-9282-1501770bf5dd",
   "metadata": {},
   "source": [
    "## Exercise\n",
    "\n",
    "Create a `Mandelbrot` class that implements the functionality of the several functions implemented in this lesson, and that provides an API you find helpful."
   ]
  },
  {
   "cell_type": "markdown",
   "id": "a479f929",
   "metadata": {},
   "source": [
    "-----\n",
    "\n",
    "Materials licensed under [CC BY-NC-ND 4.0](https://creativecommons.org/licenses/by-nc-nd/4.0/) by the authors"
   ]
  },
  {
   "cell_type": "code",
   "execution_count": null,
   "id": "c5d88892",
   "metadata": {},
   "outputs": [],
   "source": []
  }
 ],
 "metadata": {
  "kernelspec": {
   "display_name": "Python 3 (ipykernel)",
   "language": "python",
   "name": "python3"
  },
  "language_info": {
   "codemirror_mode": {
    "name": "ipython",
    "version": 3
   },
   "file_extension": ".py",
   "mimetype": "text/x-python",
   "name": "python",
   "nbconvert_exporter": "python",
   "pygments_lexer": "ipython3",
   "version": "3.10.7"
  },
  "widgets": {
   "application/vnd.jupyter.widget-state+json": {
    "state": {},
    "version_major": 2,
    "version_minor": 0
   }
  }
 },
 "nbformat": 4,
 "nbformat_minor": 5
}
