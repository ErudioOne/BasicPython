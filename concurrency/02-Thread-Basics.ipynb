{
 "cells": [
  {
   "cell_type": "markdown",
   "metadata": {},
   "source": [
    "![Erudio logo](../img/erudio-logo-small.png)"
   ]
  },
  {
   "cell_type": "markdown",
   "metadata": {
    "slideshow": {
     "slide_type": "slide"
    }
   },
   "source": [
    "# Thread Basics\n",
    "\n",
    "In this lesson, we look at the `threading` module, and think about threads at a low-level.  In other lessons, higher level abstractions around the basics are addressed.\n",
    "\n",
    "Note that underneath `threading` lives an even lower-level module `_thread`.  As the initial underscore suggests, `_thread` is really only for developers of Python itself, or perhaps custom low-level libraries.  Use `threading` or \"above.\""
   ]
  },
  {
   "cell_type": "code",
   "execution_count": 1,
   "metadata": {
    "slideshow": {
     "slide_type": "fragment"
    }
   },
   "outputs": [],
   "source": [
    "from time import sleep\n",
    "from random import choice, random, randint\n",
    "import threading\n",
    "from threading import Thread"
   ]
  },
  {
   "cell_type": "markdown",
   "metadata": {
    "slideshow": {
     "slide_type": "subslide"
    }
   },
   "source": [
    "In interface, a thread constructor looks like this:\n",
    "\n",
    "```python\n",
    "class Thread:\n",
    "    def __init__(self, target, name=None, args=(), kwargs={}):\n",
    "        pass\n",
    "```"
   ]
  },
  {
   "cell_type": "markdown",
   "metadata": {
    "slideshow": {
     "slide_type": "fragment"
    }
   },
   "source": [
    "The `target` argument is the function that will be executed in that particular thread.  Alternately, a subclass of `Thread` might define a `.run()` method rather than using a passed in function; passing in an executable is generally more flexible."
   ]
  },
  {
   "cell_type": "markdown",
   "metadata": {
    "slideshow": {
     "slide_type": "fragment"
    }
   },
   "source": [
    "Once a thread has been _created_ (instantiated), we need to `start()` it in order for it to begin to process."
   ]
  },
  {
   "cell_type": "markdown",
   "metadata": {
    "slideshow": {
     "slide_type": "slide"
    }
   },
   "source": [
    "## Basic example of a thread"
   ]
  },
  {
   "cell_type": "code",
   "execution_count": 2,
   "metadata": {
    "slideshow": {
     "slide_type": "fragment"
    }
   },
   "outputs": [],
   "source": [
    "def worker():\n",
    "    print('hello', flush=True)\n",
    "    sleep(2)\n",
    "    print('world', flush=True)"
   ]
  },
  {
   "cell_type": "code",
   "execution_count": 3,
   "metadata": {
    "slideshow": {
     "slide_type": "fragment"
    }
   },
   "outputs": [],
   "source": [
    "t1 = Thread(target=worker)"
   ]
  },
  {
   "cell_type": "code",
   "execution_count": 4,
   "metadata": {
    "slideshow": {
     "slide_type": "fragment"
    }
   },
   "outputs": [
    {
     "name": "stdout",
     "output_type": "stream",
     "text": [
      "hello\n",
      "world\n"
     ]
    }
   ],
   "source": [
    "t1.start()"
   ]
  },
  {
   "cell_type": "markdown",
   "metadata": {
    "slideshow": {
     "slide_type": "slide"
    }
   },
   "source": [
    "## Running multiple threads concurrently\n",
    "\n",
    "Although you *can* launch one thread as an indirect way to run one function, the reason you want to is to allow concurrency of multiple threads."
   ]
  },
  {
   "cell_type": "code",
   "execution_count": 5,
   "metadata": {
    "slideshow": {
     "slide_type": "fragment"
    }
   },
   "outputs": [],
   "source": [
    "def worker(favcolor=None):\n",
    "    sleep(random() * 5)\n",
    "    value = randint(0, 99)\n",
    "    name = threading.current_thread().name\n",
    "    print(f'My name is {name}; '\n",
    "          f'computation is {value}; '\n",
    "          f'favorite color is {favcolor}')"
   ]
  },
  {
   "cell_type": "code",
   "execution_count": 6,
   "metadata": {
    "slideshow": {
     "slide_type": "fragment"
    }
   },
   "outputs": [
    {
     "name": "stdout",
     "output_type": "stream",
     "text": [
      "My name is MainThread; computation is 56; favorite color is None\n"
     ]
    }
   ],
   "source": [
    "worker()"
   ]
  },
  {
   "cell_type": "markdown",
   "metadata": {
    "slideshow": {
     "slide_type": "subslide"
    }
   },
   "source": [
    "So far, this is just a function, albeit one that reports the name of the thread it runs in.  If your code never mentions `threading` or related modules, your program runs in one thread called \"MainThread\".  However, let us create several threads that utilize this function."
   ]
  },
  {
   "cell_type": "code",
   "execution_count": 7,
   "metadata": {
    "slideshow": {
     "slide_type": "fragment"
    }
   },
   "outputs": [
    {
     "data": {
      "text/plain": [
       "[<Thread(thread-0, initial)>,\n",
       " <Thread(thread-1, initial)>,\n",
       " <Thread(thread-2, initial)>,\n",
       " <Thread(thread-3, initial)>,\n",
       " <Thread(thread-4, initial)>]"
      ]
     },
     "execution_count": 7,
     "metadata": {},
     "output_type": "execute_result"
    }
   ],
   "source": [
    "threads = [Thread(target=worker, \n",
    "                  name=f\"thread-{i}\", \n",
    "                  kwargs={'favcolor': choice(['blue', 'green', 'yellow'])}) \n",
    "           for i in range(5)]\n",
    "threads"
   ]
  },
  {
   "cell_type": "code",
   "execution_count": 8,
   "metadata": {
    "slideshow": {
     "slide_type": "fragment"
    }
   },
   "outputs": [
    {
     "name": "stdout",
     "output_type": "stream",
     "text": [
      "My name is thread-1; computation is 2; favorite color is blue\n"
     ]
    }
   ],
   "source": [
    "for thread in threads:\n",
    "    thread.start()"
   ]
  },
  {
   "cell_type": "markdown",
   "metadata": {
    "slideshow": {
     "slide_type": "slide"
    }
   },
   "source": [
    "## Thread states\n",
    "\n",
    "A thread is alive when it is running, but not otherwise.  There is both a time \"before its birth\" and a time \"after its termination\" and it is alive during neither of those times. Creating a thread only reserves resources like memory for it; it has to be `.start()`'ed to actually become alive and carry out actions."
   ]
  },
  {
   "cell_type": "code",
   "execution_count": 9,
   "metadata": {
    "slideshow": {
     "slide_type": "fragment"
    }
   },
   "outputs": [
    {
     "data": {
      "text/plain": [
       "False"
      ]
     },
     "execution_count": 9,
     "metadata": {},
     "output_type": "execute_result"
    },
    {
     "name": "stdout",
     "output_type": "stream",
     "text": [
      "My name is thread-0; computation is 76; favorite color is yellow\n"
     ]
    }
   ],
   "source": [
    "t = Thread(target=worker)\n",
    "t.is_alive()"
   ]
  },
  {
   "cell_type": "code",
   "execution_count": 10,
   "metadata": {
    "slideshow": {
     "slide_type": "fragment"
    }
   },
   "outputs": [
    {
     "data": {
      "text/plain": [
       "True"
      ]
     },
     "execution_count": 10,
     "metadata": {},
     "output_type": "execute_result"
    }
   ],
   "source": [
    "t.start()\n",
    "t.is_alive()"
   ]
  },
  {
   "cell_type": "code",
   "execution_count": 11,
   "metadata": {
    "slideshow": {
     "slide_type": "fragment"
    }
   },
   "outputs": [
    {
     "name": "stdout",
     "output_type": "stream",
     "text": [
      "My name is thread-2; computation is 73; favorite color is yellow\n",
      "My name is thread-3; computation is 66; favorite color is blue\n",
      "My name is thread-4; computation is 43; favorite color is yellow\n",
      "My name is Thread-6 (worker); computation is 43; favorite color is None\n"
     ]
    },
    {
     "data": {
      "text/plain": [
       "False"
      ]
     },
     "execution_count": 11,
     "metadata": {},
     "output_type": "execute_result"
    }
   ],
   "source": [
    "sleep(5)  # Must wait for output from above...\n",
    "t.is_alive()"
   ]
  },
  {
   "cell_type": "markdown",
   "metadata": {
    "slideshow": {
     "slide_type": "subslide"
    }
   },
   "source": [
    "A thread that has finished can't be started again, as shown in the following example:"
   ]
  },
  {
   "cell_type": "code",
   "execution_count": 12,
   "metadata": {
    "slideshow": {
     "slide_type": "fragment"
    }
   },
   "outputs": [
    {
     "name": "stdout",
     "output_type": "stream",
     "text": [
      "RuntimeError('threads can only be started once')\n"
     ]
    }
   ],
   "source": [
    "try:\n",
    "    t.start()\n",
    "except Exception as err:\n",
    "    print(repr(err))"
   ]
  },
  {
   "cell_type": "markdown",
   "metadata": {
    "slideshow": {
     "slide_type": "subslide"
    }
   },
   "source": [
    "## Joining threads\n",
    "\n",
    "There is an element of the lifetime of threads that we brushed over.  Sometimes you would like to wait within the MainThread for a thread to finish; or indeed, wait within some child thread for some grandchild to finish.  For example:"
   ]
  },
  {
   "cell_type": "code",
   "execution_count": 13,
   "metadata": {
    "slideshow": {
     "slide_type": "fragment"
    }
   },
   "outputs": [
    {
     "name": "stdout",
     "output_type": "stream",
     "text": [
      "About to start...\n",
      "All done\n"
     ]
    }
   ],
   "source": [
    "t = Thread(target=worker)\n",
    "print(\"About to start...\")\n",
    "t.start()\n",
    "print(\"All done\")"
   ]
  },
  {
   "cell_type": "markdown",
   "metadata": {
    "slideshow": {
     "slide_type": "subslide"
    }
   },
   "source": [
    "That was not as intended. The \"All done\" message printed before the thread was done.  We *could* manually wait on it:"
   ]
  },
  {
   "cell_type": "code",
   "execution_count": 14,
   "metadata": {
    "slideshow": {
     "slide_type": "fragment"
    }
   },
   "outputs": [
    {
     "name": "stdout",
     "output_type": "stream",
     "text": [
      "About to start...\n",
      "My name is Thread-8 (worker); computation is 74; favorite color is None\n",
      "All done\n"
     ]
    }
   ],
   "source": [
    "t = Thread(target=worker)\n",
    "print(\"About to start...\")\n",
    "t.start()\n",
    "while t.is_alive():\n",
    "    sleep(0.01)\n",
    "print(\"All done\")"
   ]
  },
  {
   "cell_type": "markdown",
   "metadata": {
    "slideshow": {
     "slide_type": "subslide"
    }
   },
   "source": [
    "There is a better, shorter, and more explicit way in `.join`'ing a thread."
   ]
  },
  {
   "cell_type": "code",
   "execution_count": null,
   "metadata": {
    "slideshow": {
     "slide_type": "fragment"
    }
   },
   "outputs": [
    {
     "name": "stdout",
     "output_type": "stream",
     "text": [
      "About to start...\n",
      "My name is Thread-7 (worker); computation is 69; favorite color is None\n",
      "My name is Thread-9 (worker); computation is 71; favorite color is None\n",
      "All done\n"
     ]
    }
   ],
   "source": [
    "t = Thread(target=worker)\n",
    "print(\"About to start...\")\n",
    "t.start()\n",
    "t.join() # Don't continue until thread completes\n",
    "print(\"All done\")"
   ]
  },
  {
   "cell_type": "markdown",
   "metadata": {
    "slideshow": {
     "slide_type": "slide"
    }
   },
   "source": [
    "## Thread identity\n",
    "\n",
    "The thread class has two attributes that lets us identify each thread. The human-ready `name`, which we can set when we construct the thread, and the machine-oriented `ident` one.  The name is set immediately, either to a passed in value or a generated human-readable one.  The `ident` is None until the thread actually starts."
   ]
  },
  {
   "cell_type": "code",
   "execution_count": null,
   "metadata": {
    "slideshow": {
     "slide_type": "fragment"
    }
   },
   "outputs": [
    {
     "name": "stdout",
     "output_type": "stream",
     "text": [
      "Automatic thread name: Thread-10 (worker)\n",
      "Thread identity: None\n",
      "Starting thread...\n",
      "Thread identity: 11752\n"
     ]
    }
   ],
   "source": [
    "t = Thread(target=worker)\n",
    "print(\"Automatic thread name:\", t.name)\n",
    "print(\"Thread identity:\", t.ident)\n",
    "\n",
    "print(\"Starting thread...\")\n",
    "t.start()\n",
    "print(\"Thread identity:\", t.ident)"
   ]
  },
  {
   "cell_type": "markdown",
   "metadata": {
    "slideshow": {
     "slide_type": "slide"
    }
   },
   "source": [
    "## Subclassing `Thread`\n",
    "\n",
    "In prior examples,  we created threads is by passing a `target` function to be executed. An alternative, and object oriented, way to do it is to extend the Thread class:"
   ]
  },
  {
   "cell_type": "code",
   "execution_count": null,
   "metadata": {},
   "outputs": [],
   "source": [
    "class MyThread(Thread):\n",
    "    def __init__(self, time_to_sleep, name=None):\n",
    "        super().__init__(name=name)\n",
    "        self.time_to_sleep = time_to_sleep\n",
    "        \n",
    "    def run(self):\n",
    "        ident = threading.current_thread().ident\n",
    "        print(f\"I am thread {self.name} (ID {ident}), \"\n",
    "              f\"sleeping for {self.time_to_sleep} seconds.\")\n",
    "        sleep(self.time_to_sleep)\n",
    "        print(f'Thread {self.name} exiting...')"
   ]
  },
  {
   "cell_type": "code",
   "execution_count": null,
   "metadata": {},
   "outputs": [
    {
     "name": "stdout",
     "output_type": "stream",
     "text": [
      "I am thread Santiago (ID 2440), sleeping for 2 seconds.My name is Thread-10 (worker); computation is 93; favorite color is None\n",
      "\n"
     ]
    }
   ],
   "source": [
    "t = MyThread(2, name=\"Santiago\")\n",
    "t.start()"
   ]
  },
  {
   "cell_type": "markdown",
   "metadata": {},
   "source": [
    "## Shared Data\n",
    "\n",
    "As we'll see, Threads can access shared data within the process they live in. Example:"
   ]
  },
  {
   "cell_type": "code",
   "execution_count": null,
   "metadata": {},
   "outputs": [
    {
     "name": "stdout",
     "output_type": "stream",
     "text": [
      "Thread Santiago exiting...\n"
     ]
    }
   ],
   "source": [
    "TIME_TO_SLEEP = 2"
   ]
  },
  {
   "cell_type": "code",
   "execution_count": null,
   "metadata": {},
   "outputs": [],
   "source": [
    "def simple_worker():\n",
    "    myself = threading.current_thread()\n",
    "    print(f\"I am thread {myself.name}, and I'm sleeping for {TIME_TO_SLEEP}.\")\n",
    "    sleep(TIME_TO_SLEEP)\n",
    "    print(f'Thread {myself.name} exiting...')"
   ]
  },
  {
   "cell_type": "code",
   "execution_count": null,
   "metadata": {},
   "outputs": [],
   "source": [
    "t1 = Thread(target=simple_worker, name='Bubbles')\n",
    "t2 = Thread(target=simple_worker, name='Blossom')\n",
    "t3 = Thread(target=simple_worker, name='Buttercup')"
   ]
  },
  {
   "cell_type": "code",
   "execution_count": null,
   "metadata": {},
   "outputs": [
    {
     "name": "stdout",
     "output_type": "stream",
     "text": [
      "I am thread Bubbles, and I'm sleeping for 2.\n"
     ]
    }
   ],
   "source": [
    "t1.start()"
   ]
  },
  {
   "cell_type": "code",
   "execution_count": null,
   "metadata": {},
   "outputs": [
    {
     "name": "stdout",
     "output_type": "stream",
     "text": [
      "I am thread Blossom, and I'm sleeping for 2.\n"
     ]
    }
   ],
   "source": [
    "t2.start()"
   ]
  },
  {
   "cell_type": "code",
   "execution_count": null,
   "metadata": {},
   "outputs": [
    {
     "name": "stdout",
     "output_type": "stream",
     "text": [
      "I am thread Buttercup, and I'm sleeping for 2.\n",
      "Thread Bubbles exiting...\n",
      "Thread Blossom exiting...\n"
     ]
    }
   ],
   "source": [
    "t3.start()"
   ]
  },
  {
   "cell_type": "markdown",
   "metadata": {},
   "source": [
    "How is this possible?\n",
    "\n",
    "Remember, all threads live **within the same process**, and the variable `TIME_TO_SLEEP` is stored in the process. So all the threads created can access that variable."
   ]
  },
  {
   "cell_type": "markdown",
   "metadata": {},
   "source": [
    "## A real world example\n",
    "\n",
    "In the `cryptocurrency` directory, we've included a real example of a web server that contains prices of different cryptocurrencies. You can run it with `python flask_app.py --sleep [sleep in seconds]`. The server can be slowed down on purpose to simulate a real slow server.\n",
    "\n",
    "Let's check how to get one price as an example:"
   ]
  },
  {
   "cell_type": "code",
   "execution_count": null,
   "metadata": {},
   "outputs": [],
   "source": [
    "BASE_URL = \"http://localhost:5000\""
   ]
  },
  {
   "cell_type": "code",
   "execution_count": null,
   "metadata": {},
   "outputs": [],
   "source": [
    "import requests"
   ]
  },
  {
   "cell_type": "code",
   "execution_count": null,
   "metadata": {},
   "outputs": [],
   "source": [
    "resp = requests.get(f\"{BASE_URL}/price/bitfinex/btc/2020-04-01\")"
   ]
  },
  {
   "cell_type": "code",
   "execution_count": null,
   "metadata": {},
   "outputs": [
    {
     "data": {
      "text/plain": [
       "<Response [200]>"
      ]
     },
     "execution_count": 28,
     "metadata": {},
     "output_type": "execute_result"
    }
   ],
   "source": [
    "resp"
   ]
  },
  {
   "cell_type": "code",
   "execution_count": null,
   "metadata": {},
   "outputs": [],
   "source": [
    "resp.json()"
   ]
  },
  {
   "cell_type": "markdown",
   "metadata": {},
   "source": [
    "Now, let's suppose we want to get the price of Bitcoin from 3 different exchanges: `bitfinex`, `bitstamp` and `kraken`. The sequential requests would take us 6 seconds (with a sleep param in 2)."
   ]
  },
  {
   "cell_type": "code",
   "execution_count": 30,
   "metadata": {},
   "outputs": [
    {
     "name": "stdout",
     "output_type": "stream",
     "text": [
      "Bitfinex: $6409.8\n",
      "Thread Santiago exiting...\n",
      "Thread Bubbles exiting...\n",
      "Thread Blossom exiting...\n",
      "Thread Buttercup exiting...\n",
      "Bitstamp: $6421.14\n",
      "Kraken: $6401.9\n",
      "CPU times: user 24.4 ms, sys: 15 ms, total: 39.4 ms\n",
      "Wall time: 2.17 s\n"
     ]
    }
   ],
   "source": [
    "%%time\n",
    "for exchange in ['bitfinex', 'bitstamp', 'kraken']:\n",
    "    url = f\"{BASE_URL}/price/{exchange}/btc/2020-04-01\"\n",
    "    resp = requests.get(url)\n",
    "    print(f\"{exchange.title()}: ${resp.json()['close']}\")"
   ]
  },
  {
   "cell_type": "markdown",
   "metadata": {
    "slideshow": {
     "slide_type": "slide"
    }
   },
   "source": [
    "Let's now move it to threads! For now, we'll just **print** the output, as we'll se data sharing in further lessons..."
   ]
  },
  {
   "cell_type": "code",
   "execution_count": 31,
   "metadata": {
    "slideshow": {
     "slide_type": "fragment"
    }
   },
   "outputs": [
    {
     "name": "stdout",
     "output_type": "stream",
     "text": [
      "My name is Thread-9; computation is 95; favorite color is None\n",
      "Bitfinex: $6409.8\n",
      "CPU times: user 12.7 ms, sys: 7.32 ms, total: 20 ms\n",
      "Wall time: 719 ms\n"
     ]
    }
   ],
   "source": [
    "%%time\n",
    "def check_price(exchange, symbol, date, base_url=BASE_URL):\n",
    "    \"General price-checker for given exchange, symbol, and date\"\n",
    "    url = f\"{base_url}/price/{exchange}/{symbol}/{date}\"\n",
    "    resp = requests.get(f\"{base_url}/price/{exchange}/{symbol}/{date}\")\n",
    "    print(f\"{exchange.title()}: ${resp.json()['close']}\")\n",
    "\n",
    "check_price('bitfinex', 'btc', '2020-04-01')"
   ]
  },
  {
   "cell_type": "code",
   "execution_count": 33,
   "metadata": {
    "slideshow": {
     "slide_type": "subslide"
    }
   },
   "outputs": [
    {
     "name": "stdout",
     "output_type": "stream",
     "text": [
      "Starting threads...\n",
      "CPU times: user 14.7 ms, sys: 9.64 ms, total: 24.4 ms\n",
      "Wall time: 11.3 ms\n",
      "-----\n",
      "Joining threads...\n",
      "Bitfinex: $6409.8\n",
      "Bitstamp: $6421.14\n",
      "Kraken: $6401.9\n",
      "CPU times: user 14.2 ms, sys: 7.43 ms, total: 21.7 ms\n",
      "Wall time: 753 ms\n"
     ]
    }
   ],
   "source": [
    "threads = [\n",
    "    Thread(target=check_price, args=(exchange, 'btc', '2020-04-01'))\n",
    "    for exchange in ['bitfinex', 'bitstamp', 'kraken']\n",
    "]\n",
    "\n",
    "print(\"Starting threads...\")\n",
    "%time for t in threads: t.start()\n",
    "print('-----')\n",
    "\n",
    "print(\"Joining threads...\")\n",
    "%time for t in threads: t.join()"
   ]
  },
  {
   "cell_type": "markdown",
   "metadata": {
    "slideshow": {
     "slide_type": "subslide"
    }
   },
   "source": [
    "## How many threads can we start?\n",
    "\n",
    "Let's say we need to get prices for 10 exchanges, 3 symbols, for a total of 30 days. \n",
    "\n",
    "We cannot efficiently start 900 threads at once, however. Each threads consumes resources and too many threads tend to bog down your system."
   ]
  },
  {
   "cell_type": "markdown",
   "metadata": {
    "slideshow": {
     "slide_type": "fragment"
    }
   },
   "source": [
    "So, what can we do when we need to process too many concurrent jobs? We'll create workers and use a producer/consumer model. But first, we need to talk about shared data, race conditions and synchronization..."
   ]
  },
  {
   "cell_type": "markdown",
   "metadata": {
    "slideshow": {
     "slide_type": "slide"
    }
   },
   "source": [
    "## Summary:\n",
    "\n",
    "* `threading` module ✅\n",
    "* `_thread`  module ❌\n",
    "\n",
    "A thread's life cycle is Instantiated > Started > Running > Finished."
   ]
  },
  {
   "cell_type": "markdown",
   "metadata": {},
   "source": [
    "# Exercise"
   ]
  },
  {
   "cell_type": "markdown",
   "metadata": {},
   "source": [
    "# Description\n",
    "\n",
    "This exercise has a similar setup to the first exercise.  It also works with 1000 files on the local disk, each of them named like `tmp-?????.numbers`, where each contains 20 whole numbers on separate lines.  As with the prior exercise, the operations you will perform are fast enough that a purely sequential approach is faster than a threaded one, but the balance would change with larger files and/or more complex operations.\n",
    "\n",
    "In four threads you should perform the following operations. Here the index positions are their 1-based position.  E.g., if this is the head of one of the files:\n",
    "\n",
    "```\n",
    "5\n",
    "32\n",
    "4\n",
    "18\n",
    "```\n",
    "\n",
    "Index 2 is 32; index 3 is 4; etc.\n",
    "\n",
    "* Read index 2 and 10 from each file, then multiply them together;\n",
    "* Read index 5 and 10 from each file, then substract index 5 from index 10;\n",
    "* Read index 11 and 15 from each file, then take the floor division of 11 by 15;\n",
    "* Read index 5 and 19 from each file, as x and y, then calculate $x^2 + y^2$.\n",
    "\n",
    "The function `sum_of_ops()` should return the total of all the quantities caclulated in the threads, along with a list of the partial results from each thread, in order.\n",
    "\n",
    "During testing or experimentation, you are likely to start the threads, but be sure to leave each of them in their created-but-not-started state before you run the tests."
   ]
  },
  {
   "cell_type": "markdown",
   "metadata": {},
   "source": [
    "# Setup"
   ]
  },
  {
   "cell_type": "code",
   "execution_count": 40,
   "metadata": {},
   "outputs": [],
   "source": [
    "from threading import Thread, current_thread\n",
    "from generate import create_files\n",
    "from time import sleep\n",
    "\n",
    "create_files('lesson-2')\n",
    "\n",
    "t1 = Thread(target=sleep, args=(1,), name=\"mult2,10\")\n",
    "t2 = Thread(target=sleep, args=(1,), name=\"diff5,10\")\n",
    "t3 = Thread(target=sleep, args=(1,), name=\"fdiv11,15\")\n",
    "t4 = Thread(target=sleep, args=(1,), name=\"hypot5,19\")\n",
    "\n",
    "def sum_of_ops(t1: Thread, t2: Thread, t3: Thread, t4: Thread) -> int:\n",
    "    [t.start() for t in (t1, t2, t3, t4)]\n",
    "    t1_result = [12, 34, 56]\n",
    "    t2_result = [23, 45, 67]\n",
    "    t3_result = [34, 56, 78]\n",
    "    t4_result = [45, 67, 89]\n",
    "    return 606, t1_result, t2_result, t3_result, t4_result"
   ]
  },
  {
   "cell_type": "markdown",
   "metadata": {},
   "source": [
    "# Solution"
   ]
  },
  {
   "cell_type": "code",
   "execution_count": 41,
   "metadata": {},
   "outputs": [],
   "source": [
    "from functools import partial\n",
    "from itertools import chain\n",
    "from glob import glob\n",
    "calculations = {}\n",
    "\n",
    "def getcalc(i, j, fn):\n",
    "    global calculations\n",
    "    name = current_thread().name\n",
    "    calculations[name] = []\n",
    "    for fname in glob('tmp-*.numbers'):\n",
    "        nums = [int(n) for n in open(fname)]\n",
    "        calculations[name].append(fn(nums[i-1], nums[j-1]))\n",
    "\n",
    "t1 = Thread(target=partial(getcalc, 2, 10, lambda n, m: n+m))\n",
    "t2 = Thread(target=partial(getcalc, 5, 10, lambda n, m: m-n))\n",
    "t3 = Thread(target=partial(getcalc, 11, 15, lambda n, m: n//m))\n",
    "t4 = Thread(target=partial(getcalc, 5, 19, lambda n, m: n**2 + m**2))\n",
    "\n",
    "def sum_of_ops(t1, t2, t3, t4):\n",
    "    [t.start() for t in (t1, t2, t3, t4)]\n",
    "    [t.join() for t in (t1, t2, t3, t4)]\n",
    "    total = sum(chain.from_iterable(calculations.values()))\n",
    "    return total, *calculations.values()"
   ]
  },
  {
   "cell_type": "markdown",
   "metadata": {},
   "source": [
    "# Test Cases"
   ]
  },
  {
   "cell_type": "code",
   "execution_count": 42,
   "metadata": {},
   "outputs": [],
   "source": [
    "def test_types():\n",
    "    assert callable(sum_of_ops)\n",
    "    for t in (t1, t2, t3, t4):\n",
    "        assert isinstance(t, Thread)\n",
    "    \n",
    "test_types()"
   ]
  },
  {
   "cell_type": "code",
   "execution_count": 43,
   "metadata": {},
   "outputs": [],
   "source": [
    "def test_thread_state():\n",
    "    for t in (t1, t2, t3, t4):\n",
    "        assert not t.is_alive() and not t.ident, t\n",
    "        \n",
    "test_thread_state()"
   ]
  },
  {
   "cell_type": "code",
   "execution_count": 44,
   "metadata": {},
   "outputs": [],
   "source": [
    "def test_results():\n",
    "    from math import prod\n",
    "    total, l1, l2, l3, l4 = sum_of_ops(t1, t2, t3, t4)\n",
    "    assert total == 6748263, f\"Wrong total {total}\"\n",
    "    for lst in (l1, l2, l3, l4):\n",
    "        assert len(lst) == 1000, \"Partial results of wrong length\"\n",
    "    assert prod(l1) % 78233 == 8953, \"Wrong list 1 calculations\"\n",
    "    assert sum(l2) == -2089, \"Wrong list 2 calculations\"\n",
    "    assert sum(l3) == 2359, \"Wrong list 3 calculations\"\n",
    "    assert prod(l4) % 82171 == 75175, \"Wrong list 4 calculations\"\n",
    "    \n",
    "test_results()"
   ]
  },
  {
   "cell_type": "markdown",
   "metadata": {},
   "source": [
    "-------------\n",
    "Materials licensed under [CC BY-NC-ND 4.0](https://creativecommons.org/licenses/by-nc-nd/4.0/) by the authors"
   ]
  }
 ],
 "metadata": {
  "celltoolbar": "Slideshow",
  "kernelspec": {
   "display_name": "Python 3 (ipykernel)",
   "language": "python",
   "name": "python3"
  },
  "language_info": {
   "codemirror_mode": {
    "name": "ipython",
    "version": 3
   },
   "file_extension": ".py",
   "mimetype": "text/x-python",
   "name": "python",
   "nbconvert_exporter": "python",
   "pygments_lexer": "ipython3",
   "version": "3.10.7"
  }
 },
 "nbformat": 4,
 "nbformat_minor": 4
}
