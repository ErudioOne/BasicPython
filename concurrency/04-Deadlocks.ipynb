{
 "cells": [
  {
   "cell_type": "markdown",
   "metadata": {},
   "source": [
    "![Erudio logo](../img/erudio-logo-small.png)"
   ]
  },
  {
   "cell_type": "markdown",
   "metadata": {
    "slideshow": {
     "slide_type": "slide"
    }
   },
   "source": [
    "## Deadlocks\n",
    "\n",
    "Deadlocks are the Charybdis to the Scylla of race conditions.  That is, avoiding one puts you in danger of suffering the other."
   ]
  },
  {
   "cell_type": "code",
   "execution_count": 3,
   "metadata": {
    "slideshow": {
     "slide_type": "fragment"
    }
   },
   "outputs": [],
   "source": [
    "from threading import Thread, current_thread, Lock\n",
    "from time import sleep\n",
    "from random import randint"
   ]
  },
  {
   "cell_type": "markdown",
   "metadata": {
    "slideshow": {
     "slide_type": "slide"
    }
   },
   "source": [
    "## A simple example\n",
    "\n",
    "Let's start by analyzing a simple example: transfers between two \"bank accounts\":"
   ]
  },
  {
   "cell_type": "code",
   "execution_count": 4,
   "metadata": {
    "slideshow": {
     "slide_type": "subslide"
    }
   },
   "outputs": [],
   "source": [
    "def move_funds(from_, to_):\n",
    "    global accounts, kill_switch\n",
    "    initial_total = accounts[from_] + accounts[to_] \n",
    "    name = current_thread().name\n",
    "    \n",
    "    for n in range(1_000_000):\n",
    "        transfer = randint(1, 100)\n",
    "        accounts[from_] -= transfer\n",
    "        accounts[to_] += transfer        \n",
    "        total = accounts[from_] + accounts[to_]\n",
    "        \n",
    "        # Exit if balance wrong or if another thread thinks so\n",
    "        if total != initial_total:\n",
    "            print(f\"{name} inconsistent balance: ${total:,} ({n:,} transactions)\")\n",
    "            kill_switch = True\n",
    "            break\n",
    "        elif kill_switch:\n",
    "            print(f\"{name} other thread flagged: ${total:,} ({n:,} transactions)\")\n",
    "            break\n",
    "    else:\n",
    "        print(f'{name} reached iteration limit. Stopping...')            "
   ]
  },
  {
   "cell_type": "markdown",
   "metadata": {
    "slideshow": {
     "slide_type": "subslide"
    }
   },
   "source": [
    "The augmented assigments, `accounts[from_] -= amount` and `accounts[to_] += amount` can potentially introduce race conditions."
   ]
  },
  {
   "cell_type": "code",
   "execution_count": 5,
   "metadata": {
    "slideshow": {
     "slide_type": "fragment"
    }
   },
   "outputs": [
    {
     "name": "stdout",
     "output_type": "stream",
     "text": [
      "Thread-5 (move_funds) reached iteration limit. Stopping...\n",
      "Thread-6 (move_funds) reached iteration limit. Stopping...\n",
      "Balances: {'acc1': 8188, 'acc2': 191812}\n"
     ]
    }
   ],
   "source": [
    "kill_switch = False\n",
    "accounts = {'acc1': 100_000, 'acc2': 100_000}\n",
    "\n",
    "t1 = Thread(target=move_funds, args=('acc1', 'acc2'))\n",
    "t2 = Thread(target=move_funds, args=('acc2', 'acc1'))\n",
    "\n",
    "t1.start()\n",
    "t2.start()\n",
    "t1.join()\n",
    "t2.join()\n",
    "\n",
    "print(\"Balances:\", accounts)"
   ]
  },
  {
   "cell_type": "markdown",
   "metadata": {
    "slideshow": {
     "slide_type": "slide"
    }
   },
   "source": [
    "## Adding Locks\n",
    "\n",
    "In the last lesson, you learned about locks. We can use those to try synchronizing access to the accounts. We'll create 2 locks, one for each account:"
   ]
  },
  {
   "cell_type": "code",
   "execution_count": 6,
   "metadata": {
    "slideshow": {
     "slide_type": "subslide"
    }
   },
   "outputs": [],
   "source": [
    "def move_funds2(from_, lock_from, to_, lock_to):\n",
    "    initial_total = accounts[from_] + accounts[to_]\n",
    "    name = current_thread().name\n",
    "    \n",
    "    for n in range(1_000_000):\n",
    "        amount = randint(1, 100)\n",
    "        with lock_from, lock_to:\n",
    "            accounts[from_] -= amount\n",
    "            accounts[to_] += amount\n",
    "\n",
    "            total = accounts[from_] + accounts[to_]\n",
    "            if total != initial_total:\n",
    "                print(f\"{name} inconsistent balance: ${total:,} ({n:,} transactions)\")\n",
    "                break\n",
    "    else:\n",
    "        print(f'{name} reached iteration limit. Stopping...')"
   ]
  },
  {
   "cell_type": "code",
   "execution_count": 7,
   "metadata": {
    "slideshow": {
     "slide_type": "subslide"
    }
   },
   "outputs": [
    {
     "name": "stdout",
     "output_type": "stream",
     "text": [
      "t1 alive? True | t2 alive? True | {'acc1': -136853, 'acc2': 336853}\n",
      "t1 alive? True | t2 alive? True | {'acc1': -746345, 'acc2': 946345}\n",
      "t1 alive? True | t2 alive? True | {'acc1': 646309, 'acc2': -446309}\n",
      "t1 alive? True | t2 alive? True | {'acc1': -236987, 'acc2': 436987}\n",
      "Thread-7 (move_funds2) reached iteration limit. Stopping...Thread-8 (move_funds2) reached iteration limit. Stopping...\n",
      "\n",
      "acc1 locked? False | acc2 locked? False\n"
     ]
    }
   ],
   "source": [
    "lock_acc1, lock_acc2 = Lock(), Lock()\n",
    "accounts = {'acc1': 100_000, 'acc2': 100_000}\n",
    "\n",
    "t1 = Thread(target=move_funds2, args=('acc1', lock_acc1, 'acc2', lock_acc2))\n",
    "t2 = Thread(target=move_funds2, args=('acc2', lock_acc1, 'acc1', lock_acc2))\n",
    "\n",
    "t1.start()\n",
    "t2.start()\n",
    "\n",
    "while t1.is_alive() or t2.is_alive():\n",
    "    print(\"t1 alive?\", t1.is_alive(), \"| t2 alive?\", t2.is_alive(), \"|\", accounts)\n",
    "    sleep(3)\n",
    "\n",
    "print(\"acc1 locked?\", lock_acc1.locked(), \"| acc2 locked?\", lock_acc2.locked())"
   ]
  },
  {
   "cell_type": "markdown",
   "metadata": {
    "slideshow": {
     "slide_type": "subslide"
    }
   },
   "source": [
    "It worked (this time)! Access to the accounts is protected by the locks. \n",
    "\n",
    "But there is a danger lurking here. We succeeded more or less accidentally because of the order in which locks were acquired.  In fact, the initial code is conceptually wrong because it used `lock_acc1` as the protection of `acc2`, for example.  \n",
    "\n",
    "If we make a small change, altering the order of the locks that are passed to our threads, we will find ourselves deadlocked:"
   ]
  },
  {
   "cell_type": "code",
   "execution_count": 8,
   "metadata": {
    "slideshow": {
     "slide_type": "subslide"
    }
   },
   "outputs": [
    {
     "name": "stdout",
     "output_type": "stream",
     "text": [
      "Threads created: {'acc1': 100000, 'acc2': 100000}\n",
      "Threads started: {'acc1': -648918, 'acc2': 848918}\n",
      "{t1.name} alive? True | {t2.name} alive? True | {'acc1': -648918, 'acc2': 848918}\n",
      "{t1.name} alive? True | {t2.name} alive? True | {'acc1': -648918, 'acc2': 848918}\n",
      "{t1.name} alive? True | {t2.name} alive? True | {'acc1': -648918, 'acc2': 848918}\n",
      "{t1.name} alive? True | {t2.name} alive? True | {'acc1': -648918, 'acc2': 848918}\n",
      "{t1.name} alive? True | {t2.name} alive? True | {'acc1': -648918, 'acc2': 848918}\n",
      "{t1.name} alive? True | {t2.name} alive? True | {'acc1': -648918, 'acc2': 848918}\n",
      "{t1.name} alive? True | {t2.name} alive? True | {'acc1': -648918, 'acc2': 848918}\n",
      "{t1.name} alive? True | {t2.name} alive? True | {'acc1': -648918, 'acc2': 848918}\n"
     ]
    }
   ],
   "source": [
    "lock_acc1, lock_acc2 = Lock(), Lock()\n",
    "accounts = {'acc1': 100_000, 'acc2': 100_000}\n",
    "\n",
    "t1 = Thread(target=move_funds2, args=('acc1', lock_acc1, 'acc2', lock_acc2))\n",
    "t2 = Thread(target=move_funds2, args=('acc2', lock_acc2, 'acc1', lock_acc1))\n",
    "print(\"Threads created:\", accounts)\n",
    "t1.start()\n",
    "t2.start()\n",
    "print(\"Threads started:\", accounts)\n",
    "\n",
    "for _ in range(8):\n",
    "    print(\"{t1.name} alive?\", t1.is_alive(), \"| {t2.name} alive?\", t2.is_alive(), \"|\", accounts)\n",
    "    sleep(3)"
   ]
  },
  {
   "cell_type": "markdown",
   "metadata": {
    "slideshow": {
     "slide_type": "subslide"
    }
   },
   "source": [
    "Both locks remain locked."
   ]
  },
  {
   "cell_type": "code",
   "execution_count": 9,
   "metadata": {
    "slideshow": {
     "slide_type": "fragment"
    }
   },
   "outputs": [
    {
     "data": {
      "text/plain": [
       "(True, True)"
      ]
     },
     "execution_count": 9,
     "metadata": {},
     "output_type": "execute_result"
    }
   ],
   "source": [
    "lock_acc1.locked(), lock_acc2.locked()"
   ]
  },
  {
   "cell_type": "markdown",
   "metadata": {
    "slideshow": {
     "slide_type": "subslide"
    }
   },
   "source": [
    "These threads will never die, and the locks will never be released.  We can do something a bit hack-ish to repeatedly release the locks until both threads crash and end.  This would almost never be a good idea in a production program, but we do it just for teaching."
   ]
  },
  {
   "cell_type": "code",
   "execution_count": 15,
   "metadata": {
    "slideshow": {
     "slide_type": "subslide"
    }
   },
   "outputs": [
    {
     "name": "stderr",
     "output_type": "stream",
     "text": [
      "Exception in thread Exception in thread Thread-18:\n",
      "Traceback (most recent call last):\n",
      "  File \"/home/dmertz/miniconda3/envs/INE/lib/python3.8/threading.py\", line 932, in _bootstrap_inner\n",
      "Thread-19:\n",
      "Traceback (most recent call last):\n",
      "  File \"/home/dmertz/miniconda3/envs/INE/lib/python3.8/threading.py\", line 932, in _bootstrap_inner\n",
      "        self.run()\n",
      "  File \"/home/dmertz/miniconda3/envs/INE/lib/python3.8/threading.py\", line 870, in run\n",
      "self.run()\n",
      "  File \"/home/dmertz/miniconda3/envs/INE/lib/python3.8/threading.py\", line 870, in run\n",
      "        self._target(*self._args, **self._kwargs)\n",
      "self._target(*self._args, **self._kwargs)  File \"<ipython-input-4-4b94722f1175>\", line 14, in move_funds2\n",
      "\n",
      "  File \"<ipython-input-4-4b94722f1175>\", line 14, in move_funds2\n",
      "RuntimeErrorRuntimeError: release unlocked lock\n",
      ": release unlocked lock\n"
     ]
    },
    {
     "name": "stdout",
     "output_type": "stream",
     "text": [
      "25 errors of type RuntimeError('release unlocked lock')\n"
     ]
    },
    {
     "data": {
      "text/plain": [
       "(False, False, False, False)"
      ]
     },
     "execution_count": 15,
     "metadata": {},
     "output_type": "execute_result"
    }
   ],
   "source": [
    "nerr, err_info = 0, None\n",
    "while t1.is_alive() or t2.is_alive():\n",
    "    try:\n",
    "        lock_acc1.release(), lock_acc2.release()\n",
    "    except Exception as err:\n",
    "        sleep(1e-9)\n",
    "        err_info = repr(err)\n",
    "        nerr += 1\n",
    "        \n",
    "print(f\"{nerr:,} errors of type {err_info}\")\n",
    "# Status of threads and locks\n",
    "t1.is_alive(), lock_acc1.locked(), t2.is_alive(), lock_acc2.locked()"
   ]
  },
  {
   "cell_type": "markdown",
   "metadata": {
    "slideshow": {
     "slide_type": "slide"
    }
   },
   "source": [
    "## What are Deadlocks?\n",
    "\n",
    "A deadlock occurs when multiple  threads (or processes, or nodes in a cluster) are mutually suspended while waiting for each other to signal processing may continue; none can get there because of the circular dependency though.  As soon as there are at least two resources that might be needed, deadlocks are a danger.\n",
    "\n",
    "\n",
    "| Step | Status       | Thread-1            | Thread-2            | Thread-3 \n",
    "|:-----|:-------------|:--------------------|:--------------------|:--------------------\n",
    "| 1    | Success      | Acquire *lock_A*    | Acquire *lock_B*    | Acquire *lock_C*        \n",
    "| 2    | **Blocked**  | **Wait for lock_C** | **Wait for lock_A** | **Wait for lock_B**\n",
    "| 3    | Cannot Reach | Wait for lock_B     | Wait for lock_C     | Wait for lock_A\n",
    "| 4    | Cannot Reach | Work with A/B/C     | Work with A/B/C     | Work with A/B/C\n",
    "| 5    | Cannot Reach | Release *lock_B*    | Release *lock_C*    | Release *lock_A*\n",
    "| 6    | Cannot Reach | Release *lock_C*    | Release *lock_A*    | Release *lock_B*\n",
    "| 7    | Cannot Reach | Release *lock_A*    | Release *lock_B*    | Release *lock_C*"
   ]
  },
  {
   "cell_type": "markdown",
   "metadata": {
    "slideshow": {
     "slide_type": "subslide"
    }
   },
   "source": [
    "In *Operating Systems*, Avi Silberschatz describes a non-computing example:\n",
    "\n",
    "> Perhaps the best illustration of a deadlock can be drawn from a law passed by the Kansas legislature early in the 20th century. It said, in part: “When two trains approach each other at a crossing, both shall come to a full stop and neither shall start up again until the other has gone.”"
   ]
  },
  {
   "cell_type": "markdown",
   "metadata": {
    "slideshow": {
     "slide_type": "subslide"
    }
   },
   "source": [
    "### How to prevent deadlocks\n",
    "\n",
    "The unfortunate truth is that it is **very hard** to prevent deadlocks. \n",
    "\n",
    "One simple technique is to always use timeouts when trying to acquire locks. If you are trying to acquire N shared locks, if you can't acquire all N, you can release them all and start over. We can refactor the funds transfer this way."
   ]
  },
  {
   "cell_type": "code",
   "execution_count": 9,
   "metadata": {
    "slideshow": {
     "slide_type": "subslide"
    }
   },
   "outputs": [],
   "source": [
    "def move_funds3(from_, lock_from, to_, lock_to):\n",
    "    name, T = current_thread().name, LOCK_TIMEOUT\n",
    "    all_locks = [lock_from, lock_to]\n",
    "    \n",
    "    for n in range(10_000):\n",
    "        amount = randint(1, 100)\n",
    "        \n",
    "        # Acquire all locks, if failure, release and keep trying\n",
    "        while not all(locks_good := [l.acquire(timeout=T) for l in all_locks]):\n",
    "            for i, acquired in enumerate(locks_good):\n",
    "                if acquired:\n",
    "                    all_locks[i].release()\n",
    "        \n",
    "        # Perform the action on locked resources\n",
    "        # ...omit validation on 'accounts' in earlier versions\n",
    "        accounts[from_] -= amount\n",
    "        accounts[to_] += amount\n",
    "        \n",
    "        # Release all locks\n",
    "        for lock in all_locks:\n",
    "            lock.release()\n",
    "\n",
    "    print(f'{name} reached iteration limit. Stopping...')"
   ]
  },
  {
   "cell_type": "code",
   "execution_count": 10,
   "metadata": {
    "slideshow": {
     "slide_type": "subslide"
    }
   },
   "outputs": [
    {
     "name": "stdout",
     "output_type": "stream",
     "text": [
      "t1 alive? True | t2 alive? True | {'acc1': -163645, 'acc2': 363645}\n",
      "t1 alive? True | t2 alive? True | {'acc1': -162924, 'acc2': 362924}\n",
      "t1 alive? True | t2 alive? True | {'acc1': -155605, 'acc2': 355605}\n",
      "t1 alive? True | t2 alive? True | {'acc1': -140102, 'acc2': 340102}\n",
      "Thread-10 reached iteration limit. Stopping...\n",
      "Thread-11 reached iteration limit. Stopping...\n",
      "acc1 locked? False | acc2 locked? False\n",
      "Validation: 200,000 == 200,000\n"
     ]
    }
   ],
   "source": [
    "LOCK_TIMEOUT = .001\n",
    "lock_acc1, lock_acc2 = Lock(), Lock()\n",
    "accounts = {'acc1': 100_000, 'acc2': 100_000}\n",
    "\n",
    "t1 = Thread(target=move_funds3, args=('acc1', lock_acc1, 'acc2', lock_acc2))\n",
    "t2 = Thread(target=move_funds3, args=('acc2', lock_acc2, 'acc1', lock_acc1))\n",
    "\n",
    "t1.start()\n",
    "t2.start()\n",
    "\n",
    "while t1.is_alive() or t2.is_alive():\n",
    "    print(\"t1 alive?\", t1.is_alive(), \"| t2 alive?\", t2.is_alive(), \"|\", accounts)\n",
    "    sleep(3)\n",
    "\n",
    "print(\"acc1 locked?\", lock_acc1.locked(), \"| acc2 locked?\", lock_acc2.locked())\n",
    "print(f\"Validation: {sum(accounts.values()):,} == 200,000\")"
   ]
  },
  {
   "cell_type": "markdown",
   "metadata": {
    "slideshow": {
     "slide_type": "slide"
    }
   },
   "source": [
    "## Thread Synchronization Summary\n",
    "\n",
    "Other synchronization mechanisms outside this course include `Semaphores`, `Conditions`, `Events`, `Barriers`, etc. These follow the same broad principles as locks, but vary in specifics.\n",
    "\n",
    "An unfortunate but necessary takeaway from this lesson is: **synchronization is HARD, and error/bug prone**. Even the most experience developers create bugs when writing synchronized code..\n",
    "\n",
    "However, synchronization is a necessary evil as well. Race conditions corrupt data, and many problems demand concurrency. In the next lessons we look at additional approaches to concurrent code that can ease the pitfalls of synchronization.\n",
    "\n"
   ]
  },
  {
   "cell_type": "markdown",
   "metadata": {},
   "source": [
    "# Exercise\n",
    "## Description\n",
    "\n",
    "In this exercise we continue with a similar setup to the other exercises.  We generate 50 files on disk, each of them containing 20 Natural Numbers below 100, one per line.  In a similar manner to the prior exercise, our program wishes to operate with 20 threads, each of them dealing with one line number of each corresponding file.\n",
    "\n",
    "For this task, each thread, named 'Line-N' (where N is the number of the line it handles), will read a series of instructions that consist of:\n",
    "\n",
    "1. Read the content of three specified files, 'A', 'B', and 'C'.\n",
    "2. Shuffle the values on line N between the files in a \"clockwise\" fashion.\n",
    "3. Write each file to disk with adjusted content.\n",
    "\n",
    "For example, if line 17 of the files initially contain A=23, B=14, and C=99 , after one operation, the several line 17s will become A=99, B=23, and C=14.\n",
    "\n",
    "As with other examples, for these small files on a fast disk, a serial approach remains faster.  But as the problem scales to larger files with slower access, threads would begin to win.\n",
    "\n",
    "There are twin dangers here.  If you simply write to the same file from different threads, without locks, you will most likely encounter a race condition where one thread's shuffle overwrites a file that should have a different line shuffled in another thread.  On the other hand, if every file is locked before use, different threads may try to acquire competing resources in a circular manner, causing deadlock.\n",
    "\n",
    "The `oplist` variable contains entries like below, describing an action.  Each thread should only act on those actions addressed to it and disregard all others (as mentioned, a serial approach would achieve the functional purpose, but is not what this exercise is for).  This poses no danger because reading through `oplist` in each thread is **read-only** and no race condition can hence occur. Thinking about the problem will let you realize that shuffles must be performed in the exact listed order, per line, to obtain the same final state.  Operation descriptions look something like this:\n",
    "\n",
    "```python\n",
    "[...,\n",
    " ['Line-19', 'tmp-Abume.numbers', 'tmp-DTfsx.numbers', 'tmp-jXmRn.numbers'],\n",
    " ['Line-2', 'tmp-TiyKw.numbers', 'tmp-QwKin.numbers', 'tmp-pFocs.numbers'],\n",
    " ['Line-13', 'tmp-DTSWm.numbers', 'tmp-yJmoQ.numbers', 'tmp-DTfsx.numbers'],\n",
    " ...\n",
    "]\n",
    "```\n",
    "\n",
    "Create a suitable `shuffle()` function that will neither deadlock nor create a race condition."
   ]
  },
  {
   "cell_type": "markdown",
   "metadata": {},
   "source": [
    "## Setup"
   ]
  },
  {
   "cell_type": "code",
   "execution_count": 10,
   "metadata": {},
   "outputs": [],
   "source": [
    "from threading import Thread, Lock\n",
    "from pathlib import Path\n",
    "\n",
    "from generate import operations\n",
    "names, oplist = operations('lesson-4')\n",
    "\n",
    "# Create lock for each file\n",
    "locks = {name: Lock() for name in names}\n",
    "\n",
    "def shuffle(lineno):\n",
    "    # This version will DEADLOCK!\n",
    "    line_name = f\"Line-{lineno}\"\n",
    "    for opnum, op in enumerate(oplist):\n",
    "        if op[0] == line_name:\n",
    "            A, B, C = op[1:]\n",
    "            with locks[A], locks[B], locks[C]:\n",
    "                linesA = Path(A).read_text().split('\\n')\n",
    "                linesB = Path(B).read_text().split('\\n')\n",
    "                linesC = Path(C).read_text().split('\\n')\n",
    "                # 1-based line numbers, 0-based list\n",
    "                linesA[lineno-1] = linesC[lineno-1]\n",
    "                linesB[lineno-1] = linesA[lineno-1]\n",
    "                linesC[lineno-1] = linesB[lineno-1]\n",
    "                # Write the shuffled data back\n",
    "                Path(A).write_text('\\n'.join(linesA))\n",
    "                Path(B).write_text('\\n'.join(linesB))\n",
    "                Path(C).write_text('\\n'.join(linesC))\n",
    "\n",
    "# After running all threads, `results_list` should contain right answers\n",
    "threads = [Thread(target=shuffle, args=(i,), name=f\"Line-{i}\") for i in range(1, 21)]\n",
    "\n",
    "# Should be able to run these to get correct modifications\n",
    "# [t.start() for t in threads]\n",
    "# [t.join() for t in threads]"
   ]
  },
  {
   "cell_type": "markdown",
   "metadata": {},
   "source": [
    "## Solution"
   ]
  },
  {
   "cell_type": "code",
   "execution_count": 11,
   "metadata": {},
   "outputs": [],
   "source": [
    "# Note, the solution presented here is the SIMPLEST refactoring\n",
    "# For extra credit consider other approaches!\n",
    "#  * For example, one thread could handle I/O while others shuffle\n",
    "#  * Or, first pull off all \"line N\" values, and operate each\n",
    "#       shuffle thread on independent data (assemble at end)\n",
    "#  * Or ....\n",
    "\n",
    "def shuffle(lineno):\n",
    "    line_name = f\"Line-{lineno}\"\n",
    "    for opnum, op in enumerate(oplist):\n",
    "        if op[0] == line_name:\n",
    "            A, B, C = op[1:]\n",
    "            all_locks = (locks[A], locks[B], locks[C])\n",
    "            \n",
    "            # Keep trying to get all locks\n",
    "            while not all(locks_good := [l.acquire(timeout=0.01) for l in all_locks]):\n",
    "                for i, acquired in enumerate(locks_good):\n",
    "                    if acquired:\n",
    "                        all_locks[i].release()\n",
    "            \n",
    "            linesA = Path(A).read_text().split('\\n')\n",
    "            linesB = Path(B).read_text().split('\\n')\n",
    "            linesC = Path(C).read_text().split('\\n')\n",
    "            # 1-based line numbers, 0-based list\n",
    "            linesA[lineno-1] = linesC[lineno-1]\n",
    "            linesB[lineno-1] = linesA[lineno-1]\n",
    "            linesC[lineno-1] = linesB[lineno-1]\n",
    "            # Write the shuffled data back\n",
    "            Path(A).write_text('\\n'.join(linesA))\n",
    "            Path(B).write_text('\\n'.join(linesB))\n",
    "            Path(C).write_text('\\n'.join(linesC))\n",
    "            \n",
    "            # Release all locks\n",
    "            for lock in all_locks:\n",
    "                lock.release()"
   ]
  },
  {
   "cell_type": "markdown",
   "metadata": {},
   "source": [
    "## Test Cases"
   ]
  },
  {
   "cell_type": "code",
   "execution_count": 12,
   "metadata": {},
   "outputs": [],
   "source": [
    "def test_thread_count():\n",
    "    assert len(threads) >= 20\n",
    "    \n",
    "test_thread_count()"
   ]
  },
  {
   "cell_type": "markdown",
   "metadata": {},
   "source": [
    "### NOTE \n",
    "If you are running this code in windows, the below function will fail since the ALARM signal called internally by timeout is not implemented in windows."
   ]
  },
  {
   "cell_type": "code",
   "execution_count": 13,
   "metadata": {},
   "outputs": [
    {
     "ename": "AttributeError",
     "evalue": "module 'signal' has no attribute 'SIGALRM'",
     "output_type": "error",
     "traceback": [
      "\u001b[1;31m---------------------------------------------------------------------------\u001b[0m",
      "\u001b[1;31mAttributeError\u001b[0m                            Traceback (most recent call last)",
      "Cell \u001b[1;32mIn [13], line 17\u001b[0m\n\u001b[0;32m     14\u001b[0m         \u001b[38;5;28;01mexcept\u001b[39;00m \u001b[38;5;167;01mTimeoutError\u001b[39;00m \u001b[38;5;28;01mas\u001b[39;00m err:\n\u001b[0;32m     15\u001b[0m             \u001b[38;5;28;01massert\u001b[39;00m \u001b[38;5;28;01mFalse\u001b[39;00m, \u001b[38;5;124m\"\u001b[39m\u001b[38;5;124mTimeout indicates probable deadlock\u001b[39m\u001b[38;5;124m\"\u001b[39m\n\u001b[1;32m---> 17\u001b[0m \u001b[43mtest_deadlock\u001b[49m\u001b[43m(\u001b[49m\u001b[43m)\u001b[49m\n",
      "Cell \u001b[1;32mIn [13], line 10\u001b[0m, in \u001b[0;36mtest_deadlock\u001b[1;34m()\u001b[0m\n\u001b[0;32m      7\u001b[0m threads \u001b[38;5;241m=\u001b[39m [Thread(target\u001b[38;5;241m=\u001b[39mshuffle, args\u001b[38;5;241m=\u001b[39m(i,), name\u001b[38;5;241m=\u001b[39m\u001b[38;5;124mf\u001b[39m\u001b[38;5;124m\"\u001b[39m\u001b[38;5;124mLine-\u001b[39m\u001b[38;5;132;01m{\u001b[39;00mi\u001b[38;5;132;01m}\u001b[39;00m\u001b[38;5;124m\"\u001b[39m) \u001b[38;5;28;01mfor\u001b[39;00m i \u001b[38;5;129;01min\u001b[39;00m \u001b[38;5;28mrange\u001b[39m(\u001b[38;5;241m1\u001b[39m, \u001b[38;5;241m21\u001b[39m)]\n\u001b[0;32m      9\u001b[0m \u001b[38;5;66;03m# Try to process all operations\u001b[39;00m\n\u001b[1;32m---> 10\u001b[0m \u001b[38;5;28;01mwith\u001b[39;00m timeout:\n\u001b[0;32m     11\u001b[0m     \u001b[38;5;28;01mtry\u001b[39;00m:\n\u001b[0;32m     12\u001b[0m         [t\u001b[38;5;241m.\u001b[39mstart() \u001b[38;5;28;01mfor\u001b[39;00m t \u001b[38;5;129;01min\u001b[39;00m threads]\n",
      "File \u001b[1;32m~\\Documents\\freelance\\erudio\\dropbox\\concurrency\\04-Deadlocks\\timeout.py:10\u001b[0m, in \u001b[0;36mTimeout.__enter__\u001b[1;34m(self)\u001b[0m\n\u001b[0;32m      9\u001b[0m \u001b[38;5;28;01mdef\u001b[39;00m \u001b[38;5;21m__enter__\u001b[39m(\u001b[38;5;28mself\u001b[39m):\n\u001b[1;32m---> 10\u001b[0m     signal\u001b[38;5;241m.\u001b[39msignal(\u001b[43msignal\u001b[49m\u001b[38;5;241;43m.\u001b[39;49m\u001b[43mSIGALRM\u001b[49m, \u001b[38;5;28mself\u001b[39m\u001b[38;5;241m.\u001b[39mhandle_timeout)\n\u001b[0;32m     11\u001b[0m     signal\u001b[38;5;241m.\u001b[39malarm(\u001b[38;5;28mself\u001b[39m\u001b[38;5;241m.\u001b[39mseconds)\n",
      "\u001b[1;31mAttributeError\u001b[0m: module 'signal' has no attribute 'SIGALRM'"
     ]
    }
   ],
   "source": [
    "def test_deadlock():\n",
    "    from timeout import timeout\n",
    "    \n",
    "    # Setup original state of files\n",
    "    names, oplist = operations('lesson-4')\n",
    "    # Create fresh threads\n",
    "    threads = [Thread(target=shuffle, args=(i,), name=f\"Line-{i}\") for i in range(1, 21)]\n",
    "    \n",
    "    # Try to process all operations\n",
    "    with timeout:\n",
    "        try:\n",
    "            [t.start() for t in threads]\n",
    "            [t.join() for t in threads]\n",
    "        except TimeoutError as err:\n",
    "            assert False, \"Timeout indicates probable deadlock\"\n",
    "        \n",
    "test_deadlock()"
   ]
  },
  {
   "cell_type": "code",
   "execution_count": 14,
   "metadata": {},
   "outputs": [],
   "source": [
    "def test_modifications():\n",
    "    # DO NOT run this test until test_deadlock() passes!\n",
    "    from hashlib import md5\n",
    "    from pathlib import Path\n",
    "    # Setup original state of files\n",
    "    names, oplist = operations('lesson-4')\n",
    "    \n",
    "    # Should NEVER fail since it only verifies utility func\n",
    "    cat = ''.join(Path(name).read_text() for name in names)\n",
    "    hash_orig = md5(cat.encode()).hexdigest()\n",
    "    assert hash_orig == '32f11af64b0391f624d954b2988695c6', f\"Wrong MD5sum {hash_orig}\"\n",
    "\n",
    "    # Create fresh threads\n",
    "    threads = [Thread(target=shuffle, args=(i,)) for i in range(1, 21)]\n",
    "    [t.start() for t in threads]\n",
    "    [t.join() for t in threads]\n",
    "    cat = ''.join(Path(name).read_text() for name in names)\n",
    "    hash_mod = md5(cat.encode()).hexdigest()\n",
    "    assert hash_mod == 'f1fc8076c8905c27a196fb41d8454b2a', f\"Wrong MD5sum {hash_mod}\"  \n",
    "    \n",
    "test_modifications()"
   ]
  },
  {
   "cell_type": "markdown",
   "metadata": {},
   "source": [
    "-------------\n",
    "Materials licensed under [CC BY-NC-ND 4.0](https://creativecommons.org/licenses/by-nc-nd/4.0/) by the authors"
   ]
  },
  {
   "cell_type": "code",
   "execution_count": null,
   "metadata": {},
   "outputs": [],
   "source": []
  }
 ],
 "metadata": {
  "celltoolbar": "Slideshow",
  "kernelspec": {
   "display_name": "Python 3 (ipykernel)",
   "language": "python",
   "name": "python3"
  },
  "language_info": {
   "codemirror_mode": {
    "name": "ipython",
    "version": 3
   },
   "file_extension": ".py",
   "mimetype": "text/x-python",
   "name": "python",
   "nbconvert_exporter": "python",
   "pygments_lexer": "ipython3",
   "version": "3.10.7"
  }
 },
 "nbformat": 4,
 "nbformat_minor": 4
}
