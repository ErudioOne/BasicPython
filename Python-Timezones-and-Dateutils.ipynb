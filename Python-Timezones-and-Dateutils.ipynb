{
 "cells": [
  {
   "cell_type": "markdown",
   "metadata": {},
   "source": [
    "![Erudio logo](img/erudio-logo-small.png)"
   ]
  },
  {
   "cell_type": "markdown",
   "metadata": {
    "slideshow": {
     "slide_type": "slide"
    }
   },
   "source": [
    "# Time Zones\n",
    "\n",
    "Timezones, a critical aspect of programming that often poses challenges for developers. Understanding timezones is not just about dealing with different regions on the globe; it's a key skill for creating robust and accurate applications with time-related functionalities."
   ]
  },
  {
   "cell_type": "markdown",
   "metadata": {
    "slideshow": {
     "slide_type": "subslide"
    }
   },
   "source": [
    "## The Nature of Time\n",
    "\n",
    "Getting datetimes **entirely** right in the face of timezones is surprisingly difficult, and the more effort you put into it, the more difficulty you discover.  In this lesson, we will make a first approximation, and a second approximation, toward getting the general problem of timezones right.  Subsequent approximations are outside the scope of this course."
   ]
  },
  {
   "cell_type": "code",
   "execution_count": 1,
   "metadata": {
    "slideshow": {
     "slide_type": "fragment"
    }
   },
   "outputs": [],
   "source": [
    "from datetime import timezone, datetime, timedelta\n",
    "from dateutil import tz\n",
    "start = datetime.now()"
   ]
  },
  {
   "cell_type": "markdown",
   "metadata": {
    "slideshow": {
     "slide_type": "slide"
    }
   },
   "source": [
    "## First Pass\n",
    "\n",
    "The Python standard library module, `datetime` has rudimentary handling of timezones, and provides a framework for the third party tool we discuss in this lesson.  In this lesson, we will only look at datetime objects, which are the only ones with a concept of timezone."
   ]
  },
  {
   "cell_type": "markdown",
   "metadata": {
    "slideshow": {
     "slide_type": "subslide"
    }
   },
   "source": [
    "Suppose we have several geographic locations in our organization, and they record events that occur at their location.  The record they make—this might be a server log file, or it might be a human action, for example—shows the local time when something occurred."
   ]
  },
  {
   "cell_type": "markdown",
   "metadata": {
    "slideshow": {
     "slide_type": "fragment"
    }
   },
   "source": [
    "Being able to ask questions like whether one event occurred before another, or what was the time duration between these events is often relevant.  Thank about bank or trading transactions, for example; or of latency in computer servers being monitored."
   ]
  },
  {
   "cell_type": "markdown",
   "metadata": {
    "slideshow": {
     "slide_type": "subslide"
    }
   },
   "source": [
    "We can define time zones where these local offices are operating and recording."
   ]
  },
  {
   "cell_type": "code",
   "execution_count": 2,
   "metadata": {
    "slideshow": {
     "slide_type": "fragment"
    }
   },
   "outputs": [
    {
     "name": "stdout",
     "output_type": "stream",
     "text": [
      "     Nepal | 5:45:00\n",
      "      Cuba | -1 day, 19:00:00\n",
      "   US-East | -1 day, 19:00:00\n",
      "  US-Artic | -1 day, 15:00:00\n"
     ]
    }
   ],
   "source": [
    "katmandu = timezone(timedelta(hours=5, minutes=45), name=\"Nepal\")\n",
    "havana = timezone(timedelta(hours=-5), name=\"Cuba\")\n",
    "newyork = timezone(timedelta(hours=-5), name=\"US-East\")\n",
    "nome = timezone(timedelta(hours=-9), name=\"US-Artic\")\n",
    "\n",
    "for server in [katmandu, havana, newyork, nome]:\n",
    "    print(f\"{str(server):>10} | {server.utcoffset(start)}\")"
   ]
  },
  {
   "cell_type": "markdown",
   "metadata": {
    "slideshow": {
     "slide_type": "subslide"
    }
   },
   "source": [
    "Let us record several events that we might want to process, about activities of Santa Claus and his elves.  Notice that now when we create datetimes, we add the optional `tzinfo` field with a timezone object in each."
   ]
  },
  {
   "cell_type": "code",
   "execution_count": 3,
   "metadata": {
    "slideshow": {
     "slide_type": "fragment"
    }
   },
   "outputs": [],
   "source": [
    "elves = {\"Give Hartaj train set\":\n",
    "             datetime(2020, 12, 24, 13, 30, 45, tzinfo=katmandu),\n",
    "         \"Build a train set\":\n",
    "             datetime(2020, 12, 23, 22, 35, 45, tzinfo=nome),\n",
    "         \"Bagels for Spring Party\":\n",
    "             datetime(2020, 3, 7, 14, 0, 0, tzinfo=newyork),\n",
    "         \"Rum for Spring Party\":\n",
    "             datetime(2020, 3, 8, 0, 30, 0, tzinfo=havana),\n",
    "         \"Lox for Spring Party\":\n",
    "             datetime(2020, 3, 8, 0, 30, 0, tzinfo=newyork),\n",
    "         \"Back for Pineapple\":\n",
    "             datetime(2020, 3, 8, 14, 0, 0, tzinfo=havana),\n",
    "        }"
   ]
  },
  {
   "cell_type": "markdown",
   "metadata": {
    "slideshow": {
     "slide_type": "subslide"
    }
   },
   "source": [
    "Santa's workshop would like to examine how efficient his magic elves are in their \"build on demand\" schedule for toys, but the even times in various time zones make it less than immediately apparent."
   ]
  },
  {
   "cell_type": "code",
   "execution_count": 4,
   "metadata": {
    "slideshow": {
     "slide_type": "fragment"
    }
   },
   "outputs": [
    {
     "name": "stdout",
     "output_type": "stream",
     "text": [
      "0:10:00\n"
     ]
    }
   ],
   "source": [
    "build_on_demand = (elves['Give Hartaj train set'] \n",
    "                     - elves['Build a train set'])\n",
    "print(build_on_demand)"
   ]
  },
  {
   "cell_type": "markdown",
   "metadata": {
    "slideshow": {
     "slide_type": "fragment"
    }
   },
   "source": [
    "Not bad, managing to build the train then deliver it to Katmandu in 10 minutes.  Magic powers definitely aid in the Taylorist supply chain."
   ]
  },
  {
   "cell_type": "markdown",
   "metadata": {
    "slideshow": {
     "slide_type": "subslide"
    }
   },
   "source": [
    "We might also want to compare events in different time zones for equality or inequality."
   ]
  },
  {
   "cell_type": "code",
   "execution_count": 5,
   "metadata": {
    "slideshow": {
     "slide_type": "fragment"
    }
   },
   "outputs": [
    {
     "name": "stdout",
     "output_type": "stream",
     "text": [
      "Cuba / US-East\n"
     ]
    },
    {
     "data": {
      "text/plain": [
       "True"
      ]
     },
     "execution_count": 5,
     "metadata": {},
     "output_type": "execute_result"
    }
   ],
   "source": [
    "print(elves['Rum for Spring Party'].tzinfo, \"/\",\n",
    "      elves['Lox for Spring Party'].tzinfo)\n",
    "elves['Rum for Spring Party'] == elves['Lox for Spring Party']"
   ]
  },
  {
   "cell_type": "code",
   "execution_count": 6,
   "metadata": {
    "slideshow": {
     "slide_type": "fragment"
    }
   },
   "outputs": [
    {
     "data": {
      "text/plain": [
       "True"
      ]
     },
     "execution_count": 6,
     "metadata": {},
     "output_type": "execute_result"
    }
   ],
   "source": [
    "elves[\"Bagels for Spring Party\"] < elves[\"Rum for Spring Party\"]"
   ]
  },
  {
   "cell_type": "markdown",
   "metadata": {
    "slideshow": {
     "slide_type": "subslide"
    }
   },
   "source": [
    "We can ask of any datetime what its offset from Coordinated Universal Time (UTC) is."
   ]
  },
  {
   "cell_type": "code",
   "execution_count": 7,
   "metadata": {
    "slideshow": {
     "slide_type": "fragment"
    }
   },
   "outputs": [
    {
     "name": "stdout",
     "output_type": "stream",
     "text": [
      "US-East -1 day, 19:00:00\n"
     ]
    }
   ],
   "source": [
    "bagels = elves['Bagels for Spring Party']\n",
    "print(bagels.tzname(), datetime.utcoffset(bagels))"
   ]
  },
  {
   "cell_type": "code",
   "execution_count": 8,
   "metadata": {
    "slideshow": {
     "slide_type": "fragment"
    }
   },
   "outputs": [
    {
     "name": "stdout",
     "output_type": "stream",
     "text": [
      "US-Artic -1 day, 15:00:00\n"
     ]
    }
   ],
   "source": [
    "build = elves['Build a train set']\n",
    "print(build.tzname(), datetime.utcoffset(build))"
   ]
  },
  {
   "cell_type": "markdown",
   "metadata": {
    "slideshow": {
     "slide_type": "slide"
    }
   },
   "source": [
    "## Second Pass\n",
    "\n",
    "The simplified time zones defined using standard Python handle a fixed offset from UTC.  Actual time zones are much more complicated though.  Here we will use the third-party module `dateutil` to access the *IANA time zone database*—also called *tzdata*, the *zoneinfo database*, or *Olson database*—to get more sophisticated `timezone` objects."
   ]
  },
  {
   "cell_type": "markdown",
   "metadata": {
    "slideshow": {
     "slide_type": "fragment"
    }
   },
   "source": [
    "At the time I am writing, Python 3.9 is in release candidate 1.  When it 3.9 arrives, it will contain a new standard library module called `zoneinfo` which will provide access to the IANA time zone database.  However, `dateutil` will remain a useful module, since it contains numerous other capabilities; it is discussed more in the next lesson."
   ]
  },
  {
   "cell_type": "markdown",
   "metadata": {
    "slideshow": {
     "slide_type": "subslide"
    }
   },
   "source": [
    "### History\n",
    "\n",
    "Some arcane difficulties arise with historical changes to calendrics.  If you are only concerned with working with \"modern\" datetimes from the last few decades, much of this has been standardized and officially documented.  In the last lesson, I passingly mentioned the transition between Gregorian and Julian calendar in England and its colonies, in 1752.  Most of Europe transitioned a century or two earlier; but Russia, for example, only did so in 1918, and therefore has a analagous gap of February 1-13, 1918 not existing there."
   ]
  },
  {
   "cell_type": "markdown",
   "metadata": {
    "slideshow": {
     "slide_type": "fragment"
    }
   },
   "source": [
    "Or in another similar footnote, between 1155 and 1752 CE, England celebrated its new year on March 25 (Lady Day/Feast of the Annunciation), rather than on January 1.  Which is to say, for example, one day after Walter Raleigh was given a charter to colonize Virginia, in 1584, the date was March 26, 1585.  Automating caclulations of historical durations is tricky."
   ]
  },
  {
   "cell_type": "markdown",
   "metadata": {
    "slideshow": {
     "slide_type": "subslide"
    }
   },
   "source": [
    "In a perfect world, some sophisticated database or marker of the meaning of a date and time at a particular date, time, and place, might work out all these special rules for us. I do not know of any software that exists that does that."
   ]
  },
  {
   "cell_type": "code",
   "execution_count": 9,
   "metadata": {
    "slideshow": {
     "slide_type": "fragment"
    }
   },
   "outputs": [],
   "source": [
    "soviet = None  # Placeholder, not actually doing this right\n",
    "olddays = datetime(1918, 1, 31, tzinfo=soviet)\n",
    "newdays = datetime(1918, 2, 14, tzinfo=soviet)"
   ]
  },
  {
   "cell_type": "code",
   "execution_count": 10,
   "metadata": {
    "slideshow": {
     "slide_type": "fragment"
    }
   },
   "outputs": [
    {
     "name": "stdout",
     "output_type": "stream",
     "text": [
      " Old: January 31, 1918\n",
      " New: February 14, 1918\n",
      "Diff: 14 days, 0:00:00\n",
      "Wish: SHOULD BE 1 day\n"
     ]
    }
   ],
   "source": [
    "fmt = \"%B %d, %G\"\n",
    "print(\" Old:\", datetime.strftime(olddays, fmt))\n",
    "print(\" New:\", datetime.strftime(newdays, fmt))\n",
    "print(\"Diff:\", newdays - olddays)\n",
    "print(\"Wish: SHOULD BE 1 day\")"
   ]
  },
  {
   "cell_type": "markdown",
   "metadata": {
    "slideshow": {
     "slide_type": "subslide"
    }
   },
   "source": [
    "### Since 1970\n",
    "\n",
    "Let us assume we are only worried about datetimes after 1970.  The IANA timezone database covers time zones, and their changes back to the start of Unix time.  Even here there are complications.  Often using the database will do the right thing; but exceptions remain."
   ]
  },
  {
   "cell_type": "markdown",
   "metadata": {
    "slideshow": {
     "slide_type": "fragment"
    }
   },
   "source": [
    "Different nations, or other jurisdictions (such as different US states), follow different rules about Daylight Savings Time (DST).  Whether a time change of an hour (or occasionally two hours) occured between two datetimes depends, in part, on whether DST went into or came out of effect, in either or both timezone-sensitive objects.  \n",
    "\n",
    "Notably, the southern and northern hemispheres have oppositive seasonality, so locations in each typically jump in opposite directions around similar dates.  Of course, many different specific times for a DST change exist legislatively in different jurisdictions, if that system is used at all in a jurisdiction.  "
   ]
  },
  {
   "cell_type": "markdown",
   "metadata": {
    "slideshow": {
     "slide_type": "subslide"
    }
   },
   "source": [
    "Let us define several time zones using the IANA timezone database.  Notice that when we ask for name or offset, it is specific to the datetime asked about.  For example, New York is either EST or EDT, depending on the time of year."
   ]
  },
  {
   "cell_type": "code",
   "execution_count": 11,
   "metadata": {
    "slideshow": {
     "slide_type": "fragment"
    }
   },
   "outputs": [
    {
     "name": "stdout",
     "output_type": "stream",
     "text": [
      "                       tzfile('Asia/Kathmandu') | +0545 | 5:45:00\n",
      "                                 tzfile('Cuba') |   CST | -1 day, 19:00:00\n",
      "                           tzfile('US/Eastern') |   EST | -1 day, 19:00:00\n",
      "                         tzfile('America/Nome') |  AKST | -1 day, 15:00:00\n"
     ]
    }
   ],
   "source": [
    "katmandu = tz.gettz(\"Asia/Kathmandu\")\n",
    "havana = tz.gettz(\"America/Havana\")\n",
    "newyork = tz.gettz(\"America/New_York\")\n",
    "nome = tz.gettz(\"America/Nome\")\n",
    "\n",
    "for server in [katmandu, havana, newyork, nome]:\n",
    "    print(f\"{str(server):>47} | \"\n",
    "          f\"{server.tzname(start):>5} | \"\n",
    "          f\"{server.utcoffset(start)}\")"
   ]
  },
  {
   "cell_type": "markdown",
   "metadata": {
    "slideshow": {
     "slide_type": "subslide"
    }
   },
   "source": [
    "With our more nuanced timezones available, let us reconfigure our events to use these improved time zones.  The setup is identical, but the timezone objects are no longer the simple offsets from UTC."
   ]
  },
  {
   "cell_type": "code",
   "execution_count": 12,
   "metadata": {
    "slideshow": {
     "slide_type": "fragment"
    }
   },
   "outputs": [],
   "source": [
    "elves2 = {\"Give Hartaj train set\":\n",
    "              datetime(2020, 12, 24, 13, 30, 45, tzinfo=katmandu),\n",
    "          \"Build a train set\":\n",
    "              datetime(2020, 12, 23, 22, 35, 45, tzinfo=nome),\n",
    "          \"Bagels for Spring Party\":\n",
    "              datetime(2020, 3, 7, 14, 0, 0, tzinfo=newyork),\n",
    "          \"Rum for Spring Party\":\n",
    "              datetime(2020, 3, 8, 0, 30, 0, tzinfo=havana),\n",
    "          \"Lox for Spring Party\":\n",
    "              datetime(2020, 3, 8, 0, 30, 0, tzinfo=newyork),\n",
    "          \"Back for Pineapple\":\n",
    "              datetime(2020, 3, 8, 14, 0, 0, tzinfo=havana),\n",
    "         }"
   ]
  },
  {
   "cell_type": "markdown",
   "metadata": {
    "slideshow": {
     "slide_type": "subslide"
    }
   },
   "source": [
    "We can ask the same questions we did before.  For example, this does not change the \"build on demand\" duration for magic elves."
   ]
  },
  {
   "cell_type": "code",
   "execution_count": 13,
   "metadata": {
    "slideshow": {
     "slide_type": "fragment"
    }
   },
   "outputs": [
    {
     "name": "stdout",
     "output_type": "stream",
     "text": [
      "0:10:00\n"
     ]
    }
   ],
   "source": [
    "build_on_demand = (elves2['Give Hartaj train set'] \n",
    "                     - elves2['Build a train set'])\n",
    "print(build_on_demand)"
   ]
  },
  {
   "cell_type": "markdown",
   "metadata": {
    "slideshow": {
     "slide_type": "subslide"
    }
   },
   "source": [
    "Other questions give different answers.  Remember that in naive time zones, the elves got rum in Havana and lox in New York at the very same moment.  Something funny happens when we use the database."
   ]
  },
  {
   "cell_type": "code",
   "execution_count": 14,
   "metadata": {
    "slideshow": {
     "slide_type": "fragment"
    }
   },
   "outputs": [
    {
     "name": "stdout",
     "output_type": "stream",
     "text": [
      "Havana 2020-03-08 14:00:00-04:00\n",
      "Havana 2020-03-08 00:30:00-04:00\n",
      "13:30:00\n"
     ]
    }
   ],
   "source": [
    "print(\"Havana\", elves2['Back for Pineapple'])\n",
    "print(\"Havana\", elves2['Rum for Spring Party'])\n",
    "# First purchase 12:30 am local time\n",
    "print(elves2['Back for Pineapple'] - elves2['Rum for Spring Party'])"
   ]
  },
  {
   "cell_type": "code",
   "execution_count": 15,
   "metadata": {
    "slideshow": {
     "slide_type": "fragment"
    }
   },
   "outputs": [
    {
     "name": "stdout",
     "output_type": "stream",
     "text": [
      "Havana   2020-03-08 14:00:00-04:00\n",
      "New York 2020-03-08 00:30:00-05:00\n",
      "12:30:00\n"
     ]
    }
   ],
   "source": [
    "print(\"Havana  \", elves2['Back for Pineapple'])\n",
    "print(\"New York\", elves2['Lox for Spring Party'])\n",
    "# First purchase 12:30 am local time\n",
    "print(elves2['Back for Pineapple'] - elves2['Lox for Spring Party'])"
   ]
  },
  {
   "cell_type": "markdown",
   "metadata": {
    "slideshow": {
     "slide_type": "subslide"
    }
   },
   "source": [
    "That was strange! Surely 12:30 am to 14:00 is 13.5 hours.  The problem is that on March 8, daylight savings time jumps ahead by an hour."
   ]
  },
  {
   "cell_type": "markdown",
   "metadata": {
    "slideshow": {
     "slide_type": "fragment"
    }
   },
   "source": [
    "The further problem is that it does so at midnight in Havana, but at 2 am in New York.  Moreover, when the clock jumps ahead, some period of time simply does not exist (much as some dates did not exist historically, but in a place dependent way)."
   ]
  },
  {
   "cell_type": "code",
   "execution_count": 16,
   "metadata": {
    "slideshow": {
     "slide_type": "fragment"
    }
   },
   "outputs": [
    {
     "name": "stdout",
     "output_type": "stream",
     "text": [
      "  Bagels for Spring Party | datetime exists? True\n",
      "     Rum for Spring Party | datetime exists? False\n",
      "     Lox for Spring Party | datetime exists? True\n",
      "       Back for Pineapple | datetime exists? True\n"
     ]
    }
   ],
   "source": [
    "for event in ['Bagels for Spring Party', 'Rum for Spring Party',\n",
    "              'Lox for Spring Party', 'Back for Pineapple']:\n",
    "    dt = elves2[event]\n",
    "    print(f\"{event:>25} | datetime exists? {tz.datetime_exists(dt)}\")"
   ]
  },
  {
   "cell_type": "markdown",
   "metadata": {
    "slideshow": {
     "slide_type": "subslide"
    }
   },
   "source": [
    "There is the problem.  The time the elf recorded for picking up rum in Havana never existed at all as a local time.  Someone is cooking the books!\n",
    "\n",
    "Let us think about another duration.  How long is it from March 7 at 2 pm in New York, until March 8 at 2 pm in Havana (at least in 2020)?"
   ]
  },
  {
   "cell_type": "code",
   "execution_count": 17,
   "metadata": {
    "slideshow": {
     "slide_type": "fragment"
    }
   },
   "outputs": [
    {
     "name": "stdout",
     "output_type": "stream",
     "text": [
      "23:00:00\n"
     ]
    }
   ],
   "source": [
    "print(elves2['Back for Pineapple'] \n",
    "        - elves2['Bagels for Spring Party'])"
   ]
  },
  {
   "cell_type": "markdown",
   "metadata": {
    "slideshow": {
     "slide_type": "subslide"
    }
   },
   "source": [
    "These datetimes are, naturally, 23 hours apart.  Both locations had their jump forward for daylight savings, at some point between those two datetimes.  Of course, sometimes DST moves in the other direction.  In that case, it is not that some datetimes are skipped, but rather that some occur twice.  In that case, some datetimes occur twice.  We can ask about that ambiguity."
   ]
  },
  {
   "cell_type": "code",
   "execution_count": 18,
   "metadata": {
    "slideshow": {
     "slide_type": "fragment"
    }
   },
   "outputs": [
    {
     "name": "stdout",
     "output_type": "stream",
     "text": [
      "2020-11-01 01:30:00-04:00 | ambiguous? True\n",
      "2020-11-01 01:31:00-04:00 | ambiguous? True\n",
      "2020-11-01 03:00:00-05:00 | ambiguous? False\n"
     ]
    }
   ],
   "source": [
    "back1 = datetime(2020, 11, 1, 1, 30, 0, tzinfo=newyork)\n",
    "back2 = datetime(2020, 11, 1, 1, 31, 0, tzinfo=newyork)\n",
    "later = datetime(2020, 11, 1, 3, 0, 0, tzinfo=newyork)\n",
    "for dt in [back1, back2, later]:\n",
    "    print(dt, \"| ambiguous?\", tz.datetime_ambiguous(dt))"
   ]
  },
  {
   "cell_type": "markdown",
   "metadata": {
    "slideshow": {
     "slide_type": "subslide"
    }
   },
   "source": [
    "We could *try* to make comparisons of these ambiguous datetimes, but the results do not give us great confidence.  Those two datetimes *might be* a minute apart, but we really do not know."
   ]
  },
  {
   "cell_type": "code",
   "execution_count": 19,
   "metadata": {
    "slideshow": {
     "slide_type": "fragment"
    }
   },
   "outputs": [
    {
     "data": {
      "text/plain": [
       "datetime.timedelta(seconds=60)"
      ]
     },
     "execution_count": 19,
     "metadata": {},
     "output_type": "execute_result"
    }
   ],
   "source": [
    "back2 - back1"
   ]
  },
  {
   "cell_type": "markdown",
   "metadata": {
    "slideshow": {
     "slide_type": "subslide"
    }
   },
   "source": [
    "We can explicitly disambiguate by specifying the argument `fold` that says whether we want the first or second version of an ambiguous datetime.  Unfortunately, this only gives us a marker of the time repetition, it does not do the appropriate arithmetic for us.  By default, a datetime assumes it is unfolded (earlier)."
   ]
  },
  {
   "cell_type": "code",
   "execution_count": 20,
   "metadata": {
    "slideshow": {
     "slide_type": "fragment"
    }
   },
   "outputs": [
    {
     "name": "stdout",
     "output_type": "stream",
     "text": [
      "0:01:00\n",
      "0:01:00\n",
      "0:01:00\n"
     ]
    }
   ],
   "source": [
    "back3 = datetime(2020, 11, 1, 1, 30, 0, tzinfo=newyork, fold=False)\n",
    "back4 = datetime(2020, 11, 1, 1, 31, 0, tzinfo=newyork, fold=True)\n",
    "print(back4 - back3)\n",
    "\n",
    "back5 = datetime(2020, 11, 1, 1, 30, 0, tzinfo=newyork, fold=True)\n",
    "back6 = datetime(2020, 11, 1, 1, 31, 0, tzinfo=newyork, fold=False)\n",
    "print(back6 - back5)\n",
    "\n",
    "back7 = datetime(2020, 11, 1, 1, 30, 0, tzinfo=newyork, fold=True)\n",
    "back8 = datetime(2020, 11, 1, 1, 31, 0, tzinfo=newyork, fold=True)\n",
    "print(back8 - back7)"
   ]
  },
  {
   "cell_type": "markdown",
   "metadata": {
    "slideshow": {
     "slide_type": "subslide"
    }
   },
   "source": [
    "Let us do better, slightly by hand."
   ]
  },
  {
   "cell_type": "code",
   "execution_count": 21,
   "metadata": {
    "slideshow": {
     "slide_type": "fragment"
    }
   },
   "outputs": [
    {
     "name": "stdout",
     "output_type": "stream",
     "text": [
      "Fold none: 0:01:00\n",
      " Fold 2nd: 1:01:00\n",
      " Fold 1st: -1 day, 23:01:00\n",
      "Fold both: 0:01:00\n"
     ]
    }
   ],
   "source": [
    "def fold_compare(dt1, dt2):\n",
    "    \"How long from dt1 until dt2? (possibly negative)\"\n",
    "    delta = timedelta(hours=dt2.fold) - timedelta(hours=dt1.fold) \n",
    "    return (dt2 - dt1) + delta\n",
    "\n",
    "print(\"Fold none:\", fold_compare(back1, back2))\n",
    "print(\" Fold 2nd:\", fold_compare(back3, back4))\n",
    "print(\" Fold 1st:\", fold_compare(back5, back6))\n",
    "print(\"Fold both:\", fold_compare(back7, back8))"
   ]
  },
  {
   "cell_type": "markdown",
   "metadata": {
    "slideshow": {
     "slide_type": "slide"
    }
   },
   "source": [
    "## Down the rabbit hole...\n",
    "\n",
    "Often, using the IANA timezone database, either via the `dateutil` module, the future standard library `zoneinfo`, or using another module like `pytz` that references the same database, will do the right thing.  *Often*. **Not always**."
   ]
  },
  {
   "cell_type": "markdown",
   "metadata": {
    "slideshow": {
     "slide_type": "subslide"
    }
   },
   "source": [
    "One problem is that leap seconds are simply ignored by `datetime`.  The thing to understand is that a \"second\" in UTC—and in all the timezones that are defined by offsets from UTC—is **not a measure of time**.  It is a measure of the angular rotation of the Earth.  Specifically, it is approximately 15.041 seconds of angular longitude (relative to the sun).  This odd number comes from the fact that Earth needs to rotate slightly more than 360° to return to facing the sun because of simultaneos prograde revolution around the sun."
   ]
  },
  {
   "cell_type": "markdown",
   "metadata": {
    "slideshow": {
     "slide_type": "fragment"
    }
   },
   "source": [
    "Unfortunately, the speed of the rotation of the Earth is not constant; rather it varies slightly because of plate tectonics, magma flow, and the tidal locking of the moon's orbit.  Hence, the International Earth Rotation and Reference Systems Service (IERS) adds (or possibly subtracts, though that has not occurred since 1970) a second to UTC from time to time.  This happens slightly less often than once a year, with a few months warning."
   ]
  },
  {
   "cell_type": "markdown",
   "metadata": {
    "slideshow": {
     "slide_type": "subslide"
    }
   },
   "source": [
    "Here is an example of a leap second that `datetime`, and in fact also the IANA timezone database, simply ignores."
   ]
  },
  {
   "cell_type": "code",
   "execution_count": 22,
   "metadata": {
    "slideshow": {
     "slide_type": "fragment"
    }
   },
   "outputs": [
    {
     "name": "stdout",
     "output_type": "stream",
     "text": [
      "SHOULD BE 2 seconds\n"
     ]
    },
    {
     "data": {
      "text/plain": [
       "datetime.timedelta(seconds=1)"
      ]
     },
     "execution_count": 22,
     "metadata": {},
     "output_type": "execute_result"
    }
   ],
   "source": [
    "before = datetime(2008, 12, 31, 18, 59, 59, tzinfo=tz.gettz('EST'))\n",
    "after = datetime(2008, 12, 31, 19, 0, 0, tzinfo=tz.gettz('EST'))\n",
    "print(\"SHOULD BE 2 seconds\")\n",
    "after - before"
   ]
  },
  {
   "cell_type": "markdown",
   "metadata": {
    "slideshow": {
     "slide_type": "subslide"
    }
   },
   "source": [
    "Not only does Python's `datetime` not know how to handle those leap seconds, your operating system and other applications do not know how to handle them.  \"Unix time\" is also not a measure of time, but rather builds in the assumption that a day consists of 86,400 seconds, whether or not a particular day actually has one more or one less second according to UTC.  This is wrong about once a year.  Windows, MacOS, iOS, and Android behave the same as Linux and other Unix-like systems, in this regard."
   ]
  },
  {
   "cell_type": "markdown",
   "metadata": {
    "slideshow": {
     "slide_type": "fragment"
    }
   },
   "source": [
    "What actually happens is that your computer checks a Network Time Protocol (NTP) server fairly often, when it is online, and after leap second events, the NTP server tells your computer that it is a second off.  These checks happen other times as well, of course.  Your computer quite likely adjusts its internal clock by a few microseconds every day, even in the absence of leap seconds."
   ]
  },
  {
   "cell_type": "markdown",
   "metadata": {
    "slideshow": {
     "slide_type": "subslide"
    }
   },
   "source": [
    "### Does it Matter?\n",
    "\n",
    "If you are trying to remember your family's birthdays or set a wake-up alarm, these leap seconds do not matter.  However, if you are trying to coordinate computer servers, they quite likely do.  For example, if your database has transactions with commit and rollback capabilities (like nearly all RDBMSs do), knowing the actual order of commands that might be less than a second apart is crucial."
   ]
  },
  {
   "cell_type": "markdown",
   "metadata": {
    "slideshow": {
     "slide_type": "subslide"
    }
   },
   "source": [
    "### Descending Further\n",
    "\n",
    "Even some of the things that the timezone database *should* handle, it seems not to; at least not as exposed in Python.  For example, Samoa and Tokelau decided in 2011 to switch to the other side of the international dateline. As a consequence:"
   ]
  },
  {
   "cell_type": "code",
   "execution_count": 23,
   "metadata": {
    "slideshow": {
     "slide_type": "fragment"
    }
   },
   "outputs": [
    {
     "name": "stdout",
     "output_type": "stream",
     "text": [
      "SHOULD BE 1 minute\n",
      "1 day, 0:01:00\n"
     ]
    }
   ],
   "source": [
    "# Capital city Apia cannonical TZ description (Samoa is alias)\n",
    "before = datetime(2011, 12, 29, 23, 59, 0, tzinfo=tz.gettz('Pacific/Apia'))\n",
    "after = datetime(2011, 12, 31, 0, 0, 0, tzinfo=tz.gettz('Pacific/Apia'))\n",
    "\n",
    "print(\"SHOULD BE 1 minute\")\n",
    "print(after - before)"
   ]
  },
  {
   "cell_type": "markdown",
   "metadata": {
    "slideshow": {
     "slide_type": "fragment"
    }
   },
   "source": [
    "It would be correct if the database handled this as a permanent 24 hour \"daylight savings time\" jump forward."
   ]
  },
  {
   "cell_type": "markdown",
   "metadata": {
    "slideshow": {
     "slide_type": "subslide"
    }
   },
   "source": [
    "The last section of this lesson is mostly warnings about issues that you will, hopefully, not face.  Few of them have anything to do with Python per se, but are general world time issues."
   ]
  },
  {
   "cell_type": "markdown",
   "metadata": {
    "slideshow": {
     "slide_type": "fragment"
    }
   },
   "source": [
    "If you are fortunate enough to control the creation of timestamps by the various systems, it is always easiest to canonicalize everything to UTC before recording any data at all.  That option does not always exist, however."
   ]
  },
  {
   "cell_type": "markdown",
   "metadata": {
    "slideshow": {
     "slide_type": "subslide"
    }
   },
   "source": [
    "Having all systems use UTC avoids a number of problems, but does not really address the leap second issue.  Special systems deal with this in various ways.  Google, for example, who obviously have a huge number of servers under their control, have implemented a special \"leap smear\" in their NTP."
   ]
  },
  {
   "cell_type": "markdown",
   "metadata": {
    "slideshow": {
     "slide_type": "fragment"
    }
   },
   "source": [
    "Rather than add a leap second all at once, the Google servers (and others) keep 60 second minutes throughout, but make each second over the course of a period of time (e.g. day) a few microseconds longer than it would be otherwise.  This makes time monotonic and continuous, but different from the rest of the world during that day."
   ]
  },
  {
   "cell_type": "markdown",
   "metadata": {},
   "source": [
    "# Exercise "
   ]
  },
  {
   "cell_type": "markdown",
   "metadata": {},
   "source": [
    "In this exercise, you will examine an example log file from events in a variety of locations.  Each event is marked with an ISO 8601 timestamp, followed by the time zone it occured in.  Each event is mnemonically described by different firstname.\n",
    "\n",
    "```\n",
    "2020-01-01T23:00:01 Pacific/Tahiti Alice\n",
    "2020-01-01T12:00:02 Europe/Ulyanovsk Bob\n",
    "2020-01-01T15:00:03 Asia/Makassar Carlos\n",
    "2020-01-01T06:00:04 Chile/Continental David\n",
    "2020-01-01T22:00:05 Australia/Brisbane Eve\n",
    "```\n",
    "\n",
    "You need to create a list of these names, sorted by the chronological order in which they were logged, in the variable `names`.  The log file where all of these lines occur is `events.log`, and each line is similar to the first few shown."
   ]
  },
  {
   "cell_type": "markdown",
   "metadata": {},
   "source": [
    "# Setup"
   ]
  },
  {
   "cell_type": "code",
   "execution_count": 24,
   "metadata": {},
   "outputs": [],
   "source": [
    "from datetime import datetime, timedelta\n",
    "from dateutil import tz\n",
    "\n",
    "# Wrong order, but you want a list like this...\n",
    "names = ['Ivan', 'Bob', 'Rupert', 'Ted', 'Carlos', 'Olivia', \n",
    "         'Niaj', 'Faythe', 'David', 'Sybil', 'Judy', 'Heidi', \n",
    "         'Eve', 'Grace', 'Alice', 'Mallory', 'Peggy']"
   ]
  },
  {
   "cell_type": "markdown",
   "metadata": {},
   "source": [
    "# Solution"
   ]
  },
  {
   "cell_type": "code",
   "execution_count": 25,
   "metadata": {},
   "outputs": [],
   "source": [
    "with open('events.log') as log:\n",
    "    events = []\n",
    "    for record in log:\n",
    "        dt, zone, name = record.split()\n",
    "        dt = datetime.fromisoformat(dt)\n",
    "        dt = dt.replace(tzinfo=tz.gettz(zone))\n",
    "        events.append((dt.astimezone(tz.tzutc()), name))\n",
    "        \n",
    "names = [e[1] for e in sorted(events)]"
   ]
  },
  {
   "cell_type": "markdown",
   "metadata": {},
   "source": [
    "# Test Cases"
   ]
  },
  {
   "cell_type": "code",
   "execution_count": 28,
   "metadata": {},
   "outputs": [],
   "source": [
    "def test_order():\n",
    "    from hashlib import sha1\n",
    "    assert len(names) == 17, \"Should be 17 names\"\n",
    "    assert len(set(names)) == 17, \"Must all be distinct names\"\n",
    "    # Hash the list to avoid giving away answer\n",
    "    hash = sha1('|'.join(names).encode()).hexdigest()\n",
    "    assert hash == 'b9655d5a8efab9e2aecd41706d3491e296ed92d4',\\\n",
    "        \"Got: \"+hash\n",
    "    \n",
    "test_order()"
   ]
  },
  {
   "cell_type": "markdown",
   "metadata": {},
   "source": [
    "# Dateutil\n",
    "\n",
    "The third-party library `dateutil` is recommended in the Python standard library documentation.  It works with the same underlying `datetime.datetime` objects used by the standard libary, but adds many extra conveniences.  We saw in the previous lesson that it provides access to the IANA timezone database, for more accurate time zones."
   ]
  },
  {
   "cell_type": "code",
   "execution_count": 29,
   "metadata": {},
   "outputs": [],
   "source": [
    "from datetime import date, time, datetime, timedelta\n",
    "start = datetime.now()"
   ]
  },
  {
   "cell_type": "markdown",
   "metadata": {},
   "source": [
    "## Parser\n",
    "\n",
    "The standard library can read ISO 8601 format, and can read other formats using explicit format codes that are easy to get wrong.  With `dateutil` we can heuristically parse most formats used to represent dates and datetimes."
   ]
  },
  {
   "cell_type": "code",
   "execution_count": 30,
   "metadata": {},
   "outputs": [],
   "source": [
    "from dateutil.parser import parse\n",
    "from dateutil.tz import gettz\n",
    "# Offset in seconds or at tzinfo object\n",
    "tzinfos = {\"MSK\": +10800, \"CST\": gettz(\"America/Chicago\")}"
   ]
  },
  {
   "cell_type": "markdown",
   "metadata": {},
   "source": [
    "Various formats are guessed successfully."
   ]
  },
  {
   "cell_type": "code",
   "execution_count": 31,
   "metadata": {},
   "outputs": [
    {
     "data": {
      "text/plain": [
       "datetime.datetime(2020, 1, 31, 12, 30, 45)"
      ]
     },
     "execution_count": 31,
     "metadata": {},
     "output_type": "execute_result"
    }
   ],
   "source": [
    "parse('2020-01-31T12:30:45')"
   ]
  },
  {
   "cell_type": "code",
   "execution_count": 32,
   "metadata": {},
   "outputs": [
    {
     "data": {
      "text/plain": [
       "datetime.datetime(2020, 1, 31, 12, 30, 45, tzinfo=tzoffset('MSK', 10800))"
      ]
     },
     "execution_count": 32,
     "metadata": {},
     "output_type": "execute_result"
    }
   ],
   "source": [
    "parse('2020-01-31T12:30:45 MSK', tzinfos=tzinfos)"
   ]
  },
  {
   "cell_type": "code",
   "execution_count": 33,
   "metadata": {},
   "outputs": [
    {
     "data": {
      "text/plain": [
       "datetime.datetime(2020, 1, 31, 12, 30, 45, tzinfo=tzfile('US/Central'))"
      ]
     },
     "execution_count": 33,
     "metadata": {},
     "output_type": "execute_result"
    }
   ],
   "source": [
    "parse('2020-01-31T12:30:45 CST', tzinfos=tzinfos)"
   ]
  },
  {
   "cell_type": "code",
   "execution_count": 34,
   "metadata": {},
   "outputs": [
    {
     "data": {
      "text/plain": [
       "datetime.datetime(2020, 1, 1, 13, 30, 45, tzinfo=tzoffset(None, 18000))"
      ]
     },
     "execution_count": 34,
     "metadata": {},
     "output_type": "execute_result"
    }
   ],
   "source": [
    "parse('January 1, 2020 1:30:45 pm +0500')"
   ]
  },
  {
   "cell_type": "markdown",
   "metadata": {},
   "source": [
    "Different locations choose day-first or month-first date format."
   ]
  },
  {
   "cell_type": "code",
   "execution_count": 35,
   "metadata": {},
   "outputs": [
    {
     "data": {
      "text/plain": [
       "datetime.datetime(2020, 1, 2, 0, 0)"
      ]
     },
     "execution_count": 35,
     "metadata": {},
     "output_type": "execute_result"
    }
   ],
   "source": [
    "parse('01/02/2020')"
   ]
  },
  {
   "cell_type": "code",
   "execution_count": 36,
   "metadata": {},
   "outputs": [
    {
     "data": {
      "text/plain": [
       "datetime.datetime(2020, 2, 1, 0, 0)"
      ]
     },
     "execution_count": 36,
     "metadata": {},
     "output_type": "execute_result"
    }
   ],
   "source": [
    "parse('01/02/2020', dayfirst=True)"
   ]
  },
  {
   "cell_type": "markdown",
   "metadata": {},
   "source": [
    "Day of week is still mostly ignored."
   ]
  },
  {
   "cell_type": "code",
   "execution_count": 37,
   "metadata": {},
   "outputs": [
    {
     "data": {
      "text/plain": [
       "datetime.datetime(2020, 8, 12, 17, 29, 12)"
      ]
     },
     "execution_count": 37,
     "metadata": {},
     "output_type": "execute_result"
    }
   ],
   "source": [
    "parse('Wednesday Aug 12; 2020; 05:29:12 PM')"
   ]
  },
  {
   "cell_type": "code",
   "execution_count": 38,
   "metadata": {},
   "outputs": [
    {
     "data": {
      "text/plain": [
       "datetime.datetime(2020, 8, 12, 17, 29, 12)"
      ]
     },
     "execution_count": 38,
     "metadata": {},
     "output_type": "execute_result"
    }
   ],
   "source": [
    "parse('Monday Aug 12; 2020; 05:29:12 PM')"
   ]
  },
  {
   "cell_type": "code",
   "execution_count": 39,
   "metadata": {},
   "outputs": [
    {
     "name": "stdout",
     "output_type": "stream",
     "text": [
      "ParserError | Unknown string format: Humpday Aug 08; 2020; 05:29:12 PM\n"
     ]
    }
   ],
   "source": [
    "try:\n",
    "    parse('Humpday Aug 08; 2020; 05:29:12 PM')\n",
    "except Exception as err:\n",
    "    print(err.__class__.__name__, \"|\", err)"
   ]
  },
  {
   "cell_type": "markdown",
   "metadata": {},
   "source": [
    "The above code failed due to a `ParseError` as the function parse is unable to recognize the format of the string \"Humpday Aug 08; 2020; 05:29:12 PM.\" The parse function expects a string in a specific date-time format, and the provided string does not match any known format.\n",
    "\n",
    "The day we passed was invalid"
   ]
  },
  {
   "cell_type": "code",
   "execution_count": 41,
   "metadata": {},
   "outputs": [
    {
     "name": "stdout",
     "output_type": "stream",
     "text": [
      "ParserError | day is out of range for month: Thursday Sep 31; 2020; 05:29:12 PM\n"
     ]
    }
   ],
   "source": [
    "try:\n",
    "    parse('Thursday Sep 31; 2020; 05:29:12 PM')\n",
    "except Exception as err:\n",
    "    print(err.__class__.__name__, \"|\", err)"
   ]
  },
  {
   "cell_type": "markdown",
   "metadata": {},
   "source": [
    "The above code failed due to a `ParseError` as the date we passed is invalid"
   ]
  },
  {
   "cell_type": "markdown",
   "metadata": {},
   "source": [
    "## Timedeltas\n",
    "\n",
    "In the standard library, an object called `timedelta` is useful in measuring or adding durations to `datetime` objects.  That object has some limitations, notably in that it only handles regular units, the largest of those being days.  "
   ]
  },
  {
   "cell_type": "markdown",
   "metadata": {},
   "source": [
    "In commerce and ordinary life, we often think of durations in terms of months, weeks, and years, even though months are of varying lengths, as are years that may or may not be leap years."
   ]
  },
  {
   "cell_type": "markdown",
   "metadata": {},
   "source": [
    "For example, let us take two dates (here as `datetime`s, but a simple `date`s would work for this purpose).  One we colloquially call \"end of January\" the other \"end of February.\"  We might want to *move forward a month*.m"
   ]
  },
  {
   "cell_type": "code",
   "execution_count": 43,
   "metadata": {},
   "outputs": [],
   "source": [
    "from dateutil.relativedelta import *\n",
    "jan_end = datetime(2020, 1, 31)\n",
    "feb_end = datetime(2020, 2, 29)"
   ]
  },
  {
   "cell_type": "code",
   "execution_count": 44,
   "metadata": {},
   "outputs": [
    {
     "data": {
      "text/plain": [
       "datetime.datetime(2020, 3, 1, 0, 0)"
      ]
     },
     "execution_count": 44,
     "metadata": {},
     "output_type": "execute_result"
    }
   ],
   "source": [
    "jan_end + timedelta(days=30)"
   ]
  },
  {
   "cell_type": "code",
   "execution_count": 45,
   "metadata": {},
   "outputs": [
    {
     "data": {
      "text/plain": [
       "datetime.datetime(2020, 3, 30, 0, 0)"
      ]
     },
     "execution_count": 45,
     "metadata": {},
     "output_type": "execute_result"
    }
   ],
   "source": [
    "feb_end + timedelta(days=30)"
   ]
  },
  {
   "cell_type": "markdown",
   "metadata": {},
   "source": [
    "Those are unsatisfying answers that are numerically \"correct\" but not what we probably mean.  `relativedelta` from dateutil is more flexible."
   ]
  },
  {
   "cell_type": "code",
   "execution_count": 46,
   "metadata": {},
   "outputs": [
    {
     "data": {
      "text/plain": [
       "datetime.datetime(2020, 2, 29, 0, 0)"
      ]
     },
     "execution_count": 46,
     "metadata": {},
     "output_type": "execute_result"
    }
   ],
   "source": [
    "jan_end + relativedelta(months=1)"
   ]
  },
  {
   "cell_type": "code",
   "execution_count": 47,
   "metadata": {},
   "outputs": [
    {
     "data": {
      "text/plain": [
       "datetime.datetime(2020, 3, 29, 0, 0)"
      ]
     },
     "execution_count": 47,
     "metadata": {},
     "output_type": "execute_result"
    }
   ],
   "source": [
    "feb_end + relativedelta(months=1)"
   ]
  },
  {
   "cell_type": "markdown",
   "metadata": {},
   "source": [
    "We might combine different \"human scale\" increments."
   ]
  },
  {
   "cell_type": "code",
   "execution_count": 48,
   "metadata": {},
   "outputs": [
    {
     "data": {
      "text/plain": [
       "datetime.datetime(2021, 2, 28, 0, 0)"
      ]
     },
     "execution_count": 48,
     "metadata": {},
     "output_type": "execute_result"
    }
   ],
   "source": [
    "# A year and a month later\n",
    "jan_end + relativedelta(years=1, months=1)"
   ]
  },
  {
   "cell_type": "code",
   "execution_count": 49,
   "metadata": {},
   "outputs": [
    {
     "data": {
      "text/plain": [
       "datetime.datetime(2021, 2, 22, 0, 0)"
      ]
     },
     "execution_count": 49,
     "metadata": {},
     "output_type": "execute_result"
    }
   ],
   "source": [
    "# The monday before a year and a month later\n",
    "jan_end + relativedelta(years=1, months=1, weekday=MO(-1))"
   ]
  },
  {
   "cell_type": "code",
   "execution_count": 50,
   "metadata": {},
   "outputs": [
    {
     "data": {
      "text/plain": [
       "relativedelta(years=+5, months=-5, weekday=TH)"
      ]
     },
     "execution_count": 50,
     "metadata": {},
     "output_type": "execute_result"
    }
   ],
   "source": [
    "relativedelta(years=5, months=-5, weekday=TH)"
   ]
  },
  {
   "cell_type": "markdown",
   "metadata": {},
   "source": [
    "## Recurring Events\n",
    "\n",
    "The `dateutil` library allows you to create collections of recurring or related dates and datetimes.  By combining arguments to the `rrule()`, `rruleset()` and `rrrulestr()` functions, we can generate iterators over these collections of related times."
   ]
  },
  {
   "cell_type": "code",
   "execution_count": 51,
   "metadata": {},
   "outputs": [],
   "source": [
    "from dateutil.rrule import *"
   ]
  },
  {
   "cell_type": "markdown",
   "metadata": {},
   "source": [
    "Every two-and-a-half hours from now until the same time tomorrow."
   ]
  },
  {
   "cell_type": "code",
   "execution_count": 54,
   "metadata": {},
   "outputs": [
    {
     "name": "stdout",
     "output_type": "stream",
     "text": [
      "2024-02-08 20:55:42\n",
      "2024-02-08 23:25:42\n",
      "2024-02-09 01:55:42\n",
      "2024-02-09 04:25:42\n",
      "2024-02-09 06:55:42\n",
      "2024-02-09 09:25:42\n",
      "2024-02-09 11:55:42\n",
      "2024-02-09 14:25:42\n",
      "2024-02-09 16:55:42\n",
      "2024-02-09 19:25:42\n"
     ]
    }
   ],
   "source": [
    "alarms = rrule(MINUTELY, interval=150,\n",
    "               dtstart=start,\n",
    "               until=start + relativedelta(days=1))\n",
    "for alarm in alarms:\n",
    "    print(alarm)"
   ]
  },
  {
   "cell_type": "markdown",
   "metadata": {},
   "source": [
    "United States presidential elections follow a slightly odd rule. The occur every four years of the first Tuesday that follows a Monday in November. When are the next 5 of them from right now?\n"
   ]
  },
  {
   "cell_type": "code",
   "execution_count": 55,
   "metadata": {},
   "outputs": [
    {
     "name": "stdout",
     "output_type": "stream",
     "text": [
      "2024-11-05\n",
      "2028-11-07\n",
      "2032-11-02\n",
      "2036-11-04\n",
      "2040-11-06\n"
     ]
    }
   ],
   "source": [
    "elections = rrule(YEARLY, interval=4, count=5, \n",
    "                  bymonth=11,\n",
    "                  byweekday=TU, \n",
    "                  bymonthday=(2, 3, 4, 5, 6, 7, 8),\n",
    "                  dtstart=start)\n",
    "\n",
    "for election in elections:\n",
    "    print(election.date())"
   ]
  },
  {
   "cell_type": "markdown",
   "metadata": {},
   "source": [
    "Sometimes we *almost* want a recurrence rule, but we need to include something extra or exclude something that would otherwise occur.  Here is this time of day, every day of the next week, excluding Tuesday and Thursday. "
   ]
  },
  {
   "cell_type": "code",
   "execution_count": 57,
   "metadata": {},
   "outputs": [
    {
     "name": "stdout",
     "output_type": "stream",
     "text": [
      "2024-02-09 20:55:42\n",
      "2024-02-10 20:55:42\n",
      "2024-02-11 20:55:42\n",
      "2024-02-12 20:55:42\n",
      "2024-02-14 20:55:42\n"
     ]
    }
   ],
   "source": [
    "events = rruleset()\n",
    "events.rrule(rrule(DAILY, count=7, dtstart=start))\n",
    "events.exrule(rrule(DAILY, byweekday=(TU, TH), dtstart=start))\n",
    "\n",
    "for event in events:\n",
    "    print(event)"
   ]
  },
  {
   "cell_type": "markdown",
   "metadata": {},
   "source": [
    "Perhaps we would like to add additional datetimes to a collection. For example, on Tuesday/Thursday we want an event, but at exactly noon, rather than based on current time."
   ]
  },
  {
   "cell_type": "code",
   "execution_count": 58,
   "metadata": {},
   "outputs": [
    {
     "name": "stdout",
     "output_type": "stream",
     "text": [
      "2024-02-08 12:00:00\n",
      "2024-02-09 20:55:42\n",
      "2024-02-10 20:55:42\n",
      "2024-02-11 20:55:42\n",
      "2024-02-12 20:55:42\n",
      "2024-02-13 12:00:00\n",
      "2024-02-14 20:55:42\n",
      "2024-02-15 12:00:00\n"
     ]
    }
   ],
   "source": [
    "noon = start.replace(hour=12, minute=0, second=0, microsecond=0)\n",
    "events.rrule(rrule(DAILY, \n",
    "                   dtstart=noon, \n",
    "                   until=noon+relativedelta(days=7), \n",
    "                   byweekday=(TU, TH)))\n",
    "\n",
    "for event in events:\n",
    "    print(event)"
   ]
  },
  {
   "cell_type": "markdown",
   "metadata": {},
   "source": [
    "We can also read fragments of Internet Calendaring and Scheduling Core Object Specification (iCalendar) string descriptions of recurring events.  Only the timstamp portions are recognized, the other metadata must be stripped separately."
   ]
  },
  {
   "cell_type": "code",
   "execution_count": 60,
   "metadata": {},
   "outputs": [
    {
     "name": "stdout",
     "output_type": "stream",
     "text": [
      "2024-02-08 14:00:00\n",
      "2024-02-13 14:00:00\n",
      "2024-02-18 14:00:00\n",
      "2024-02-28 14:00:00\n",
      "2024-03-09 14:00:00\n",
      "2024-03-19 14:00:00\n"
     ]
    }
   ],
   "source": [
    "meetings = rrulestr(f\"\"\"\n",
    "  DTSTART:{date.today()}T14:00:00\n",
    "  RRULE:FREQ=DAILY;INTERVAL=10;COUNT=5\n",
    "  RRULE:FREQ=DAILY;INTERVAL=5;COUNT=3\"\"\")\n",
    "for meeting in meetings:\n",
    "    print(meeting)"
   ]
  },
  {
   "cell_type": "markdown",
   "metadata": {},
   "source": [
    "# Exercise"
   ]
  },
  {
   "cell_type": "markdown",
   "metadata": {},
   "source": [
    "In this exercise you will create a will create a collection of dates using the capabilities to express durations and recurring events that are provided by `dateutil`.  In your practice, you may want to wrap rule objects in the `list()` constructor to debug your results.  For example\n",
    "\n",
    "```python\n",
    ">>> rrule(DAILY, count=3)\n",
    "<dateutil.rrule.rrule at 0x7fc85865eb80>\n",
    "\n",
    ">>> list(rrule(DAILY, count=3))\n",
    "[datetime.datetime(2020, 8, 21, 19, 3, 18),\n",
    " datetime.datetime(2020, 8, 22, 19, 3, 18),\n",
    " datetime.datetime(2020, 8, 23, 19, 3, 18)]\n",
    "```\n",
    "\n",
    "The latter is more useful to eyeball.  \n",
    "\n",
    "You need to define a set of date objects (not datetime) that begin on January 31, 1980, and end on October 31, 2009, where each date is spaced 17 months apart, and each date is the last day of the month it occurs in.  There will be 22 dates in your result, in the variable `end_of_months`.\n",
    "\n",
    "Note that we have not obscured the desired answer in the tests.  You should solve this exercise using functions/classes in `datetime` and `dateutil` rather than simply copy the right answer."
   ]
  },
  {
   "cell_type": "markdown",
   "metadata": {},
   "source": [
    "# Setup"
   ]
  },
  {
   "cell_type": "code",
   "execution_count": 61,
   "metadata": {},
   "outputs": [],
   "source": [
    "from datetime import date, datetime\n",
    "from dateutil.relativedelta import *\n",
    "from dateutil.rrule import *\n",
    "\n",
    "rset = rruleset()\n",
    "rset.rrule(rrule(DAILY, count=3))\n",
    "\n",
    "# Right kind of object, but wrong dates\n",
    "end_of_months = set(dt.date() for dt in rset)"
   ]
  },
  {
   "cell_type": "markdown",
   "metadata": {},
   "source": [
    "# Solution"
   ]
  },
  {
   "cell_type": "code",
   "execution_count": 62,
   "metadata": {},
   "outputs": [],
   "source": [
    "rset = rruleset()\n",
    "rset.rrule(\n",
    "    rrule(MONTHLY, interval=17, \n",
    "          dtstart=datetime(1980, 2, 1),\n",
    "          until=datetime(2009, 12, 1)))\n",
    "\n",
    "end_of_months = {dt.date() - relativedelta(days=1) for dt in rset}"
   ]
  },
  {
   "cell_type": "markdown",
   "metadata": {},
   "source": [
    "# Test Cases"
   ]
  },
  {
   "cell_type": "code",
   "execution_count": 63,
   "metadata": {},
   "outputs": [],
   "source": [
    "def test_type():\n",
    "    assert isinstance(end_of_months, set)\n",
    "    \n",
    "test_type()"
   ]
  },
  {
   "cell_type": "code",
   "execution_count": 64,
   "metadata": {},
   "outputs": [],
   "source": [
    "def test_number():\n",
    "    assert len(end_of_months) == 22\n",
    "    \n",
    "test_number()"
   ]
  },
  {
   "cell_type": "code",
   "execution_count": 65,
   "metadata": {},
   "outputs": [],
   "source": [
    "def test_set():\n",
    "    correct = {\n",
    "        date(1980, 1, 31), date(1981, 6, 30), date(1982, 11, 30),\n",
    "        date(1984, 4, 30), date(1985, 9, 30), date(1987, 2, 28),\n",
    "        date(1988, 7, 31), date(1989, 12, 31),date(1991, 5, 31),\n",
    "        date(1992, 10, 31),date(1994, 3, 31), date(1995, 8, 31),\n",
    "        date(1997, 1, 31), date(1998, 6, 30), date(1999, 11, 30),\n",
    "        date(2001, 4, 30), date(2002, 9, 30), date(2004, 2, 29),\n",
    "        date(2005, 7, 31), date(2006, 12, 31),date(2008, 5, 31),\n",
    "        date(2009, 10, 31)}\n",
    "    assert end_of_months == correct\n",
    "    \n",
    "test_set()"
   ]
  },
  {
   "cell_type": "code",
   "execution_count": 66,
   "metadata": {},
   "outputs": [],
   "source": [
    "def test_set_obscured():\n",
    "    from hashlib import sha1\n",
    "    em = sorted(dt.isoformat() for dt in end_of_months)\n",
    "    hash = sha1('|'.join(em).encode()).hexdigest()\n",
    "    assert hash == '1711158808fe535c3c80c43181704fb1e7c6a351'\n",
    "    \n",
    "test_set_obscured()"
   ]
  },
  {
   "cell_type": "markdown",
   "metadata": {},
   "source": [
    "# Third-Party Tools\n",
    "\n",
    "* Several libraries in the Python ecosystem provide alternate APIs for datetime handling.\n",
    "* Tools that are simlar but often complementary:\n",
    "  * *Arrow*\n",
    "  * *Maya*\n",
    "  * *Delorean*\n",
    "  * *Pendulum*\n",
    "* Built on a custom class rather than `datetime`.\n",
    "* Most provide evaluation heuristics along the lines of *Dateutil* `parse()` function.\n",
    "* Some of them produce informal strings for user messages, e.g.:\n"
   ]
  },
  {
   "cell_type": "code",
   "execution_count": 2,
   "metadata": {},
   "outputs": [
    {
     "name": "stdout",
     "output_type": "stream",
     "text": [
      "Collecting arrow\n",
      "  Using cached arrow-1.3.0-py3-none-any.whl (66 kB)\n",
      "Requirement already satisfied: types-python-dateutil>=2.8.10 in c:\\users\\laisha\\appdata\\local\\programs\\python\\python310\\lib\\site-packages (from arrow) (2.8.19.20240106)\n",
      "Requirement already satisfied: python-dateutil>=2.7.0 in c:\\users\\laisha\\appdata\\local\\programs\\python\\python310\\lib\\site-packages (from arrow) (2.8.2)\n",
      "Requirement already satisfied: six>=1.5 in c:\\users\\laisha\\appdata\\local\\programs\\python\\python310\\lib\\site-packages (from python-dateutil>=2.7.0->arrow) (1.16.0)\n",
      "Installing collected packages: arrow\n",
      "Successfully installed arrow-1.3.0\n"
     ]
    },
    {
     "name": "stderr",
     "output_type": "stream",
     "text": [
      "\n",
      "[notice] A new release of pip available: 22.2.2 -> 24.0\n",
      "[notice] To update, run: python.exe -m pip install --upgrade pip\n"
     ]
    }
   ],
   "source": [
    "!pip install arrow"
   ]
  },
  {
   "cell_type": "code",
   "execution_count": 3,
   "metadata": {},
   "outputs": [
    {
     "data": {
      "text/plain": [
       "'in 2 hours'"
      ]
     },
     "execution_count": 3,
     "metadata": {},
     "output_type": "execute_result"
    }
   ],
   "source": [
    "import arrow\n",
    "present = arrow.utcnow()\n",
    "future = present.shift(minutes=150)\n",
    "future.humanize(present)"
   ]
  },
  {
   "cell_type": "markdown",
   "metadata": {},
   "source": [
    "More on the functionalities and utilities of the library can be foun [here](https://arrow.readthedocs.io/en/latest/)"
   ]
  },
  {
   "cell_type": "markdown",
   "metadata": {},
   "source": [
    "-------------\n",
    "Materials licensed under [CC BY-NC-ND 4.0](https://creativecommons.org/licenses/by-nc-nd/4.0/) by the authors"
   ]
  },
  {
   "cell_type": "code",
   "execution_count": null,
   "metadata": {},
   "outputs": [],
   "source": []
  }
 ],
 "metadata": {
  "celltoolbar": "Slideshow",
  "kernelspec": {
   "display_name": "Python 3 (ipykernel)",
   "language": "python",
   "name": "python3"
  },
  "language_info": {
   "codemirror_mode": {
    "name": "ipython",
    "version": 3
   },
   "file_extension": ".py",
   "mimetype": "text/x-python",
   "name": "python",
   "nbconvert_exporter": "python",
   "pygments_lexer": "ipython3",
   "version": "3.10.7"
  }
 },
 "nbformat": 4,
 "nbformat_minor": 4
}
