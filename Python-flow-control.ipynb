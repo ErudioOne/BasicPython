{
 "cells": [
  {
   "cell_type": "markdown",
   "id": "31996aee-8d2e-4cfb-850c-dc52eed08494",
   "metadata": {},
   "source": [
    "![Erudio logo](img/erudio-logo-small.png)"
   ]
  },
  {
   "cell_type": "markdown",
   "id": "1a02fb2c-eecf-4bfb-a2a9-8739150ec879",
   "metadata": {},
   "source": [
    "# Flow Control"
   ]
  },
  {
   "cell_type": "markdown",
   "id": "b2a6b085",
   "metadata": {},
   "source": [
    "**What is Flow Control?**"
   ]
  },
  {
   "cell_type": "markdown",
   "id": "af76edd5-cb4a-44cb-abe4-aac501bcadad",
   "metadata": {},
   "source": [
    "Program execution happens sequentially in Python - the Python interpreter reads a program just like you are reading this paragraph: one line at a time, from left to right and top to bottom. The interpreter executes operations and functions in the order that it encounters them. This is called flow control. \n",
    "\n",
    "Flow control in Python—and in pretty much any imperative programming language—consists of loops and branches.With flow control, you can execute certain code blocks conditionally and/or repeatedly and these basic building blocks can be combined to create sophisticated code.\n",
    "\n",
    "The two kinds of loops in Python are `for` and `while`.  Technically Python also allows recursion, which is a kind of looping, but Python is not a language where this is a good general approach.\n",
    "\n",
    "Branches have two—or perhaps three—basic forms. Since the beginning of Python in 1991, the structure of `if`, `elif`, and `else` loops was available, and it remains the most common way to express branches or *conditional evaluation*.  \n",
    "\n",
    "With Python 3.10 and above, a kind of branching called *structural pattern matching* was introduced.  The `match` and `case` block structure can be extremely powerful, but focus on a different style of branching than `if`/`elif`/`else` provide.  \n",
    "\n",
    "**Structural pattern matching is not a replacement for the traditional `if`—and strictly speaking there's nothing you couldn't do either way—but where conditional actions are driven by the *structure* of an object, the newer approach can be very expressive.**\n",
    "\n",
    "In a special sense, the `try`/`except`/`else`/`finally` related blocks in Python express branching as well. However, since they only branch when exceptions occur, they are not addressed in this introductory lesson.  Keep them in mind as you use Python more."
   ]
  },
  {
   "cell_type": "markdown",
   "id": "89b01dad-a225-47e0-9e4b-ca067d557309",
   "metadata": {},
   "source": [
    "## Nested, Structured Data\n",
    "\n",
    "For this lesson, let's present a slightly whimsical data collection to analyze.  A series of art projects, such as Blinkenlights, 2001, at the Kunsthaus Art Museum, built by Peter Cook, Colin Fournier, Niels Jonkhaus, Mathis Osterhagen, and Marco Cruz in Graz, Austria have fashioned entire buildings into low-resolution display terminals, in the style of devices from the 1980s."
   ]
  },
  {
   "cell_type": "markdown",
   "id": "b4edbcca-e32b-4a70-8139-16e70af0601e",
   "metadata": {},
   "source": [
    "![Blinkenlights](img/blinkelights.jpg)"
   ]
  },
  {
   "cell_type": "markdown",
   "id": "a61f31da-7b85-4145-b7fd-d77a932ef1b0",
   "metadata": {},
   "source": [
    "In the spirit of the Blinkenlights, let's look at a bit of ASCII art that is encoded using the data structures you would be faimiliar with (when we get to NumPy, that will offer a more compact and flexible format).  "
   ]
  },
  {
   "cell_type": "markdown",
   "id": "8ba15d8d-49f1-4473-b1fc-d1c0e21b29ef",
   "metadata": {},
   "source": [
    "<div style=\"font-family: monospace, fixed; font-weight: bolder;\">\n",
    "<span style=\";color:blue\">@@@@@@</span><br />\n",
    "<span style=\";color:blue\">@@&nbsp;&nbsp;&nbsp;&nbsp;@</span><br />\n",
    "<span style=\";color:blue\">@@&nbsp;&nbsp;&nbsp;&nbsp;@</span>\n",
    "<span style=\";color:green\">&nbsp;@@&nbsp;&nbsp;@@@</span><br />\n",
    "<span style=\";color:green\">@@@@@@&nbsp;&nbsp;</span>\n",
    "<span style=\";color:green\">@@&nbsp;</span>\n",
    "<span style=\";color:red\">@@</span>\n",
    "<span style=\"\">&nbsp;&nbsp;</span><br />\n",
    "<span style=\";color:green\">@@</span>\n",
    "<span style=\"\">&nbsp;&nbsp;&nbsp;&nbsp;&nbsp;&nbsp;</span>\n",
    "<span style=\";color:red\">@@@@</span><br />\n",
    "<span style=\";color:red\">@@</span>\n",
    "<span style=\"\">&nbsp;&nbsp;&nbsp;&nbsp;&nbsp;&nbsp;</span>\n",
    "<span style=\";color:red\">@@@</span><br />\n",
    "<span style=\";color:red\">@@</span>\n",
    "<span style=\";color:blue\">&nbsp;&nbsp;&nbsp;&nbsp;&nbsp;&nbsp;&nbsp;@@</span><br />\n",
    "<span style=\";color:blue\">&nbsp;&nbsp;&nbsp;&nbsp;&nbsp;&nbsp;&nbsp;&nbsp;@@@</span>\n",
    "</div>"
   ]
  },
  {
   "cell_type": "markdown",
   "id": "c8d0996a-128a-4ab4-8717-fb246421bd85",
   "metadata": {},
   "source": [
    "Look at the logo generated above. Let's play with this digital art and recreate this using pythin and it supported datastructures. For this example, we will utilize one data structure that comes from the standard library module `collections`, a buffet of specialized data types. For this example we will look at `namedtuple` - a subclass of tuple that allows us to refer to the positions within a tuple by either their index number or by a name."
   ]
  },
  {
   "cell_type": "code",
   "execution_count": 14,
   "id": "171b7cdb-59d4-480d-b4cb-00bb8831f3ea",
   "metadata": {},
   "outputs": [],
   "source": [
    "from collections import namedtuple\n",
    "Pixel = namedtuple(\"Pixel\", [\"x\", \"y\", \"color\"])\n",
    "red, green, blue = \"red\", \"green\", \"blue\""
   ]
  },
  {
   "cell_type": "code",
   "execution_count": 15,
   "id": "f0a69047-2555-4a17-92f0-51502ae93bd8",
   "metadata": {},
   "outputs": [],
   "source": [
    "py_art = [\n",
    "     Pixel(x=14, y=2, color=green), Pixel(x=2, y=3, color=green),\n",
    "     Pixel(x=0, y=6, color=red), Pixel(x=10, y=5, color=red),\n",
    "     Pixel(x=4, y=0, color=blue), Pixel(x=1, y=4, color=green),\n",
    "     Pixel(x=15, y=2, color=green), Pixel(x=13, y=2, color=green),\n",
    "     Pixel(x=10, y=4, color=red), Pixel(x=3, y=0, color=blue),\n",
    "     Pixel(x=1, y=5, color=red), Pixel(x=1, y=6, color=red),\n",
    "     Pixel(x=8, y=7, color=blue), Pixel(x=14, y=3, color=red),\n",
    "     Pixel(x=12, y=4, color=red), Pixel(x=2, y=0, color=blue),\n",
    "     Pixel(x=11, y=5, color=red), Pixel(x=12, y=5, color=red),\n",
    "     Pixel(x=9, y=2, color=green), Pixel(x=1, y=3, color=green),\n",
    "     Pixel(x=0, y=0, color=blue), Pixel(x=13, y=4, color=red),\n",
    "     Pixel(x=9, y=3, color=green), Pixel(x=5, y=3, color=green),\n",
    "     Pixel(x=1, y=1, color=blue), Pixel(x=0, y=1, color=blue),\n",
    "     Pixel(x=6, y=2, color=blue), Pixel(x=6, y=1, color=blue),\n",
    "     Pixel(x=1, y=2, color=blue), Pixel(x=10, y=7, color=blue),\n",
    "     Pixel(x=0, y=2, color=blue), Pixel(x=3, y=3, color=green),\n",
    "     Pixel(x=11, y=4, color=red), Pixel(x=5, y=0, color=blue),\n",
    "     Pixel(x=1, y=0, color=blue), Pixel(x=9, y=7, color=blue),\n",
    "     Pixel(x=0, y=5, color=red), Pixel(x=10, y=3, color=green),\n",
    "     Pixel(x=10, y=6, color=blue), Pixel(x=11, y=6, color=blue),\n",
    "     Pixel(x=4, y=3, color=green), Pixel(x=0, y=4, color=green),\n",
    "     Pixel(x=0, y=3, color=green), Pixel(x=13, y=3, color=red),\n",
    "     Pixel(x=10, y=2, color=green)\n",
    "]"
   ]
  },
  {
   "cell_type": "markdown",
   "id": "4b11d290-af19-4615-ae70-852e680e472e",
   "metadata": {},
   "source": [
    "## Branching within loops\n",
    "\n",
    "Various color \"pixels\" occur in different positions within the 16×8 *Py* logo created as ASCII art.  The below code analyzes several features that are not necessarily obvious from a quick visual examination of the logo:\n",
    "\n",
    "* What is the mean X position of each filled pixel color?\n",
    "* What is the mean Y position of each filled pixel color?\n",
    "* What is the distribution (histogram) of pixel colors?"
   ]
  },
  {
   "cell_type": "markdown",
   "id": "45ca5a77-e1d4-4ceb-b82e-8b979cc05d01",
   "metadata": {},
   "source": [
    "### `if` / `elif` / `else`\n",
    "\n",
    "Conditionals using a traditional `if` style work well for the task at hand."
   ]
  },
  {
   "cell_type": "code",
   "execution_count": 3,
   "id": "1b726d77-2bd1-4562-99e7-0308af9aacb2",
   "metadata": {},
   "outputs": [],
   "source": [
    "red_pix = []\n",
    "green_pix = []\n",
    "blue_pix = []\n",
    "\n",
    "for pixel in py_art:\n",
    "    if pixel.color == red:\n",
    "        red_pix.append((pixel.x, pixel.y))\n",
    "    elif pixel.color == green:\n",
    "        green_pix.append((pixel.x, pixel.y))\n",
    "    elif pixel.color == blue:\n",
    "        blue_pix.append((pixel.x, pixel.y))\n",
    "    else:\n",
    "        raise ValueError(\"Unknown pixel color\")\n",
    "\n",
    "red_mean_x = sum(pix[0] for pix in red_pix) / len(red_pix)\n",
    "green_mean_x = sum(pix[0] for pix in green_pix) / len(green_pix)\n",
    "blue_mean_x = sum(pix[0] for pix in blue_pix) / len(blue_pix)\n",
    "\n",
    "red_mean_y = sum(pix[1] for pix in red_pix) / len(red_pix)\n",
    "green_mean_y = sum(pix[1] for pix in green_pix) / len(green_pix)\n",
    "blue_mean_y = sum(pix[1] for pix in blue_pix) / len(blue_pix)\n",
    "\n",
    "histogram = {red: len(red_pix), green: len(green_pix), blue: len(blue_pix)}"
   ]
  },
  {
   "cell_type": "code",
   "execution_count": 4,
   "id": "c5b7acb3-da7d-43ae-b6d3-ddeb2ef3cb98",
   "metadata": {},
   "outputs": [
    {
     "data": {
      "text/plain": [
       "(8.307692307692308, 6.4, 4.529411764705882)"
      ]
     },
     "execution_count": 4,
     "metadata": {},
     "output_type": "execute_result"
    }
   ],
   "source": [
    "red_mean_x, green_mean_x, blue_mean_x"
   ]
  },
  {
   "cell_type": "code",
   "execution_count": 5,
   "id": "b5c7f2e1-d910-47a4-8a16-947dac89a427",
   "metadata": {},
   "outputs": [
    {
     "data": {
      "text/plain": [
       "(4.538461538461538, 2.8, 2.4705882352941178)"
      ]
     },
     "execution_count": 5,
     "metadata": {},
     "output_type": "execute_result"
    }
   ],
   "source": [
    "red_mean_y, green_mean_y, blue_mean_y"
   ]
  },
  {
   "cell_type": "code",
   "execution_count": 6,
   "id": "3f5cd007-1539-42e1-8ce5-2ff0a5588ee0",
   "metadata": {},
   "outputs": [
    {
     "data": {
      "text/plain": [
       "{'red': 13, 'green': 15, 'blue': 17}"
      ]
     },
     "execution_count": 6,
     "metadata": {},
     "output_type": "execute_result"
    }
   ],
   "source": [
    "histogram"
   ]
  },
  {
   "cell_type": "markdown",
   "id": "c35b8861-64ab-4197-ac35-a7b4276791c3",
   "metadata": {},
   "source": [
    "### `match` / `case`\n",
    "\n",
    "The above code is fine, but we might improve it in several ways.  Whether this is actually better, however, would depend on the larger structure of the overall program it is part of."
   ]
  },
  {
   "cell_type": "code",
   "execution_count": 7,
   "id": "29de638e-a211-415a-ae9f-d76c64aa92ce",
   "metadata": {},
   "outputs": [],
   "source": [
    "red_sum_x = green_sum_x = blue_sum_x = 0\n",
    "red_sum_y = green_sum_y = blue_sum_y = 0\n",
    "red_count = green_count = blue_count = 0\n",
    "\n",
    "for pixel in py_art:\n",
    "    match pixel:\n",
    "        case Pixel(x=x, y=y, color=\"red\"):\n",
    "            red_sum_x += x\n",
    "            red_sum_y += y\n",
    "            red_count += 1\n",
    "        case Pixel(x=x, y=y, color=\"green\"):\n",
    "            green_sum_x += x\n",
    "            green_sum_y += y\n",
    "            green_count += 1\n",
    "        case Pixel(x=x, y=y, color=\"blue\"):\n",
    "            blue_sum_x += x\n",
    "            blue_sum_y += y\n",
    "            blue_count += 1\n",
    "        case _:\n",
    "            raise ValueError(\"Unknown pixel color\")           "
   ]
  },
  {
   "cell_type": "code",
   "execution_count": 8,
   "id": "9167c4df-5e2e-4b3e-b632-9a8d229b241d",
   "metadata": {},
   "outputs": [
    {
     "data": {
      "text/plain": [
       "(8.307692307692308, 6.4, 4.529411764705882)"
      ]
     },
     "execution_count": 8,
     "metadata": {},
     "output_type": "execute_result"
    }
   ],
   "source": [
    "red_sum_x/red_count, green_sum_x/green_count, blue_sum_x/blue_count"
   ]
  },
  {
   "cell_type": "code",
   "execution_count": 9,
   "id": "6ec800b8-05de-4fdc-b301-d2e7d6c0fb9f",
   "metadata": {},
   "outputs": [
    {
     "data": {
      "text/plain": [
       "(4.538461538461538, 2.8, 2.4705882352941178)"
      ]
     },
     "execution_count": 9,
     "metadata": {},
     "output_type": "execute_result"
    }
   ],
   "source": [
    "red_sum_y/red_count, green_sum_y/green_count, blue_sum_y/blue_count"
   ]
  },
  {
   "cell_type": "code",
   "execution_count": 10,
   "id": "f51791dd-c597-4468-9f1a-029ffffe7a8b",
   "metadata": {},
   "outputs": [
    {
     "data": {
      "text/plain": [
       "{'red': 13, 'green': 15, 'blue': 17}"
      ]
     },
     "execution_count": 10,
     "metadata": {},
     "output_type": "execute_result"
    }
   ],
   "source": [
    "{red: red_count, green: green_count, blue: blue_count}"
   ]
  },
  {
   "cell_type": "markdown",
   "id": "8ee01132-84e2-45c1-b050-b0d12c14b071",
   "metadata": {},
   "source": [
    "There are manyt more matching styles available with `match` / `case` than the example shown.  See PEP 636 for details (https://peps.python.org/pep-0636/)"
   ]
  },
  {
   "cell_type": "markdown",
   "id": "e3ad9e09-0678-46e5-b7a9-872d69b3f8a0",
   "metadata": {},
   "source": [
    "## `while` loops\n",
    "\n",
    "Most of the time it is more idiomatic in Python to reach for `for` loops than `while` loops.  This is because we tend to focus on *what* we are iterating over rather than the predicate that might become fulfulled to end a loop.\n",
    "\n",
    "However, `while` loops absolutely have their place. It remains common that we do not know when a loop will need to stop.\n",
    "\n",
    "The statements `continue` and `break` may be used in `for` loops as well, but they are especially common in `while` loops.  The former says to *keep looping but don't take any more steps within this iteration of the loop*.  The latter say *this loop is completed and we no longer wish to iterate within it."
   ]
  },
  {
   "cell_type": "markdown",
   "id": "493a67de-8c78-485c-9015-825c6bf6a7b8",
   "metadata": {},
   "source": [
    "We'll show a fairly toy example here, but it's easy to imagine that it reflects a stream of external data that is being processed rather than simply random values."
   ]
  },
  {
   "cell_type": "code",
   "execution_count": 11,
   "id": "b31e292d-4973-4753-8479-3b1e0bd12bfe",
   "metadata": {},
   "outputs": [
    {
     "name": "stdout",
     "output_type": "stream",
     "text": [
      "Total reached is: 100008\n"
     ]
    }
   ],
   "source": [
    "from random import randint\n",
    "\n",
    "total = 0\n",
    "while total < 100_000:\n",
    "    sample = randint(1, 500)\n",
    "    if not sample % 47:\n",
    "        continue  # We'll exclude multiples of 47 in our total\n",
    "    elif sample == 99:\n",
    "        break  # Discontinue operation if value 99 is encountered\n",
    "    total += sample\n",
    "    \n",
    "print(f\"Total reached is: {total}\")    "
   ]
  },
  {
   "cell_type": "markdown",
   "id": "e5efaa46-5fca-412e-bd44-93c6ccbf0f89",
   "metadata": {},
   "source": [
    "## Exercises\n",
    "\n",
    "Given the amount of material covered in this short course, the below exercises are suggestions for you to try on their own after this first session has completed."
   ]
  },
  {
   "cell_type": "markdown",
   "id": "6c578e45-3e10-41ec-ba2e-a0cc2332cf17",
   "metadata": {},
   "source": [
    "### Exercise 1\n",
    "\n",
    "The data collected in `py_art` has no particular order.  For the purposes in this lesson that is not a problem. However, for other purposes we might want to group it together by x coordinate, by y coordinate, or by pixel color.\n",
    "\n",
    "Write Python code to create each of those groupings."
   ]
  },
  {
   "cell_type": "code",
   "execution_count": 12,
   "id": "10390dd0-baa0-4c61-9aa0-684f8f20c957",
   "metadata": {},
   "outputs": [],
   "source": [
    "# ... code here ..."
   ]
  },
  {
   "cell_type": "markdown",
   "id": "6622f6d4-acc8-4b53-b903-5c19cbc00560",
   "metadata": {},
   "source": [
    "### Exercise 2\n",
    "\n",
    "In some ways, the data represented in `py_art` is relatively compact.  Since only a minority  of \"pixels\" contain any color at all, omitting any representation of uncolored pixels saves space.  However, think about other (possibly more efficient) representations that are possible given the data structures you learned in the first lesson."
   ]
  },
  {
   "cell_type": "code",
   "execution_count": 13,
   "id": "4cdde03a-420e-4156-aa88-3b3e39e038be",
   "metadata": {},
   "outputs": [],
   "source": [
    "# ... code here ..."
   ]
  },
  {
   "cell_type": "markdown",
   "id": "8597170c-ebdf-4029-814d-e523fba71cb4",
   "metadata": {},
   "source": [
    "### Exercise 3\n",
    "\n",
    "By eyeballing the values, you can determine that the `Pixel` objects really do represent the the banner-style \"Py\" logo shown.  However, try to write Python code that reproduces the banner/logo based on the data representation.\n",
    "\n",
    "Hint: As a partial solution, rather than using actual colors, you could use the letters \"R\", \"G\", \"B\" as placeholders, and create an arrangement of those into ASCII art.  Most likely, if you want to represent actual colors, you will want to use a third party ANSCII code generator and/or create the logo as HTML."
   ]
  }
 ],
 "metadata": {
  "kernelspec": {
   "display_name": "Python 3 (ipykernel)",
   "language": "python",
   "name": "python3"
  },
  "language_info": {
   "codemirror_mode": {
    "name": "ipython",
    "version": 3
   },
   "file_extension": ".py",
   "mimetype": "text/x-python",
   "name": "python",
   "nbconvert_exporter": "python",
   "pygments_lexer": "ipython3",
   "version": "3.10.7"
  },
  "widgets": {
   "application/vnd.jupyter.widget-state+json": {
    "state": {},
    "version_major": 2,
    "version_minor": 0
   }
  }
 },
 "nbformat": 4,
 "nbformat_minor": 5
}
