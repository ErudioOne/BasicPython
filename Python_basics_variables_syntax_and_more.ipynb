{
 "cells": [
  {
   "cell_type": "markdown",
   "id": "c8514e57",
   "metadata": {},
   "source": [
    "![Erudio logo](img/erudio-logo-small.png)"
   ]
  },
  {
   "cell_type": "markdown",
   "id": "257968a9",
   "metadata": {},
   "source": [
    "# Welcome to Basics of Python"
   ]
  },
  {
   "cell_type": "markdown",
   "id": "094269ae",
   "metadata": {},
   "source": [
    "Greetings! If you're a newcomer to the world of programming, you're in the right place. However, if you already have some programming experience, we assume you're here to discover why and how to begin your journey with Python. The good news is, whether you're an experienced programmer in another language or a novice, Python is easily graspable and user-friendly. So, don't hesitate—dive right in!"
   ]
  },
  {
   "cell_type": "markdown",
   "id": "f3740a75",
   "metadata": {},
   "source": [
    "### Installation and Setup"
   ]
  },
  {
   "cell_type": "markdown",
   "id": "b348dfa6",
   "metadata": {},
   "source": [
    "Installing Python is generally easy, and nowadays many Linux and UNIX distributions include a recent Python version installed. Even some Windows computers now come with Python already installed. If you do need to install Python and aren't confident about the task you can find a few notes on the [BeginnersGuide/Download wiki page](https://wiki.python.org/moin/BeginnersGuide/Download), but installation is unremarkable on most platforms.\n",
    "\n",
    "For the entire course, we'll be using Jupyter Notebooks -  interactive notebook documents, which can contain live code, text, data visualizations, videos and other computational outputs, for running our python programs and exercises.\n",
    "\n",
    "If you don't have the installation setup done already, you can check the [instructions here](https://jupyter-notebook-beginner-guide.readthedocs.io/en/latest/install.html)  according to your operating system.\n"
   ]
  },
  {
   "cell_type": "markdown",
   "id": "14bdde1d",
   "metadata": {},
   "source": [
    "## What is Python?\n",
    "\n",
    "Python is a popular programming language. It was created by Guido van Rossum, and released in 1991.\n",
    "\n",
    "It is used for:\n",
    "- web development (server-side),\n",
    "- software development,\n",
    "- mathematics,\n",
    "- system scripting.\n"
   ]
  },
  {
   "cell_type": "markdown",
   "id": "b1cf27eb",
   "metadata": {},
   "source": [
    "## What is Possible with Python?\n",
    "- Can be used on a server to create web applications.\n",
    "- Can be used alongside software to create workflows.\n",
    "- Can connect to database systems. It can also read and modify files.\n",
    "- Can be used to handle big data and perform complex mathematics.\n",
    "- Can be used for rapid prototyping, or for production-ready software "
   ]
  },
  {
   "cell_type": "markdown",
   "id": "12b296d0",
   "metadata": {},
   "source": [
    "## Python Indentation Basics\n",
    "\n",
    "In Python, indentation is the space at the beginning of a code line.\n",
    "\n",
    "Unlike some other programming languages where indentation is just for readability, in Python, it plays a crucial role.\n",
    "\n",
    "Python utilizes indentation to signify a block of code."
   ]
  },
  {
   "cell_type": "code",
   "execution_count": 14,
   "id": "01079404",
   "metadata": {},
   "outputs": [
    {
     "name": "stdout",
     "output_type": "stream",
     "text": [
      "The condition above is true!\n"
     ]
    }
   ],
   "source": [
    "if 1 != 2:\n",
    "  print(\"The condition above is true!\")"
   ]
  },
  {
   "cell_type": "markdown",
   "id": "b1428526",
   "metadata": {},
   "source": [
    "The compiler will give you an error if you skip the indentation:"
   ]
  },
  {
   "cell_type": "code",
   "execution_count": 15,
   "id": "29ebe954",
   "metadata": {},
   "outputs": [
    {
     "ename": "IndentationError",
     "evalue": "expected an indented block after 'if' statement on line 1 (3022310714.py, line 2)",
     "output_type": "error",
     "traceback": [
      "\u001b[1;36m  Cell \u001b[1;32mIn [15], line 2\u001b[1;36m\u001b[0m\n\u001b[1;33m    print(\"The condition above is true!\")\u001b[0m\n\u001b[1;37m    ^\u001b[0m\n\u001b[1;31mIndentationError\u001b[0m\u001b[1;31m:\u001b[0m expected an indented block after 'if' statement on line 1\n"
     ]
    }
   ],
   "source": [
    "if 1 != 2:\n",
    "print(\"The condition above is true!\")"
   ]
  },
  {
   "cell_type": "markdown",
   "id": "5bac2bef",
   "metadata": {},
   "source": [
    "<div class=\"alert alert-info\">NOTE: The number of spaces is up to you as a programmer, the most common use is four, but it has to be at least one.</div>"
   ]
  },
  {
   "cell_type": "markdown",
   "id": "41e080bc",
   "metadata": {},
   "source": [
    "## Python Variables\n",
    "In Python, a variable is a container for storing data values. You can think of a variable as a name assigned to a memory location that stores information. The data type of a variable is automatically inferred based on the value assigned to it."
   ]
  },
  {
   "cell_type": "code",
   "execution_count": 16,
   "id": "a5f08172",
   "metadata": {},
   "outputs": [
    {
     "name": "stdout",
     "output_type": "stream",
     "text": [
      "value of x:  5 \n",
      "value of y:  Hello Python!\n"
     ]
    }
   ],
   "source": [
    "# Example of variable assignment\n",
    "x = 5\n",
    "y = \"Hello Python!\"\n",
    "\n",
    "print(\"value of x: \", x,\"\\nvalue of y: \", y)"
   ]
  },
  {
   "cell_type": "markdown",
   "id": "b6cf531f",
   "metadata": {},
   "source": [
    "-----------------------------------------\n",
    "A variable can have a short name (like x and y) or a more descriptive name (age, name, selling_price etc). Rules for Python variables:\n",
    "\n",
    "   &#10148; A variable name must start with a letter or the underscore character </br>\n",
    "   &#10148; A variable name cannot start with a number</br>\n",
    "   &#10148; A variable name can only contain alpha-numeric characters and underscores (A-z, 0-9, and _ )</br>\n",
    "   &#10148; Variable names are case-sensitive (age, Age and AGE are three different variables)</br>\n",
    "   &#10148; A variable name cannot be any of the Python keywords.</br>"
   ]
  },
  {
   "cell_type": "markdown",
   "id": "975f5c68",
   "metadata": {},
   "source": [
    "## Python Variables - Assignment\n",
    "Assignment is the process of associating a value with a variable. It involves using the assignment operator (=) to store a value in a variable. Assignments in Python are dynamic, meaning you can reassign variables with different values during the execution of your program."
   ]
  },
  {
   "cell_type": "markdown",
   "id": "2039e47b",
   "metadata": {},
   "source": [
    "### Different Types of Assignment"
   ]
  },
  {
   "cell_type": "code",
   "execution_count": 24,
   "id": "5c4b08c6",
   "metadata": {},
   "outputs": [
    {
     "name": "stdout",
     "output_type": "stream",
     "text": [
      "10 20 30\n"
     ]
    }
   ],
   "source": [
    "# One Value to One Variable\n",
    "\n",
    "x = 5\n",
    "\n",
    "# Many Values to Multiple Variables\n",
    "x, y, z = 5, 10, 15\n",
    "\n",
    "# One Value to Multiple Variables\n",
    "x = y = z = 5\n",
    "\n",
    "\"\"\"\n",
    "Unpack a Collection\n",
    "\n",
    "If you have a collection of values in a list, tuple, etc., Python allows you to extract the values into variables. \n",
    "This is called unpacking.\n",
    "\n",
    "\"\"\"\n",
    "values = [10, 20, 30]\n",
    "x, y, z = values\n",
    "print(x,y,z)"
   ]
  },
  {
   "cell_type": "markdown",
   "id": "56b8d8a2",
   "metadata": {},
   "source": [
    "## Python Data Types\n",
    "\n",
    "#### Built-in Data Types\n",
    "\n",
    "Python has the following data types built-in by default\n",
    "* **Text Type**: \tstr\n",
    "* **Numeric Types**: \tint, float, complex\n",
    "* **Sequence Types**: \tlist, tuple, range\n",
    "* **Mapping Type**: \tdict\n",
    "* **Set Types**: \tset, frozenset\n",
    "* **Boolean Type**: \tbool\n",
    "* **Binary Types**: \tbytes, bytearray, memoryview\n",
    "* **None Type**: \tNoneType"
   ]
  },
  {
   "cell_type": "markdown",
   "id": "cc81317f",
   "metadata": {},
   "source": [
    "#### Getting the Data Type\n",
    "\n",
    "You can get the data type of any object by using the type() function:"
   ]
  },
  {
   "cell_type": "code",
   "execution_count": 25,
   "id": "256527a7",
   "metadata": {},
   "outputs": [
    {
     "name": "stdout",
     "output_type": "stream",
     "text": [
      "<class 'str'>\n"
     ]
    }
   ],
   "source": [
    "x = \"Hello world\"\n",
    "print(type(x))"
   ]
  },
  {
   "cell_type": "markdown",
   "id": "8c449f87",
   "metadata": {},
   "source": [
    "\n",
    "## Numbers\n",
    "\n",
    "Python supports different types of numbers, including integers and floating-point numbers. You can perform various mathematical operations using these numeric types.\n",
    "There are three numeric types in Python:\n",
    "\n",
    "   * int\n",
    "   * float\n",
    "   * complex\n"
   ]
  },
  {
   "cell_type": "code",
   "execution_count": 27,
   "id": "a525e6fd",
   "metadata": {},
   "outputs": [
    {
     "name": "stdout",
     "output_type": "stream",
     "text": [
      "13.14 | 31.400000000000002 | (3+1j)\n"
     ]
    }
   ],
   "source": [
    "# Example of numeric operations\n",
    "a = 10     #int\n",
    "b = 3.14   #float\n",
    "c = 1j     #complex\n",
    "\n",
    "sum_result = a + b\n",
    "product_result = a * b\n",
    "complex_addition = 3+ c\n",
    "\n",
    "print(sum_result, \"|\", product_result,\"|\", complex_addition)"
   ]
  },
  {
   "cell_type": "markdown",
   "id": "d9cc937f",
   "metadata": {},
   "source": [
    "## Strings\n",
    "\n",
    "Strings are sequences of characters and are defined using either single or double quotes. Python provides a variety of operations and methods for working with strings."
   ]
  },
  {
   "cell_type": "markdown",
   "id": "745061c1",
   "metadata": {},
   "source": [
    "#### Looping Through a String\n",
    "\n",
    "Since strings are arrays, we can loop through the characters in a string, with a for loop."
   ]
  },
  {
   "cell_type": "code",
   "execution_count": 28,
   "id": "958199e5",
   "metadata": {
    "scrolled": true
   },
   "outputs": [
    {
     "name": "stdout",
     "output_type": "stream",
     "text": [
      "t\n",
      "u\n",
      "t\n",
      "o\n",
      "r\n",
      "i\n",
      "a\n",
      "l\n"
     ]
    }
   ],
   "source": [
    "for x in \"tutorial\":\n",
    "  print(x)"
   ]
  },
  {
   "cell_type": "markdown",
   "id": "5ff062fe",
   "metadata": {},
   "source": [
    "#### Let's explore other utility functions like concatenation, looping, slicing and much more"
   ]
  },
  {
   "cell_type": "code",
   "execution_count": 38,
   "id": "a3168f3f",
   "metadata": {},
   "outputs": [
    {
     "name": "stdout",
     "output_type": "stream",
     "text": [
      "length of string x  =  35\n",
      "True\n",
      "tutorial\n"
     ]
    }
   ],
   "source": [
    "input_str = \"this is a tutorial on python basics\"\n",
    "\n",
    "# len() returns the length of a string\n",
    "print(\"length of string x  = \", len(input_str))\n",
    "\n",
    "# Check for a string Check if \"python\" is present in the string x:\n",
    "print(\"python\" in input_str)\n",
    "\n",
    "# Slicing Strings - Select a substring\n",
    "substring = input_str[10:18] # Try different ways of slicing like input_str[:5], input_str[5:]\n",
    "print(substring)"
   ]
  },
  {
   "cell_type": "code",
   "execution_count": 39,
   "id": "64eed864",
   "metadata": {},
   "outputs": [
    {
     "name": "stdout",
     "output_type": "stream",
     "text": [
      "Greeting:  Hello, John!\n",
      "JOHN\n",
      "['Hello', ' John!']\n"
     ]
    }
   ],
   "source": [
    "# Example of string concatenation\n",
    "name = \"John\"\n",
    "greeting = \"Hello, \" + name + \"!\"\n",
    "print(\"Greeting: \", greeting)\n",
    "\n",
    "# Change to uppercase\n",
    "uppercase_name = name.upper() # try name.lower()\n",
    "print(uppercase_name)\n",
    "\n",
    "# split() method splits the string into substrings if it finds instances of the separator\n",
    "print(greeting.split(\",\")) # returns ['Hello', ' John!']\n",
    "\n"
   ]
  },
  {
   "cell_type": "markdown",
   "id": "9d688124",
   "metadata": {},
   "source": [
    "#### For more string methods, you can refer the python documentation [here](https://docs.python.org/3/library/stdtypes.html#string-methods)"
   ]
  },
  {
   "cell_type": "markdown",
   "id": "32b2879c",
   "metadata": {},
   "source": [
    "## Casting\n",
    "\n",
    "Casting is the process of converting one data type to another. Python provides built-in functions for casting between different types, such as int(), float(), and str()."
   ]
  },
  {
   "cell_type": "code",
   "execution_count": 19,
   "id": "e44a0fcb",
   "metadata": {
    "scrolled": true
   },
   "outputs": [
    {
     "name": "stdout",
     "output_type": "stream",
     "text": [
      "value:  123\n",
      "original_type <class 'str'>\n",
      "original_type <class 'int'>\n",
      "value:  3.14\n",
      "original_type <class 'float'>\n",
      "original_type <class 'int'>\n"
     ]
    }
   ],
   "source": [
    "# Example of casting\n",
    "num_str = \"123\"\n",
    "num_int = int(num_str)\n",
    "print(\"value: \", num_str)\n",
    "print(\"original_type\", type(num_str))\n",
    "print(\"original_type\", type(num_int))\n",
    "\n",
    "float_num = 3.14\n",
    "int_num = int(float_num)\n",
    "print(\"value: \", float_num)\n",
    "print(\"original_type\", type(float_num))\n",
    "print(\"original_type\", type(int_num))\n",
    "\n"
   ]
  },
  {
   "cell_type": "markdown",
   "id": "02a05290",
   "metadata": {},
   "source": [
    "## Exercises\n",
    "\n",
    "### Exercise 1: Swap Values\n",
    "\n",
    "You need swap the values of two variables without using a temporary variable. Test your program with different values.\n",
    "\n",
    "#### Incorrect way -  using a temporary variable\n",
    "```\n",
    "temp = a\n",
    "a = b\n",
    "b = temp \n",
    "```\n",
    "\n",
    "NOTE: __Try your program with different initial values for a and b to ensure it works correctly.__\n",
    "\n",
    "\n"
   ]
  },
  {
   "cell_type": "code",
   "execution_count": null,
   "id": "1f612026",
   "metadata": {},
   "outputs": [],
   "source": [
    "a = 5\n",
    "b = 10\n",
    "# Write your code here\n",
    "\n",
    "# After swapping\n",
    "# a should be 10, and b should be 5\n",
    "print(\"values after swapping\", a,b ) \n",
    "\n"
   ]
  },
  {
   "cell_type": "markdown",
   "id": "49d02fb4",
   "metadata": {},
   "source": [
    "### Exercise 2: String manipulation\n",
    "\n",
    "You are given a string containing words separated by spaces. Your task is to reverse the order of each word in the string while maintaining the order of words in the overall string. Write a Python program to achieve this without using any built-in string manipulation functions (e.g., split, join, reverse).\n",
    "\n",
    "#### Example:\n",
    "```\n",
    "#Input\n",
    "input_string = \"Hello World Python\"\n",
    "\n",
    "# Output\n",
    "# \"olleH dlroW nohtyP\"\n",
    "```\n",
    "\n",
    "#### Constraints:\n",
    "\n",
    "   * The input string contains only alphabetic characters and spaces.\n",
    "   * Words are separated by a single space."
   ]
  },
  {
   "cell_type": "code",
   "execution_count": 40,
   "id": "b9531144",
   "metadata": {},
   "outputs": [],
   "source": [
    "# Input\n",
    "input_string = \"Hello World Python\"\n",
    "\n",
    "# your logic to reverse the strings without changing order of words"
   ]
  },
  {
   "cell_type": "markdown",
   "id": "3fbcc131",
   "metadata": {},
   "source": [
    "## Python Operators\n",
    "Python divides the operators in the following groups:\n",
    "\n",
    "   * Arithmetic operators\n",
    "   * Assignment operators\n",
    "   * Comparison operators\n",
    "   * Logical operators\n",
    "   * Identity operators\n",
    "   * Membership operators\n",
    "   * Bitwise operators\n"
   ]
  },
  {
   "cell_type": "code",
   "execution_count": 49,
   "id": "ff49a04f",
   "metadata": {},
   "outputs": [
    {
     "name": "stdout",
     "output_type": "stream",
     "text": [
      "addition 8\n",
      "subtraction 6\n",
      "power operator 36\n",
      "equality check:  False\n",
      "Not equal:  True\n",
      "Greater than:  False\n",
      "less than equal to:  True\n"
     ]
    }
   ],
   "source": [
    "x = 5\n",
    "x+=3 # same as x = x + 3\n",
    "print(\"addition\", x )\n",
    "\n",
    "x -= 2\n",
    "print(\"subtraction\", x )\n",
    "\n",
    "x **= 2 # (same as x* x : can be any power x **= n )\n",
    "print(\"power operator\", x) \n",
    "\n",
    "y = 44\n",
    "\n",
    "print(\"equality check: \", x == y)\n",
    "print(\"Not equal: \", x!= y)\n",
    "print(\"Greater than: \", x > y)\n",
    "print(\"less than equal to: \", x <= y)\n",
    "\n"
   ]
  },
  {
   "cell_type": "markdown",
   "id": "4144eacc",
   "metadata": {},
   "source": [
    "## Python Collections\n",
    "\n",
    "There are four collection data types in the Python programming language:\n",
    "\n",
    "   * List is a collection which is ordered and changeable. Allows duplicate members.\n",
    "   * Tuple is a collection which is ordered and unchangeable. Allows duplicate members.\n",
    "   * Set is a collection which is unordered, unchangeable, and unindexed. No **duplicate members.**\n",
    "   * Dictionary is a collection which is ordered and changeable. **No duplicate members.**\n"
   ]
  },
  {
   "cell_type": "markdown",
   "id": "a6ba8e51",
   "metadata": {},
   "source": [
    "## List\n",
    "Lists are used to store multiple items in a single variable.\n",
    "\n",
    "Lists are one of 4 built-in data types used to store collections of data.\n",
    "Other 3 are Tuple, Set, and Dictionary, all with different qualities and usage."
   ]
  },
  {
   "cell_type": "code",
   "execution_count": 50,
   "id": "97e58cd8",
   "metadata": {},
   "outputs": [
    {
     "name": "stdout",
     "output_type": "stream",
     "text": [
      "List of Fruits:  ['apple', 'banana', 'cherry', 'apple', 'cherry']\n"
     ]
    }
   ],
   "source": [
    "fruits = [\"apple\", \"banana\", \"cherry\", \"apple\", \"cherry\"]\n",
    "print(\"List of Fruits: \", fruits)\n"
   ]
  },
  {
   "cell_type": "markdown",
   "id": "b587f364",
   "metadata": {},
   "source": [
    "#### Note: \n",
    "* Lists allow duplicates\n",
    "* Lists are mutable: you can add, and remove items in a list after it has been created.\n",
    "* Lists are ordered: items have a defined order, and that order will not change. When you add new items to a list, the new items will be placed at the end of the list.\n",
    "* List items can be of any data type\n"
   ]
  },
  {
   "cell_type": "code",
   "execution_count": 51,
   "id": "773aafa5",
   "metadata": {},
   "outputs": [
    {
     "name": "stdout",
     "output_type": "stream",
     "text": [
      "1. append(6): [1, 2, 3, 4, 5, 6]\n",
      "2. clear(): []\n",
      "3. copy(): [1, 2, 3, 4, 5]\n",
      "4. count(3): 1\n",
      "5. extend([6, 7, 8]): [1, 2, 3, 4, 5, 6, 7, 8]\n",
      "6. index(4): 3\n",
      "7. insert(2, 9): [1, 2, 9, 3, 4, 5, 6, 7, 8]\n",
      "8. pop(3) - Popped Element: 3 Updated List: [1, 2, 9, 4, 5, 6, 7, 8]\n",
      "9. remove(7): [1, 2, 9, 4, 5, 6, 8]\n",
      "10. reverse(): [8, 6, 5, 4, 9, 2, 1]\n",
      "11. sort(): [1, 2, 4, 5, 6, 8, 9]\n"
     ]
    }
   ],
   "source": [
    "# Initialize a list\n",
    "my_list = [1, 2, 3, 4, 5]\n",
    "\n",
    "# 1. append(): Adds an element at the end of the list\n",
    "my_list.append(6)\n",
    "print(\"1. append(6):\", my_list)\n",
    "\n",
    "# 2. clear(): Removes all the elements from the list\n",
    "my_list.clear()\n",
    "print(\"2. clear():\", my_list)\n",
    "\n",
    "# Reinitialize the list\n",
    "my_list = [1, 2, 3, 4, 5]\n",
    "\n",
    "# 3. copy(): Returns a copy of the list\n",
    "copied_list = my_list.copy()\n",
    "print(\"3. copy():\", copied_list)\n",
    "\n",
    "# 4. count(): Returns the number of elements with the specified value\n",
    "count_of_3 = my_list.count(3)\n",
    "print(\"4. count(3):\", count_of_3)\n",
    "\n",
    "# 5. extend(): Add the elements of a list (or any iterable), to the end of the current list\n",
    "extension_list = [6, 7, 8]\n",
    "my_list.extend(extension_list)\n",
    "print(\"5. extend([6, 7, 8]):\", my_list)\n",
    "\n",
    "# 6. index(): Returns the index of the first element with the specified value\n",
    "index_of_4 = my_list.index(4)\n",
    "print(\"6. index(4):\", index_of_4)\n",
    "\n",
    "# 7. insert(): Adds an element at the specified position\n",
    "my_list.insert(2, 9)\n",
    "print(\"7. insert(2, 9):\", my_list)\n",
    "\n",
    "# 8. pop(): Removes the element at the specified position\n",
    "popped_element = my_list.pop(3)\n",
    "print(\"8. pop(3) - Popped Element:\", popped_element, \"Updated List:\", my_list)\n",
    "\n",
    "# 9. remove(): Removes the item with the specified value\n",
    "my_list.remove(7)\n",
    "print(\"9. remove(7):\", my_list)\n",
    "\n",
    "# 10. reverse(): Reverses the order of the list\n",
    "my_list.reverse()\n",
    "print(\"10. reverse():\", my_list)\n",
    "\n",
    "# 11. sort(): Sorts the list\n",
    "my_list.sort()\n",
    "print(\"11. sort():\", my_list)\n"
   ]
  },
  {
   "cell_type": "markdown",
   "id": "9f0e239b",
   "metadata": {},
   "source": [
    "## Tuple\n",
    "A tuple is a collection which is ordered and unchangeable.\n",
    "\n",
    "Tuples are written with round brackets."
   ]
  },
  {
   "cell_type": "code",
   "execution_count": 52,
   "id": "953848ac",
   "metadata": {},
   "outputs": [
    {
     "name": "stdout",
     "output_type": "stream",
     "text": [
      "Original Tuple: (1, 2, 'three', (4, 5))\n",
      "Accessing Elements: 1 (4, 5)\n",
      "Slicing: (2, 'three')\n",
      "Concatenation: (1, 2, 'three', (4, 5), 6, 'seven')\n",
      "Repetition: (1, 2, 'three', (4, 5), 1, 2, 'three', (4, 5))\n",
      "Length: 4\n",
      "Count of 'three': 1\n",
      "Index of (4, 5): 3\n"
     ]
    }
   ],
   "source": [
    "# Tuples can contain different data types, including numbers, strings, and other tuples.\n",
    "\n",
    "# Example of creating a tuple\n",
    "my_tuple = (1, 2, \"three\", (4, 5))\n",
    "\n",
    "# Tuple Operations\n",
    "\n",
    "# 1. Accessing Elements\n",
    "first_element = my_tuple[0]  # Retrieves the first element of the tuple\n",
    "last_element = my_tuple[-1]  # Retrieves the last element (nested tuple in this case)\n",
    "\n",
    "# 2. Slicing\n",
    "subset = my_tuple[1:3]  # Retrieves elements at index 1 and 2, excluding index 3\n",
    "\n",
    "# 3. Concatenation\n",
    "new_tuple = my_tuple + (6, \"seven\")  # Concatenates two tuples\n",
    "\n",
    "# 4. Repetition\n",
    "repeated_tuple = my_tuple * 2  # Creates a new tuple by repeating the original tuple twice\n",
    "\n",
    "# 5. Length\n",
    "tuple_length = len(my_tuple)  # Returns the number of elements in the tuple\n",
    "\n",
    "# 6. Count\n",
    "count_of_three = my_tuple.count(\"three\")  # Returns the number of occurrences of \"three\" in the tuple\n",
    "\n",
    "# 7. Index\n",
    "index_of_five = my_tuple.index((4, 5))  # Returns the index of the first occurrence of (4, 5) in the tuple\n",
    "\n",
    "# Print the results\n",
    "print(\"Original Tuple:\", my_tuple)\n",
    "print(\"Accessing Elements:\", first_element, last_element)\n",
    "print(\"Slicing:\", subset)\n",
    "print(\"Concatenation:\", new_tuple)\n",
    "print(\"Repetition:\", repeated_tuple)\n",
    "print(\"Length:\", tuple_length)\n",
    "print(\"Count of 'three':\", count_of_three)\n",
    "print(\"Index of (4, 5):\", index_of_five)\n"
   ]
  },
  {
   "cell_type": "markdown",
   "id": "f1881c01",
   "metadata": {},
   "source": [
    "## Sets\n",
    "A set in Python is an unordered and mutable collection of unique elements. It is defined using curly braces {} and can contain a variety of data types, including numbers, strings, and other Python objects.\n",
    "**Sets are particularly useful when you need to work with distinct elements and perform various operations like union, intersection, and difference efficiently.**\n",
    "\n",
    "#### Properties of Sets:\n",
    "\n",
    "   * Uniqueness: Sets only contain unique elements. If you try to add a duplicate element, it won't be included.\n",
    "   * Unordered: The elements in a set have no specific order. The order in which elements are added does not guarantee the order when you iterate over the set.\n",
    "   * Mutable: You can modify the contents of a set by adding or removing elements.\n",
    "   * No Indexing: Sets do not support indexing or slicing, as they are unordered.\n",
    "\n"
   ]
  },
  {
   "cell_type": "code",
   "execution_count": 55,
   "id": "e3c8554d",
   "metadata": {},
   "outputs": [
    {
     "name": "stdout",
     "output_type": "stream",
     "text": [
      "After adding 6 to set_A: {1, 2, 3, 4, 5, 6}\n",
      "After discarding 3 from set_A: {1, 2, 4, 5, 6}\n",
      "Union of set_A and set_B: {1, 2, 4, 5, 6, 7, 8}\n",
      "Intersection of set_A and set_B: {4, 5, 6}\n",
      "Difference of set_A and set_B: {1, 2}\n",
      "Symmetric Difference of set_A and set_B: {1, 2, 7, 8}\n",
      "Are set_A and set_B disjoint? False\n",
      "Is set_A a subset of set_B? False\n",
      "Is set_A a superset of set_B? False\n"
     ]
    }
   ],
   "source": [
    "# Creating sets\n",
    "set_A = {1, 2, 3, 4, 5}\n",
    "set_B = {4, 5, 6, 7, 8}\n",
    "\n",
    "# Adding elements to a set\n",
    "set_A.add(6)\n",
    "print(\"After adding 6 to set_A:\", set_A)\n",
    "\n",
    "# Removing an element using discard()\n",
    "set_A.discard(3)\n",
    "print(\"After discarding 3 from set_A:\", set_A)\n",
    "\n",
    "# Union of sets\n",
    "union_result = set_A.union(set_B)\n",
    "print(\"Union of set_A and set_B:\", union_result)\n",
    "\n",
    "# Intersection of sets\n",
    "intersection_result = set_A.intersection(set_B)\n",
    "print(\"Intersection of set_A and set_B:\", intersection_result)\n",
    "\n",
    "# Difference of sets\n",
    "difference_result = set_A.difference(set_B)\n",
    "print(\"Difference of set_A and set_B:\", difference_result)\n",
    "\n",
    "# Symmetric difference of sets\n",
    "symmetric_difference_result = set_A.symmetric_difference(set_B)\n",
    "print(\"Symmetric Difference of set_A and set_B:\", symmetric_difference_result)\n",
    "\n",
    "# Check if sets are disjoint\n",
    "is_disjoint = set_A.isdisjoint(set_B)\n",
    "print(\"Are set_A and set_B disjoint?\", is_disjoint)\n",
    "\n",
    "# Check if set_A is a subset of set_B\n",
    "is_subset = set_A.issubset(set_B)\n",
    "print(\"Is set_A a subset of set_B?\", is_subset)\n",
    "\n",
    "# Check if set_A is a superset of set_B\n",
    "is_superset = set_A.issuperset(set_B)\n",
    "print(\"Is set_A a superset of set_B?\", is_superset)\n"
   ]
  },
  {
   "cell_type": "markdown",
   "id": "8de7ccc7-b13b-420d-ba2e-d2f7d25b91df",
   "metadata": {},
   "source": [
    "# Sets vs Lists\n",
    "Sets and lists are both essential data structures in Python, but they serve different purposes and have distinct characteristics. Let's explore each one in detail and discuss when to use sets or lists based on the specific requirements of your program."
   ]
  },
  {
   "cell_type": "markdown",
   "id": "c496448a-ab81-4603-8fec-1780f1bcc6b4",
   "metadata": {},
   "source": [
    "### When to Use Which:\n",
    "Use Lists When:\n",
    "- You need an ordered sequence.\n",
    "- You have elements that may be repeated.\n",
    "- You need to access elements by index.\n",
    "- You need to maintain the order of insertion.\n",
    "\n",
    "Use Sets When:\n",
    "- Uniqueness of elements is crucial.\n",
    "- You need to perform membership tests efficiently.\n",
    "- You want to perform mathematical set operations.\n",
    "- The order of elements does not matter."
   ]
  },
  {
   "cell_type": "markdown",
   "id": "b022e25e-d9f0-4826-a0b7-32c2e5094a2e",
   "metadata": {},
   "source": [
    "### Sets are faster lists?\n",
    "Sets can be faster than lists in certain operations due to their underlying data structure and characteristics. The key reasons for this speed difference include the use of hash tables for sets, which enables faster membership testing, and the absence of a specific order in sets, allowing for more efficient set operations. Let's explore this with an example:"
   ]
  },
  {
   "cell_type": "markdown",
   "id": "c96876f2-a5e6-49f2-a07e-bcaa8cedc1a1",
   "metadata": {},
   "source": [
    "##### Consider a scenario where you want to check whether a specific element exists in a collection. We'll compare the time it takes for this operation using both a list and a set."
   ]
  },
  {
   "cell_type": "code",
   "execution_count": 1,
   "id": "67b71a10-a660-4d3b-9f49-8537e3e97307",
   "metadata": {},
   "outputs": [
    {
     "name": "stdout",
     "output_type": "stream",
     "text": [
      "List Membership Testing Time: 0.020004987716674805 seconds\n",
      "Set Membership Testing Time: 0.0 seconds\n"
     ]
    }
   ],
   "source": [
    "import time\n",
    "\n",
    "# Creating a list with a large number of elements\n",
    "my_list = list(range(1, 10**6))\n",
    "\n",
    "# Creating a set with the same elements\n",
    "my_set = set(my_list)\n",
    "\n",
    "# Membership testing in a list\n",
    "start_time_list = time.time()\n",
    "element_to_find_list = 999999 in my_list\n",
    "end_time_list = time.time()\n",
    "print(f\"List Membership Testing Time: {end_time_list - start_time_list} seconds\")\n",
    "\n",
    "# Membership testing in a set\n",
    "start_time_set = time.time()\n",
    "element_to_find_set = 999999 in my_set\n",
    "end_time_set = time.time()\n",
    "print(f\"Set Membership Testing Time: {end_time_set - start_time_set} seconds\")\n"
   ]
  },
  {
   "cell_type": "markdown",
   "id": "1e1e1317-9e27-4b54-83fd-004a59ddab9a",
   "metadata": {},
   "source": [
    "#### Results and Explanation:\n",
    "\n",
    "When you run the example, you'll likely observe that membership testing in the set is much faster than in the list. This speed difference becomes more pronounced as the size of the collection increases.\n",
    "\n",
    "Sets' underlying hash table structure allows for constant-time average-case performance for operations like membership testing, making sets a preferred choice when quick and efficient existence checks are required.\n",
    "\n",
    "**Keep in mind that the exact performance may vary depending on your system and Python environment, but the trend of sets being faster for membership testing remains consistent.**"
   ]
  },
  {
   "cell_type": "markdown",
   "id": "6196c68f",
   "metadata": {},
   "source": [
    "## Dictionary\n",
    "\n",
    "Dictionary is a mutable and unordered collection of key-value pairs. It is also known as an associative array or hash map. Dictionaries are defined using curly braces {} and consist of key-value pairs separated by colons. Each key in a dictionary must be unique.\n",
    "\n",
    "```\n",
    "my_dict = {'name': 'John', 'age': 25, 'city': 'New York'}\n",
    "\n",
    "```\n",
    "\n",
    "### Properties of Dictionaries\n",
    "\n",
    "   * Mutable: Dictionaries can be modified after creation. Elements can be added, updated, or removed.\n",
    "   * Unordered: The order of elements in a dictionary is not guaranteed. Unlike lists, dictionaries are not indexed.\n",
    "   * Key-Value Pairs: Each element in a dictionary consists of a key and its corresponding value. Keys are unique and immutable.\n",
    "   * Dynamic: Dictionaries can grow or shrink in size as elements are added or removed."
   ]
  },
  {
   "cell_type": "code",
   "execution_count": 56,
   "id": "c6c3c1a4",
   "metadata": {},
   "outputs": [
    {
     "name": "stdout",
     "output_type": "stream",
     "text": [
      "Name: John\n",
      "Updated Age: 26\n",
      "After clear(): {}\n",
      "Copied Dictionary: {'a': 1, 'b': 2, 'c': 3}\n",
      "Fromkeys Dictionary: {'x': 0, 'y': 0, 'z': 0}\n",
      "Get Value: 0\n",
      "Items List: dict_items([('a', 1), ('b', 2), ('c', 3)])\n",
      "Keys List: dict_keys(['a', 'b', 'c'])\n",
      "Removed Value: 1\n",
      "Dictionary After pop(): {'b': 2, 'c': 3}\n",
      "Last Item Removed: ('c', 3)\n",
      "Dictionary After popitem(): {'b': 2}\n",
      "Setdefault Value: 2\n",
      "Dictionary After setdefault(): {'b': 2}\n",
      "Dictionary After update(): {'b': 5, 'd': 7}\n",
      "Values List: dict_values([5, 7])\n"
     ]
    }
   ],
   "source": [
    "# Creating a sample dictionary\n",
    "my_dict = {'name': 'John', 'age': 25, 'city': 'New York'}\n",
    "\n",
    "# Accessing a specific key\n",
    "print(\"Name:\", my_dict['name'])\n",
    "\n",
    "# Modifying the value of a key\n",
    "my_dict['age'] = 26\n",
    "print(\"Updated Age:\", my_dict['age'])\n",
    "\n",
    "# Dictionary Operations\n",
    "\n",
    "# clear(): Removes all elements from the dictionary\n",
    "my_dict.clear()\n",
    "print(\"After clear():\", my_dict)\n",
    "\n",
    "# Creating a new dictionary\n",
    "original_dict = {'a': 1, 'b': 2, 'c': 3}\n",
    "\n",
    "# copy(): Returns a copy of the dictionary\n",
    "copied_dict = original_dict.copy()\n",
    "print(\"Copied Dictionary:\", copied_dict)\n",
    "\n",
    "# fromkeys(): Creates a dictionary with specified keys and a default value\n",
    "new_dict = dict.fromkeys(['x', 'y', 'z'], 0)\n",
    "print(\"Fromkeys Dictionary:\", new_dict)\n",
    "\n",
    "# get(): Returns the value for the specified key, or a default value if the key is not found\n",
    "value = new_dict.get('x', -1)\n",
    "print(\"Get Value:\", value)\n",
    "\n",
    "# items(): Returns a list of tuples representing key-value pairs\n",
    "items_list = original_dict.items()\n",
    "print(\"Items List:\", items_list)\n",
    "\n",
    "# keys(): Returns a list of all keys in the dictionary\n",
    "keys_list = original_dict.keys()\n",
    "print(\"Keys List:\", keys_list)\n",
    "\n",
    "# pop(): Removes the element with the specified key\n",
    "removed_value = original_dict.pop('a')\n",
    "print(\"Removed Value:\", removed_value)\n",
    "print(\"Dictionary After pop():\", original_dict)\n",
    "\n",
    "# popitem(): Removes the last inserted key-value pair\n",
    "last_item = original_dict.popitem()\n",
    "print(\"Last Item Removed:\", last_item)\n",
    "print(\"Dictionary After popitem():\", original_dict)\n",
    "\n",
    "# setdefault(): Returns the value for the specified key, inserts the key with a default value if not present\n",
    "default_value = original_dict.setdefault('b', 0)\n",
    "print(\"Setdefault Value:\", default_value)\n",
    "print(\"Dictionary After setdefault():\", original_dict)\n",
    "\n",
    "# update(): Updates the dictionary with key-value pairs from another dictionary or iterable\n",
    "update_dict = {'b': 5, 'd': 7}\n",
    "original_dict.update(update_dict)\n",
    "print(\"Dictionary After update():\", original_dict)\n",
    "\n",
    "# values(): Returns a list of all values in the dictionary\n",
    "values_list = original_dict.values()\n",
    "print(\"Values List:\", values_list)\n"
   ]
  },
  {
   "cell_type": "markdown",
   "id": "218637ec",
   "metadata": {},
   "source": [
    "## Exercise 2\n",
    "\n",
    "You are provided with a nested data structure that includes lists, tuples, and dictionaries. Your task is to perform the following operations:\n",
    "\n",
    "   * Extract the value associated with the key 'target' inside the innermost dictionary.\n",
    "   * Find the sum of all integers in the nested structure.\n",
    "   * Create a new list that contains the lengths of all strings in the structure.\n",
    "   \n",
    "   Append the results from the three operations in a list\n",
    "\n",
    "Write a Python program to accomplish these tasks without using any built-in functions for recursion or flattening.\n",
    "\n",
    "Example:\n",
    "\n",
    "```\n",
    "# Input\n",
    "nested_data = {\n",
    "    'a': [1, 2, (3, 4), {'b': {'target': 5}}, 6],\n",
    "    'c': [{'d': 'hello'}, 'world', (7, 8, 9)]\n",
    "}\n",
    "\n",
    "# Output\n",
    "# [5, 43, [5, 5, 5, 5, 5, 5, 5]]\n",
    "\n",
    "```\n",
    "\n",
    "#### Constraints:\n",
    "\n",
    "   * The nested structure can include lists, tuples, dictionaries, and strings.\n",
    "   * The key 'target' is guaranteed to be present.\n",
    "    "
   ]
  },
  {
   "cell_type": "code",
   "execution_count": 3,
   "id": "4bf8e587",
   "metadata": {},
   "outputs": [],
   "source": [
    "nested_data = {\n",
    "    'a': [1, 2, (3, 4), {'b': {'target': 5}}, 6],\n",
    "    'c': [{'d': 'hello'}, 'world', (7, 8, 9)]\n",
    "}\n",
    "\n",
    "# your logic to get the desired output\n",
    "\n",
    "expected_output = [5, 43, [5, 5, 5, 5, 5, 5, 5]]\n",
    "# print(output)"
   ]
  },
  {
   "cell_type": "markdown",
   "id": "e8e0f528",
   "metadata": {},
   "source": [
    "-------------\n",
    "Materials licensed under [CC BY-NC-ND 4.0](https://creativecommons.org/licenses/by-nc-nd/4.0/) by the authors"
   ]
  }
 ],
 "metadata": {
  "kernelspec": {
   "display_name": "Python 3 (ipykernel)",
   "language": "python",
   "name": "python3"
  },
  "language_info": {
   "codemirror_mode": {
    "name": "ipython",
    "version": 3
   },
   "file_extension": ".py",
   "mimetype": "text/x-python",
   "name": "python",
   "nbconvert_exporter": "python",
   "pygments_lexer": "ipython3",
   "version": "3.10.7"
  }
 },
 "nbformat": 4,
 "nbformat_minor": 5
}
