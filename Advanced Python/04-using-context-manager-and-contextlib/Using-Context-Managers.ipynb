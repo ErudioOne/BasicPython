{
 "cells": [
  {
   "cell_type": "markdown",
   "metadata": {},
   "source": [
    "![Erudio logo](../../img/erudio-logo-small.png)"
   ]
  },
  {
   "cell_type": "markdown",
   "metadata": {},
   "source": [
    "# Context Managers\n",
    "\n",
    "A context manager, as the name suggests, provides a certain *context* to a series of operations in Python.  Whenever you use the `with` statement in Python, that introduces a context manager.  The idea in a context manager is that some initial setup is performed to prepare for your custom code.  A context object is often provided to your code that incorporates something about that context, and provides a name for you to utilize.  After the block of code nested under `with` complete, some cleanup actions can be performed.  For example, file handles and socket connections can be closed, or configuration settings can be restored to their defaults."
   ]
  },
  {
   "cell_type": "markdown",
   "metadata": {},
   "source": [
    "# Standard library context managers\n",
    "\n",
    "There are many context managers you are already using as part of your typical Python programs. Let us look at a few examples as a reminder."
   ]
  },
  {
   "cell_type": "code",
   "execution_count": 1,
   "metadata": {},
   "outputs": [
    {
     "name": "stdout",
     "output_type": "stream",
     "text": [
      "Hello\n"
     ]
    }
   ],
   "source": [
    "# Create a scratch dirctory\n",
    "from pathlib import Path\n",
    "Path('tmp').mkdir(exist_ok=True)\n",
    "\n",
    "# Preferred as the style of file access in modern Python\n",
    "with open('tmp/advPython_test', 'w') as fw:\n",
    "    fw.write(\"Hello\")\n",
    "\n",
    "with open('tmp/advPython_test', 'r') as fr:\n",
    "    print(fr.read())"
   ]
  },
  {
   "cell_type": "code",
   "execution_count": 2,
   "metadata": {},
   "outputs": [],
   "source": [
    "fh = open('tmp/advPython_test')\n",
    "fh.close()"
   ]
  },
  {
   "cell_type": "markdown",
   "metadata": {},
   "source": [
    "If `open()` did not provide a context manager (as indeed it did not in early versions of Python), we would have to write slightly more code; but more importantly, it is code that is easy to forget or to get subtly wrong when more is going on inside the code block in the context manager."
   ]
  },
  {
   "cell_type": "markdown",
   "metadata": {},
   "source": [
    "```python\n",
    "with open('tmp/advPython_test', 'w') as fi:\n",
    "    fi.write(\"Hello\")\n",
    "```\n",
    "\n",
    "versus:\n",
    "\n",
    "```python\n",
    "try:\n",
    "    fi = open('tmp/advPython_test', 'w')\n",
    "    fi.write(\"Hello\")\n",
    "finally:\n",
    "    fi.close()\n",
    "```"
   ]
  },
  {
   "cell_type": "markdown",
   "metadata": {},
   "source": [
    "Many other standard Python objects and classes likewise make themselves available as context managers.  The classes `zipfile.ZipFiles`, `subprocess.Popen`, `tarfile.TarFile`, `telnetlib.Telnet`, and `pathlib.Path` can be used as context managers. Or, for example, `urllib`:"
   ]
  },
  {
   "cell_type": "code",
   "execution_count": 3,
   "metadata": {},
   "outputs": [],
   "source": [
    "import os\n",
    "os.environ['SSL_CERT_DIR'] = '/etc/ssl/certs'"
   ]
  },
  {
   "cell_type": "code",
   "execution_count": 4,
   "metadata": {},
   "outputs": [
    {
     "name": "stdout",
     "output_type": "stream",
     "text": [
      "b'<!DOCTYPE html>\\n<html lang=\"en\">\\n   <head>\\n  '\n"
     ]
    }
   ],
   "source": [
    "from urllib.request import urlopen\n",
    "url = \"https://courses.ine.com/area/data-science/\"\n",
    "with urlopen(url) as page:\n",
    "    print(page.read(45))"
   ]
  },
  {
   "cell_type": "markdown",
   "metadata": {},
   "source": [
    "The `threading` module defines a variety of objects that may be used as context managers.  The simplest is a basic lock."
   ]
  },
  {
   "cell_type": "code",
   "execution_count": 5,
   "metadata": {},
   "outputs": [
    {
     "name": "stdout",
     "output_type": "stream",
     "text": [
      "0 1 2 3 4  +\n",
      "10 20 21 22 23 24 11 30  +\n",
      "12 40 13 31 41 32 42 14 33 43 34  +\n",
      "44  +\n",
      " +\n"
     ]
    }
   ],
   "source": [
    "# Print several counts with different starting points in several threads\n",
    "import threading\n",
    "\n",
    "def worker(start):\n",
    "    # Some large, parallelizable computation might live here\n",
    "    for n in range(start, start+5):\n",
    "        print(\"%d \" % n, end='', flush=True)   \n",
    "    print(' +\\n', end='', flush=True)\n",
    "    # Some additional large, parallelizable computation here\n",
    "\n",
    "    \n",
    "for i in range(0, 50, 10):\n",
    "    t = threading.Thread(target=worker, args=(i,))\n",
    "    t.start()"
   ]
  },
  {
   "cell_type": "markdown",
   "metadata": {},
   "source": [
    "The non-lock version is not wrong per-se, but suppose you'd like deterministic order to the outputs:"
   ]
  },
  {
   "cell_type": "code",
   "execution_count": 6,
   "metadata": {},
   "outputs": [
    {
     "name": "stdout",
     "output_type": "stream",
     "text": [
      "0 1 2 3 4  +\n",
      "10 11 12 13 14  +\n",
      "20 21 22 23 24  +\n",
      "30 31 32 33 34  +\n",
      "40 41 42 43 44  +\n"
     ]
    }
   ],
   "source": [
    "lock = threading.Lock()\n",
    "\n",
    "def worker(start):\n",
    "    # Some large, parallelizable computation might live here\n",
    "    with lock:\n",
    "        for n in range(start, start+5):\n",
    "            print(\"%d \" % n, end='', flush=True)\n",
    "    print(' +\\n', end='', flush=True)\n",
    "    # Some additional large, parallelizable computation here\n",
    "    \n",
    "for i in range(0, 50, 10):\n",
    "    t = threading.Thread(target=worker, args=(i,))\n",
    "    t.start()"
   ]
  },
  {
   "cell_type": "markdown",
   "metadata": {},
   "source": [
    "# Writing context managers"
   ]
  },
  {
   "cell_type": "markdown",
   "metadata": {},
   "source": [
    "Much as Python provides an Iterator Protocol, it provides a Context Manager Protocol.  \n",
    "\n",
    "A context managers is simply a class with two magic methods: `.__enter__()` and `.__exit__()`.  The purpose of these managers is to factor out often used try/finally clauses to make the code more readable.  As we have seen from several examples in the standard library, these same classes may also offer many other methods to exercise their capabilities in ways other than via context managers. In fact, `.__enter__()` and `.__exit__()` are often simply synonyms for more conventionally named methods like `.open()` and `.close()`."
   ]
  },
  {
   "cell_type": "code",
   "execution_count": 7,
   "metadata": {},
   "outputs": [],
   "source": [
    "class MyContext(object):\n",
    "    def __init__(self, val=42):\n",
    "        self.val = val\n",
    "        print(\"Initializing context\")\n",
    "        \n",
    "    def __enter__(self):\n",
    "        print(\"Entering context\")\n",
    "        # return value is bound to 'as' variable\n",
    "        return self.val\n",
    "        \n",
    "    def __exit__(self, exctype, value, tb):\n",
    "        # Potentially handle an exception in the body\n",
    "        if exctype is not None:\n",
    "            print(f\"CM body raised {exctype.__name__}({value})\")\n",
    "            print(f\"Inspect {tb}\")\n",
    "        # Suppress propagation of exception by returning True\n",
    "        print(\"Exiting context\")\n",
    "        return True"
   ]
  },
  {
   "cell_type": "code",
   "execution_count": 8,
   "metadata": {},
   "outputs": [
    {
     "name": "stdout",
     "output_type": "stream",
     "text": [
      "Initializing context\n",
      "Entering context\n",
      "The answer is 42\n",
      "Exiting context\n"
     ]
    }
   ],
   "source": [
    "with MyContext() as t:\n",
    "    print(\"The answer is\", t)"
   ]
  },
  {
   "cell_type": "code",
   "execution_count": 9,
   "metadata": {},
   "outputs": [
    {
     "name": "stdout",
     "output_type": "stream",
     "text": [
      "Initializing context\n",
      "Entering context\n",
      "CM body raised ZeroDivisionError(division by zero)\n",
      "Inspect <traceback object at 0x0000014317AC2700>\n",
      "Exiting context\n"
     ]
    }
   ],
   "source": [
    "with MyContext(33) as t:\n",
    "    x = t/0\n",
    "    print(x)"
   ]
  },
  {
   "cell_type": "markdown",
   "metadata": {},
   "source": [
    "Although `MyContext` simply returns a value as the context object (in the example, an integer), a very common pattern is to `return self` and provide other APIs of the class instance as methods of the context object.  For example, `open()` file handles do this, and thereby also implement other protocols, such as the Iterator Protocol."
   ]
  },
  {
   "cell_type": "markdown",
   "metadata": {},
   "source": [
    "# Exercises"
   ]
  },
  {
   "cell_type": "markdown",
   "metadata": {},
   "source": [
    "## Description"
   ]
  },
  {
   "cell_type": "markdown",
   "metadata": {},
   "source": [
    "The Python `timeit` module provides very good quality timing of operations, with statistics, disabling of garbage collection, and options to run separate setup versus timing code.  Within Jupyter or IPython, the `%time` and `%timeit` magics offer similar bundled capability.\n",
    "\n",
    "In this exercise, you will create something less sophisticated than that, but still useful.  You should develop a custom context manager called `Timer` that will run code multiple times, and save both the result from each run and the time it took.  For example, using the `slow_random_normal()` function provided in the Setup:\n",
    "\n",
    "```python\n",
    ">>> with Timer(slow_random_normal, loops=5) as fn:\n",
    "...     fn.run(-3, stdev=5)\n",
    "\n",
    ">>> print(\"Timers:\", fn.timers)\n",
    "Timers: [0.0501605, 0.0502064, 0.0501945, 0.0502957, 0.0501452]\n",
    ">>> print(\"Results:\", fn.results)\n",
    "Results: [-0.2525025, -1.4776930, -2.4067729, -1.3618136, -0.6298354]\n",
    "```\n",
    "\n",
    "Note that the test cases assume `slow_random_normal()` retains the same implementation provided."
   ]
  },
  {
   "cell_type": "markdown",
   "metadata": {},
   "source": [
    "## Setup"
   ]
  },
  {
   "cell_type": "code",
   "execution_count": 10,
   "metadata": {},
   "outputs": [],
   "source": [
    "from time import sleep\n",
    "from random import random\n",
    "\n",
    "def slow_random_normal(mean=0, stdev=1):\n",
    "    sleep(0.05)\n",
    "    r = mean + stdev*random()\n",
    "    return r\n",
    "\n",
    "class Timer:\n",
    "    \"Implementation here\""
   ]
  },
  {
   "cell_type": "markdown",
   "metadata": {},
   "source": [
    "## Solution"
   ]
  },
  {
   "cell_type": "code",
   "execution_count": 11,
   "metadata": {},
   "outputs": [],
   "source": [
    "from time import perf_counter\n",
    "\n",
    "class Timer:\n",
    "    def __init__(self, fn=lambda *args, **kws: None, loops=1):\n",
    "        self.loops = loops\n",
    "        self.fn = fn\n",
    "        self.timers = list()\n",
    "        self.results = list()\n",
    "        \n",
    "    def __enter__(self):\n",
    "        return self\n",
    "    \n",
    "    def __exit__(self, type_, value, tb):\n",
    "        pass\n",
    "    \n",
    "    def run(self, *args, **kws):\n",
    "        for _ in range(self.loops):\n",
    "            start = perf_counter()\n",
    "            result = self.fn(*args, **kws)\n",
    "            self.timers.append(perf_counter() - start)\n",
    "            self.results.append(result)       "
   ]
  },
  {
   "cell_type": "markdown",
   "metadata": {},
   "source": [
    "## Test Cases"
   ]
  },
  {
   "cell_type": "code",
   "execution_count": 3,
   "metadata": {},
   "outputs": [],
   "source": [
    "def test_is_cm():\n",
    "    assert hasattr(Timer, '__enter__')\n",
    "    assert hasattr(Timer, '__exit__')\n",
    "    \n",
    "test_is_cm()"
   ]
  },
  {
   "cell_type": "code",
   "execution_count": 5,
   "metadata": {},
   "outputs": [],
   "source": [
    "def test_is_timing():\n",
    "    from math import isclose\n",
    "    from statistics import mean\n",
    "    with Timer(slow_random_normal, loops=100) as fn:\n",
    "        fn.run(-5, stdev=0.1)\n",
    "    assert len(fn.timers) == len(fn.results) == 100\n",
    "    assert isclose(mean(fn.timers), 0.05, abs_tol=0.01)\n",
    "    assert isclose(mean(fn.results), -5, abs_tol=0.1)\n",
    "    \n",
    "test_is_timing()"
   ]
  },
  {
   "cell_type": "markdown",
   "metadata": {},
   "source": [
    "-------------\n",
    "Materials licensed under [CC BY-NC-ND 4.0](https://creativecommons.org/licenses/by-nc-nd/4.0/) by the authors"
   ]
  }
 ],
 "metadata": {
  "kernelspec": {
   "display_name": "Python 3 (ipykernel)",
   "language": "python",
   "name": "python3"
  },
  "language_info": {
   "codemirror_mode": {
    "name": "ipython",
    "version": 3
   },
   "file_extension": ".py",
   "mimetype": "text/x-python",
   "name": "python",
   "nbconvert_exporter": "python",
   "pygments_lexer": "ipython3",
   "version": "3.10.7"
  }
 },
 "nbformat": 4,
 "nbformat_minor": 4
}
