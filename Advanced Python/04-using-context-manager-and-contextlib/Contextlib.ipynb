{
 "cells": [
  {
   "cell_type": "markdown",
   "metadata": {},
   "source": [
    "![Erudio logo](../../img/erudio-logo-small.png)"
   ]
  },
  {
   "cell_type": "markdown",
   "metadata": {},
   "source": [
    "# Contextlib and Advanced Context Managers\n",
    "\n",
    "In the last lesson you saw the Context Manager Protocol.  However, much as with iterators that are usually expressed much more easily as generator functions than as classes, the same it true of context managers.  By using the module `contextlib`, you can express context managers in a compact, flexible, and intuitive manner.\n",
    "\n",
    "As a first simple example, let us replicate the very simple `MyContext()` class from the last lesson, even more simply."
   ]
  },
  {
   "cell_type": "code",
   "execution_count": 1,
   "metadata": {},
   "outputs": [],
   "source": [
    "from contextlib import contextmanager\n",
    "\n",
    "@contextmanager\n",
    "def my_context(val=42):\n",
    "    try:\n",
    "        print(\"Initializing context\")\n",
    "        yield val\n",
    "    except BaseException as err:\n",
    "        print(f\"CM body raised {err.__class__.__name__}({err.args[0]})\")\n",
    "        print(f\"Inspect {err.__traceback__}\")\n",
    "    finally:\n",
    "        print(\"Exiting context\")"
   ]
  },
  {
   "cell_type": "code",
   "execution_count": 2,
   "metadata": {},
   "outputs": [
    {
     "name": "stdout",
     "output_type": "stream",
     "text": [
      "Initializing context\n",
      "The answer is 42\n",
      "Exiting context\n"
     ]
    }
   ],
   "source": [
    "with my_context() as t:\n",
    "    print(\"The answer is\", t)"
   ]
  },
  {
   "cell_type": "code",
   "execution_count": 3,
   "metadata": {},
   "outputs": [
    {
     "name": "stdout",
     "output_type": "stream",
     "text": [
      "Initializing context\n",
      "CM body raised ZeroDivisionError(division by zero)\n",
      "Inspect <traceback object at 0x00000215FF102180>\n",
      "Exiting context\n"
     ]
    }
   ],
   "source": [
    "with my_context(33) as t:\n",
    "    x = t/0\n",
    "    print(x)"
   ]
  },
  {
   "cell_type": "markdown",
   "metadata": {},
   "source": [
    "## Temporary settings\n",
    "\n",
    "Being able to bind an integer value isn't that impressive.  We could yield any other (i.e. more complex and interesting) context object as well.  But often what we would like to do is set something up and tear it down.  We may not even need any context object to do that."
   ]
  },
  {
   "cell_type": "code",
   "execution_count": 4,
   "metadata": {},
   "outputs": [],
   "source": [
    "# Some global configuration information\n",
    "settings = {'host': \"ine.com\", 'port': 80, \n",
    "            'user': 'JohnColtrane',\n",
    "            'password': 'my_favorite_things'}"
   ]
  },
  {
   "cell_type": "code",
   "execution_count": 5,
   "metadata": {},
   "outputs": [],
   "source": [
    "@contextmanager\n",
    "def configure(**kws):\n",
    "    global settings\n",
    "    try:\n",
    "        old_settings = settings.copy()\n",
    "        settings.update(kws)\n",
    "        yield\n",
    "    finally:\n",
    "        settings = old_settings"
   ]
  },
  {
   "cell_type": "markdown",
   "metadata": {},
   "source": [
    "We can temporarily utilize some different settings.  Notice that here we do not bother binding any context object."
   ]
  },
  {
   "cell_type": "code",
   "execution_count": 6,
   "metadata": {},
   "outputs": [
    {
     "name": "stdout",
     "output_type": "stream",
     "text": [
      "Connecting to host: localhost\n",
      "Using port: 70\n"
     ]
    }
   ],
   "source": [
    "with configure(host='localhost', port=70):\n",
    "    print(\"Connecting to host:\", settings['host'])\n",
    "    print(\"Using port:\", settings['port'])"
   ]
  },
  {
   "cell_type": "code",
   "execution_count": 7,
   "metadata": {},
   "outputs": [
    {
     "data": {
      "text/plain": [
       "{'host': 'ine.com',\n",
       " 'port': 80,\n",
       " 'user': 'JohnColtrane',\n",
       " 'password': 'my_favorite_things'}"
      ]
     },
     "execution_count": 7,
     "metadata": {},
     "output_type": "execute_result"
    }
   ],
   "source": [
    "settings"
   ]
  },
  {
   "cell_type": "markdown",
   "metadata": {},
   "source": [
    "# The \"dual\" of subroutines\n",
    "\n",
    "The most common way users think about context managers is as a way to allocate some resources, run some user code with those resources in place, then guarantee cleanup afterwards.  This use is definitely useful, but context managers are much more general when thought of as a flow-control construct.\n",
    "\n",
    "The fundamental construct of [Structured Programming](https://en.wikipedia.org/wiki/Structured_programming) is organizing flow control in terms of calls to subroutines that contain repeated code (also called `functions` or `procedures` or `methods` by some programming languages).  All modern procedural programming (including object oriented programming) relies on this abstraction.\n",
    "\n",
    "We can think of context managers as another construct that is something like the mathematical <a href=\"https://en.wikipedia.org/wiki/Duality_(mathematics)\">dual</a> of subroutines, and that are in some sense almost as general as a construct."
   ]
  },
  {
   "cell_type": "markdown",
   "metadata": {},
   "source": [
    "## Reusing the middle"
   ]
  },
  {
   "cell_type": "markdown",
   "metadata": {},
   "source": [
    "What a subroutine does is to insert—by named reference—a block of reusable code in the middle of some lines of local-use code.  That local use might live inside a reusable block, but a call is always an encapsulation of functionality relative to the context.  The code we write every day looks something like this:\n",
    "\n",
    "```python\n",
    "def do_some_things(a, b, c, d, e):\n",
    "    \"Some sort of numeric steps to get a result\"\n",
    "    \n",
    "    #---- The Prelude -----#\n",
    "    a1 = a + b * c       # This line only relevant within this function\n",
    "    for i in range(10):  # This whole loop also specific to this context\n",
    "        b1 = b - a * d   \n",
    "        if b1 > 0:\n",
    "            b = e % b1\n",
    "            \n",
    "    #----- The reusable code, suitably parameterized -----#       \n",
    "    x = encapsulated_code(a1, b1, 10)\n",
    "        \n",
    "    #----- The Finalization -----#\n",
    "    w = x + a1 + b\n",
    "    y = math.log(w + x)\n",
    "    z = y**2\n",
    "    return z\n",
    "```"
   ]
  },
  {
   "cell_type": "markdown",
   "metadata": {},
   "source": [
    "We can imagine that the function `encapsulated_code()` has many steps inside of it, similar to `do_some_things()` itself.  It might have assignments, conditionals, branches, operations on values, etc.  But the idea is simply that rather repeating those multiple lines of code within the three branches in the playful example, we can simply call them with a meaningful name.  Moreover, many other functions not shown might equally take advantage of `encapsulated_code()` and whatever calculation it performs.\n",
    "\n",
    "Technically, we also call another function, `math.log()` during the final steps, and obviously that operation incorporates many steps that we would rather not write every time we want the logarithm of a number."
   ]
  },
  {
   "cell_type": "markdown",
   "metadata": {},
   "source": [
    "## Reusing the margins"
   ]
  },
  {
   "cell_type": "markdown",
   "metadata": {},
   "source": [
    "Take this very familiar concept of subroutines, and so-to-speak, \"turn it inside out.\"  Rather than having a block of reusable code that we utilize in the middle of our own local code, imagine that the reusable code acts as a wrapper around the outsides—or *margins*—of the code that we want to write for custom purposes.\n",
    "\n",
    "Clearly all those programming languages that do not have context managers manage to accomplish.  In some cases, something similar can be done with object constructors and destructors.  But more often, programmers simply write their \"prelude\" and \"finalize\" as separate functions and call those at the ends of their local purpose code:\n",
    "\n",
    "```python\n",
    "def enter_and_exit(a, b, c):\n",
    "    prelude(...)\n",
    "    # ... various lines of code for this local purpose\n",
    "    finalize(...)\n",
    "```"
   ]
  },
  {
   "cell_type": "markdown",
   "metadata": {},
   "source": [
    "If various preludes and finalizations might be relevant to \"bookend\" local code, the style shown is exactly what is needed.  However, it often happens that the prelude and finalization are closely tied to each other, and you always want them to match up in bookending your code.  When that occurs, allowing a single construct to define such \"bookend\" code is nice to have."
   ]
  },
  {
   "cell_type": "markdown",
   "metadata": {},
   "source": [
    "## Some moderately real-world numeric code"
   ]
  },
  {
   "cell_type": "markdown",
   "metadata": {},
   "source": [
    "The premise in the below examples are that we might want to do a variety of operations upon 2-D NumPy arrays, but after completing our local operations, we want to \"squeeze\" the results back towards the means of each column of data values.  This exact operation may not have any real world purpose, but the idea of consistent post-processing of arrays across a range of custom transformations is applicable to a variety of tasks.\n",
    "\n",
    "The key here is that we need to determine some derived property of the *original* array to use in applying a transformation to the locally transformed array.  If that derived property and the post-processing are consistently used together, factoring them as a context manager is a good approach."
   ]
  },
  {
   "cell_type": "code",
   "execution_count": 8,
   "metadata": {},
   "outputs": [],
   "source": [
    "import numpy as np\n",
    "from contextlib import contextmanager\n",
    "\n",
    "@contextmanager\n",
    "def squeeze_to_mean(arr):\n",
    "    assert arr.ndim == 2\n",
    "    mean = arr.mean(axis=0)\n",
    "    # This is the thing bound by the 'as'\n",
    "    yield mean\n",
    "    # Your code lives here when used\n",
    "    arr[:] = (arr + mean)/2"
   ]
  },
  {
   "cell_type": "markdown",
   "metadata": {},
   "source": [
    "Within the `squeeze_to_mean` context we do a few operations on our original array, some of which are based on the column means provided by the context manager.  In the examples, we simply add a little bit of random jitter to the values and print off some intermediate array values."
   ]
  },
  {
   "cell_type": "code",
   "execution_count": 9,
   "metadata": {},
   "outputs": [
    {
     "name": "stdout",
     "output_type": "stream",
     "text": [
      "arr:\n",
      "[[ 0.  1.  2.  3.]\n",
      " [ 4.  5.  6.  7.]\n",
      " [ 8.  9. 10. 11.]\n",
      " [12. 13. 14. 15.]\n",
      " [16. 17. 18. 19.]]\n",
      "\n",
      "jittered-only array:\n",
      "[[ 1.69525402  3.71835215  4.51381688  5.49685751]\n",
      " [ 5.1946192   7.40652351  7.68793606 11.4047515 ]\n",
      " [11.35465104 10.22548683 13.45862519 13.40892206]\n",
      " [13.77217824 16.66518487 13.85518029 14.97921115]\n",
      " [15.58087359 20.2467893  21.39078375 23.28506682]]\n",
      "\n",
      "jittered array with outliers set to 10:\n",
      "[[10.         10.         10.         10.        ]\n",
      " [10.          7.40652351  7.68793606 11.4047515 ]\n",
      " [11.35465104 10.22548683 13.45862519 13.40892206]\n",
      " [13.77217824 10.         13.85518029 10.        ]\n",
      " [10.         10.         10.         10.        ]]\n",
      "\n",
      "mean along axis 0:\n",
      "[ 8.  9. 10. 11.]\n",
      "\n",
      "jittered array pulled towards mean:\n",
      "[[ 9.          9.5        10.         10.5       ]\n",
      " [ 9.          8.20326175  8.84396803 11.20237575]\n",
      " [ 9.67732552  9.61274342 11.7293126  12.20446103]\n",
      " [10.88608912  9.5        11.92759015 10.5       ]\n",
      " [ 9.          9.5        10.         10.5       ]]\n"
     ]
    }
   ],
   "source": [
    "np.random.seed(0)\n",
    "arr = np.arange(20, dtype=float).reshape(5, 4)\n",
    "print('arr:')\n",
    "print(arr)\n",
    "\n",
    "with squeeze_to_mean(arr) as mean:\n",
    "    jitter = mean/2 * np.random.random(20).reshape(5,4) - 0.5\n",
    "    arr[:] += jitter\n",
    "    print(\"\\njittered-only array:\")\n",
    "    print(arr)\n",
    "    arr[np.abs(arr-10) >= 4] = 10\n",
    "    print(\"\\njittered array with outliers set to 10:\")\n",
    "    print(arr)\n",
    "\n",
    "print(\"\\nmean along axis 0:\")\n",
    "print(mean)\n",
    "\n",
    "print(\"\\njittered array pulled towards mean:\")\n",
    "print(arr)"
   ]
  },
  {
   "cell_type": "markdown",
   "metadata": {},
   "source": [
    "# Exercises"
   ]
  },
  {
   "cell_type": "markdown",
   "metadata": {},
   "source": [
    "## Description"
   ]
  },
  {
   "cell_type": "markdown",
   "metadata": {},
   "source": [
    "Almost all of the Python standard library tools that can benefit from exposing themselves as a context manager already do.  For example `zipfile.ZipFile` provides such a CM interface.  However, for this exercise, we would like a slightly different context manager interface.\n",
    "\n",
    "Your context manager should be configured with two different names, in \"input\" zip file and an \"output\" zipfile.  The context object provided should be a list of filenames extracted from `input.zip` that are placed into a temporary directory `tmp-zip-ops/` to avoid stepping on any names that might already exist in your working directory.  After the body of your context performs whatever modifications of the files you wish, all the files from `input.zip` (in potentially modified form) should be placed into the `output.zip` archive, and the temporary directory should be removed to cleanup.  For this exercise, `output.zip` should be overwritten if it already exists.\n",
    "\n",
    "For example:\n",
    "\n",
    "```python\n",
    "with zipmod(input='this.zip', output='that.zip') as fnames:\n",
    "    for fname in fnames:\n",
    "        with open(fname, 'a') as fh:\n",
    "            print(\"\\nMORE STUFF\", file=fh)\n",
    "```"
   ]
  },
  {
   "cell_type": "markdown",
   "metadata": {},
   "source": [
    "## Setup"
   ]
  },
  {
   "cell_type": "code",
   "execution_count": 10,
   "metadata": {},
   "outputs": [],
   "source": [
    "import zipfile\n",
    "import contextlib\n",
    "\n",
    "zipmod = \"A context manager to implment\""
   ]
  },
  {
   "cell_type": "markdown",
   "metadata": {},
   "source": [
    "## Solution"
   ]
  },
  {
   "cell_type": "code",
   "execution_count": 17,
   "metadata": {},
   "outputs": [],
   "source": [
    "import glob\n",
    "from pathlib import Path\n",
    "import shutil\n",
    "import os\n",
    "\n",
    "@contextlib.contextmanager\n",
    "def zipmod(input='input.zip', output='output.zip'):\n",
    "    try:\n",
    "        path = Path('tmp-zip-ops')\n",
    "        print(path)\n",
    "        os.makedirs(path, exist_ok=True)\n",
    "        with zipfile.ZipFile(input) as zfin:\n",
    "            zfin.extractall(path)\n",
    "        fnames = path.glob('*')\n",
    "        yield fnames\n",
    "        with zipfile.Zipfile(output, 'w') as zfout:\n",
    "            for fname in fnames:\n",
    "                zfout.write(fname)\n",
    "    finally:\n",
    "        shutil.rmtree(path)"
   ]
  },
  {
   "cell_type": "markdown",
   "metadata": {},
   "source": [
    "## Test Cases"
   ]
  },
  {
   "cell_type": "code",
   "execution_count": null,
   "metadata": {},
   "outputs": [],
   "source": [
    "def test_this():\n",
    "    with zipmod(input='this.zip', output='that.zip') as fnames: # substitute the names of the zip files as per your test case\n",
    "        for fname in fnames:\n",
    "            with open(fname, 'a') as fh:\n",
    "                print(\"\\nMORE STUFF\", file=fh)\n",
    "        assert 2 == 3\n",
    "    \n",
    "test_this()"
   ]
  },
  {
   "cell_type": "code",
   "execution_count": 4,
   "metadata": {},
   "outputs": [
    {
     "ename": "AssertionError",
     "evalue": "",
     "output_type": "error",
     "traceback": [
      "\u001b[0;31m---------------------------------------------------------------------------\u001b[0m",
      "\u001b[0;31mAssertionError\u001b[0m                            Traceback (most recent call last)",
      "\u001b[0;32m<ipython-input-4-e70a9631bbe9>\u001b[0m in \u001b[0;36m<module>\u001b[0;34m\u001b[0m\n\u001b[1;32m      2\u001b[0m     \u001b[0;32massert\u001b[0m \u001b[0;36m1\u001b[0m \u001b[0;34m==\u001b[0m \u001b[0;36m2\u001b[0m\u001b[0;34m\u001b[0m\u001b[0;34m\u001b[0m\u001b[0m\n\u001b[1;32m      3\u001b[0m \u001b[0;34m\u001b[0m\u001b[0m\n\u001b[0;32m----> 4\u001b[0;31m \u001b[0mtest_that\u001b[0m\u001b[0;34m(\u001b[0m\u001b[0;34m)\u001b[0m\u001b[0;34m\u001b[0m\u001b[0;34m\u001b[0m\u001b[0m\n\u001b[0m",
      "\u001b[0;32m<ipython-input-4-e70a9631bbe9>\u001b[0m in \u001b[0;36mtest_that\u001b[0;34m()\u001b[0m\n\u001b[1;32m      1\u001b[0m \u001b[0;32mdef\u001b[0m \u001b[0mtest_that\u001b[0m\u001b[0;34m(\u001b[0m\u001b[0;34m)\u001b[0m\u001b[0;34m:\u001b[0m\u001b[0;34m\u001b[0m\u001b[0;34m\u001b[0m\u001b[0m\n\u001b[0;32m----> 2\u001b[0;31m     \u001b[0;32massert\u001b[0m \u001b[0;36m1\u001b[0m \u001b[0;34m==\u001b[0m \u001b[0;36m2\u001b[0m\u001b[0;34m\u001b[0m\u001b[0;34m\u001b[0m\u001b[0m\n\u001b[0m\u001b[1;32m      3\u001b[0m \u001b[0;34m\u001b[0m\u001b[0m\n\u001b[1;32m      4\u001b[0m \u001b[0mtest_that\u001b[0m\u001b[0;34m(\u001b[0m\u001b[0;34m)\u001b[0m\u001b[0;34m\u001b[0m\u001b[0;34m\u001b[0m\u001b[0m\n",
      "\u001b[0;31mAssertionError\u001b[0m: "
     ]
    }
   ],
   "source": [
    "def test_that():\n",
    "    assert 1 == 2\n",
    "    \n",
    "test_that()"
   ]
  },
  {
   "cell_type": "markdown",
   "metadata": {},
   "source": [
    "-------------\n",
    "Materials licensed under [CC BY-NC-ND 4.0](https://creativecommons.org/licenses/by-nc-nd/4.0/) by the authors"
   ]
  }
 ],
 "metadata": {
  "kernelspec": {
   "display_name": "Python 3 (ipykernel)",
   "language": "python",
   "name": "python3"
  },
  "language_info": {
   "codemirror_mode": {
    "name": "ipython",
    "version": 3
   },
   "file_extension": ".py",
   "mimetype": "text/x-python",
   "name": "python",
   "nbconvert_exporter": "python",
   "pygments_lexer": "ipython3",
   "version": "3.10.7"
  }
 },
 "nbformat": 4,
 "nbformat_minor": 4
}
