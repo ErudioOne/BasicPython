{
 "cells": [
  {
   "cell_type": "code",
   "execution_count": 1,
   "metadata": {
    "slideshow": {
     "slide_type": "skip"
    }
   },
   "outputs": [
    {
     "data": {
      "text/html": [
       "<!-- execute this cell before continue -->\n",
       "<link rel=\"stylesheet\" href=\"https://fonts.googleapis.com/css?family=Lato\">\n",
       "<style>.reveal * { font-family: \"Lato\" !important; } .reveal h1, .reveal h2, .reveal h3, .reveal h4, .reveal h5, .reveal h6 { font-family: \"Lato\" !important; } .reveal .code_cell *, .reveal code, .reveal code * { font-family: monospace !important; }</style>\n"
      ],
      "text/plain": [
       "<IPython.core.display.HTML object>"
      ]
     },
     "metadata": {},
     "output_type": "display_data"
    }
   ],
   "source": [
    "%%HTML\n",
    "<!-- execute this cell before continue -->\n",
    "<link rel=\"stylesheet\" href=\"https://fonts.googleapis.com/css?family=Lato\">\n",
    "<style>.reveal * { font-family: \"Lato\" !important; } .reveal h1, .reveal h2, .reveal h3, .reveal h4, .reveal h5, .reveal h6 { font-family: \"Lato\" !important; } .reveal .code_cell *, .reveal code, .reveal code * { font-family: monospace !important; }</style>"
   ]
  },
  {
   "cell_type": "markdown",
   "metadata": {},
   "source": [
    "![Erudio logo](../../img/erudio-logo-small.png)"
   ]
  },
  {
   "cell_type": "markdown",
   "metadata": {
    "slideshow": {
     "slide_type": "slide"
    }
   },
   "source": [
    "<h2 style=\"font-weight: bold;\">\n",
    "    Iterator, Generators, Context Managers &amp; Decorators\n",
    "</h2>\n",
    "\n",
    "![orange-divider](https://user-images.githubusercontent.com/7065401/98619088-44ab6000-22e1-11eb-8f6d-5532e68ab274.png)\n",
    "\n",
    "\n",
    "<img src=\"../../img/python-logo.png\" width=\"25%\" align=\"right\" style=\"padding-left: 30px;\" />The Python programming language offers several \"exotic\" constructs for structuring programs.  Once you have used Python even a moderate amount, you have certainly **used** iterator, context managers, and decorators; however, you can work in Python for quite a while without yet creating your own instances of each.\n",
    "\n",
    "In this module, we show you how to create and utilize custom iterators, generators, context manager, and decorators.  Each of these often make programs clearer, more expressive, faster, and more robust.\n",
    "\n"
   ]
  },
  {
   "cell_type": "markdown",
   "metadata": {
    "slideshow": {
     "slide_type": "slide"
    }
   },
   "source": [
    "<h2 style=\"font-weight: bold;\">\n",
    "    What is covered in this course?\n",
    "</h2>\n",
    "\n",
    "![orange-divider](https://user-images.githubusercontent.com/7065401/98619088-44ab6000-22e1-11eb-8f6d-5532e68ab274.png)\n",
    "\n",
    "* Understand the iterator protocol\n",
    "* Class-based and function-based iterators\n",
    "* The `itertools` module\n",
    "* A \"calculus\" of infinite or unbounded streams\n",
    "* Standard library and custom context managers\n",
    "* Use the `contextlib` module to aid writing context managers\n",
    "* Write custom decorators as functions or classes\n",
    "* Write parameterized decorators and decorator factories"
   ]
  },
  {
   "cell_type": "markdown",
   "metadata": {},
   "source": [
    "<h2 style=\"font-weight: bold;\">\n",
    "    Learning Objectives\n",
    "</h2>\n",
    "\n",
    "![orange-divider](https://user-images.githubusercontent.com/7065401/98619088-44ab6000-22e1-11eb-8f6d-5532e68ab274.png)\n",
    "\n",
    "* Construct lazy data streams with generator expressions and generator functions\n",
    "* Write custom iterator classes\n",
    "* Combine lazy data streams using itertools\n",
    "* Wrap operations in custom contexts\n",
    "* Decorate functions in reusable orthogonal ways"
   ]
  },
  {
   "cell_type": "markdown",
   "metadata": {},
   "source": [
    "# The Iterator Protocol\n",
    "\n",
    "Every Python programmer, even beginners, use iteratables frequently.  They just don't always think about the fact they are doing so.  Every time you write a loop, or a list comprehension, or the constructors `list()`, `set()`, or `tuple()`, you are using an iterable.\n",
    "\n",
    "An important distinction has already arisen in this introduction.  Although often the two terms are used carelessly, *iterator* and *iterable* are two distinct kinds of things in Python.  However, a great many objects are both iterators and iterables, and hence often the distinction is easy to miss."
   ]
  },
  {
   "cell_type": "markdown",
   "metadata": {},
   "source": [
    "## Iterators\n",
    "\n",
    "An *iterator* is entirely defined as an object that has a method named `.__next__()`; it **may**, on some call to that method, raise the exception `StopIteration`.  Once an iterator has *once* raised `StopIteration`, it is *exhausted*. According to the Python documentation:\n",
    "\n",
    "> Once an iterator’s `.__next__()` method raises StopIteration, it must continue to do so on subsequent calls. Implementations that do not obey this property are deemed broken.\n",
    "\n",
    "The built-in function `next()` is a shortcut for calling the `.__next__()` method of an object."
   ]
  },
  {
   "cell_type": "markdown",
   "metadata": {},
   "source": [
    "To demonstrate, let us look at a \"non-broken\" (but also almost useless) iterator."
   ]
  },
  {
   "cell_type": "code",
   "execution_count": 6,
   "metadata": {},
   "outputs": [],
   "source": [
    "class MyIterator:\n",
    "    def __init__(self):\n",
    "        self.n = 10\n",
    "        self.exhausted = False\n",
    "    def __next__(self):\n",
    "        if self.exhausted or self.n == 13:\n",
    "            self.exhausted = True\n",
    "            raise StopIteration\n",
    "        self.n += 1\n",
    "        return self.n"
   ]
  },
  {
   "cell_type": "code",
   "execution_count": 7,
   "metadata": {},
   "outputs": [
    {
     "name": "stdout",
     "output_type": "stream",
     "text": [
      "11\n",
      "12\n",
      "13\n"
     ]
    },
    {
     "ename": "StopIteration",
     "evalue": "",
     "output_type": "error",
     "traceback": [
      "\u001b[1;31m---------------------------------------------------------------------------\u001b[0m",
      "\u001b[1;31mStopIteration\u001b[0m                             Traceback (most recent call last)",
      "Cell \u001b[1;32mIn [7], line 3\u001b[0m\n\u001b[0;32m      1\u001b[0m my_iterator \u001b[38;5;241m=\u001b[39m MyIterator()\n\u001b[0;32m      2\u001b[0m \u001b[38;5;28;01mwhile\u001b[39;00m \u001b[38;5;28;01mTrue\u001b[39;00m:\n\u001b[1;32m----> 3\u001b[0m     \u001b[38;5;28mprint\u001b[39m(\u001b[38;5;28;43mnext\u001b[39;49m\u001b[43m(\u001b[49m\u001b[43mmy_iterator\u001b[49m\u001b[43m)\u001b[49m)\n",
      "Cell \u001b[1;32mIn [6], line 8\u001b[0m, in \u001b[0;36mMyIterator.__next__\u001b[1;34m(self)\u001b[0m\n\u001b[0;32m      6\u001b[0m \u001b[38;5;28;01mif\u001b[39;00m \u001b[38;5;28mself\u001b[39m\u001b[38;5;241m.\u001b[39mexhausted \u001b[38;5;129;01mor\u001b[39;00m \u001b[38;5;28mself\u001b[39m\u001b[38;5;241m.\u001b[39mn \u001b[38;5;241m==\u001b[39m \u001b[38;5;241m13\u001b[39m:\n\u001b[0;32m      7\u001b[0m     \u001b[38;5;28mself\u001b[39m\u001b[38;5;241m.\u001b[39mexhausted \u001b[38;5;241m=\u001b[39m \u001b[38;5;28;01mTrue\u001b[39;00m\n\u001b[1;32m----> 8\u001b[0m     \u001b[38;5;28;01mraise\u001b[39;00m \u001b[38;5;167;01mStopIteration\u001b[39;00m\n\u001b[0;32m      9\u001b[0m \u001b[38;5;28mself\u001b[39m\u001b[38;5;241m.\u001b[39mn \u001b[38;5;241m+\u001b[39m\u001b[38;5;241m=\u001b[39m \u001b[38;5;241m1\u001b[39m\n\u001b[0;32m     10\u001b[0m \u001b[38;5;28;01mreturn\u001b[39;00m \u001b[38;5;28mself\u001b[39m\u001b[38;5;241m.\u001b[39mn\n",
      "\u001b[1;31mStopIteration\u001b[0m: "
     ]
    }
   ],
   "source": [
    "my_iterator = MyIterator()\n",
    "while True:\n",
    "    print(next(my_iterator))"
   ]
  },
  {
   "cell_type": "code",
   "execution_count": 8,
   "metadata": {},
   "outputs": [
    {
     "ename": "StopIteration",
     "evalue": "",
     "output_type": "error",
     "traceback": [
      "\u001b[1;31m---------------------------------------------------------------------------\u001b[0m",
      "\u001b[1;31mStopIteration\u001b[0m                             Traceback (most recent call last)",
      "Cell \u001b[1;32mIn [8], line 1\u001b[0m\n\u001b[1;32m----> 1\u001b[0m \u001b[38;5;28mprint\u001b[39m(\u001b[38;5;28;43mnext\u001b[39;49m\u001b[43m(\u001b[49m\u001b[43mmy_iterator\u001b[49m\u001b[43m)\u001b[49m)\n",
      "Cell \u001b[1;32mIn [6], line 8\u001b[0m, in \u001b[0;36mMyIterator.__next__\u001b[1;34m(self)\u001b[0m\n\u001b[0;32m      6\u001b[0m \u001b[38;5;28;01mif\u001b[39;00m \u001b[38;5;28mself\u001b[39m\u001b[38;5;241m.\u001b[39mexhausted \u001b[38;5;129;01mor\u001b[39;00m \u001b[38;5;28mself\u001b[39m\u001b[38;5;241m.\u001b[39mn \u001b[38;5;241m==\u001b[39m \u001b[38;5;241m13\u001b[39m:\n\u001b[0;32m      7\u001b[0m     \u001b[38;5;28mself\u001b[39m\u001b[38;5;241m.\u001b[39mexhausted \u001b[38;5;241m=\u001b[39m \u001b[38;5;28;01mTrue\u001b[39;00m\n\u001b[1;32m----> 8\u001b[0m     \u001b[38;5;28;01mraise\u001b[39;00m \u001b[38;5;167;01mStopIteration\u001b[39;00m\n\u001b[0;32m      9\u001b[0m \u001b[38;5;28mself\u001b[39m\u001b[38;5;241m.\u001b[39mn \u001b[38;5;241m+\u001b[39m\u001b[38;5;241m=\u001b[39m \u001b[38;5;241m1\u001b[39m\n\u001b[0;32m     10\u001b[0m \u001b[38;5;28;01mreturn\u001b[39;00m \u001b[38;5;28mself\u001b[39m\u001b[38;5;241m.\u001b[39mn\n",
      "\u001b[1;31mStopIteration\u001b[0m: "
     ]
    }
   ],
   "source": [
    "print(next(my_iterator))  # Continues to raise StopIteration"
   ]
  },
  {
   "cell_type": "markdown",
   "metadata": {},
   "source": [
    "The problem is, that only being able to call `next()` on an object is not very flexible.  For example, being able to loop over an object to get each successive item would be a lot more convenient."
   ]
  },
  {
   "cell_type": "code",
   "execution_count": 9,
   "metadata": {},
   "outputs": [
    {
     "ename": "TypeError",
     "evalue": "'MyIterator' object is not iterable",
     "output_type": "error",
     "traceback": [
      "\u001b[1;31m---------------------------------------------------------------------------\u001b[0m",
      "\u001b[1;31mTypeError\u001b[0m                                 Traceback (most recent call last)",
      "Cell \u001b[1;32mIn [9], line 2\u001b[0m\n\u001b[0;32m      1\u001b[0m my_iterator \u001b[38;5;241m=\u001b[39m MyIterator()\n\u001b[1;32m----> 2\u001b[0m \u001b[38;5;28;01mfor\u001b[39;00m n \u001b[38;5;129;01min\u001b[39;00m my_iterator:\n\u001b[0;32m      3\u001b[0m     \u001b[38;5;28mprint\u001b[39m(n)\n",
      "\u001b[1;31mTypeError\u001b[0m: 'MyIterator' object is not iterable"
     ]
    }
   ],
   "source": [
    "my_iterator = MyIterator()\n",
    "for n in my_iterator:\n",
    "    print(n)"
   ]
  },
  {
   "cell_type": "markdown",
   "metadata": {},
   "source": [
    "## Iterables\n",
    "\n",
    "In order to support a loop, or a list comprehension, or a constructor for a collection type, we instead need an **iterable**.  An iterable is simply an object that has a method named `.__iter__()` which return an *iterator* when called with no arguments.  The built-in function `iter()` is a shortcut for calling that method, although it is uncommon to call it explicitly. More often, `.__iter__()` gets called \"behind\" the scenes in a loop or the like."
   ]
  },
  {
   "cell_type": "code",
   "execution_count": 10,
   "metadata": {},
   "outputs": [],
   "source": [
    "class MyIterable:\n",
    "    def __iter__(self):\n",
    "        return MyIterator()"
   ]
  },
  {
   "cell_type": "code",
   "execution_count": 11,
   "metadata": {},
   "outputs": [
    {
     "data": {
      "text/plain": [
       "<__main__.MyIterator at 0x18eeaad98a0>"
      ]
     },
     "execution_count": 11,
     "metadata": {},
     "output_type": "execute_result"
    }
   ],
   "source": [
    "my_iterable = MyIterable()\n",
    "iter(my_iterable)"
   ]
  },
  {
   "cell_type": "markdown",
   "metadata": {},
   "source": [
    "That isn't yet so useful, but it suddenly becomes so when we put it in a loop and other contexts that want an iterable."
   ]
  },
  {
   "cell_type": "code",
   "execution_count": 12,
   "metadata": {},
   "outputs": [
    {
     "data": {
      "text/plain": [
       "[11, 12, 13]"
      ]
     },
     "execution_count": 12,
     "metadata": {},
     "output_type": "execute_result"
    }
   ],
   "source": [
    "list(my_iterable)"
   ]
  },
  {
   "cell_type": "code",
   "execution_count": 13,
   "metadata": {},
   "outputs": [
    {
     "data": {
      "text/plain": [
       "[1.5714285714285714, 1.7142857142857142, 1.8571428571428572]"
      ]
     },
     "execution_count": 13,
     "metadata": {},
     "output_type": "execute_result"
    }
   ],
   "source": [
    "[n/7 for n in my_iterable]"
   ]
  },
  {
   "cell_type": "code",
   "execution_count": 14,
   "metadata": {},
   "outputs": [
    {
     "name": "stdout",
     "output_type": "stream",
     "text": [
      "11\n",
      "12\n",
      "13\n"
     ]
    }
   ],
   "source": [
    "for n in my_iterable:\n",
    "    print(n)"
   ]
  },
  {
   "cell_type": "code",
   "execution_count": 15,
   "metadata": {},
   "outputs": [
    {
     "name": "stdout",
     "output_type": "stream",
     "text": [
      "(0, 11)\n",
      "(1, 12)\n",
      "(2, 13)\n"
     ]
    }
   ],
   "source": [
    "for x in enumerate(my_iterable):\n",
    "    print(x)"
   ]
  },
  {
   "cell_type": "code",
   "execution_count": 16,
   "metadata": {},
   "outputs": [
    {
     "data": {
      "text/plain": [
       "[(11, 'a'), (12, 'b'), (13, 'c')]"
      ]
     },
     "execution_count": 16,
     "metadata": {},
     "output_type": "execute_result"
    }
   ],
   "source": [
    "list(zip(my_iterable, \"abcdefghi\"))"
   ]
  },
  {
   "cell_type": "markdown",
   "metadata": {},
   "source": [
    "Notice that `my_iterable` is **not** an iterator."
   ]
  },
  {
   "cell_type": "code",
   "execution_count": 17,
   "metadata": {},
   "outputs": [
    {
     "ename": "TypeError",
     "evalue": "'MyIterable' object is not an iterator",
     "output_type": "error",
     "traceback": [
      "\u001b[1;31m---------------------------------------------------------------------------\u001b[0m",
      "\u001b[1;31mTypeError\u001b[0m                                 Traceback (most recent call last)",
      "Cell \u001b[1;32mIn [17], line 1\u001b[0m\n\u001b[1;32m----> 1\u001b[0m \u001b[38;5;28;43mnext\u001b[39;49m\u001b[43m(\u001b[49m\u001b[43mmy_iterable\u001b[49m\u001b[43m)\u001b[49m\n",
      "\u001b[1;31mTypeError\u001b[0m: 'MyIterable' object is not an iterator"
     ]
    }
   ],
   "source": [
    "next(my_iterable)"
   ]
  },
  {
   "cell_type": "markdown",
   "metadata": {},
   "source": [
    "## Dual-function objects\n",
    "\n",
    "Many Python objects are both iterators and iterables.  For example, file objects do both things (and also a bunch more; they are also context managers, for example). We can open a Project Gutenberg dictionary of slang from 1913.  Or technically an excerpt from it, which I put in a file in the repository."
   ]
  },
  {
   "cell_type": "code",
   "execution_count": 20,
   "metadata": {},
   "outputs": [
    {
     "name": "stdout",
     "output_type": "stream",
     "text": [
      "~A 1~, first-rate, the very best; “she’s a prime girl, she is; she is\n",
      "A 1.”—_Sam Slick_. The highest classification of ships at Lloyd’s; common\n",
      "term in the United States; also at Liverpool and other English seaports.\n",
      "Another, even more intensitive form is “first-class, letter A, No. 1.”\n",
      "Some people choose to say A I, for no reason, however, beyond that of\n",
      "being different from others.\n",
      "\n"
     ]
    }
   ],
   "source": [
    "# Open a file, read some bytes from it.\n",
    "slang = open('data/slang.txt', encoding=\"utf8\")\n",
    "print(slang.read(388), end='')"
   ]
  },
  {
   "cell_type": "markdown",
   "metadata": {},
   "source": [
    "As an iterator, we might do this to print the next 5 lines:"
   ]
  },
  {
   "cell_type": "code",
   "execution_count": 22,
   "metadata": {},
   "outputs": [
    {
     "name": "stdout",
     "output_type": "stream",
     "text": [
      "~About Right~, “to do the thing ABOUT RIGHT,” _i.e._, to do it\n",
      "properly, soundly, correctly; “he guv it ’im ABOUT RIGHT,” _i.e._, he\n",
      "beat him severely.\n",
      "\n",
      "~Abraham-man~, a vagabond, such as were driven to beg about the country\n"
     ]
    }
   ],
   "source": [
    "for i in range(5):\n",
    "    print(next(slang), end='')"
   ]
  },
  {
   "cell_type": "markdown",
   "metadata": {},
   "source": [
    "As an iterable, we might use it a bit differently:"
   ]
  },
  {
   "cell_type": "code",
   "execution_count": 23,
   "metadata": {},
   "outputs": [
    {
     "name": "stdout",
     "output_type": "stream",
     "text": [
      "after the dissolution of the monasteries.—_See_ BESS O’ BEDLAM,\n",
      "_infra_. They are well described under the title of _Bedlam\n",
      "Beggars_.—_Shakspeare’s K. Lear_, ii. 3.\n",
      "\n",
      "    “And these, what name or title e’er they bear,\n",
      "    Jarkman, or Patrico, Cranke, or Clapper-dudgeon,\n",
      "    Frater, or ABRAM-MAN; I speak to all\n",
      "    That stand in fair election for the title\n"
     ]
    }
   ],
   "source": [
    "count = 1\n",
    "for line in slang:\n",
    "    print(line, end='')\n",
    "    if (count := count+1) > 8:\n",
    "        break"
   ]
  },
  {
   "cell_type": "markdown",
   "metadata": {},
   "source": [
    "---\n",
    "\n",
    "So far this is rather formal, but in the next lesson we start to make this useful."
   ]
  },
  {
   "cell_type": "markdown",
   "metadata": {},
   "source": [
    "# Exercise"
   ]
  },
  {
   "cell_type": "markdown",
   "metadata": {},
   "source": [
    "## Description"
   ]
  },
  {
   "cell_type": "markdown",
   "metadata": {},
   "source": [
    "Some Python objects—that you work with, every time you code—are iterators. Others are iterables.  Many are both. Some are neither.  In the below setup, a number of objects are defined, you need to characterize their behavior correctly for each of them.  Everyting is characterized wrongly in the setup; fix that."
   ]
  },
  {
   "cell_type": "markdown",
   "metadata": {},
   "source": [
    "## Setup"
   ]
  },
  {
   "cell_type": "code",
   "execution_count": 26,
   "metadata": {},
   "outputs": [],
   "source": [
    "# Define names for the possible answers.\n",
    "from collections import namedtuple\n",
    "from enum import Enum\n",
    "class Kind(Enum):\n",
    "    ITERATOR, ITERABLE, BOTH, NEITHER, WRONG = range(5)\n",
    "\n",
    "things = dict(\n",
    "    a = [range(10), Kind.WRONG],\n",
    "    b = [open('data/tmp-file', 'r+b'), Kind.WRONG],\n",
    "    c = [[1, 2, 3, 4], Kind.WRONG],\n",
    "    d = [(1, 2, 3, 4), Kind.WRONG],\n",
    "    e = [123.45, Kind.WRONG],\n",
    "    f = [\"12345\", Kind.WRONG],\n",
    "    g = [zip(\"abc\", \"def\"), Kind.WRONG],\n",
    "    h = [lambda n: range(n), Kind.WRONG],\n",
    "    i = [{1, 2, 3, 4}, Kind.WRONG],\n",
    "    j = [{1: 2, 3: 4, 5: 6}, Kind.WRONG],\n",
    "    k = [namedtuple(\"Thing\", \"a b c\"), Kind.WRONG],\n",
    "    l = [namedtuple(\"Thing\", \"a b c\")(1, 2, 3), Kind.WRONG],\n",
    "    m = [(n for n in range(10)), Kind.WRONG]\n",
    ")"
   ]
  },
  {
   "cell_type": "markdown",
   "metadata": {},
   "source": [
    "# Solution 1"
   ]
  },
  {
   "cell_type": "code",
   "execution_count": 27,
   "metadata": {},
   "outputs": [],
   "source": [
    "from collections.abc import Iterable, Iterator\n",
    "\n",
    "def kind(o):\n",
    "    if isinstance(o, Iterable):\n",
    "        if isinstance(o, Iterator):\n",
    "            return Kind.BOTH\n",
    "        else:\n",
    "            return Kind.ITERABLE\n",
    "    elif isinstance(o, Iterator):\n",
    "        return Kind.ITERATOR\n",
    "    else:\n",
    "        return Kind.NEITHER\n",
    "    \n",
    "for k, v in things.items():\n",
    "    v[1] = kind(v[0])"
   ]
  },
  {
   "cell_type": "markdown",
   "metadata": {},
   "source": [
    "# Solution 2"
   ]
  },
  {
   "cell_type": "code",
   "execution_count": 28,
   "metadata": {},
   "outputs": [],
   "source": [
    "# This solution is somewhat coarser since it can consume elements\n",
    "# also subtly wrong about write-only files, and a few other things\n",
    "def kind(o):\n",
    "    try:\n",
    "        iter(o)\n",
    "        try:\n",
    "            next(o)\n",
    "            return Kind.BOTH\n",
    "        except StopIteration:\n",
    "            # An exhausted iterator is an iterator\n",
    "            return Kind.BOTH\n",
    "        except:\n",
    "            return Kind.ITERABLE\n",
    "    except:\n",
    "        try:\n",
    "            next(o)\n",
    "            return Kind.Iterator\n",
    "        except StopIteration:\n",
    "            return Kind.Iterator\n",
    "        except:\n",
    "            return Kind.NEITHER\n",
    "    \n",
    "for k, v in things.items():\n",
    "    v[1] = kind(v[0])        "
   ]
  },
  {
   "cell_type": "markdown",
   "metadata": {},
   "source": [
    "# Test Cases"
   ]
  },
  {
   "cell_type": "code",
   "execution_count": 29,
   "metadata": {},
   "outputs": [],
   "source": [
    "def test_kinds():\n",
    "    kinds = [v[1] for v in things.values()]\n",
    "    correct = {'a': Kind.ITERABLE,\n",
    "               'b': Kind.BOTH,\n",
    "               'c': Kind.ITERABLE,\n",
    "               'd': Kind.ITERABLE,\n",
    "               'e': Kind.NEITHER,\n",
    "               'f': Kind.ITERABLE,\n",
    "               'g': Kind.BOTH,\n",
    "               'h': Kind.NEITHER,\n",
    "               'i': Kind.ITERABLE,\n",
    "               'j': Kind.ITERABLE,\n",
    "               'k': Kind.NEITHER,\n",
    "               'l': Kind.ITERABLE,\n",
    "               'm': Kind.BOTH}\n",
    "    for n, k in enumerate(correct):\n",
    "        assert correct[k] == kinds[n], f\"{k} is {correct[k]}\"\n",
    "    \n",
    "test_kinds()"
   ]
  },
  {
   "cell_type": "markdown",
   "metadata": {},
   "source": [
    "-------------\n",
    "Materials licensed under [CC BY-NC-ND 4.0](https://creativecommons.org/licenses/by-nc-nd/4.0/) by the authors"
   ]
  }
 ],
 "metadata": {
  "celltoolbar": "Slideshow",
  "kernelspec": {
   "display_name": "Python 3 (ipykernel)",
   "language": "python",
   "name": "python3"
  },
  "language_info": {
   "codemirror_mode": {
    "name": "ipython",
    "version": 3
   },
   "file_extension": ".py",
   "mimetype": "text/x-python",
   "name": "python",
   "nbconvert_exporter": "python",
   "pygments_lexer": "ipython3",
   "version": "3.10.7"
  }
 },
 "nbformat": 4,
 "nbformat_minor": 4
}
