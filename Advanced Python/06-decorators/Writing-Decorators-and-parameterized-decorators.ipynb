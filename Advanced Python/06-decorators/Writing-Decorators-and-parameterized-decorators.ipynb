{
 "cells": [
  {
   "cell_type": "markdown",
   "metadata": {},
   "source": [
    "![Erudio logo](../../img/erudio-logo-small.png)"
   ]
  },
  {
   "cell_type": "markdown",
   "metadata": {},
   "source": [
    "# Decorators\n",
    "\n",
    "A decorator, at base, is nothing more than syntax sugar for a callable that takes one function or class as an argument, and returns ... **something**.  Given how deeply introspective Python can be, you can modify functions and classes in pretty much any conceivable way (some take more work than others).  In general, decorators are simply a convenient way of expressing a kind of modification that you will potentially want to apply to many functions or classes.\n",
    "\n",
    "Hopefully without belaboring the matter too much, what a decorator returns really can be *anything*.  Most of the time it is a somewhat modified class or function that performs a largely similar function to the undecorated version.  But the syntax is not so constrained."
   ]
  },
  {
   "cell_type": "code",
   "execution_count": 1,
   "metadata": {},
   "outputs": [
    {
     "name": "stdout",
     "output_type": "stream",
     "text": [
      "42\n"
     ]
    }
   ],
   "source": [
    "def func_to_num(fn):\n",
    "    return 42\n",
    "\n",
    "@func_to_num\n",
    "def fibonacci(max=float('inf'), a=1, b=2):\n",
    "    while a < max:\n",
    "        yield a\n",
    "        a, b = b, a+b\n",
    "        \n",
    "print(fibonacci)"
   ]
  },
  {
   "cell_type": "code",
   "execution_count": 2,
   "metadata": {},
   "outputs": [
    {
     "name": "stdout",
     "output_type": "stream",
     "text": [
      "'int' object is not callable\n"
     ]
    }
   ],
   "source": [
    "try:\n",
    "    fibonacci(999)\n",
    "except Exception as err:\n",
    "    print(err)"
   ]
  },
  {
   "cell_type": "markdown",
   "metadata": {},
   "source": [
    "The decorator `@func_to_num` is a generally terrible decorator with no reasonable purpose.  But it **is** a decorator."
   ]
  },
  {
   "cell_type": "markdown",
   "metadata": {},
   "source": [
    "## Transforming Functions"
   ]
  },
  {
   "cell_type": "markdown",
   "metadata": {},
   "source": [
    "Decorators can be a powerful way of expressing \"cross-cutting\" behavior that you want to apply to different functions. A very simple, but still useless, decorator is the identity decorator.  It simply returns a function that behaves the same way as the function passed into it.  However, the way we write this shows the structure of writing more useful ones."
   ]
  },
  {
   "cell_type": "code",
   "execution_count": 3,
   "metadata": {},
   "outputs": [],
   "source": [
    "def decorate(func):\n",
    "    def new_func(arg):\n",
    "        return func(arg)\n",
    "    return new_func"
   ]
  },
  {
   "cell_type": "markdown",
   "metadata": {},
   "source": [
    "Even without decorators, We could modify the function using `decorate()` and rebind it to the same name."
   ]
  },
  {
   "cell_type": "code",
   "execution_count": 4,
   "metadata": {},
   "outputs": [
    {
     "name": "stdout",
     "output_type": "stream",
     "text": [
      "Original fn1() answer: 6\n",
      "Modified fn1() answer: 6\n"
     ]
    }
   ],
   "source": [
    "def fn1(x):\n",
    "    return x + 1\n",
    "\n",
    "print(\"Original fn1() answer:\", fn1(5))\n",
    "\n",
    "fn1 = decorate(fn1)\n",
    "print(\"Modified fn1() answer:\", fn1(5))"
   ]
  },
  {
   "cell_type": "markdown",
   "metadata": {},
   "source": [
    "It is generally prettier to do a semantically identical thing using a decorator like the following.  Decorators are higher-order functions that modify a function, and then rebind the new function the same name.  Their main advantage is simply that they come at the start of a function definition rather at the end of a long function definition (or elsewhere than that even)."
   ]
  },
  {
   "cell_type": "code",
   "execution_count": 5,
   "metadata": {},
   "outputs": [],
   "source": [
    "def fn2(x):\n",
    "    return x + 1\n",
    "\n",
    "@decorate\n",
    "def fn3(x):\n",
    "    return x + 1"
   ]
  },
  {
   "cell_type": "markdown",
   "metadata": {},
   "source": [
    "The function returned by `@decorate` is bound to the same name `fn3` and replaces the original, decorated function.  In the example above, ```new_func``` becomes the new implementation of ```fn3```. Let's contrast `fn2()` with `fn3()`."
   ]
  },
  {
   "cell_type": "code",
   "execution_count": 6,
   "metadata": {},
   "outputs": [
    {
     "name": "stdout",
     "output_type": "stream",
     "text": [
      "Undecorated: fn2(17) == 18\n",
      "Decorated: new_func(17) == 18\n"
     ]
    }
   ],
   "source": [
    "print(f\"Undecorated: {fn2.__name__}(17) == {fn2(17)}\")\n",
    "print(f\"Decorated: {fn3.__name__}(17) == {fn3(17)}\")"
   ]
  },
  {
   "cell_type": "markdown",
   "metadata": {},
   "source": [
    "### A first useful decorator\n",
    "\n",
    "Let's imagine that we want to allow `fun()` to operate on sequences of numbers, but we only want to define it as an operation on a single number."
   ]
  },
  {
   "cell_type": "code",
   "execution_count": 7,
   "metadata": {},
   "outputs": [],
   "source": [
    "def map_scalar(func):\n",
    "    def map_to_seq(*args):\n",
    "        return list(map(func, args))\n",
    "    return map_to_seq"
   ]
  },
  {
   "cell_type": "code",
   "execution_count": 8,
   "metadata": {},
   "outputs": [],
   "source": [
    "@map_scalar\n",
    "def add_one(x):\n",
    "    return x + 1"
   ]
  },
  {
   "cell_type": "code",
   "execution_count": 9,
   "metadata": {},
   "outputs": [
    {
     "data": {
      "text/plain": [
       "[4]"
      ]
     },
     "execution_count": 9,
     "metadata": {},
     "output_type": "execute_result"
    }
   ],
   "source": [
    "add_one(3)"
   ]
  },
  {
   "cell_type": "code",
   "execution_count": 10,
   "metadata": {},
   "outputs": [
    {
     "data": {
      "text/plain": [
       "[11, 21, 31, 41]"
      ]
     },
     "execution_count": 10,
     "metadata": {},
     "output_type": "execute_result"
    }
   ],
   "source": [
    "add_one(10, 20, 30, 40)"
   ]
  },
  {
   "cell_type": "markdown",
   "metadata": {},
   "source": [
    "## Change behavior on duck-type of arguments"
   ]
  },
  {
   "cell_type": "markdown",
   "metadata": {},
   "source": [
    "A slightly more interesting variant on the above is to turn Python functions into something like NumPy ufuncs.  That is, perhaps we would like them to operate on either scalars or sequences (preserving the sequence type)."
   ]
  },
  {
   "cell_type": "code",
   "execution_count": 11,
   "metadata": {},
   "outputs": [],
   "source": [
    "def elementwise(fn):\n",
    "    \"Transform a function on scalars into a function on collections\"\n",
    "    \n",
    "    def newfn(arg):\n",
    "        \"Inner function of elementwise decorator\"\n",
    "        # Treat a string as scalar even though it is iterable\n",
    "        if isinstance(arg, str):\n",
    "            return fn(arg)        \n",
    "        try:                      # Something iterable\n",
    "            return type(arg)(map(fn, arg))\n",
    "        except TypeError as err:  # Assume it is scalar\n",
    "            return fn(arg)\n",
    "        \n",
    "    return newfn"
   ]
  },
  {
   "cell_type": "code",
   "execution_count": 12,
   "metadata": {},
   "outputs": [],
   "source": [
    "@elementwise\n",
    "def compute(x):\n",
    "    \"Calculate one less than the cube of an input\"\n",
    "    return x**3 - 1"
   ]
  },
  {
   "cell_type": "code",
   "execution_count": 13,
   "metadata": {},
   "outputs": [
    {
     "data": {
      "text/plain": [
       "124"
      ]
     },
     "execution_count": 13,
     "metadata": {},
     "output_type": "execute_result"
    }
   ],
   "source": [
    "compute(5)"
   ]
  },
  {
   "cell_type": "code",
   "execution_count": 14,
   "metadata": {},
   "outputs": [
    {
     "data": {
      "text/plain": [
       "[0, (-47+9j), 29.959144000000002]"
      ]
     },
     "execution_count": 14,
     "metadata": {},
     "output_type": "execute_result"
    }
   ],
   "source": [
    "compute([1, 2+3j, 3.14]) "
   ]
  },
  {
   "cell_type": "code",
   "execution_count": 15,
   "metadata": {},
   "outputs": [
    {
     "data": {
      "text/plain": [
       "{511, 728, 999}"
      ]
     },
     "execution_count": 15,
     "metadata": {},
     "output_type": "execute_result"
    }
   ],
   "source": [
    "compute({8, 9, 10})"
   ]
  },
  {
   "cell_type": "markdown",
   "metadata": {},
   "source": [
    "# Where naïve wrapping goes wrong"
   ]
  },
  {
   "cell_type": "markdown",
   "metadata": {},
   "source": [
    "The simple examples above show a general pattern for creating decorators.  However, they are fragile in the face of object introspection, whether for debugging or other purposes.  Suppose we try to use a function and it goes wrong:"
   ]
  },
  {
   "cell_type": "code",
   "execution_count": 16,
   "metadata": {},
   "outputs": [
    {
     "name": "stdout",
     "output_type": "stream",
     "text": [
      "TypeError(\"unsupported operand type(s) for ** or pow(): 'str' and 'int'\")\n"
     ]
    }
   ],
   "source": [
    "try: \n",
    "    compute(\"Ionesco\")\n",
    "except Exception as err:\n",
    "    print(repr(err))"
   ]
  },
  {
   "cell_type": "markdown",
   "metadata": {},
   "source": [
    "That is not so terrible as an error message, we should try to figure out how we are meant to use the function."
   ]
  },
  {
   "cell_type": "code",
   "execution_count": 17,
   "metadata": {},
   "outputs": [
    {
     "name": "stdout",
     "output_type": "stream",
     "text": [
      "Help on function newfn in module __main__:\n",
      "\n",
      "newfn(arg)\n",
      "    Inner function of elementwise decorator\n",
      "\n"
     ]
    }
   ],
   "source": [
    "help(compute)"
   ]
  },
  {
   "cell_type": "markdown",
   "metadata": {},
   "source": [
    "We provided a docstring for `compute()`, but it got lost when it was decorated!  What we actually have is an instance of the inner function created within the decorator; that one does not have any docstring.  The actual function object only has the generic description of what it does within the decorator."
   ]
  },
  {
   "cell_type": "markdown",
   "metadata": {},
   "source": [
    "## Using `functools.wraps`\n",
    "\n",
    "As we do further introspection of `compute` we become more troubled that it is *not* really the function we created.  Fortunately, the solution here is very simple.  We simply need to use `functools.wraps` to cleanup these details for us."
   ]
  },
  {
   "cell_type": "code",
   "execution_count": 18,
   "metadata": {},
   "outputs": [],
   "source": [
    "import functools\n",
    "\n",
    "def elementwise(fn):\n",
    "    @functools.wraps(fn)  # <-- Add this to the interior function\n",
    "    def newfn(arg):\n",
    "        if isinstance(arg, str):  # string as scalar\n",
    "            return fn(arg)        \n",
    "        try:                      # Something iterable\n",
    "            return type(arg)(map(fn, arg))\n",
    "        except TypeError as err:  # Assume it is scalar\n",
    "            return fn(arg)\n",
    "    return newfn"
   ]
  },
  {
   "cell_type": "code",
   "execution_count": 19,
   "metadata": {},
   "outputs": [
    {
     "data": {
      "text/plain": [
       "(124, (0, 7, 26))"
      ]
     },
     "execution_count": 19,
     "metadata": {},
     "output_type": "execute_result"
    }
   ],
   "source": [
    "@elementwise\n",
    "def compute(x):\n",
    "    \"Calculate one less than the cube of input value(s)\"\n",
    "    return x**3 - 1\n",
    "\n",
    "compute(5), compute((1, 2, 3))"
   ]
  },
  {
   "cell_type": "code",
   "execution_count": 20,
   "metadata": {},
   "outputs": [
    {
     "name": "stdout",
     "output_type": "stream",
     "text": [
      "Help on function compute in module __main__:\n",
      "\n",
      "compute(x)\n",
      "    Calculate one less than the cube of input value(s)\n",
      "\n"
     ]
    }
   ],
   "source": [
    "help(compute)"
   ]
  },
  {
   "cell_type": "code",
   "execution_count": 21,
   "metadata": {},
   "outputs": [
    {
     "data": {
      "text/plain": [
       "'compute'"
      ]
     },
     "execution_count": 21,
     "metadata": {},
     "output_type": "execute_result"
    }
   ],
   "source": [
    "compute.__name__"
   ]
  },
  {
   "cell_type": "markdown",
   "metadata": {},
   "source": [
    "## Combining decorators\n",
    "\n",
    "It is often possible and useful to combine several decorators.  For example, let us make a decorator for logging operations performed."
   ]
  },
  {
   "cell_type": "code",
   "execution_count": 26,
   "metadata": {},
   "outputs": [],
   "source": [
    "from datetime import datetime\n",
    "def log_calls(fn):\n",
    "    # Name logfile after the function name\n",
    "    logfile = open(f\"{fn.__name__}.log\", 'w', encoding=\"utf-8\")\n",
    "    @functools.wraps(fn)\n",
    "    def inner(*args, **kws):\n",
    "        # Inner function accepts arbitrary positional and named args\n",
    "        result = fn(*args, **kws)\n",
    "        # Perform the logging\n",
    "        print(datetime.now().isoformat(), file=logfile, end=\" \")\n",
    "        # To simplify, not logging keyword args in this example\n",
    "        args = map(str, args)\n",
    "        print(f\"{fn.__name__}({','.join(args)}) → {result}\", file=logfile, flush=True)\n",
    "        return result\n",
    "    return inner"
   ]
  },
  {
   "cell_type": "code",
   "execution_count": 27,
   "metadata": {},
   "outputs": [],
   "source": [
    "@log_calls\n",
    "@elementwise\n",
    "def compute(x):\n",
    "    \"Calculate one less than the cube of input value(s)\"\n",
    "    return x**3 - 1"
   ]
  },
  {
   "cell_type": "code",
   "execution_count": 28,
   "metadata": {},
   "outputs": [],
   "source": [
    "from time import sleep\n",
    "for data in [5, (1, 2, 3), [1, 2+3j, 3.14], {8, 9, 10}]:\n",
    "    compute(data)\n",
    "    sleep(1.2)"
   ]
  },
  {
   "cell_type": "code",
   "execution_count": 29,
   "metadata": {},
   "outputs": [
    {
     "name": "stdout",
     "output_type": "stream",
     "text": [
      "2024-02-13T15:21:06.482839 compute(5) → 124\n",
      "2024-02-13T15:21:07.690421 compute((1, 2, 3)) → (0, 7, 26)\n",
      "2024-02-13T15:21:08.896817 compute([1, (2+3j), 3.14]) → [0, (-47+9j), 29.959144000000002]\n",
      "2024-02-13T15:21:10.102934 compute({8, 9, 10}) → {728, 999, 511}\n"
     ]
    }
   ],
   "source": [
    "%%bash\n",
    "cat compute.log"
   ]
  },
  {
   "cell_type": "markdown",
   "metadata": {},
   "source": [
    "# Decorator Factories"
   ]
  },
  {
   "cell_type": "markdown",
   "metadata": {},
   "source": [
    "A common pattern is to use *decorator factories* rather than decorators directly.  This allows us to parameterize the decoration of a function in some manner. In order to accept these parameters, we have to wrap our decorator in another function that will accept these.  Let's write a decorator factory that will write the output of a function to a file."
   ]
  },
  {
   "cell_type": "code",
   "execution_count": 30,
   "metadata": {},
   "outputs": [],
   "source": [
    "from functools import wraps\n",
    "from datetime import datetime\n",
    "\n",
    "def log_results(filename):\n",
    "    def decorator(func):\n",
    "        @wraps(func)\n",
    "        def inner(*args, **kws):\n",
    "            result = func(*args, **kws)\n",
    "            with open(filename, 'a') as fh:\n",
    "                now = datetime.utcnow().isoformat()\n",
    "                name = func.__name__\n",
    "                fh.write(f\"{now}\\t{name}\\t{args}\\t{kws}\\t{repr(result)}\\n\")\n",
    "            return result\n",
    "        return inner\n",
    "    return decorator\n",
    "\n",
    "logfile = \"ine-lesson.log\""
   ]
  },
  {
   "cell_type": "code",
   "execution_count": 31,
   "metadata": {},
   "outputs": [],
   "source": [
    "@log_results(logfile)\n",
    "def myfunc(a, b, c=None):\n",
    "    \"Return a formatted display of arguments\"\n",
    "    outstr = f\"a={a}; b={b}; c={c}\"\n",
    "    return outstr"
   ]
  },
  {
   "cell_type": "code",
   "execution_count": 32,
   "metadata": {},
   "outputs": [
    {
     "name": "stdout",
     "output_type": "stream",
     "text": [
      "Help on function myfunc in module __main__:\n",
      "\n",
      "myfunc(a, b, c=None)\n",
      "    Return a formatted display of arguments\n",
      "\n"
     ]
    }
   ],
   "source": [
    "# Make sure the docstring of the decorated function remains\n",
    "help(myfunc)"
   ]
  },
  {
   "cell_type": "code",
   "execution_count": 33,
   "metadata": {},
   "outputs": [
    {
     "data": {
      "text/plain": [
       "'a=3; b=6; c=Flowerpot'"
      ]
     },
     "execution_count": 33,
     "metadata": {},
     "output_type": "execute_result"
    }
   ],
   "source": [
    "myfunc(3, 6, \"Flowerpot\")"
   ]
  },
  {
   "cell_type": "code",
   "execution_count": 34,
   "metadata": {},
   "outputs": [
    {
     "data": {
      "text/plain": [
       "'a=4; b=5; c=Gardenhose'"
      ]
     },
     "execution_count": 34,
     "metadata": {},
     "output_type": "execute_result"
    }
   ],
   "source": [
    "myfunc(4, 5, \"Gardenhose\")"
   ]
  },
  {
   "cell_type": "markdown",
   "metadata": {},
   "source": [
    "We might use the decorator with another function. In this case, it logs to the same file, but a different one is equally possible as a parameter."
   ]
  },
  {
   "cell_type": "code",
   "execution_count": 35,
   "metadata": {},
   "outputs": [],
   "source": [
    "@log_results(logfile)\n",
    "def hypotenuse(a, b):\n",
    "    \"Calculate the hypotenuse of a right triangle\"\n",
    "    from math import sqrt\n",
    "    c = sqrt(a**2 + b**2)\n",
    "    return c"
   ]
  },
  {
   "cell_type": "code",
   "execution_count": 36,
   "metadata": {},
   "outputs": [
    {
     "data": {
      "text/plain": [
       "(5.0, 18.601075237738275)"
      ]
     },
     "execution_count": 36,
     "metadata": {},
     "output_type": "execute_result"
    }
   ],
   "source": [
    "hypotenuse(3, 4), hypotenuse(11, 15)"
   ]
  },
  {
   "cell_type": "code",
   "execution_count": 37,
   "metadata": {},
   "outputs": [
    {
     "name": "stdout",
     "output_type": "stream",
     "text": [
      "2024-02-13T09:53:25.725204\tmyfunc\t(3, 6, 'Flowerpot')\t{}\t'a=3; b=6; c=Flowerpot'\n",
      "2024-02-13T09:53:26.258777\tmyfunc\t(4, 5, 'Gardenhose')\t{}\t'a=4; b=5; c=Gardenhose'\n",
      "2024-02-13T09:53:27.546574\thypotenuse\t(3, 4)\t{}\t5.0\n",
      "2024-02-13T09:53:27.546574\thypotenuse\t(11, 15)\t{}\t18.601075237738275\n",
      "\n"
     ]
    }
   ],
   "source": [
    "# Lets read the log\n",
    "with open(logfile) as fi:\n",
    "    print(''.join(fi.readlines()))"
   ]
  },
  {
   "cell_type": "markdown",
   "metadata": {},
   "source": [
    "When we use a function based approach, we need to nest several levels.  There is the factory function, inside that is the (parameterized)"
   ]
  },
  {
   "cell_type": "markdown",
   "metadata": {},
   "source": [
    "# Decorator Classes"
   ]
  },
  {
   "cell_type": "markdown",
   "metadata": {},
   "source": [
    "You can use a class to define a decorator factory.  This class will need define the `__call__()` method, and may define any supporting methods that are useful.  Since it is a decorator factory, presumably there should be an `__init__()` method to process the parameterization.  The point to understand is that calling the class produces an instance, and that instance that acts as a decorator (and hence needs to be made callable as something that transforms a function in some manner)."
   ]
  },
  {
   "cell_type": "code",
   "execution_count": 38,
   "metadata": {},
   "outputs": [],
   "source": [
    "from collections import defaultdict\n",
    "\n",
    "class logfile(object):\n",
    "    # Class-level attribute\n",
    "    _logged_funcs = defaultdict(list)\n",
    "    \n",
    "    def __init__(self, filename):\n",
    "        # Keep track of the name of the log file used\n",
    "        self._logfile = filename\n",
    "    \n",
    "    @classmethod\n",
    "    def _note_func(cls, logfile, func):\n",
    "        cls._logged_funcs[logfile].append(func)\n",
    "    \n",
    "    def __call__(self, func):\n",
    "        self._note_func(self._logfile, func)\n",
    "        \n",
    "        @wraps(func)\n",
    "        def inner(*args, **kws):\n",
    "            result = func(*args, **kws)\n",
    "            now = datetime.utcnow().isoformat()\n",
    "            name = func.__name__\n",
    "            with open(self._logfile, 'a') as fh:\n",
    "                fh.write(f\"{now}\\t{name}\\t{args}\\t{kws}\\t{repr(result)}\\n\")\n",
    "            return result\n",
    "        return inner\n",
    "    \n",
    "    @classmethod\n",
    "    def get_registry(cls):\n",
    "        return dict(cls._logged_funcs)"
   ]
  },
  {
   "cell_type": "code",
   "execution_count": 49,
   "metadata": {},
   "outputs": [
    {
     "data": {
      "text/plain": [
       "'hello from function g'"
      ]
     },
     "execution_count": 49,
     "metadata": {},
     "output_type": "execute_result"
    }
   ],
   "source": [
    "@logfile('ine-lesson-en.log')\n",
    "def g():\n",
    "    \"A function that says hello\"\n",
    "    return 'hello from function g'\n",
    "g()"
   ]
  },
  {
   "cell_type": "code",
   "execution_count": 50,
   "metadata": {},
   "outputs": [
    {
     "name": "stdout",
     "output_type": "stream",
     "text": [
      "Help on function g in module __main__:\n",
      "\n",
      "g()\n",
      "    A function that says hello\n",
      "\n"
     ]
    }
   ],
   "source": [
    "help(g)"
   ]
  },
  {
   "cell_type": "code",
   "execution_count": 51,
   "metadata": {},
   "outputs": [
    {
     "data": {
      "text/plain": [
       "{'ine-lesson-en.log': [<function __main__.g()>,\n",
       "  <function __main__.h()>,\n",
       "  <function __main__.g()>],\n",
       " 'ine-lesson-es.log': [<function __main__.i()>, <function __main__.j()>]}"
      ]
     },
     "execution_count": 51,
     "metadata": {},
     "output_type": "execute_result"
    }
   ],
   "source": [
    "logfile.get_registry()"
   ]
  },
  {
   "cell_type": "code",
   "execution_count": 52,
   "metadata": {},
   "outputs": [
    {
     "data": {
      "text/plain": [
       "'bye from function h'"
      ]
     },
     "execution_count": 52,
     "metadata": {},
     "output_type": "execute_result"
    }
   ],
   "source": [
    "@logfile('ine-lesson-en.log')\n",
    "def h():\n",
    "    return \"bye from function h\"\n",
    "h()"
   ]
  },
  {
   "cell_type": "code",
   "execution_count": 53,
   "metadata": {},
   "outputs": [
    {
     "data": {
      "text/plain": [
       "'Hola from the function i'"
      ]
     },
     "execution_count": 53,
     "metadata": {},
     "output_type": "execute_result"
    }
   ],
   "source": [
    "@logfile('ine-lesson-es.log')\n",
    "def i():\n",
    "    return \"Hola from the function i\"\n",
    "i()"
   ]
  },
  {
   "cell_type": "code",
   "execution_count": 54,
   "metadata": {},
   "outputs": [
    {
     "data": {
      "text/plain": [
       "'Bye from the function j'"
      ]
     },
     "execution_count": 54,
     "metadata": {},
     "output_type": "execute_result"
    }
   ],
   "source": [
    "@logfile('ine-lesson-es.log')\n",
    "def j():\n",
    "    return \"Bye from the function j\"\n",
    "j()"
   ]
  },
  {
   "cell_type": "code",
   "execution_count": 45,
   "metadata": {},
   "outputs": [
    {
     "data": {
      "text/plain": [
       "('hello from function g',\n",
       " 'bye from function h',\n",
       " 'Hola de la función i',\n",
       " 'Adiós de la función j')"
      ]
     },
     "execution_count": 45,
     "metadata": {},
     "output_type": "execute_result"
    }
   ],
   "source": [
    "g(), h(), i(), j()"
   ]
  },
  {
   "cell_type": "code",
   "execution_count": 46,
   "metadata": {},
   "outputs": [
    {
     "data": {
      "text/plain": [
       "{'ine-lesson-en.log': [<function __main__.g()>, <function __main__.h()>],\n",
       " 'ine-lesson-es.log': [<function __main__.i()>, <function __main__.j()>]}"
      ]
     },
     "execution_count": 46,
     "metadata": {},
     "output_type": "execute_result"
    }
   ],
   "source": [
    "logfile.get_registry()"
   ]
  },
  {
   "cell_type": "code",
   "execution_count": 48,
   "metadata": {},
   "outputs": [
    {
     "name": "stdout",
     "output_type": "stream",
     "text": [
      "2024-02-13T09:53:33.405067\tg\t()\t{}\t'hello from function g'\n",
      "2024-02-13T09:53:35.180514\th\t()\t{}\t'bye from function h'\n",
      "2024-02-13T09:53:37.052404\tg\t()\t{}\t'hello from function g'\n",
      "2024-02-13T09:53:37.052404\th\t()\t{}\t'bye from function h'\n"
     ]
    },
    {
     "name": "stderr",
     "output_type": "stream",
     "text": [
      "Task exception was never retrieved\n",
      "future: <Task finished name='Task-12' coro=<ScriptMagics.shebang.<locals>._handle_stream() done, defined at C:\\Users\\Laisha\\AppData\\Local\\Programs\\Python\\Python310\\lib\\site-packages\\IPython\\core\\magics\\script.py:211> exception=UnicodeDecodeError('utf-8', b\"2024-02-13T09:53:35.666683\\ti\\t()\\t{}\\t'Hola de la funci\\xf3n i'\\r\\n\", 52, 53, 'invalid continuation byte')>\n",
      "Traceback (most recent call last):\n",
      "  File \"C:\\Users\\Laisha\\AppData\\Local\\Programs\\Python\\Python310\\lib\\site-packages\\IPython\\core\\magics\\script.py\", line 213, in _handle_stream\n",
      "    line = (await stream.readline()).decode(\"utf8\")\n",
      "UnicodeDecodeError: 'utf-8' codec can't decode byte 0xf3 in position 52: invalid continuation byte\n"
     ]
    }
   ],
   "source": [
    "%%bash\n",
    "cat ine-lesson*.log"
   ]
  },
  {
   "cell_type": "markdown",
   "metadata": {},
   "source": [
    "# Memoization"
   ]
  },
  {
   "cell_type": "markdown",
   "metadata": {},
   "source": [
    "Suppose we have a computationally intensive method, ```f()```, that calculates some result (in this case, a number).\n",
    "We have to call this function many times, but do not wait forever to recalculate our result."
   ]
  },
  {
   "cell_type": "code",
   "execution_count": 55,
   "metadata": {},
   "outputs": [],
   "source": [
    "import time\n",
    "\n",
    "def f(a, b):\n",
    "    # <expensive number crunching here>\n",
    "    out = a + b\n",
    "    time.sleep(1.5)\n",
    "    return out"
   ]
  },
  {
   "cell_type": "code",
   "execution_count": 56,
   "metadata": {},
   "outputs": [
    {
     "name": "stdout",
     "output_type": "stream",
     "text": [
      "1.51 s ± 985 µs per loop (mean ± std. dev. of 7 runs, 1 loop each)\n"
     ]
    }
   ],
   "source": [
    "%timeit f(3, 5)"
   ]
  },
  {
   "cell_type": "markdown",
   "metadata": {},
   "source": [
    "Assuming our function is *pure*, it would be nice to cache the results of our previous calls. This was, when `f()` is called again with the same arguments it will simply return the cached result instead of recalculating the answer.\n",
    "\n",
    "This sort of caching is called *memoization*.  Lets define a class decorator that will memoize any function that we decorate. Note that there is a faster, better tested, and more flexible version of this particular decorator available as `functools.lru_cache` in the standard library.  As of Python 3.9, there is also a `functoools.cache()` as well (with slightly different behavior)."
   ]
  },
  {
   "cell_type": "code",
   "execution_count": 57,
   "metadata": {},
   "outputs": [],
   "source": [
    "class Memoizer(object):\n",
    "    def __init__(self, func):\n",
    "        self.cache = {}\n",
    "        self.func = func\n",
    "        \n",
    "    def __call__(self, *args, **kwargs):\n",
    "        # Use sorted tuples because much smaller in memory than frozensets\n",
    "        # Even though frozensets are slightly faster to construct.\n",
    "        # We sort so that we can compare the keyword args.\n",
    "        # We use strings because our args or kwargs may not be hashable.\n",
    "        # Repr should return a unique string for its object\n",
    "        key = (repr(args), repr(tuple(sorted(kwargs.items()))))\n",
    "        if key in self.cache:\n",
    "            return self.cache[key]\n",
    "        self.cache[key] = self.func(*args, **kwargs)\n",
    "        return self.cache[key]"
   ]
  },
  {
   "cell_type": "code",
   "execution_count": 58,
   "metadata": {},
   "outputs": [],
   "source": [
    "import sys\n",
    "\n",
    "@Memoizer\n",
    "def f(a, b, mod=sys.maxsize):\n",
    "    # <expensive number crunching here>\n",
    "    out = (a + b) % mod\n",
    "    time.sleep(1.5)\n",
    "    return out"
   ]
  },
  {
   "cell_type": "code",
   "execution_count": 59,
   "metadata": {},
   "outputs": [
    {
     "name": "stdout",
     "output_type": "stream",
     "text": [
      "CPU times: total: 15.6 ms\n",
      "Wall time: 1.51 s\n"
     ]
    },
    {
     "data": {
      "text/plain": [
       "8"
      ]
     },
     "execution_count": 59,
     "metadata": {},
     "output_type": "execute_result"
    }
   ],
   "source": [
    "%time f(3, 5)"
   ]
  },
  {
   "cell_type": "code",
   "execution_count": 60,
   "metadata": {},
   "outputs": [
    {
     "name": "stdout",
     "output_type": "stream",
     "text": [
      "CPU times: total: 0 ns\n",
      "Wall time: 1.51 s\n"
     ]
    },
    {
     "data": {
      "text/plain": [
       "13"
      ]
     },
     "execution_count": 60,
     "metadata": {},
     "output_type": "execute_result"
    }
   ],
   "source": [
    "%time f(6, 7, mod=37)"
   ]
  },
  {
   "cell_type": "code",
   "execution_count": 61,
   "metadata": {},
   "outputs": [
    {
     "name": "stdout",
     "output_type": "stream",
     "text": [
      "CPU times: total: 0 ns\n",
      "Wall time: 0 ns\n"
     ]
    },
    {
     "data": {
      "text/plain": [
       "8"
      ]
     },
     "execution_count": 61,
     "metadata": {},
     "output_type": "execute_result"
    }
   ],
   "source": [
    "%time f(3, 5)"
   ]
  },
  {
   "cell_type": "code",
   "execution_count": 62,
   "metadata": {},
   "outputs": [
    {
     "name": "stdout",
     "output_type": "stream",
     "text": [
      "CPU times: total: 0 ns\n",
      "Wall time: 0 ns\n"
     ]
    },
    {
     "data": {
      "text/plain": [
       "13"
      ]
     },
     "execution_count": 62,
     "metadata": {},
     "output_type": "execute_result"
    }
   ],
   "source": [
    "%time f(6, 7, mod=37)"
   ]
  },
  {
   "cell_type": "code",
   "execution_count": 63,
   "metadata": {},
   "outputs": [
    {
     "name": "stdout",
     "output_type": "stream",
     "text": [
      "CPU times: total: 0 ns\n",
      "Wall time: 1.51 s\n"
     ]
    },
    {
     "data": {
      "text/plain": [
       "13"
      ]
     },
     "execution_count": 63,
     "metadata": {},
     "output_type": "execute_result"
    }
   ],
   "source": [
    "%time f(6, 7, mod=111)"
   ]
  },
  {
   "cell_type": "code",
   "execution_count": 64,
   "metadata": {},
   "outputs": [
    {
     "data": {
      "text/plain": [
       "{('(3, 5)', '()'): 8,\n",
       " ('(6, 7)', \"(('mod', 37),)\"): 13,\n",
       " ('(6, 7)', \"(('mod', 111),)\"): 13}"
      ]
     },
     "execution_count": 64,
     "metadata": {},
     "output_type": "execute_result"
    }
   ],
   "source": [
    "f.cache"
   ]
  },
  {
   "cell_type": "markdown",
   "metadata": {},
   "source": [
    "# Exercise"
   ]
  },
  {
   "cell_type": "markdown",
   "metadata": {},
   "source": [
    "## Description"
   ]
  },
  {
   "cell_type": "markdown",
   "metadata": {},
   "source": [
    "Writing parameterized decorators is a powerful way of describing some general cross-cutting behavior that is also partially specialized.  However, in decoratoring a function you have to determine if the \"decorator\" is actually a decorator or a decorator function.  At least you do in the examples in the lessons.\n",
    "\n",
    "A number of widely used decorators in the standard library and in widely-used third-party tools can act as *either* a decorator factory *or* as a decorator directly.  For example:\n",
    "\n",
    "```python\n",
    "from functools import lru_cache\n",
    "\n",
    "@lru_cache\n",
    "def add1(a, b):\n",
    "    return a+b\n",
    "\n",
    "@lru_cache(maxsize=128)\n",
    "def add2(a, b):\n",
    "    return a+b\n",
    "```\n",
    "\n",
    "Both `add1()` and `add2()` are memoized, and in fact have the same maximum cache size.  In the factory variation, you could specify a non-default `maxsize`, of course.\n",
    "\n",
    "For this exercise, you should write your own dual-use decorator.  Your will be called `@orbits` after the style of a Mandelbrot set function which resembles this:\n",
    "\n",
    "```python\n",
    "def mandelbrot(z0:complex, orbits:int=255) -> complex:\n",
    "    z = z0\n",
    "    for n in range(orbits):\n",
    "        z = z**2 + z0\n",
    "    return z\n",
    "```\n",
    "\n",
    "The idea here is that you would like to write a function that only expresses a single transformation of a (complex) number, but when decorated it will repeatedly apply that operation for a number of \"orbits.\"  If not parameterized, it will default to 10 orbits.  As an example, the `m_orbit()` function is defined in the setup."
   ]
  },
  {
   "cell_type": "markdown",
   "metadata": {},
   "source": [
    "## Setup"
   ]
  },
  {
   "cell_type": "code",
   "execution_count": 84,
   "metadata": {},
   "outputs": [
    {
     "data": {
      "text/plain": [
       "(-0.32999999999999996-0.06j)"
      ]
     },
     "execution_count": 84,
     "metadata": {},
     "output_type": "execute_result"
    }
   ],
   "source": [
    "# You may decide to use a class-based version.  \n",
    "# Non-working identity decorator only created as example\n",
    "def orbits(fn):\n",
    "    def inner(z):\n",
    "        return fn(z)\n",
    "    return inner\n",
    "\n",
    "# Definition of a single orbit\n",
    "@orbits\n",
    "def m_orbit(z: complex) -> complex:\n",
    "    return z**2 + z\n",
    "\n",
    "# correct is approx -0.0733106-0.0017179j\n",
    "m_orbit(-0.6+0.3j)    #-> wrong is approx -0.33-0.06j"
   ]
  },
  {
   "cell_type": "markdown",
   "metadata": {},
   "source": [
    "## Solution"
   ]
  },
  {
   "cell_type": "code",
   "execution_count": 85,
   "metadata": {},
   "outputs": [],
   "source": [
    "from types import FunctionType\n",
    "\n",
    "def orbits(fun_or_count):\n",
    "    if isinstance(fun_or_count, FunctionType):\n",
    "        fn = fun_or_count\n",
    "        def inner(z):\n",
    "            for _ in range(10):\n",
    "                z = fn(z)\n",
    "            return z\n",
    "        return inner\n",
    "    \n",
    "    elif isinstance(fun_or_count, int) and fun_or_count >= 0:\n",
    "        n = fun_or_count\n",
    "        def decorator(fn):\n",
    "            def inner(z):\n",
    "                for _ in range(n):\n",
    "                    z = fn(z)\n",
    "                return z\n",
    "            return inner\n",
    "        return decorator\n",
    "    \n",
    "    else:\n",
    "        raise ValueError(\"Number of orbits must be a non-negative integer\")"
   ]
  },
  {
   "cell_type": "markdown",
   "metadata": {},
   "source": [
    "## Test Cases"
   ]
  },
  {
   "cell_type": "code",
   "execution_count": 86,
   "metadata": {},
   "outputs": [],
   "source": [
    "def test_noparam():\n",
    "    from cmath import isclose\n",
    "    c = -0.1+0.65j\n",
    "    @orbits\n",
    "    def j_orbit(z):\n",
    "        return z**2 + c\n",
    "    z = j_orbit(0.1-0.5j)\n",
    "    assert isclose(z, -0.3170447+0.5734000j, abs_tol=1e-7), z\n",
    "    \n",
    "test_noparam()"
   ]
  },
  {
   "cell_type": "code",
   "execution_count": 87,
   "metadata": {},
   "outputs": [],
   "source": [
    "def test_param0():\n",
    "    from cmath import isclose\n",
    "    c = -0.1+0.65j\n",
    "    @orbits(0)\n",
    "    def j_orbit(z):\n",
    "        return z**2 + c\n",
    "    z = j_orbit(0.1-0.5j)    \n",
    "    assert isclose(z, 0.1-0.5j), z\n",
    "    \n",
    "test_param0()"
   ]
  },
  {
   "cell_type": "code",
   "execution_count": 88,
   "metadata": {},
   "outputs": [],
   "source": [
    "def test_param10():\n",
    "    from cmath import isclose\n",
    "    c = -0.1+0.65j\n",
    "    @orbits(10)\n",
    "    def j_orbit(z):\n",
    "        return z**2 + c\n",
    "    z = j_orbit(0.1-0.5j)\n",
    "    assert isclose(z, -0.3170447+0.5734000j, abs_tol=1e-7), z\n",
    "    \n",
    "test_param10()"
   ]
  },
  {
   "cell_type": "code",
   "execution_count": 89,
   "metadata": {},
   "outputs": [],
   "source": [
    "def test_param255():\n",
    "    from cmath import isclose\n",
    "    c = -0.1+0.65j\n",
    "    @orbits(255)\n",
    "    def j_orbit(z):\n",
    "        return z**2 + c\n",
    "    z = j_orbit(0.1-0.5j)\n",
    "    assert isclose(z, -0.0304571+0.1706268j, abs_tol=1e-7), z\n",
    "    \n",
    "test_param255()"
   ]
  },
  {
   "cell_type": "code",
   "execution_count": 90,
   "metadata": {},
   "outputs": [],
   "source": [
    "def test_default():\n",
    "    from cmath import isclose\n",
    "    c = -0.1+0.65j\n",
    "    @orbits(10)\n",
    "    def j1_orbit(z): return z**2 + c\n",
    "    @orbits\n",
    "    def j2_orbit(z): return z**2 + c\n",
    "    assert j1_orbit(0.1-0.5j) == j2_orbit(0.1-0.5j)\n",
    "    \n",
    "test_default()"
   ]
  },
  {
   "cell_type": "markdown",
   "metadata": {},
   "source": [
    "-------------\n",
    "Materials licensed under [CC BY-NC-ND 4.0](https://creativecommons.org/licenses/by-nc-nd/4.0/) by the authors"
   ]
  }
 ],
 "metadata": {
  "kernelspec": {
   "display_name": "Python 3 (ipykernel)",
   "language": "python",
   "name": "python3"
  },
  "language_info": {
   "codemirror_mode": {
    "name": "ipython",
    "version": 3
   },
   "file_extension": ".py",
   "mimetype": "text/x-python",
   "name": "python",
   "nbconvert_exporter": "python",
   "pygments_lexer": "ipython3",
   "version": "3.10.7"
  }
 },
 "nbformat": 4,
 "nbformat_minor": 4
}
