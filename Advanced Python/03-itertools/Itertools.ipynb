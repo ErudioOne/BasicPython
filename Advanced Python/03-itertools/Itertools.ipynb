{
 "cells": [
  {
   "cell_type": "markdown",
   "metadata": {},
   "source": [
    "![Erudio logo](../../img/erudio-logo-small.png)"
   ]
  },
  {
   "cell_type": "markdown",
   "metadata": {},
   "source": [
    "# Itertools\n",
    "\n",
    "The module `itertools` is a collection of powerful—and carefully designed—functions for performing *iterator algebra*.  That is, these permit *composition* of iterators in sophisticated ways while minimizing concrete instantiation of terms of iterable sequences. In addition to the basic functions in the module itself, the [module documentation](https://docs.python.org/3/library/itertools.html) provides a number of short recipes for additional functions using two or three of the basic module functions in combination. *Be aware that it is easy to get these recipes subtly wrong*. The third-party module `more_itertools` provides additional functions that are likewise designed to avoid common pitfalls and edge cases.\n",
    "\n",
    "The basic goal of using the building blocks inside `itertools` is to avoid performing computations before they are required, to avoid the memory requirements of large collections, to avoid potentially slow I/O until strictly necessary, and so on. Iterators are lazy sequences rather than realized collections; when combined with functions or recipes in `itertools`, they retain this property."
   ]
  },
  {
   "cell_type": "code",
   "execution_count": 1,
   "metadata": {},
   "outputs": [],
   "source": [
    "from itertools import (\n",
    "    accumulate, \n",
    "    count,\n",
    "    tee,\n",
    "    takewhile, \n",
    "    dropwhile, \n",
    "    islice, \n",
    "    cycle\n",
    ")\n",
    "from math import inf, sqrt, log, isclose"
   ]
  },
  {
   "cell_type": "markdown",
   "metadata": {},
   "source": [
    "The built-in functions `zip()`, `enumerate()`, `filter()`, `range()`, and `map()` can be consided \"honorary itertools\" since they can also work with infinite or lazy iterators.  Built-ins like `all()`, `any()`, `sum()`, `min()`, `max()`, and `functools.reduce()` also act on iterables, but all of them, in the general case, need to exhaust the iterator rather than remain lazy."
   ]
  },
  {
   "cell_type": "markdown",
   "metadata": {},
   "source": [
    "## Massaging infinite streams of data"
   ]
  },
  {
   "cell_type": "markdown",
   "metadata": {},
   "source": [
    "Let's create an infinite sequence similar to the primes from the last lesson.  Unlike primes, the Fibonacci sequence requires very little state (i.e. a list of primes found already), only the last two numbers of the sequence.  But like primes, it is an infinite sequence of numbers.\n",
    "\n",
    "For this implementation, we build in an optional stopping point to more easily get just a finite number of them."
   ]
  },
  {
   "cell_type": "code",
   "execution_count": 2,
   "metadata": {},
   "outputs": [],
   "source": [
    "def fibonacci(max=inf, a=1, b=2):\n",
    "    while a < max:\n",
    "        yield a\n",
    "        a, b = b, a+b"
   ]
  },
  {
   "cell_type": "code",
   "execution_count": 3,
   "metadata": {},
   "outputs": [
    {
     "name": "stdout",
     "output_type": "stream",
     "text": [
      "Sequence 0; Fib=1\n",
      "Sequence 1; Fib=2\n",
      "Sequence 2; Fib=3\n",
      "Sequence 3; Fib=5\n",
      "Sequence 4; Fib=8\n",
      "Sequence 5; Fib=13\n",
      "Sequence 6; Fib=21\n",
      "Sequence 7; Fib=34\n",
      "Sequence 8; Fib=55\n",
      "Sequence 9; Fib=89\n"
     ]
    }
   ],
   "source": [
    "for n, f in zip(range(10), fibonacci()):\n",
    "    print(f\"Sequence {n}; Fib={f}\")"
   ]
  },
  {
   "cell_type": "code",
   "execution_count": 4,
   "metadata": {},
   "outputs": [
    {
     "name": "stdout",
     "output_type": "stream",
     "text": [
      "0.0\n",
      "0.6931471805599453\n",
      "1.0986122886681098\n",
      "1.6094379124341003\n",
      "2.0794415416798357\n",
      "2.5649493574615367\n",
      "3.044522437723423\n",
      "3.5263605246161616\n",
      "4.007333185232471\n"
     ]
    }
   ],
   "source": [
    "for f_ln in map(log, fibonacci(max=60)):\n",
    "    print(f_ln)"
   ]
  },
  {
   "cell_type": "code",
   "execution_count": 5,
   "metadata": {},
   "outputs": [
    {
     "data": {
      "text/plain": [
       "<map at 0x23c6caefdf0>"
      ]
     },
     "execution_count": 5,
     "metadata": {},
     "output_type": "execute_result"
    }
   ],
   "source": [
    "map(log, fibonacci(max=60))"
   ]
  },
  {
   "cell_type": "markdown",
   "metadata": {},
   "source": [
    "## Combining tools"
   ]
  },
  {
   "cell_type": "markdown",
   "metadata": {},
   "source": [
    "Here is a quick example of combining a few itertools functions. Let's keep a running sum of sum arbitrary iterator. We can create a single lazy iterator to generate both the current number and this sum."
   ]
  },
  {
   "cell_type": "code",
   "execution_count": 6,
   "metadata": {},
   "outputs": [],
   "source": [
    "def item_with_total(iterable):\n",
    "    \"Generically transform a stream of numbers into (n, num, running_sum)\"\n",
    "    s, t = tee(iterable)   # unpacking tuples\n",
    "    yield from zip(count(), t, accumulate(s)) "
   ]
  },
  {
   "cell_type": "markdown",
   "metadata": {},
   "source": [
    "This new construct `yield from` is equivalent to:\n",
    "\n",
    "```python\n",
    "for n, item, total in zip(count(), t, accumulate(s)):\n",
    "    yield n, item, total\n",
    "```"
   ]
  },
  {
   "cell_type": "markdown",
   "metadata": {},
   "source": [
    "We can apply our new generator function, `item_with_total()` to an arbitrary numeric iterable."
   ]
  },
  {
   "cell_type": "code",
   "execution_count": 7,
   "metadata": {},
   "outputs": [
    {
     "name": "stdout",
     "output_type": "stream",
     "text": [
      "  1. Item: 101; Total: 101\n",
      "  2. Item: 102; Total: 203\n",
      "  3. Item: 103; Total: 306\n",
      "  4. Item: 104; Total: 410\n",
      "  5. Item: 105; Total: 515\n",
      "  6. Item: 106; Total: 621\n",
      "  7. Item: 107; Total: 728\n",
      "  8. Item: 108; Total: 836\n",
      "  9. Item: 109; Total: 945\n"
     ]
    }
   ],
   "source": [
    "for n, item, total in item_with_total(range(101, 110)):\n",
    "    print(\"%3d. Item: %3d; Total: %3d\" % (n+1, item, total))"
   ]
  },
  {
   "cell_type": "code",
   "execution_count": 8,
   "metadata": {},
   "outputs": [
    {
     "name": "stdout",
     "output_type": "stream",
     "text": [
      "  1. Item:  37; Total:  37\n",
      "  2. Item:  45; Total:  82\n",
      "  3. Item:  22; Total: 104\n",
      "  4. Item:  11; Total: 115\n",
      "  5. Item:  86; Total: 201\n",
      "  6. Item:  51; Total: 252\n"
     ]
    }
   ],
   "source": [
    "for n, item, total in item_with_total([37, 45, 22, 11, 86, 51]):\n",
    "    print(\"%3d. Item: %3d; Total: %3d\" % (n+1, item, total))"
   ]
  },
  {
   "cell_type": "code",
   "execution_count": 9,
   "metadata": {},
   "outputs": [
    {
     "name": "stdout",
     "output_type": "stream",
     "text": [
      "  1. Item:   1; Total:   1\n",
      "  2. Item:   2; Total:   3\n",
      "  3. Item:   3; Total:   6\n",
      "  4. Item:   5; Total:  11\n",
      "  5. Item:   8; Total:  19\n",
      "  6. Item:  13; Total:  32\n",
      "  7. Item:  21; Total:  53\n",
      "  8. Item:  34; Total:  87\n",
      "  9. Item:  55; Total: 142\n"
     ]
    }
   ],
   "source": [
    "for n, fib, total in item_with_total(fibonacci(60)):\n",
    "    print(\"%3d. Item: %3d; Total: %3d\" % (n+1, fib, total))"
   ]
  },
  {
   "cell_type": "code",
   "execution_count": 10,
   "metadata": {},
   "outputs": [
    {
     "data": {
      "text/plain": [
       "<generator object item_with_total at 0x0000023C6CC08C80>"
      ]
     },
     "execution_count": 10,
     "metadata": {},
     "output_type": "execute_result"
    }
   ],
   "source": [
    "item_with_total(fibonacci(60))"
   ]
  },
  {
   "cell_type": "markdown",
   "metadata": {},
   "source": [
    "## Infinite sequences for convergent sums"
   ]
  },
  {
   "cell_type": "markdown",
   "metadata": {},
   "source": [
    "Below, we represent a common alternating series whose sum converges to $\\ln(2)$.  The sequence by itself is similar to those we have seen for Fibonacci numbers or primes.  But we can use `itertools` to do more with it.\n",
    "\n",
    "$\\ln(2) = \\frac{1}{1} - \\frac{1}{2} + \\frac{1}{3} - \\frac{1}{4} + \\frac{1}{5} - \\cdots $"
   ]
  },
  {
   "cell_type": "code",
   "execution_count": 11,
   "metadata": {},
   "outputs": [],
   "source": [
    "def ln2_terms():\n",
    "    sign = 1.\n",
    "    for denom in count(1):\n",
    "        yield sign/denom\n",
    "        sign *= -1"
   ]
  },
  {
   "cell_type": "code",
   "execution_count": 12,
   "metadata": {},
   "outputs": [
    {
     "data": {
      "text/plain": [
       "(0.6931471805599453,\n",
       " [1.0, -0.5, 0.3333333333333333, -0.25, 0.2, -0.16666666666666666])"
      ]
     },
     "execution_count": 12,
     "metadata": {},
     "output_type": "execute_result"
    }
   ],
   "source": [
    "log(2), list(islice(ln2_terms(), 0, 6))"
   ]
  },
  {
   "cell_type": "markdown",
   "metadata": {},
   "source": [
    "We can rephrase this function a bit more concisely and idiomatically (should be slightly faster also)."
   ]
  },
  {
   "cell_type": "code",
   "execution_count": 13,
   "metadata": {},
   "outputs": [
    {
     "data": {
      "text/plain": [
       "[1.0, -0.5, 0.3333333333333333, -0.25, 0.2, -0.16666666666666666]"
      ]
     },
     "execution_count": 13,
     "metadata": {},
     "output_type": "execute_result"
    }
   ],
   "source": [
    "def ln2_terms():\n",
    "    for denom, sign in enumerate(cycle([1.,-1.]), 1):\n",
    "        yield sign/denom\n",
    "\n",
    "list(islice(ln2_terms(), 0, 6))"
   ]
  },
  {
   "cell_type": "markdown",
   "metadata": {},
   "source": [
    "We might also spell this using (an infinite) generator comprehension."
   ]
  },
  {
   "cell_type": "code",
   "execution_count": 14,
   "metadata": {},
   "outputs": [
    {
     "data": {
      "text/plain": [
       "[1.0, -0.5, 0.3333333333333333, -0.25, 0.2, -0.16666666666666666]"
      ]
     },
     "execution_count": 14,
     "metadata": {},
     "output_type": "execute_result"
    }
   ],
   "source": [
    "terms = (sign/denom for (denom, sign) in enumerate(cycle([1.,-1.]), 1))\n",
    "list(islice(terms, 0, 6))"
   ]
  },
  {
   "cell_type": "code",
   "execution_count": 15,
   "metadata": {},
   "outputs": [
    {
     "data": {
      "text/plain": [
       "<generator object <genexpr> at 0x0000023C6CC09230>"
      ]
     },
     "execution_count": 15,
     "metadata": {},
     "output_type": "execute_result"
    }
   ],
   "source": [
    "(sign/denom for (denom, sign) in enumerate(cycle([1.,-1.]), 1))"
   ]
  },
  {
   "cell_type": "markdown",
   "metadata": {},
   "source": [
    "### Measure convergence\n",
    "\n",
    "We can use a bit of functional style to define a few convenience functions."
   ]
  },
  {
   "cell_type": "code",
   "execution_count": 16,
   "metadata": {},
   "outputs": [
    {
     "data": {
      "text/plain": [
       "False"
      ]
     },
     "execution_count": 16,
     "metadata": {},
     "output_type": "execute_result"
    }
   ],
   "source": [
    "from functools import partial\n",
    "close_to_ln2 = partial(isclose, log(2), rel_tol=0.01)\n",
    "close_to_ln2(0.8)"
   ]
  },
  {
   "cell_type": "code",
   "execution_count": 17,
   "metadata": {},
   "outputs": [
    {
     "data": {
      "text/plain": [
       "True"
      ]
     },
     "execution_count": 17,
     "metadata": {},
     "output_type": "execute_result"
    }
   ],
   "source": [
    "close_to_ln2(0.6931)"
   ]
  },
  {
   "cell_type": "code",
   "execution_count": 18,
   "metadata": {},
   "outputs": [
    {
     "data": {
      "text/plain": [
       "True"
      ]
     },
     "execution_count": 18,
     "metadata": {},
     "output_type": "execute_result"
    }
   ],
   "source": [
    "far_from_ln2 = lambda x: not close_to_ln2(x)\n",
    "far_from_ln2(0.8)"
   ]
  },
  {
   "cell_type": "code",
   "execution_count": 19,
   "metadata": {},
   "outputs": [
    {
     "name": "stdout",
     "output_type": "stream",
     "text": [
      "1.0\n",
      "0.5\n",
      "0.8333333333333333\n",
      "0.5833333333333333\n",
      "0.7833333333333332\n",
      "0.6166666666666666\n",
      "0.7595238095238095\n",
      "0.6345238095238095\n",
      "0.7456349206349207\n",
      "0.6456349206349207\n",
      "0.7365440115440116\n",
      "0.6532106782106782\n",
      "0.7301337551337552\n",
      "0.6587051837051838\n",
      "0.7253718503718505\n",
      "0.6628718503718505\n",
      "0.7216953797836152\n",
      "0.6661398242280596\n",
      "0.718771403175428\n",
      "0.6687714031754279\n",
      "0.7163904507944756\n",
      "0.6709359053399302\n",
      "0.7144141662094954\n",
      "0.6727474995428288\n",
      "0.7127474995428288\n",
      "0.6742859610812904\n",
      "0.7113229981183273\n",
      "0.6756087124040416\n",
      "0.7100914710247312\n",
      "0.6767581376913979\n",
      "0.7090162022075269\n",
      "0.6777662022075269\n",
      "0.7080692325105572\n",
      "0.6786574678046748\n",
      "0.7072288963761034\n",
      "0.6794511185983256\n",
      "0.7064781456253526\n",
      "0.6801623561516684\n",
      "0.7058033817926941\n",
      "0.6808033817926941\n",
      "0.7051936256951331\n",
      "0.6813841018856093\n",
      "0.7046399158390977\n",
      "0.681912643111825\n",
      "0.7041348653340472\n",
      "0.6823957348992646\n",
      "0.7036723306439455\n",
      "0.6828389973106122\n",
      "0.7032471605759183\n",
      "0.6832471605759183\n",
      "0.7028550037131732\n",
      "0.683624234482404\n",
      "0.7024921590107058\n",
      "0.6839736404921873\n",
      "0.7021554586740055\n",
      "0.6842983158168626\n",
      "0.7018421754659854\n",
      "0.6846007961556405\n",
      "0.7015499486980133\n",
      "0.6848832820313466\n",
      "0.7012767246542975\n",
      "0.685147692396233\n",
      "0.7010207082692488\n",
      "0.6853957082692488\n",
      "0.7007803236538641\n",
      "0.685628808502349\n",
      "0.7005541816366774\n",
      "0.6858482992837363\n",
      "0.7003410529069246\n",
      "0.6860553386212104\n"
     ]
    }
   ],
   "source": [
    "running_sum = accumulate(ln2_terms())\n",
    "for x in takewhile(far_from_ln2, running_sum):\n",
    "    print(x)"
   ]
  },
  {
   "cell_type": "markdown",
   "metadata": {},
   "source": [
    "Actually, that does not converge all that quickly!  The default delta of `1e-09` for `isclose` takes quite a lot of elements before it reaches floating point maximum accuracy.  How many exactly?"
   ]
  },
  {
   "cell_type": "code",
   "execution_count": 20,
   "metadata": {},
   "outputs": [
    {
     "data": {
      "text/plain": [
       "[(721346, 0.6931478737072213),\n",
       " (721347, 0.6931464874137818),\n",
       " (721348, 0.6931478737052995)]"
      ]
     },
     "execution_count": 20,
     "metadata": {},
     "output_type": "execute_result"
    }
   ],
   "source": [
    "def val_not_close_to(target, rel_tol):\n",
    "    def compare(tup):\n",
    "        return not isclose(target, tup[1], rel_tol=rel_tol)\n",
    "    return compare\n",
    "\n",
    "# Use dropwhile() to exhaust some elements from infinite sequence\n",
    "close_nums = dropwhile(val_not_close_to(log(2), 1e-6), \n",
    "                       enumerate(accumulate(ln2_terms())))\n",
    "list(islice(close_nums, 0, 3))"
   ]
  },
  {
   "cell_type": "code",
   "execution_count": 21,
   "metadata": {},
   "outputs": [
    {
     "data": {
      "text/plain": [
       "[(721349, 0.6931464874157036),\n",
       " (721350, 0.6931478737033777),\n",
       " (721351, 0.6931464874176254)]"
      ]
     },
     "execution_count": 21,
     "metadata": {},
     "output_type": "execute_result"
    }
   ],
   "source": [
    "list(islice(close_nums, 0, 3))"
   ]
  },
  {
   "cell_type": "code",
   "execution_count": 22,
   "metadata": {},
   "outputs": [
    {
     "data": {
      "text/plain": [
       "(721352, 0.6931478737014559)"
      ]
     },
     "execution_count": 22,
     "metadata": {},
     "output_type": "execute_result"
    }
   ],
   "source": [
    "next(close_nums)"
   ]
  },
  {
   "cell_type": "code",
   "execution_count": 23,
   "metadata": {},
   "outputs": [
    {
     "name": "stdout",
     "output_type": "stream",
     "text": [
      "CPU times: total: 0 ns\n",
      "Wall time: 0 ns\n"
     ]
    },
    {
     "data": {
      "text/plain": [
       "<itertools.dropwhile at 0x23c6c641140>"
      ]
     },
     "execution_count": 23,
     "metadata": {},
     "output_type": "execute_result"
    }
   ],
   "source": [
    "%%time\n",
    "# Let's get something more precise than 1-in-millionth error\n",
    "# ... it'll take a while!\n",
    "within_e8 = dropwhile(val_not_close_to(log(2), 1e-8), \n",
    "                      enumerate(accumulate(ln2_terms())))\n",
    "within_e8"
   ]
  },
  {
   "cell_type": "code",
   "execution_count": 24,
   "metadata": {},
   "outputs": [
    {
     "name": "stdout",
     "output_type": "stream",
     "text": [
      "CPU times: total: 31.2 s\n",
      "Wall time: 32.2 s\n"
     ]
    },
    {
     "data": {
      "text/plain": [
       "(72131429, 0.6931471736284736)"
      ]
     },
     "execution_count": 24,
     "metadata": {},
     "output_type": "execute_result"
    }
   ],
   "source": [
    "%time next(within_e8)"
   ]
  },
  {
   "cell_type": "code",
   "execution_count": 25,
   "metadata": {},
   "outputs": [
    {
     "name": "stdout",
     "output_type": "stream",
     "text": [
      "CPU times: total: 0 ns\n",
      "Wall time: 0 ns\n"
     ]
    },
    {
     "data": {
      "text/plain": [
       "(72131430, 0.6931471874920554)"
      ]
     },
     "execution_count": 25,
     "metadata": {},
     "output_type": "execute_result"
    }
   ],
   "source": [
    "%time next(within_e8)"
   ]
  },
  {
   "cell_type": "markdown",
   "metadata": {},
   "source": [
    "Probably time to hit our math textbooks to find a faster convergence if we want a 1-in-a-billionth error.  Clearly the `math` module has a faster method of taking natural logs."
   ]
  },
  {
   "cell_type": "markdown",
   "metadata": {},
   "source": [
    "# Exercise"
   ]
  },
  {
   "cell_type": "markdown",
   "metadata": {},
   "source": [
    "## Description"
   ]
  },
  {
   "cell_type": "markdown",
   "metadata": {},
   "source": [
    "In this exercise, you should write a function called `merge()` that takes N iterables (each potentially infinite), each of whose iterators yields elements in sorted order (you can rely on that assumption for this exercise).  Your function should produce a new iterator that returns elements in sorted order overall.  If duplicates occur between the iterators (or within one), they should be returned multiple times.\n",
    "\n",
    "As a motivation for this function, imagine that you have many log files on your system, each of which begins with a timestamp.  You could use this function to order all events from all processes.  Of course, different processes might write different messages at an identical timestamp, and preserving all is relevant.  Moreover, log files can continue to accumulate new records, and this iterator might run forever, monitoring all of them.  In the hypothetical, of course, \"sorted order\" would simply mean \"sorted by first timestamp field.\"\n",
    "\n",
    "For this exercise, I provide moderate sized alphabetical wordlists of French, Spanish, and Danish.  Some words occur across multiple languages.  Assuming you open each wordlist as an iterable, your function might produce this:\n",
    "\n",
    "```python\n",
    ">>> for word in islice(merge(fr, es, da), 15):\n",
    "...     print(word)\n",
    "a\n",
    "aaronico\n",
    "ab\n",
    "ababillar\n",
    "abaceria\n",
    "abacero\n",
    "abaco\n",
    "abad\n",
    "abadejo\n",
    "abadengo\n",
    "abadernar\n",
    "abadesa\n",
    "abadia\n",
    "abadiato\n",
    "abaisse\n",
    "```\n",
    "\n",
    "**Note**: As you practice, you may use up elements from one or more of the gzip iterators.  Opening them anew will reset the iterables.\n",
    "\n",
    "**Note 2**: The sort order of words is dependent on your locale, so I have stripped all the words using letters outside the ASCII range in these word lists.  This will assure the same sorting in every locale. Apologies to speakers of those languages who are fond of words removed in the samples."
   ]
  },
  {
   "cell_type": "markdown",
   "metadata": {},
   "source": [
    "## Setup"
   ]
  },
  {
   "cell_type": "code",
   "execution_count": 26,
   "metadata": {},
   "outputs": [],
   "source": [
    "from itertools import *\n",
    "import gzip\n",
    "\n",
    "da = gzip.open('wordlist-da.txt.gz', 'rt')\n",
    "es = gzip.open('wordlist-es.txt.gz', 'rt')\n",
    "fr = gzip.open('wordlist-fr.txt.gz', 'rt')\n",
    "langs = [da, es, fr]\n",
    "\n",
    "def merge(*langs):\n",
    "    return ['a', 'aaronico', 'ab', 'ababillar', 'tanga']"
   ]
  },
  {
   "cell_type": "markdown",
   "metadata": {},
   "source": [
    "## Solution"
   ]
  },
  {
   "cell_type": "code",
   "execution_count": 27,
   "metadata": {},
   "outputs": [],
   "source": [
    "from functools import total_ordering\n",
    "\n",
    "# Define a value greater than all others\n",
    "@total_ordering\n",
    "class Top:\n",
    "    def __eq__(self, other):\n",
    "        return False\n",
    "    def __gt__(self, other):\n",
    "        return True\n",
    "\n",
    "# Define a value smaller than all others\n",
    "@total_ordering\n",
    "class Floor:\n",
    "    def __eq__(self, other):\n",
    "        return False\n",
    "    def __lt__(self, other):\n",
    "        return True\n",
    "\n",
    "top = Top()\n",
    "floor = Floor()\n",
    "    \n",
    "def merge2(a_iter, b_iter):\n",
    "    topless = lambda x: x is not top and x is not floor\n",
    "    todo = []\n",
    "    a, b = floor, floor\n",
    "    while a is not top or b is not top:\n",
    "        a = next(a_iter, top)\n",
    "        todo.append(a)\n",
    "        for b0 in b_iter:\n",
    "            todo.append(b0)\n",
    "            if b0 > a: break\n",
    "\n",
    "        # Sort and yield the (mostly sorted) temporary accumulation\n",
    "        # Possible to overshoot by one, so keep last thing in todo\n",
    "        todo.sort()\n",
    "        yield from filter(topless, iter(todo[:-1]))\n",
    "        todo = todo[-1:]\n",
    "\n",
    "        # Equivalent for a_iter as above with b_iter\n",
    "        b = next(b_iter, top)\n",
    "        todo.append(b)\n",
    "        for a0 in a_iter:\n",
    "            todo.append(a0)\n",
    "            if a0 > b: break\n",
    "        todo.sort()\n",
    "        yield from filter(topless, iter(todo[:-1]))\n",
    "        todo = todo[-1:]\n",
    "                \n",
    "def merge(*iters):\n",
    "    all_ = merge2(*iters[:2])\n",
    "    for it in iters[2:]:\n",
    "        all_ = merge2(all_, it)\n",
    "    return all_"
   ]
  },
  {
   "cell_type": "markdown",
   "metadata": {},
   "source": [
    "## Test Cases"
   ]
  },
  {
   "cell_type": "code",
   "execution_count": 28,
   "metadata": {},
   "outputs": [],
   "source": [
    "def test_iter():\n",
    "    from typing import Iterable, Iterator\n",
    "    assert isinstance(merge(da, es, fr), Iterable)\n",
    "    assert isinstance(iter(merge(da, es, fr)), Iterator)\n",
    "    \n",
    "test_iter()"
   ]
  },
  {
   "cell_type": "code",
   "execution_count": 29,
   "metadata": {},
   "outputs": [],
   "source": [
    "def test_merge2():\n",
    "    da = gzip.open('wordlist-da.txt.gz', 'rt')\n",
    "    fr = gzip.open('wordlist-fr.txt.gz', 'rt')\n",
    "    merged = merge(da, fr)\n",
    "    premerged = gzip.open('wordlist-dafr.txt.gz', 'rt')\n",
    "    # Extra LFs ignored for test\n",
    "    for a, b in zip_longest(merged, premerged):\n",
    "        a, b = a.rstrip(), b.rstrip()\n",
    "        assert a == b, f\"Merged {a} does not match {b}\"\n",
    "    \n",
    "test_merge2()"
   ]
  },
  {
   "cell_type": "code",
   "execution_count": 30,
   "metadata": {},
   "outputs": [],
   "source": [
    "def test_merge3():\n",
    "    da = map(str.rstrip, gzip.open('wordlist-da.txt.gz', 'rt'))\n",
    "    es = map(str.rstrip, gzip.open('wordlist-es.txt.gz', 'rt'))\n",
    "    fr = map(str.rstrip, gzip.open('wordlist-fr.txt.gz', 'rt'))\n",
    "    merged = merge(da, es, fr)\n",
    "    premerged = map(str.rstrip, gzip.open('wordlist-fresda.txt.gz', 'rt'))\n",
    "    for a, b in zip_longest(merged, premerged):\n",
    "        assert a == b, f\"Merged {a} does not match {b}\"\n",
    "    \n",
    "test_merge3()"
   ]
  },
  {
   "cell_type": "markdown",
   "metadata": {},
   "source": [
    "-------------\n",
    "Materials licensed under [CC BY-NC-ND 4.0](https://creativecommons.org/licenses/by-nc-nd/4.0/) by the authors"
   ]
  }
 ],
 "metadata": {
  "kernelspec": {
   "display_name": "Python 3 (ipykernel)",
   "language": "python",
   "name": "python3"
  },
  "language_info": {
   "codemirror_mode": {
    "name": "ipython",
    "version": 3
   },
   "file_extension": ".py",
   "mimetype": "text/x-python",
   "name": "python",
   "nbconvert_exporter": "python",
   "pygments_lexer": "ipython3",
   "version": "3.10.7"
  }
 },
 "nbformat": 4,
 "nbformat_minor": 4
}
