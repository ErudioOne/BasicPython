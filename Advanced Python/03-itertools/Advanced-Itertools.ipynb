{
 "cells": [
  {
   "cell_type": "markdown",
   "metadata": {},
   "source": [
    "![Erudio logo](../../img/erudio-logo-small.png)"
   ]
  },
  {
   "cell_type": "markdown",
   "metadata": {},
   "source": [
    "# More Itertools\n",
    "\n",
    "In this lesson we continue to explore combining iterators, both using additional capabilities in `itertools`, and a few extras utilizing the 3rd party `more-itertools` module that adds additional useful function.  There are a number of short \"recipes\" in the official documentation of `itertools`—all of these recipes, along with numerous other functions, are included in `more_itertools`."
   ]
  },
  {
   "cell_type": "code",
   "execution_count": 2,
   "metadata": {},
   "outputs": [
    {
     "name": "stdout",
     "output_type": "stream",
     "text": [
      "Collecting more_itertools\n",
      "  Downloading more_itertools-10.2.0-py3-none-any.whl (57 kB)\n",
      "     ---------------------------------------- 57.0/57.0 kB 2.9 MB/s eta 0:00:00\n",
      "Installing collected packages: more_itertools\n",
      "Successfully installed more_itertools-10.2.0\n"
     ]
    },
    {
     "name": "stderr",
     "output_type": "stream",
     "text": [
      "\n",
      "[notice] A new release of pip available: 22.2.2 -> 24.0\n",
      "[notice] To update, run: python.exe -m pip install --upgrade pip\n"
     ]
    }
   ],
   "source": [
    "!pip install more_itertools"
   ]
  },
  {
   "cell_type": "code",
   "execution_count": 3,
   "metadata": {},
   "outputs": [],
   "source": [
    "from itertools import *\n",
    "from more_itertools import *"
   ]
  },
  {
   "cell_type": "markdown",
   "metadata": {},
   "source": [
    "## Run-length encoding\n",
    "\n",
    "Sometimes data can be compressed very time- and memory-efficiently using a technique called *run-length* encoding.  The idea is that certain data sets, the same element may occur numerous times successively.  If so, it can be more compact to represent that as a number counting occurrences, followed by the element that is repeated.  As compression techniques go, this is rarely the most compressed result, although often RLE is combined with other techniques.  Let us implement it in an iterator style to show some of the conciseness of `itertools`."
   ]
  },
  {
   "cell_type": "markdown",
   "metadata": {},
   "source": [
    "As sample data, let us look at a FASTA record of rhibosomal RNA.  If the recurring objects were larger than a single character, RLE would be more significant, but this suffices to demonstrate the concept.  Here is sample sequence:"
   ]
  },
  {
   "cell_type": "code",
   "execution_count": 4,
   "metadata": {},
   "outputs": [],
   "source": [
    "ab000482 = \"\"\"\n",
    "agtttgatcctggctcagaacgaacgctggcggcaggcctaacacatgcaagtcgaggga\n",
    "gaagctatcttcggatnnnnnnnnnnnnnnnnnnnnnnnnnnnnnnnnnnnnnnnnnnnn\n",
    "nnnnnnnnnnnnnnaaacgactgctaataccgcatacgcccttcgggggaaagatttatc\n",
    "gctattcgattggcccgcgttagattagctaagttggtaaggtaacggcttaccaaggcg\n",
    "acgatctatagctggtttgagaggatgatcagccacactgggactgagacacggcccaga\n",
    "ctcctacgggaggcagcagtggggaatattgcgcaatggaggaaactctgacgcagccat\n",
    "gccgcgtgagtgaagaaggccttagggttgtaaagctctttcagacgtgatgaatgatga\n",
    "cagtagcgtcaaaagaagttccggctaaacttcgtgccagcagccgcggtaatacgaagg\n",
    "gaactagcgttgttcggatttactgggcgtaaagagcatgtaggcggattggacagttga\n",
    "gggtgaaatcccagagctcaactctggaacggccttcaatacttccagtctagagtccgt\n",
    "aagggggtggtggaattccgagtgtagaggtgaaattcgtagatattcggaggaacacca\n",
    "gtggcgaaggcgaccacctggtacggtactgacgctgagatgcgaaagcgtggggagcaa\n",
    "acaggattagataccctggtagtccacgccgtaaacgatgagtgctagttgtcaggatgt\n",
    "ttacatcttggtgacgcagctaacgcattaagcactccgcctggggagtacggtcgcaag\n",
    "attaaaactcaaaggaattgacgggggcccgcacaagcggtggagcatgtggtttaattc\n",
    "gaagcaacgcgaagaaccttaccaattcttgacatacctgtcgcgatttccagagatgga\n",
    "tttcttcagttcggctggacaggatacaggtgctgcatggctgtcgtcagctcgtgtcgt\n",
    "gagatgttgggttaagtcccgcaacgagcgcaaccctcacccctagttgccagcatttag\n",
    "ttgggcactctatgggaactgccggtgacaagccggaggaaggtggggatgacgtcaagt\n",
    "catcatggcccttacggattgggctacacacgtgctacaatggtaactacagtgggcagc\n",
    "gacgtcgcgaggcgaagcaaatctccaaaagttatctcagttcggattgttctctgcaac\n",
    "tcgagagcatgaagtcggaatcgcctagtaatcgcggatcagcatgccgcggtgaata\n",
    "\"\"\""
   ]
  },
  {
   "cell_type": "markdown",
   "metadata": {},
   "source": [
    "Let us wrap that slightly to remove the the optional newlines.  This rRNA sample is quite small, but the genes in human DNA, for example are vastly larger (but still of this general form in FASTA format).  An iterator over individual nucleic acids can be constructed as:"
   ]
  },
  {
   "cell_type": "code",
   "execution_count": 5,
   "metadata": {},
   "outputs": [
    {
     "data": {
      "text/plain": [
       "['a', 'g', 'g', 'g', 'a', 'g', 'a', 'a', 'g', 'c']"
      ]
     },
     "execution_count": 5,
     "metadata": {},
     "output_type": "execute_result"
    }
   ],
   "source": [
    "def symbols(fasta):\n",
    "    # Use a generator comprehension\n",
    "    yield from (c for c in fasta if c != '\\n')\n",
    "\n",
    "# A few symbols from first line continuing on second\n",
    "list(islice(symbols(ab000482), 55, 65))"
   ]
  },
  {
   "cell_type": "markdown",
   "metadata": {},
   "source": [
    "A generic RLE encoder can be constructed using `itertools.groupby()` which this thinly wraps.  Notice that we encode incrementally as symbols are read."
   ]
  },
  {
   "cell_type": "code",
   "execution_count": 6,
   "metadata": {},
   "outputs": [],
   "source": [
    "def rle_encode(it):\n",
    "    for k, g in groupby(it):\n",
    "        yield (k, len(list(g)))"
   ]
  },
  {
   "cell_type": "code",
   "execution_count": 7,
   "metadata": {},
   "outputs": [
    {
     "name": "stdout",
     "output_type": "stream",
     "text": [
      "('t', 1) ('c', 1) ('g', 2) ('a', 1) ('t', 1) ('n', 58) ('a', 3) ('c', 1) ('g', 1) ('a', 1) "
     ]
    }
   ],
   "source": [
    "seq = symbols(ab000482)\n",
    "for enc in rle_encode(islice(seq, 70, 140)):\n",
    "    print(enc, end=\" \")"
   ]
  },
  {
   "cell_type": "markdown",
   "metadata": {},
   "source": [
    "We can reverse the encoding be implementing a similarly short function using `itertools.repeat()` and `itertools.chain.from_iterable()`.  Repeating is just yielding the same items back numerous times.  Chaining is interesting.  It allows the lazy combination of as many iterables as you like, the next as soon as the previous one is exhausted.  However, if what you want to chain is not only a handful of named iterables, but rather an iterable of perhaps thousands of millions of iterables, it is impractical to pass these all as explicit arguments.  For example:"
   ]
  },
  {
   "cell_type": "code",
   "execution_count": 8,
   "metadata": {},
   "outputs": [
    {
     "name": "stdout",
     "output_type": "stream",
     "text": [
      "1 2 3 A B C 9 4 2 "
     ]
    }
   ],
   "source": [
    "a = {1, 2, 3}\n",
    "b = \"ABC\"\n",
    "c = [9, 4, 2]\n",
    "for x in chain(a, b, c):\n",
    "    print(x, end=' ')"
   ]
  },
  {
   "cell_type": "code",
   "execution_count": 9,
   "metadata": {},
   "outputs": [
    {
     "name": "stdout",
     "output_type": "stream",
     "text": [
      "1 2 3 A B C 9 4 2 "
     ]
    }
   ],
   "source": [
    "def iter_of_iters():\n",
    "    yield a\n",
    "    yield b\n",
    "    yield c\n",
    "    \n",
    "d = iter_of_iters()\n",
    "    \n",
    "for x in chain.from_iterable(d):\n",
    "    print(x, end=' ')"
   ]
  },
  {
   "cell_type": "markdown",
   "metadata": {},
   "source": [
    "So we can decode incrementally, taking each tuple `(val, ncount)` that we get from RLE encoding."
   ]
  },
  {
   "cell_type": "code",
   "execution_count": 10,
   "metadata": {},
   "outputs": [],
   "source": [
    "def rle_decode(it):\n",
    "    yield from chain.from_iterable(repeat(x, n) for x, n in it)"
   ]
  },
  {
   "cell_type": "code",
   "execution_count": 11,
   "metadata": {},
   "outputs": [
    {
     "name": "stdout",
     "output_type": "stream",
     "text": [
      "<generator object symbols at 0x0000026A57425C40>\n",
      "<generator object rle_encode at 0x0000026A574258C0>\n",
      "<generator object rle_decode at 0x0000026A574259A0>\n"
     ]
    }
   ],
   "source": [
    "seq = symbols(ab000482)\n",
    "encoded = rle_encode(seq)\n",
    "decoded = rle_decode(encoded)\n",
    "print(seq, encoded, decoded, sep='\\n')"
   ]
  },
  {
   "cell_type": "markdown",
   "metadata": {},
   "source": [
    "Looping through decoded should reproduce our original sequence."
   ]
  },
  {
   "cell_type": "code",
   "execution_count": 12,
   "metadata": {},
   "outputs": [
    {
     "name": "stdout",
     "output_type": "stream",
     "text": [
      "agtttgatcctggctcagaacgaacgctggcggcaggcctaacacatgcaagtcgaggga"
     ]
    }
   ],
   "source": [
    "for symbol in islice(decoded, 60):\n",
    "    print(symbol, end='')"
   ]
  },
  {
   "cell_type": "markdown",
   "metadata": {},
   "source": [
    "## Combining iterables\n",
    "\n",
    "Let's build further on the idea of chaining that we saw used in `rle_decode()`.  FASTA files consist of a header line followed by sequence information.  We might have stored millions or billions of these, and wish to process them only incrementally.  For our stipulated purpose, we would like not to read in all at once, nor ever to read in files after a search had found a certain pattern.\n",
    "\n",
    "Combining things we've done, let us identify the first sequence of more than 50 repetitions of the same symbol across a family of separate FASTA files."
   ]
  },
  {
   "cell_type": "code",
   "execution_count": 42,
   "metadata": {},
   "outputs": [
    {
     "data": {
      "text/plain": [
       "Record(metadata='>AB000106_1|Sphingomonas sp.|16S ribosomal RNA', sequence=<generator object symbols at 0x0000026A574B0820>)"
      ]
     },
     "execution_count": 42,
     "metadata": {},
     "output_type": "execute_result"
    }
   ],
   "source": [
    "from glob import glob\n",
    "from collections import namedtuple\n",
    "Record = namedtuple(\"Record\", \"metadata sequence\")\n",
    "\n",
    "def read_fasta(pat):\n",
    "    for fname in glob(pat):\n",
    "        with open(fname) as fasta:\n",
    "            # Return a pair of sequence description and seq as iterator\n",
    "            yield Record(next(fasta).strip(), symbols(fasta.read()))\n",
    "            \n",
    "next(read_fasta(\"data/rRNA*.fasta\"))"
   ]
  },
  {
   "cell_type": "markdown",
   "metadata": {},
   "source": [
    "Let us find those sequences with 30 repeated symbols."
   ]
  },
  {
   "cell_type": "code",
   "execution_count": 14,
   "metadata": {},
   "outputs": [
    {
     "name": "stdout",
     "output_type": "stream",
     "text": [
      ">AB000476_1|Novispirillum itersonii|16S rRNA\n",
      "('n', 34)\n",
      ">AB000477_1|Novispirillum itersonii|16S rRNA\n",
      "('n', 34)\n",
      ">AB000478_1|Novispirillum itersonii|16S rRNA\n",
      "('n', 34)\n",
      ">AB000481_1|Aquaspirillum polymorphum|16S rRNA\n",
      "('n', 99)\n",
      ">AB000482_1|Terasakiella pusilla|16S rRNA\n",
      "('n', 58)\n"
     ]
    }
   ],
   "source": [
    "for record in read_fasta(\"rRNA*.fasta\"):\n",
    "    long_subseq = [enc for enc in rle_encode(record.sequence) if enc[1] >= 30]\n",
    "    if long_subseq:\n",
    "        print(record.metadata)\n",
    "        print(*long_subseq)"
   ]
  },
  {
   "cell_type": "markdown",
   "metadata": {},
   "source": [
    "## Interleaving, tupling, chaining"
   ]
  },
  {
   "cell_type": "markdown",
   "metadata": {},
   "source": [
    "The functions `itertools.chain()` and `itertools.chain.from_iterable()` combine multiple iterables.  Built-in `zip()` and `itertools.zip_longest()` also do this, although in a manner that incrementally advances each iterables.  These are all useful, but sometimes a slightly different way of combining is useful instead.  `more_itertools` provides `interleave()` and `interleave_longest()`.  Let us look at all these options using some some simple collections (iterables).  \n",
    "\n",
    "These all work with iterables in general, including infinite ones. But it is easier to see with small collections."
   ]
  },
  {
   "cell_type": "code",
   "execution_count": 15,
   "metadata": {},
   "outputs": [],
   "source": [
    "a = {1, 2, 3, 4, 5}\n",
    "b = \"ABCD\"\n",
    "c = [99, 88, 77]"
   ]
  },
  {
   "cell_type": "code",
   "execution_count": 16,
   "metadata": {},
   "outputs": [
    {
     "data": {
      "text/plain": [
       "[1, 2, 3, 4, 5, 'A', 'B', 'C', 'D', 99, 88, 77]"
      ]
     },
     "execution_count": 16,
     "metadata": {},
     "output_type": "execute_result"
    }
   ],
   "source": [
    "list(chain(a, b, c))"
   ]
  },
  {
   "cell_type": "code",
   "execution_count": 17,
   "metadata": {},
   "outputs": [
    {
     "data": {
      "text/plain": [
       "[1, 2, 3, 4, 5, 'A', 'B', 'C', 'D', 99, 88, 77]"
      ]
     },
     "execution_count": 17,
     "metadata": {},
     "output_type": "execute_result"
    }
   ],
   "source": [
    "list(chain.from_iterable([a, b, c]))"
   ]
  },
  {
   "cell_type": "code",
   "execution_count": 18,
   "metadata": {},
   "outputs": [
    {
     "data": {
      "text/plain": [
       "[(1, 'A', 99), (2, 'B', 88), (3, 'C', 77)]"
      ]
     },
     "execution_count": 18,
     "metadata": {},
     "output_type": "execute_result"
    }
   ],
   "source": [
    "list(zip(a, b, c))"
   ]
  },
  {
   "cell_type": "code",
   "execution_count": 19,
   "metadata": {},
   "outputs": [
    {
     "data": {
      "text/plain": [
       "[(1, 'A', 99), (2, 'B', 88), (3, 'C', 77), (4, 'D', None), (5, None, None)]"
      ]
     },
     "execution_count": 19,
     "metadata": {},
     "output_type": "execute_result"
    }
   ],
   "source": [
    "list(zip_longest(a, b, c))"
   ]
  },
  {
   "cell_type": "code",
   "execution_count": 20,
   "metadata": {},
   "outputs": [
    {
     "data": {
      "text/plain": [
       "[1, 'A', 99, 2, 'B', 88, 3, 'C', 77]"
      ]
     },
     "execution_count": 20,
     "metadata": {},
     "output_type": "execute_result"
    }
   ],
   "source": [
    "list(interleave(a, b, c))"
   ]
  },
  {
   "cell_type": "code",
   "execution_count": 21,
   "metadata": {},
   "outputs": [
    {
     "data": {
      "text/plain": [
       "[1, 'A', 99, 2, 'B', 88, 3, 'C', 77, 4, 'D', 5]"
      ]
     },
     "execution_count": 21,
     "metadata": {},
     "output_type": "execute_result"
    }
   ],
   "source": [
    "list(interleave_longest(a, b, c))"
   ]
  },
  {
   "cell_type": "markdown",
   "metadata": {},
   "source": [
    "## Combinatorics"
   ]
  },
  {
   "cell_type": "markdown",
   "metadata": {},
   "source": [
    "One of the useful things `itertools` can do is combinatorics on iterators.  In the standard library, this consists of `permutations()`, `combinations()`, Cartesian `product()`, and `combinations_with_replacement()`.  But `more_itertools()` adds a bunch more including (but not limited to) `distinct_permutations()`, `circular_shifts()`, `partitions()`, `set_partitions()`, and `powerset()`.\n",
    "\n",
    "The functions generally consume entire iterators as implemented, and are not suitable for infinite iterators. However, for finite iterators, they provide efficient and *lazy* ways to get arrangements of the source iteration elements."
   ]
  },
  {
   "cell_type": "code",
   "execution_count": 22,
   "metadata": {},
   "outputs": [],
   "source": [
    "a = {1, 2, 3, 4}\n",
    "b = \"ABC\"\n",
    "c = [99, 88]"
   ]
  },
  {
   "cell_type": "markdown",
   "metadata": {},
   "source": [
    "One convenience of Cartesian product is that it can sometimes simplify nested loops."
   ]
  },
  {
   "cell_type": "code",
   "execution_count": 23,
   "metadata": {},
   "outputs": [
    {
     "name": "stdout",
     "output_type": "stream",
     "text": [
      "(1, 'A') (1, 'B') (1, 'C') (2, 'A') (2, 'B') (2, 'C') (3, 'A') (3, 'B') (3, 'C') (4, 'A') (4, 'B') (4, 'C') "
     ]
    }
   ],
   "source": [
    "for prod in product(a, b):\n",
    "    print(prod, end=\" \")"
   ]
  },
  {
   "cell_type": "code",
   "execution_count": 24,
   "metadata": {},
   "outputs": [
    {
     "name": "stdout",
     "output_type": "stream",
     "text": [
      "1A99 1A88 1B99 1B88 1C99 1C88 2A99 2A88 2B99 2B88 2C99 2C88 3A99 3A88 3B99 3B88 3C99 3C88 4A99 4A88 4B99 4B88 4C99 4C88 "
     ]
    }
   ],
   "source": [
    "# Save two nested elements while looking at all combos\n",
    "for i, j, k in product(a, b, c):\n",
    "    print(i, j, k, sep='', end=' ')"
   ]
  },
  {
   "cell_type": "code",
   "execution_count": 25,
   "metadata": {},
   "outputs": [
    {
     "data": {
      "text/plain": [
       "[('A', 'B', 'C'),\n",
       " ('A', 'C', 'B'),\n",
       " ('B', 'A', 'C'),\n",
       " ('B', 'C', 'A'),\n",
       " ('C', 'A', 'B'),\n",
       " ('C', 'B', 'A')]"
      ]
     },
     "execution_count": 25,
     "metadata": {},
     "output_type": "execute_result"
    }
   ],
   "source": [
    "list(permutations(b))"
   ]
  },
  {
   "cell_type": "code",
   "execution_count": 26,
   "metadata": {},
   "outputs": [
    {
     "data": {
      "text/plain": [
       "[('A', 'B'), ('A', 'C'), ('B', 'A'), ('B', 'C'), ('C', 'A'), ('C', 'B')]"
      ]
     },
     "execution_count": 26,
     "metadata": {},
     "output_type": "execute_result"
    }
   ],
   "source": [
    "list(permutations(b, r=2))"
   ]
  },
  {
   "cell_type": "code",
   "execution_count": 27,
   "metadata": {},
   "outputs": [
    {
     "data": {
      "text/plain": [
       "[('A', 'B'), ('A', 'C'), ('B', 'C')]"
      ]
     },
     "execution_count": 27,
     "metadata": {},
     "output_type": "execute_result"
    }
   ],
   "source": [
    "# Not order dependent for distinct combination\n",
    "list(combinations(b, r=2))"
   ]
  },
  {
   "cell_type": "code",
   "execution_count": 28,
   "metadata": {},
   "outputs": [
    {
     "name": "stdout",
     "output_type": "stream",
     "text": [
      "[(), (1,), (2,), (3,), (4,), (1, 2), (1, 3), (1, 4), (2, 3), (2, 4), (3, 4), (1, 2, 3), (1, 2, 4), (1, 3, 4), (2, 3, 4), (1, 2, 3, 4)]\n"
     ]
    }
   ],
   "source": [
    "print(list(powerset(a)))"
   ]
  },
  {
   "cell_type": "markdown",
   "metadata": {},
   "source": [
    "Sometimes you worry about distinctness.  The standard tools only consider distinctness relative to position in an iterator.  Some extra in `more_itertools` also filter by item equality."
   ]
  },
  {
   "cell_type": "code",
   "execution_count": 32,
   "metadata": {},
   "outputs": [
    {
     "name": "stdout",
     "output_type": "stream",
     "text": [
      "210\n"
     ]
    },
    {
     "data": {
      "text/plain": [
       "[('r', 'o', 'b'),\n",
       " ('r', 'o', 'e'),\n",
       " ('r', 'o', 'r'),\n",
       " ('r', 'o', 't'),\n",
       " ('r', 'o', 'o'),\n",
       " ('r', 'b', 'o'),\n",
       " ('r', 'b', 'e'),\n",
       " ('r', 'b', 'r'),\n",
       " ('r', 'b', 't'),\n",
       " ('r', 'b', 'o'),\n",
       " ('r', 'e', 'o'),\n",
       " ('r', 'e', 'b'),\n",
       " ('r', 'e', 'r'),\n",
       " ('r', 'e', 't'),\n",
       " ('r', 'e', 'o'),\n",
       " ('r', 'r', 'o'),\n",
       " ('r', 'r', 'b'),\n",
       " ('r', 'r', 'e'),\n",
       " ('r', 'r', 't'),\n",
       " ('r', 'r', 'o'),\n",
       " ('r', 't', 'o'),\n",
       " ('r', 't', 'b'),\n",
       " ('r', 't', 'e'),\n",
       " ('r', 't', 'r'),\n",
       " ('r', 't', 'o'),\n",
       " ('r', 'o', 'o'),\n",
       " ('r', 'o', 'b'),\n",
       " ('r', 'o', 'e'),\n",
       " ('r', 'o', 'r'),\n",
       " ('r', 'o', 't'),\n",
       " ('o', 'r', 'b'),\n",
       " ('o', 'r', 'e'),\n",
       " ('o', 'r', 'r'),\n",
       " ('o', 'r', 't'),\n",
       " ('o', 'r', 'o'),\n",
       " ('o', 'b', 'r'),\n",
       " ('o', 'b', 'e'),\n",
       " ('o', 'b', 'r'),\n",
       " ('o', 'b', 't'),\n",
       " ('o', 'b', 'o'),\n",
       " ('o', 'e', 'r'),\n",
       " ('o', 'e', 'b'),\n",
       " ('o', 'e', 'r'),\n",
       " ('o', 'e', 't'),\n",
       " ('o', 'e', 'o'),\n",
       " ('o', 'r', 'r'),\n",
       " ('o', 'r', 'b'),\n",
       " ('o', 'r', 'e'),\n",
       " ('o', 'r', 't'),\n",
       " ('o', 'r', 'o'),\n",
       " ('o', 't', 'r'),\n",
       " ('o', 't', 'b'),\n",
       " ('o', 't', 'e'),\n",
       " ('o', 't', 'r'),\n",
       " ('o', 't', 'o'),\n",
       " ('o', 'o', 'r'),\n",
       " ('o', 'o', 'b'),\n",
       " ('o', 'o', 'e'),\n",
       " ('o', 'o', 'r'),\n",
       " ('o', 'o', 't'),\n",
       " ('b', 'r', 'o'),\n",
       " ('b', 'r', 'e'),\n",
       " ('b', 'r', 'r'),\n",
       " ('b', 'r', 't'),\n",
       " ('b', 'r', 'o'),\n",
       " ('b', 'o', 'r'),\n",
       " ('b', 'o', 'e'),\n",
       " ('b', 'o', 'r'),\n",
       " ('b', 'o', 't'),\n",
       " ('b', 'o', 'o'),\n",
       " ('b', 'e', 'r'),\n",
       " ('b', 'e', 'o'),\n",
       " ('b', 'e', 'r'),\n",
       " ('b', 'e', 't'),\n",
       " ('b', 'e', 'o'),\n",
       " ('b', 'r', 'r'),\n",
       " ('b', 'r', 'o'),\n",
       " ('b', 'r', 'e'),\n",
       " ('b', 'r', 't'),\n",
       " ('b', 'r', 'o'),\n",
       " ('b', 't', 'r'),\n",
       " ('b', 't', 'o'),\n",
       " ('b', 't', 'e'),\n",
       " ('b', 't', 'r'),\n",
       " ('b', 't', 'o'),\n",
       " ('b', 'o', 'r'),\n",
       " ('b', 'o', 'o'),\n",
       " ('b', 'o', 'e'),\n",
       " ('b', 'o', 'r'),\n",
       " ('b', 'o', 't'),\n",
       " ('e', 'r', 'o'),\n",
       " ('e', 'r', 'b'),\n",
       " ('e', 'r', 'r'),\n",
       " ('e', 'r', 't'),\n",
       " ('e', 'r', 'o'),\n",
       " ('e', 'o', 'r'),\n",
       " ('e', 'o', 'b'),\n",
       " ('e', 'o', 'r'),\n",
       " ('e', 'o', 't'),\n",
       " ('e', 'o', 'o'),\n",
       " ('e', 'b', 'r'),\n",
       " ('e', 'b', 'o'),\n",
       " ('e', 'b', 'r'),\n",
       " ('e', 'b', 't'),\n",
       " ('e', 'b', 'o'),\n",
       " ('e', 'r', 'r'),\n",
       " ('e', 'r', 'o'),\n",
       " ('e', 'r', 'b'),\n",
       " ('e', 'r', 't'),\n",
       " ('e', 'r', 'o'),\n",
       " ('e', 't', 'r'),\n",
       " ('e', 't', 'o'),\n",
       " ('e', 't', 'b'),\n",
       " ('e', 't', 'r'),\n",
       " ('e', 't', 'o'),\n",
       " ('e', 'o', 'r'),\n",
       " ('e', 'o', 'o'),\n",
       " ('e', 'o', 'b'),\n",
       " ('e', 'o', 'r'),\n",
       " ('e', 'o', 't'),\n",
       " ('r', 'r', 'o'),\n",
       " ('r', 'r', 'b'),\n",
       " ('r', 'r', 'e'),\n",
       " ('r', 'r', 't'),\n",
       " ('r', 'r', 'o'),\n",
       " ('r', 'o', 'r'),\n",
       " ('r', 'o', 'b'),\n",
       " ('r', 'o', 'e'),\n",
       " ('r', 'o', 't'),\n",
       " ('r', 'o', 'o'),\n",
       " ('r', 'b', 'r'),\n",
       " ('r', 'b', 'o'),\n",
       " ('r', 'b', 'e'),\n",
       " ('r', 'b', 't'),\n",
       " ('r', 'b', 'o'),\n",
       " ('r', 'e', 'r'),\n",
       " ('r', 'e', 'o'),\n",
       " ('r', 'e', 'b'),\n",
       " ('r', 'e', 't'),\n",
       " ('r', 'e', 'o'),\n",
       " ('r', 't', 'r'),\n",
       " ('r', 't', 'o'),\n",
       " ('r', 't', 'b'),\n",
       " ('r', 't', 'e'),\n",
       " ('r', 't', 'o'),\n",
       " ('r', 'o', 'r'),\n",
       " ('r', 'o', 'o'),\n",
       " ('r', 'o', 'b'),\n",
       " ('r', 'o', 'e'),\n",
       " ('r', 'o', 't'),\n",
       " ('t', 'r', 'o'),\n",
       " ('t', 'r', 'b'),\n",
       " ('t', 'r', 'e'),\n",
       " ('t', 'r', 'r'),\n",
       " ('t', 'r', 'o'),\n",
       " ('t', 'o', 'r'),\n",
       " ('t', 'o', 'b'),\n",
       " ('t', 'o', 'e'),\n",
       " ('t', 'o', 'r'),\n",
       " ('t', 'o', 'o'),\n",
       " ('t', 'b', 'r'),\n",
       " ('t', 'b', 'o'),\n",
       " ('t', 'b', 'e'),\n",
       " ('t', 'b', 'r'),\n",
       " ('t', 'b', 'o'),\n",
       " ('t', 'e', 'r'),\n",
       " ('t', 'e', 'o'),\n",
       " ('t', 'e', 'b'),\n",
       " ('t', 'e', 'r'),\n",
       " ('t', 'e', 'o'),\n",
       " ('t', 'r', 'r'),\n",
       " ('t', 'r', 'o'),\n",
       " ('t', 'r', 'b'),\n",
       " ('t', 'r', 'e'),\n",
       " ('t', 'r', 'o'),\n",
       " ('t', 'o', 'r'),\n",
       " ('t', 'o', 'o'),\n",
       " ('t', 'o', 'b'),\n",
       " ('t', 'o', 'e'),\n",
       " ('t', 'o', 'r'),\n",
       " ('o', 'r', 'o'),\n",
       " ('o', 'r', 'b'),\n",
       " ('o', 'r', 'e'),\n",
       " ('o', 'r', 'r'),\n",
       " ('o', 'r', 't'),\n",
       " ('o', 'o', 'r'),\n",
       " ('o', 'o', 'b'),\n",
       " ('o', 'o', 'e'),\n",
       " ('o', 'o', 'r'),\n",
       " ('o', 'o', 't'),\n",
       " ('o', 'b', 'r'),\n",
       " ('o', 'b', 'o'),\n",
       " ('o', 'b', 'e'),\n",
       " ('o', 'b', 'r'),\n",
       " ('o', 'b', 't'),\n",
       " ('o', 'e', 'r'),\n",
       " ('o', 'e', 'o'),\n",
       " ('o', 'e', 'b'),\n",
       " ('o', 'e', 'r'),\n",
       " ('o', 'e', 't'),\n",
       " ('o', 'r', 'r'),\n",
       " ('o', 'r', 'o'),\n",
       " ('o', 'r', 'b'),\n",
       " ('o', 'r', 'e'),\n",
       " ('o', 'r', 't'),\n",
       " ('o', 't', 'r'),\n",
       " ('o', 't', 'o'),\n",
       " ('o', 't', 'b'),\n",
       " ('o', 't', 'e'),\n",
       " ('o', 't', 'r')]"
      ]
     },
     "execution_count": 32,
     "metadata": {},
     "output_type": "execute_result"
    }
   ],
   "source": [
    "three_letters = list(permutations('roberto', r=3))\n",
    "print(len(three_letters))\n",
    "three_letters"
   ]
  },
  {
   "cell_type": "code",
   "execution_count": 33,
   "metadata": {},
   "outputs": [
    {
     "name": "stdout",
     "output_type": "stream",
     "text": [
      "84\n"
     ]
    },
    {
     "data": {
      "text/plain": [
       "[('b', 'e', 'o'),\n",
       " ('b', 'e', 'r'),\n",
       " ('b', 'e', 't'),\n",
       " ('b', 'o', 'e'),\n",
       " ('b', 'o', 'o'),\n",
       " ('b', 'o', 'r'),\n",
       " ('b', 'o', 't'),\n",
       " ('b', 'r', 'e'),\n",
       " ('b', 'r', 'o'),\n",
       " ('b', 'r', 'r'),\n",
       " ('b', 'r', 't'),\n",
       " ('b', 't', 'e'),\n",
       " ('b', 't', 'o'),\n",
       " ('b', 't', 'r'),\n",
       " ('e', 'b', 'o'),\n",
       " ('e', 'b', 'r'),\n",
       " ('e', 'b', 't'),\n",
       " ('e', 'o', 'b'),\n",
       " ('e', 'o', 'o'),\n",
       " ('e', 'o', 'r'),\n",
       " ('e', 'o', 't'),\n",
       " ('e', 'r', 'b'),\n",
       " ('e', 'r', 'o'),\n",
       " ('e', 'r', 'r'),\n",
       " ('e', 'r', 't'),\n",
       " ('e', 't', 'b'),\n",
       " ('e', 't', 'o'),\n",
       " ('e', 't', 'r'),\n",
       " ('o', 'b', 'e'),\n",
       " ('o', 'b', 'o'),\n",
       " ('o', 'b', 'r'),\n",
       " ('o', 'b', 't'),\n",
       " ('o', 'e', 'b'),\n",
       " ('o', 'e', 'o'),\n",
       " ('o', 'e', 'r'),\n",
       " ('o', 'e', 't'),\n",
       " ('o', 'o', 'b'),\n",
       " ('o', 'o', 'e'),\n",
       " ('o', 'o', 'r'),\n",
       " ('o', 'o', 't'),\n",
       " ('o', 'r', 'b'),\n",
       " ('o', 'r', 'e'),\n",
       " ('o', 'r', 'o'),\n",
       " ('o', 'r', 'r'),\n",
       " ('o', 'r', 't'),\n",
       " ('o', 't', 'b'),\n",
       " ('o', 't', 'e'),\n",
       " ('o', 't', 'o'),\n",
       " ('o', 't', 'r'),\n",
       " ('r', 'b', 'e'),\n",
       " ('r', 'b', 'o'),\n",
       " ('r', 'b', 'r'),\n",
       " ('r', 'b', 't'),\n",
       " ('r', 'e', 'b'),\n",
       " ('r', 'e', 'o'),\n",
       " ('r', 'e', 'r'),\n",
       " ('r', 'e', 't'),\n",
       " ('r', 'o', 'b'),\n",
       " ('r', 'o', 'e'),\n",
       " ('r', 'o', 'o'),\n",
       " ('r', 'o', 'r'),\n",
       " ('r', 'o', 't'),\n",
       " ('r', 'r', 'b'),\n",
       " ('r', 'r', 'e'),\n",
       " ('r', 'r', 'o'),\n",
       " ('r', 'r', 't'),\n",
       " ('r', 't', 'b'),\n",
       " ('r', 't', 'e'),\n",
       " ('r', 't', 'o'),\n",
       " ('r', 't', 'r'),\n",
       " ('t', 'b', 'e'),\n",
       " ('t', 'b', 'o'),\n",
       " ('t', 'b', 'r'),\n",
       " ('t', 'e', 'b'),\n",
       " ('t', 'e', 'o'),\n",
       " ('t', 'e', 'r'),\n",
       " ('t', 'o', 'b'),\n",
       " ('t', 'o', 'e'),\n",
       " ('t', 'o', 'o'),\n",
       " ('t', 'o', 'r'),\n",
       " ('t', 'r', 'b'),\n",
       " ('t', 'r', 'e'),\n",
       " ('t', 'r', 'o'),\n",
       " ('t', 'r', 'r')]"
      ]
     },
     "execution_count": 33,
     "metadata": {},
     "output_type": "execute_result"
    }
   ],
   "source": [
    "three_distinct = list(distinct_permutations('roberto', r=3))\n",
    "print(len(three_distinct))\n",
    "three_distinct"
   ]
  },
  {
   "cell_type": "markdown",
   "metadata": {},
   "source": [
    "Partitions can also be handy at times (from `more_itertools`):"
   ]
  },
  {
   "cell_type": "code",
   "execution_count": 31,
   "metadata": {},
   "outputs": [
    {
     "name": "stdout",
     "output_type": "stream",
     "text": [
      "mertz : \n",
      "m : ertz : \n",
      "me : rtz : \n",
      "mer : tz : \n",
      "mert : z : \n",
      "m : e : rtz : \n",
      "m : er : tz : \n",
      "m : ert : z : \n",
      "me : r : tz : \n",
      "me : rt : z : \n",
      "mer : t : z : \n",
      "m : e : r : tz : \n",
      "m : e : rt : z : \n",
      "m : er : t : z : \n",
      "me : r : t : z : \n",
      "m : e : r : t : z : \n"
     ]
    }
   ],
   "source": [
    "for part in partitions('mertz'):\n",
    "    for segment in part:\n",
    "        print(''.join(segment), end=' : ')\n",
    "    print()"
   ]
  },
  {
   "cell_type": "markdown",
   "metadata": {},
   "source": [
    "Simple partitions are order preserving, but set partitions can rearrange before partitioning (and hence there are many more)."
   ]
  },
  {
   "cell_type": "code",
   "execution_count": 34,
   "metadata": {},
   "outputs": [
    {
     "name": "stdout",
     "output_type": "stream",
     "text": [
      "sanchez : \n",
      "s : anchez : \n",
      "sa : nchez : \n",
      "a : snchez : \n",
      "san : chez : \n",
      "an : schez : \n",
      "sn : achez : \n",
      "n : sachez : \n",
      "sanc : hez : \n",
      "anc : shez : \n",
      "snc : ahez : \n",
      "nc : sahez : \n",
      "sac : nhez : \n",
      "ac : snhez : \n",
      "sc : anhez : \n",
      "c : sanhez : \n",
      "sanch : ez : \n",
      "anch : sez : \n",
      "snch : aez : \n",
      "nch : saez : \n",
      "sach : nez : \n",
      "ach : snez : \n",
      "sch : anez : \n",
      "ch : sanez : \n",
      "sanh : cez : \n",
      "anh : scez : \n",
      "snh : acez : \n",
      "nh : sacez : \n",
      "sah : ncez : \n",
      "ah : sncez : \n",
      "sh : ancez : \n",
      "h : sancez : \n",
      "sanche : z : \n",
      "anche : sz : \n",
      "snche : az : \n",
      "nche : saz : \n",
      "sache : nz : \n",
      "ache : snz : \n",
      "sche : anz : \n",
      "che : sanz : \n",
      "sanhe : cz : \n",
      "anhe : scz : \n",
      "snhe : acz : \n",
      "nhe : sacz : \n",
      "sahe : ncz : \n",
      "ahe : sncz : \n",
      "she : ancz : \n",
      "he : sancz : \n",
      "sance : hz : \n",
      "ance : shz : \n",
      "snce : ahz : \n",
      "nce : sahz : \n",
      "sace : nhz : \n",
      "ace : snhz : \n",
      "sce : anhz : \n",
      "ce : sanhz : \n",
      "sane : chz : \n",
      "ane : schz : \n",
      "sne : achz : \n",
      "ne : sachz : \n",
      "sae : nchz : \n",
      "ae : snchz : \n",
      "se : anchz : \n",
      "e : sanchz : \n",
      "s : a : nchez : \n",
      "s : an : chez : \n",
      "s : n : achez : \n",
      "s : anc : hez : \n",
      "s : nc : ahez : \n",
      "s : ac : nhez : \n",
      "s : c : anhez : \n",
      "s : anch : ez : \n",
      "s : nch : aez : \n",
      "s : ach : nez : \n",
      "s : ch : anez : \n",
      "s : anh : cez : \n",
      "s : nh : acez : \n",
      "s : ah : ncez : \n",
      "s : h : ancez : \n",
      "s : anche : z : \n",
      "s : nche : az : \n",
      "s : ache : nz : \n",
      "s : che : anz : \n",
      "s : anhe : cz : \n",
      "s : nhe : acz : \n",
      "s : ahe : ncz : \n",
      "s : he : ancz : \n",
      "s : ance : hz : \n",
      "s : nce : ahz : \n",
      "s : ace : nhz : \n",
      "s : ce : anhz : \n",
      "s : ane : chz : \n",
      "s : ne : achz : \n",
      "s : ae : nchz : \n",
      "s : e : anchz : \n",
      "sa : n : chez : \n",
      "a : sn : chez : \n",
      "a : n : schez : \n",
      "sa : nc : hez : \n",
      "a : snc : hez : \n",
      "a : nc : shez : \n",
      "sa : c : nhez : \n",
      "a : sc : nhez : \n",
      "a : c : snhez : \n",
      "sa : nch : ez : \n",
      "a : snch : ez : \n",
      "a : nch : sez : \n",
      "sa : ch : nez : \n",
      "a : sch : nez : \n",
      "a : ch : snez : \n",
      "sa : nh : cez : \n",
      "a : snh : cez : \n",
      "a : nh : scez : \n",
      "sa : h : ncez : \n",
      "a : sh : ncez : \n",
      "a : h : sncez : \n",
      "sa : nche : z : \n",
      "a : snche : z : \n",
      "a : nche : sz : \n",
      "sa : che : nz : \n",
      "a : sche : nz : \n",
      "a : che : snz : \n",
      "sa : nhe : cz : \n",
      "a : snhe : cz : \n",
      "a : nhe : scz : \n",
      "sa : he : ncz : \n",
      "a : she : ncz : \n",
      "a : he : sncz : \n",
      "sa : nce : hz : \n",
      "a : snce : hz : \n",
      "a : nce : shz : \n",
      "sa : ce : nhz : \n",
      "a : sce : nhz : \n",
      "a : ce : snhz : \n",
      "sa : ne : chz : \n",
      "a : sne : chz : \n",
      "a : ne : schz : \n",
      "sa : e : nchz : \n",
      "a : se : nchz : \n",
      "a : e : snchz : \n",
      "san : c : hez : \n",
      "an : sc : hez : \n",
      "an : c : shez : \n",
      "sn : ac : hez : \n",
      "n : sac : hez : \n",
      "n : ac : shez : \n",
      "sn : c : ahez : \n",
      "n : sc : ahez : \n",
      "n : c : sahez : \n",
      "san : ch : ez : \n",
      "an : sch : ez : \n",
      "an : ch : sez : \n",
      "sn : ach : ez : \n",
      "n : sach : ez : \n",
      "n : ach : sez : \n",
      "sn : ch : aez : \n",
      "n : sch : aez : \n",
      "n : ch : saez : \n",
      "san : h : cez : \n",
      "an : sh : cez : \n",
      "an : h : scez : \n",
      "sn : ah : cez : \n",
      "n : sah : cez : \n",
      "n : ah : scez : \n",
      "sn : h : acez : \n",
      "n : sh : acez : \n",
      "n : h : sacez : \n",
      "san : che : z : \n",
      "an : sche : z : \n",
      "an : che : sz : \n",
      "sn : ache : z : \n",
      "n : sache : z : \n",
      "n : ache : sz : \n",
      "sn : che : az : \n",
      "n : sche : az : \n",
      "n : che : saz : \n",
      "san : he : cz : \n",
      "an : she : cz : \n",
      "an : he : scz : \n",
      "sn : ahe : cz : \n",
      "n : sahe : cz : \n",
      "n : ahe : scz : \n",
      "sn : he : acz : \n",
      "n : she : acz : \n",
      "n : he : sacz : \n",
      "san : ce : hz : \n",
      "an : sce : hz : \n",
      "an : ce : shz : \n",
      "sn : ace : hz : \n",
      "n : sace : hz : \n",
      "n : ace : shz : \n",
      "sn : ce : ahz : \n",
      "n : sce : ahz : \n",
      "n : ce : sahz : \n",
      "san : e : chz : \n",
      "an : se : chz : \n",
      "an : e : schz : \n",
      "sn : ae : chz : \n",
      "n : sae : chz : \n",
      "n : ae : schz : \n",
      "sn : e : achz : \n",
      "n : se : achz : \n",
      "n : e : sachz : \n",
      "sanc : h : ez : \n",
      "anc : sh : ez : \n",
      "anc : h : sez : \n",
      "snc : ah : ez : \n",
      "nc : sah : ez : \n",
      "nc : ah : sez : \n",
      "snc : h : aez : \n",
      "nc : sh : aez : \n",
      "nc : h : saez : \n",
      "sac : nh : ez : \n",
      "ac : snh : ez : \n",
      "ac : nh : sez : \n",
      "sc : anh : ez : \n",
      "c : sanh : ez : \n",
      "c : anh : sez : \n",
      "sc : nh : aez : \n",
      "c : snh : aez : \n",
      "c : nh : saez : \n",
      "sac : h : nez : \n",
      "ac : sh : nez : \n",
      "ac : h : snez : \n",
      "sc : ah : nez : \n",
      "c : sah : nez : \n",
      "c : ah : snez : \n",
      "sc : h : anez : \n",
      "c : sh : anez : \n",
      "c : h : sanez : \n",
      "sanc : he : z : \n",
      "anc : she : z : \n",
      "anc : he : sz : \n",
      "snc : ahe : z : \n",
      "nc : sahe : z : \n",
      "nc : ahe : sz : \n",
      "snc : he : az : \n",
      "nc : she : az : \n",
      "nc : he : saz : \n",
      "sac : nhe : z : \n",
      "ac : snhe : z : \n",
      "ac : nhe : sz : \n",
      "sc : anhe : z : \n",
      "c : sanhe : z : \n",
      "c : anhe : sz : \n",
      "sc : nhe : az : \n",
      "c : snhe : az : \n",
      "c : nhe : saz : \n",
      "sac : he : nz : \n",
      "ac : she : nz : \n",
      "ac : he : snz : \n",
      "sc : ahe : nz : \n",
      "c : sahe : nz : \n",
      "c : ahe : snz : \n",
      "sc : he : anz : \n",
      "c : she : anz : \n",
      "c : he : sanz : \n",
      "sanc : e : hz : \n",
      "anc : se : hz : \n",
      "anc : e : shz : \n",
      "snc : ae : hz : \n",
      "nc : sae : hz : \n",
      "nc : ae : shz : \n",
      "snc : e : ahz : \n",
      "nc : se : ahz : \n",
      "nc : e : sahz : \n",
      "sac : ne : hz : \n",
      "ac : sne : hz : \n",
      "ac : ne : shz : \n",
      "sc : ane : hz : \n",
      "c : sane : hz : \n",
      "c : ane : shz : \n",
      "sc : ne : ahz : \n",
      "c : sne : ahz : \n",
      "c : ne : sahz : \n",
      "sac : e : nhz : \n",
      "ac : se : nhz : \n",
      "ac : e : snhz : \n",
      "sc : ae : nhz : \n",
      "c : sae : nhz : \n",
      "c : ae : snhz : \n",
      "sc : e : anhz : \n",
      "c : se : anhz : \n",
      "c : e : sanhz : \n",
      "sanch : e : z : \n",
      "anch : se : z : \n",
      "anch : e : sz : \n",
      "snch : ae : z : \n",
      "nch : sae : z : \n",
      "nch : ae : sz : \n",
      "snch : e : az : \n",
      "nch : se : az : \n",
      "nch : e : saz : \n",
      "sach : ne : z : \n",
      "ach : sne : z : \n",
      "ach : ne : sz : \n",
      "sch : ane : z : \n",
      "ch : sane : z : \n",
      "ch : ane : sz : \n",
      "sch : ne : az : \n",
      "ch : sne : az : \n",
      "ch : ne : saz : \n",
      "sach : e : nz : \n",
      "ach : se : nz : \n",
      "ach : e : snz : \n",
      "sch : ae : nz : \n",
      "ch : sae : nz : \n",
      "ch : ae : snz : \n",
      "sch : e : anz : \n",
      "ch : se : anz : \n",
      "ch : e : sanz : \n",
      "sanh : ce : z : \n",
      "anh : sce : z : \n",
      "anh : ce : sz : \n",
      "snh : ace : z : \n",
      "nh : sace : z : \n",
      "nh : ace : sz : \n",
      "snh : ce : az : \n",
      "nh : sce : az : \n",
      "nh : ce : saz : \n",
      "sah : nce : z : \n",
      "ah : snce : z : \n",
      "ah : nce : sz : \n",
      "sh : ance : z : \n",
      "h : sance : z : \n",
      "h : ance : sz : \n",
      "sh : nce : az : \n",
      "h : snce : az : \n",
      "h : nce : saz : \n",
      "sah : ce : nz : \n",
      "ah : sce : nz : \n",
      "ah : ce : snz : \n",
      "sh : ace : nz : \n",
      "h : sace : nz : \n",
      "h : ace : snz : \n",
      "sh : ce : anz : \n",
      "h : sce : anz : \n",
      "h : ce : sanz : \n",
      "sanh : e : cz : \n",
      "anh : se : cz : \n",
      "anh : e : scz : \n",
      "snh : ae : cz : \n",
      "nh : sae : cz : \n",
      "nh : ae : scz : \n",
      "snh : e : acz : \n",
      "nh : se : acz : \n",
      "nh : e : sacz : \n",
      "sah : ne : cz : \n",
      "ah : sne : cz : \n",
      "ah : ne : scz : \n",
      "sh : ane : cz : \n",
      "h : sane : cz : \n",
      "h : ane : scz : \n",
      "sh : ne : acz : \n",
      "h : sne : acz : \n",
      "h : ne : sacz : \n",
      "sah : e : ncz : \n",
      "ah : se : ncz : \n",
      "ah : e : sncz : \n",
      "sh : ae : ncz : \n",
      "h : sae : ncz : \n",
      "h : ae : sncz : \n",
      "sh : e : ancz : \n",
      "h : se : ancz : \n",
      "h : e : sancz : \n",
      "s : a : n : chez : \n",
      "s : a : nc : hez : \n",
      "s : a : c : nhez : \n",
      "s : a : nch : ez : \n",
      "s : a : ch : nez : \n",
      "s : a : nh : cez : \n",
      "s : a : h : ncez : \n",
      "s : a : nche : z : \n",
      "s : a : che : nz : \n",
      "s : a : nhe : cz : \n",
      "s : a : he : ncz : \n",
      "s : a : nce : hz : \n",
      "s : a : ce : nhz : \n",
      "s : a : ne : chz : \n",
      "s : a : e : nchz : \n",
      "s : an : c : hez : \n",
      "s : n : ac : hez : \n",
      "s : n : c : ahez : \n",
      "s : an : ch : ez : \n",
      "s : n : ach : ez : \n",
      "s : n : ch : aez : \n",
      "s : an : h : cez : \n",
      "s : n : ah : cez : \n",
      "s : n : h : acez : \n",
      "s : an : che : z : \n",
      "s : n : ache : z : \n",
      "s : n : che : az : \n",
      "s : an : he : cz : \n",
      "s : n : ahe : cz : \n",
      "s : n : he : acz : \n",
      "s : an : ce : hz : \n",
      "s : n : ace : hz : \n",
      "s : n : ce : ahz : \n",
      "s : an : e : chz : \n",
      "s : n : ae : chz : \n",
      "s : n : e : achz : \n",
      "s : anc : h : ez : \n",
      "s : nc : ah : ez : \n",
      "s : nc : h : aez : \n",
      "s : ac : nh : ez : \n",
      "s : c : anh : ez : \n",
      "s : c : nh : aez : \n",
      "s : ac : h : nez : \n",
      "s : c : ah : nez : \n",
      "s : c : h : anez : \n",
      "s : anc : he : z : \n",
      "s : nc : ahe : z : \n",
      "s : nc : he : az : \n",
      "s : ac : nhe : z : \n",
      "s : c : anhe : z : \n",
      "s : c : nhe : az : \n",
      "s : ac : he : nz : \n",
      "s : c : ahe : nz : \n",
      "s : c : he : anz : \n",
      "s : anc : e : hz : \n",
      "s : nc : ae : hz : \n",
      "s : nc : e : ahz : \n",
      "s : ac : ne : hz : \n",
      "s : c : ane : hz : \n",
      "s : c : ne : ahz : \n",
      "s : ac : e : nhz : \n",
      "s : c : ae : nhz : \n",
      "s : c : e : anhz : \n",
      "s : anch : e : z : \n",
      "s : nch : ae : z : \n",
      "s : nch : e : az : \n",
      "s : ach : ne : z : \n",
      "s : ch : ane : z : \n",
      "s : ch : ne : az : \n",
      "s : ach : e : nz : \n",
      "s : ch : ae : nz : \n",
      "s : ch : e : anz : \n",
      "s : anh : ce : z : \n",
      "s : nh : ace : z : \n",
      "s : nh : ce : az : \n",
      "s : ah : nce : z : \n",
      "s : h : ance : z : \n",
      "s : h : nce : az : \n",
      "s : ah : ce : nz : \n",
      "s : h : ace : nz : \n",
      "s : h : ce : anz : \n",
      "s : anh : e : cz : \n",
      "s : nh : ae : cz : \n",
      "s : nh : e : acz : \n",
      "s : ah : ne : cz : \n",
      "s : h : ane : cz : \n",
      "s : h : ne : acz : \n",
      "s : ah : e : ncz : \n",
      "s : h : ae : ncz : \n",
      "s : h : e : ancz : \n",
      "sa : n : c : hez : \n",
      "a : sn : c : hez : \n",
      "a : n : sc : hez : \n",
      "a : n : c : shez : \n",
      "sa : n : ch : ez : \n",
      "a : sn : ch : ez : \n",
      "a : n : sch : ez : \n",
      "a : n : ch : sez : \n",
      "sa : n : h : cez : \n",
      "a : sn : h : cez : \n",
      "a : n : sh : cez : \n",
      "a : n : h : scez : \n",
      "sa : n : che : z : \n",
      "a : sn : che : z : \n",
      "a : n : sche : z : \n",
      "a : n : che : sz : \n",
      "sa : n : he : cz : \n",
      "a : sn : he : cz : \n",
      "a : n : she : cz : \n",
      "a : n : he : scz : \n",
      "sa : n : ce : hz : \n",
      "a : sn : ce : hz : \n",
      "a : n : sce : hz : \n",
      "a : n : ce : shz : \n",
      "sa : n : e : chz : \n",
      "a : sn : e : chz : \n",
      "a : n : se : chz : \n",
      "a : n : e : schz : \n",
      "sa : nc : h : ez : \n",
      "a : snc : h : ez : \n",
      "a : nc : sh : ez : \n",
      "a : nc : h : sez : \n",
      "sa : c : nh : ez : \n",
      "a : sc : nh : ez : \n",
      "a : c : snh : ez : \n",
      "a : c : nh : sez : \n",
      "sa : c : h : nez : \n",
      "a : sc : h : nez : \n",
      "a : c : sh : nez : \n",
      "a : c : h : snez : \n",
      "sa : nc : he : z : \n",
      "a : snc : he : z : \n",
      "a : nc : she : z : \n",
      "a : nc : he : sz : \n",
      "sa : c : nhe : z : \n",
      "a : sc : nhe : z : \n",
      "a : c : snhe : z : \n",
      "a : c : nhe : sz : \n",
      "sa : c : he : nz : \n",
      "a : sc : he : nz : \n",
      "a : c : she : nz : \n",
      "a : c : he : snz : \n",
      "sa : nc : e : hz : \n",
      "a : snc : e : hz : \n",
      "a : nc : se : hz : \n",
      "a : nc : e : shz : \n",
      "sa : c : ne : hz : \n",
      "a : sc : ne : hz : \n",
      "a : c : sne : hz : \n",
      "a : c : ne : shz : \n",
      "sa : c : e : nhz : \n",
      "a : sc : e : nhz : \n",
      "a : c : se : nhz : \n",
      "a : c : e : snhz : \n",
      "sa : nch : e : z : \n",
      "a : snch : e : z : \n",
      "a : nch : se : z : \n",
      "a : nch : e : sz : \n",
      "sa : ch : ne : z : \n",
      "a : sch : ne : z : \n",
      "a : ch : sne : z : \n",
      "a : ch : ne : sz : \n",
      "sa : ch : e : nz : \n",
      "a : sch : e : nz : \n",
      "a : ch : se : nz : \n",
      "a : ch : e : snz : \n",
      "sa : nh : ce : z : \n",
      "a : snh : ce : z : \n",
      "a : nh : sce : z : \n",
      "a : nh : ce : sz : \n",
      "sa : h : nce : z : \n",
      "a : sh : nce : z : \n",
      "a : h : snce : z : \n",
      "a : h : nce : sz : \n",
      "sa : h : ce : nz : \n",
      "a : sh : ce : nz : \n",
      "a : h : sce : nz : \n",
      "a : h : ce : snz : \n",
      "sa : nh : e : cz : \n",
      "a : snh : e : cz : \n",
      "a : nh : se : cz : \n",
      "a : nh : e : scz : \n",
      "sa : h : ne : cz : \n",
      "a : sh : ne : cz : \n",
      "a : h : sne : cz : \n",
      "a : h : ne : scz : \n",
      "sa : h : e : ncz : \n",
      "a : sh : e : ncz : \n",
      "a : h : se : ncz : \n",
      "a : h : e : sncz : \n",
      "san : c : h : ez : \n",
      "an : sc : h : ez : \n",
      "an : c : sh : ez : \n",
      "an : c : h : sez : \n",
      "sn : ac : h : ez : \n",
      "n : sac : h : ez : \n",
      "n : ac : sh : ez : \n",
      "n : ac : h : sez : \n",
      "sn : c : ah : ez : \n",
      "n : sc : ah : ez : \n",
      "n : c : sah : ez : \n",
      "n : c : ah : sez : \n",
      "sn : c : h : aez : \n",
      "n : sc : h : aez : \n",
      "n : c : sh : aez : \n",
      "n : c : h : saez : \n",
      "san : c : he : z : \n",
      "an : sc : he : z : \n",
      "an : c : she : z : \n",
      "an : c : he : sz : \n",
      "sn : ac : he : z : \n",
      "n : sac : he : z : \n",
      "n : ac : she : z : \n",
      "n : ac : he : sz : \n",
      "sn : c : ahe : z : \n",
      "n : sc : ahe : z : \n",
      "n : c : sahe : z : \n",
      "n : c : ahe : sz : \n",
      "sn : c : he : az : \n",
      "n : sc : he : az : \n",
      "n : c : she : az : \n",
      "n : c : he : saz : \n",
      "san : c : e : hz : \n",
      "an : sc : e : hz : \n",
      "an : c : se : hz : \n",
      "an : c : e : shz : \n",
      "sn : ac : e : hz : \n",
      "n : sac : e : hz : \n",
      "n : ac : se : hz : \n",
      "n : ac : e : shz : \n",
      "sn : c : ae : hz : \n",
      "n : sc : ae : hz : \n",
      "n : c : sae : hz : \n",
      "n : c : ae : shz : \n",
      "sn : c : e : ahz : \n",
      "n : sc : e : ahz : \n",
      "n : c : se : ahz : \n",
      "n : c : e : sahz : \n",
      "san : ch : e : z : \n",
      "an : sch : e : z : \n",
      "an : ch : se : z : \n",
      "an : ch : e : sz : \n",
      "sn : ach : e : z : \n",
      "n : sach : e : z : \n",
      "n : ach : se : z : \n",
      "n : ach : e : sz : \n",
      "sn : ch : ae : z : \n",
      "n : sch : ae : z : \n",
      "n : ch : sae : z : \n",
      "n : ch : ae : sz : \n",
      "sn : ch : e : az : \n",
      "n : sch : e : az : \n",
      "n : ch : se : az : \n",
      "n : ch : e : saz : \n",
      "san : h : ce : z : \n",
      "an : sh : ce : z : \n",
      "an : h : sce : z : \n",
      "an : h : ce : sz : \n",
      "sn : ah : ce : z : \n",
      "n : sah : ce : z : \n",
      "n : ah : sce : z : \n",
      "n : ah : ce : sz : \n",
      "sn : h : ace : z : \n",
      "n : sh : ace : z : \n",
      "n : h : sace : z : \n",
      "n : h : ace : sz : \n",
      "sn : h : ce : az : \n",
      "n : sh : ce : az : \n",
      "n : h : sce : az : \n",
      "n : h : ce : saz : \n",
      "san : h : e : cz : \n",
      "an : sh : e : cz : \n",
      "an : h : se : cz : \n",
      "an : h : e : scz : \n",
      "sn : ah : e : cz : \n",
      "n : sah : e : cz : \n",
      "n : ah : se : cz : \n",
      "n : ah : e : scz : \n",
      "sn : h : ae : cz : \n",
      "n : sh : ae : cz : \n",
      "n : h : sae : cz : \n",
      "n : h : ae : scz : \n",
      "sn : h : e : acz : \n",
      "n : sh : e : acz : \n",
      "n : h : se : acz : \n",
      "n : h : e : sacz : \n",
      "sanc : h : e : z : \n",
      "anc : sh : e : z : \n",
      "anc : h : se : z : \n",
      "anc : h : e : sz : \n",
      "snc : ah : e : z : \n",
      "nc : sah : e : z : \n",
      "nc : ah : se : z : \n",
      "nc : ah : e : sz : \n",
      "snc : h : ae : z : \n",
      "nc : sh : ae : z : \n",
      "nc : h : sae : z : \n",
      "nc : h : ae : sz : \n",
      "snc : h : e : az : \n",
      "nc : sh : e : az : \n",
      "nc : h : se : az : \n",
      "nc : h : e : saz : \n",
      "sac : nh : e : z : \n",
      "ac : snh : e : z : \n",
      "ac : nh : se : z : \n",
      "ac : nh : e : sz : \n",
      "sc : anh : e : z : \n",
      "c : sanh : e : z : \n",
      "c : anh : se : z : \n",
      "c : anh : e : sz : \n",
      "sc : nh : ae : z : \n",
      "c : snh : ae : z : \n",
      "c : nh : sae : z : \n",
      "c : nh : ae : sz : \n",
      "sc : nh : e : az : \n",
      "c : snh : e : az : \n",
      "c : nh : se : az : \n",
      "c : nh : e : saz : \n",
      "sac : h : ne : z : \n",
      "ac : sh : ne : z : \n",
      "ac : h : sne : z : \n",
      "ac : h : ne : sz : \n",
      "sc : ah : ne : z : \n",
      "c : sah : ne : z : \n",
      "c : ah : sne : z : \n",
      "c : ah : ne : sz : \n",
      "sc : h : ane : z : \n",
      "c : sh : ane : z : \n",
      "c : h : sane : z : \n",
      "c : h : ane : sz : \n",
      "sc : h : ne : az : \n",
      "c : sh : ne : az : \n",
      "c : h : sne : az : \n",
      "c : h : ne : saz : \n",
      "sac : h : e : nz : \n",
      "ac : sh : e : nz : \n",
      "ac : h : se : nz : \n",
      "ac : h : e : snz : \n",
      "sc : ah : e : nz : \n",
      "c : sah : e : nz : \n",
      "c : ah : se : nz : \n",
      "c : ah : e : snz : \n",
      "sc : h : ae : nz : \n",
      "c : sh : ae : nz : \n",
      "c : h : sae : nz : \n",
      "c : h : ae : snz : \n",
      "sc : h : e : anz : \n",
      "c : sh : e : anz : \n",
      "c : h : se : anz : \n",
      "c : h : e : sanz : \n",
      "s : a : n : c : hez : \n",
      "s : a : n : ch : ez : \n",
      "s : a : n : h : cez : \n",
      "s : a : n : che : z : \n",
      "s : a : n : he : cz : \n",
      "s : a : n : ce : hz : \n",
      "s : a : n : e : chz : \n",
      "s : a : nc : h : ez : \n",
      "s : a : c : nh : ez : \n",
      "s : a : c : h : nez : \n",
      "s : a : nc : he : z : \n",
      "s : a : c : nhe : z : \n",
      "s : a : c : he : nz : \n",
      "s : a : nc : e : hz : \n",
      "s : a : c : ne : hz : \n",
      "s : a : c : e : nhz : \n",
      "s : a : nch : e : z : \n",
      "s : a : ch : ne : z : \n",
      "s : a : ch : e : nz : \n",
      "s : a : nh : ce : z : \n",
      "s : a : h : nce : z : \n",
      "s : a : h : ce : nz : \n",
      "s : a : nh : e : cz : \n",
      "s : a : h : ne : cz : \n",
      "s : a : h : e : ncz : \n",
      "s : an : c : h : ez : \n",
      "s : n : ac : h : ez : \n",
      "s : n : c : ah : ez : \n",
      "s : n : c : h : aez : \n",
      "s : an : c : he : z : \n",
      "s : n : ac : he : z : \n",
      "s : n : c : ahe : z : \n",
      "s : n : c : he : az : \n",
      "s : an : c : e : hz : \n",
      "s : n : ac : e : hz : \n",
      "s : n : c : ae : hz : \n",
      "s : n : c : e : ahz : \n",
      "s : an : ch : e : z : \n",
      "s : n : ach : e : z : \n",
      "s : n : ch : ae : z : \n",
      "s : n : ch : e : az : \n",
      "s : an : h : ce : z : \n",
      "s : n : ah : ce : z : \n",
      "s : n : h : ace : z : \n",
      "s : n : h : ce : az : \n",
      "s : an : h : e : cz : \n",
      "s : n : ah : e : cz : \n",
      "s : n : h : ae : cz : \n",
      "s : n : h : e : acz : \n",
      "s : anc : h : e : z : \n",
      "s : nc : ah : e : z : \n",
      "s : nc : h : ae : z : \n",
      "s : nc : h : e : az : \n",
      "s : ac : nh : e : z : \n",
      "s : c : anh : e : z : \n",
      "s : c : nh : ae : z : \n",
      "s : c : nh : e : az : \n",
      "s : ac : h : ne : z : \n",
      "s : c : ah : ne : z : \n",
      "s : c : h : ane : z : \n",
      "s : c : h : ne : az : \n",
      "s : ac : h : e : nz : \n",
      "s : c : ah : e : nz : \n",
      "s : c : h : ae : nz : \n",
      "s : c : h : e : anz : \n",
      "sa : n : c : h : ez : \n",
      "a : sn : c : h : ez : \n",
      "a : n : sc : h : ez : \n",
      "a : n : c : sh : ez : \n",
      "a : n : c : h : sez : \n",
      "sa : n : c : he : z : \n",
      "a : sn : c : he : z : \n",
      "a : n : sc : he : z : \n",
      "a : n : c : she : z : \n",
      "a : n : c : he : sz : \n",
      "sa : n : c : e : hz : \n",
      "a : sn : c : e : hz : \n",
      "a : n : sc : e : hz : \n",
      "a : n : c : se : hz : \n",
      "a : n : c : e : shz : \n",
      "sa : n : ch : e : z : \n",
      "a : sn : ch : e : z : \n",
      "a : n : sch : e : z : \n",
      "a : n : ch : se : z : \n",
      "a : n : ch : e : sz : \n",
      "sa : n : h : ce : z : \n",
      "a : sn : h : ce : z : \n",
      "a : n : sh : ce : z : \n",
      "a : n : h : sce : z : \n",
      "a : n : h : ce : sz : \n",
      "sa : n : h : e : cz : \n",
      "a : sn : h : e : cz : \n",
      "a : n : sh : e : cz : \n",
      "a : n : h : se : cz : \n",
      "a : n : h : e : scz : \n",
      "sa : nc : h : e : z : \n",
      "a : snc : h : e : z : \n",
      "a : nc : sh : e : z : \n",
      "a : nc : h : se : z : \n",
      "a : nc : h : e : sz : \n",
      "sa : c : nh : e : z : \n",
      "a : sc : nh : e : z : \n",
      "a : c : snh : e : z : \n",
      "a : c : nh : se : z : \n",
      "a : c : nh : e : sz : \n",
      "sa : c : h : ne : z : \n",
      "a : sc : h : ne : z : \n",
      "a : c : sh : ne : z : \n",
      "a : c : h : sne : z : \n",
      "a : c : h : ne : sz : \n",
      "sa : c : h : e : nz : \n",
      "a : sc : h : e : nz : \n",
      "a : c : sh : e : nz : \n",
      "a : c : h : se : nz : \n",
      "a : c : h : e : snz : \n",
      "san : c : h : e : z : \n",
      "an : sc : h : e : z : \n",
      "an : c : sh : e : z : \n",
      "an : c : h : se : z : \n",
      "an : c : h : e : sz : \n",
      "sn : ac : h : e : z : \n",
      "n : sac : h : e : z : \n",
      "n : ac : sh : e : z : \n",
      "n : ac : h : se : z : \n",
      "n : ac : h : e : sz : \n",
      "sn : c : ah : e : z : \n",
      "n : sc : ah : e : z : \n",
      "n : c : sah : e : z : \n",
      "n : c : ah : se : z : \n",
      "n : c : ah : e : sz : \n",
      "sn : c : h : ae : z : \n",
      "n : sc : h : ae : z : \n",
      "n : c : sh : ae : z : \n",
      "n : c : h : sae : z : \n",
      "n : c : h : ae : sz : \n",
      "sn : c : h : e : az : \n",
      "n : sc : h : e : az : \n",
      "n : c : sh : e : az : \n",
      "n : c : h : se : az : \n",
      "n : c : h : e : saz : \n",
      "s : a : n : c : h : ez : \n",
      "s : a : n : c : he : z : \n",
      "s : a : n : c : e : hz : \n",
      "s : a : n : ch : e : z : \n",
      "s : a : n : h : ce : z : \n",
      "s : a : n : h : e : cz : \n",
      "s : a : nc : h : e : z : \n",
      "s : a : c : nh : e : z : \n",
      "s : a : c : h : ne : z : \n",
      "s : a : c : h : e : nz : \n",
      "s : an : c : h : e : z : \n",
      "s : n : ac : h : e : z : \n",
      "s : n : c : ah : e : z : \n",
      "s : n : c : h : ae : z : \n",
      "s : n : c : h : e : az : \n",
      "sa : n : c : h : e : z : \n",
      "a : sn : c : h : e : z : \n",
      "a : n : sc : h : e : z : \n",
      "a : n : c : sh : e : z : \n",
      "a : n : c : h : se : z : \n",
      "a : n : c : h : e : sz : \n",
      "s : a : n : c : h : e : z : \n"
     ]
    }
   ],
   "source": [
    "for part in set_partitions('sanchez'):\n",
    "    for segment in part:\n",
    "        print(''.join(segment), end=' : ')\n",
    "    print()"
   ]
  },
  {
   "cell_type": "markdown",
   "metadata": {},
   "source": [
    "# Exercises"
   ]
  },
  {
   "cell_type": "markdown",
   "metadata": {},
   "source": [
    "## Description"
   ]
  },
  {
   "cell_type": "markdown",
   "metadata": {},
   "source": [
    "In this exercise, you will utilize `itertools` and the iterator protocol to write generator functions `prime_factors(N)` and `all_factorizations(N)`.  These must be generator functions to yield results incrmentally, not produce lists of complete answers (although the tests here will concretize the iterators).  In your answer to all factorizations, include the number itself, but always exclude 1 from each tuple.\n",
    "\n",
    "As a starting point, the prime generation function and its support function that were presented in an earlier exercise are available in the setup.  Answers should look like the below.  However, you may yield the individual factors or tuples of factors in whatever order you like, the tests will permit a different ordering than shown in this example.\n",
    "\n",
    "\n",
    "```python\n",
    ">>> list(prime_factors(420))\n",
    "[2, 2, 3, 5, 7]\n",
    "\n",
    ">>> list(all_factorizations(420))\n",
    "[(2, 2, 3, 5, 7),\n",
    " (3, 4, 5, 7),\n",
    " (5, 7, 12),\n",
    " (7, 60),\n",
    " (5, 84),\n",
    " (3, 7, 20),\n",
    " (3, 140),\n",
    " (3, 5, 28),\n",
    " (2, 5, 6, 7),\n",
    " (2, 7, 30),\n",
    " (2, 210),\n",
    " (2, 5, 42),\n",
    " (2, 3, 7, 10),\n",
    " (2, 3, 70),\n",
    " (2, 3, 5, 14),\n",
    " (2, 2, 7, 15),\n",
    " (2, 2, 105),\n",
    " (2, 2, 5, 21),\n",
    " (2, 2, 3, 35),\n",
    " (420,)]\n",
    "```"
   ]
  },
  {
   "cell_type": "markdown",
   "metadata": {},
   "source": [
    "## Setup"
   ]
  },
  {
   "cell_type": "code",
   "execution_count": 35,
   "metadata": {},
   "outputs": [],
   "source": [
    "from itertools import *\n",
    "from math import sqrt, ceil\n",
    "\n",
    "def up_to(seq, lim):\n",
    "    for n in seq:\n",
    "        if n <= lim:\n",
    "            yield n\n",
    "        else:\n",
    "            break\n",
    "\n",
    "def get_primes():\n",
    "    \"Pretty good Sieve of Erotosthenes\"\n",
    "    yield 2\n",
    "    candidate = 3\n",
    "    found = []\n",
    "    while True:\n",
    "        lim = int(ceil(sqrt(candidate)))\n",
    "        if all(candidate % prime != 0 for prime in up_to(found, lim)):\n",
    "            yield candidate\n",
    "            found.append(candidate)\n",
    "        candidate += 2\n",
    "        \n",
    "def prime_factors(N: int):\n",
    "    # Correct signature, correct for N=10\n",
    "    yield 2\n",
    "    yield 5\n",
    "    \n",
    "def all_factorizations(N: int):\n",
    "    # Correct signature, correct for N=10\n",
    "    yield (2, 5)\n",
    "    yield (10,)"
   ]
  },
  {
   "cell_type": "markdown",
   "metadata": {},
   "source": [
    "## Solution"
   ]
  },
  {
   "cell_type": "code",
   "execution_count": 36,
   "metadata": {},
   "outputs": [],
   "source": [
    "from functools import reduce\n",
    "from operator import mul\n",
    "\n",
    "def prime_factors(N):\n",
    "    for p in get_primes():\n",
    "        while N % p == 0:\n",
    "            yield p\n",
    "            N //= p\n",
    "        if N == 1:\n",
    "            return\n",
    "\n",
    "def all_factorizations(N):\n",
    "    yielded = set((N,))\n",
    "    for factors in permutations(prime_factors(N)):\n",
    "        prod = 1\n",
    "        for i in range(1, len(factors)):\n",
    "            prod = reduce(mul, factors[:i])\n",
    "            answer = tuple(sorted((prod,) + factors[i:]))\n",
    "            if answer not in yielded:\n",
    "                yield answer\n",
    "            yielded.add(answer)\n",
    "    yield (N,)"
   ]
  },
  {
   "cell_type": "markdown",
   "metadata": {},
   "source": [
    "## Test Cases"
   ]
  },
  {
   "cell_type": "code",
   "execution_count": 37,
   "metadata": {},
   "outputs": [],
   "source": [
    "def test_isgen_prime():\n",
    "    from typing import Iterator\n",
    "    assert isinstance(prime_factors(10), Iterator)\n",
    "    \n",
    "test_isgen_prime()"
   ]
  },
  {
   "cell_type": "code",
   "execution_count": 38,
   "metadata": {},
   "outputs": [],
   "source": [
    "def test_isgen_allfac():\n",
    "    from typing import Iterator\n",
    "    assert isinstance(all_factorizations(10), Iterator)\n",
    "    \n",
    "test_isgen_allfac()"
   ]
  },
  {
   "cell_type": "code",
   "execution_count": 39,
   "metadata": {},
   "outputs": [],
   "source": [
    "def test_prime_facs():\n",
    "    assert set(prime_factors(380)) == {2, 5, 19}\n",
    "    \n",
    "test_prime_facs()"
   ]
  },
  {
   "cell_type": "code",
   "execution_count": 40,
   "metadata": {},
   "outputs": [],
   "source": [
    "def test_all_facs():\n",
    "    correct = {(2, 2, 5, 19), (2, 2, 95), (2, 5, 38), (2, 10, 19), \n",
    "               (2, 190), (4, 5, 19), (5, 76), (19, 20), (380,)}\n",
    "    assert set(all_factorizations(380)) == correct\n",
    "    \n",
    "test_all_facs()"
   ]
  },
  {
   "cell_type": "markdown",
   "metadata": {},
   "source": [
    "-------------\n",
    "Materials licensed under [CC BY-NC-ND 4.0](https://creativecommons.org/licenses/by-nc-nd/4.0/) by the authors"
   ]
  }
 ],
 "metadata": {
  "kernelspec": {
   "display_name": "Python 3 (ipykernel)",
   "language": "python",
   "name": "python3"
  },
  "language_info": {
   "codemirror_mode": {
    "name": "ipython",
    "version": 3
   },
   "file_extension": ".py",
   "mimetype": "text/x-python",
   "name": "python",
   "nbconvert_exporter": "python",
   "pygments_lexer": "ipython3",
   "version": "3.10.7"
  }
 },
 "nbformat": 4,
 "nbformat_minor": 4
}
