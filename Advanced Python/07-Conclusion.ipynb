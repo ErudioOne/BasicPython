{
 "cells": [
  {
   "cell_type": "markdown",
   "metadata": {
    "slideshow": {
     "slide_type": "slide"
    }
   },
   "source": [
    "![Erudio logo](../img/erudio-logo-small.png)"
   ]
  },
  {
   "cell_type": "code",
   "execution_count": 3,
   "metadata": {
    "slideshow": {
     "slide_type": "skip"
    }
   },
   "outputs": [
    {
     "data": {
      "text/html": [
       "<!-- execute this cell before continue -->\n",
       "<link rel=\"stylesheet\" href=\"https://fonts.googleapis.com/css?family=Lato\">\n",
       "<style>.reveal * { font-family: \"Lato\" !important; } .reveal h1, .reveal h2, .reveal h3, .reveal h4, .reveal h5, .reveal h6 { font-family: \"Lato\" !important; } .reveal .code_cell *, .reveal code, .reveal code * { font-family: monospace !important; }</style>\n"
      ],
      "text/plain": [
       "<IPython.core.display.HTML object>"
      ]
     },
     "metadata": {},
     "output_type": "display_data"
    }
   ],
   "source": [
    "%%HTML\n",
    "<!-- execute this cell before continue -->\n",
    "<link rel=\"stylesheet\" href=\"https://fonts.googleapis.com/css?family=Lato\">\n",
    "<style>.reveal * { font-family: \"Lato\" !important; } .reveal h1, .reveal h2, .reveal h3, .reveal h4, .reveal h5, .reveal h6 { font-family: \"Lato\" !important; } .reveal .code_cell *, .reveal code, .reveal code * { font-family: monospace !important; }</style>"
   ]
  },
  {
   "cell_type": "markdown",
   "metadata": {
    "slideshow": {
     "slide_type": "slide"
    }
   },
   "source": [
    "<h2 style=\"font-weight: bold;\">\n",
    "    What Did You Learn\n",
    "</h2>\n",
    "\n",
    "![orange-divider](https://user-images.githubusercontent.com/7065401/98619088-44ab6000-22e1-11eb-8f6d-5532e68ab274.png)\n",
    "\n",
    "\n",
    "<ul>\n",
    "    <li>The simple yet powerful <b>protocols</b> that support iterator and contexts</li>\n",
    "    <li>Using both functions and classes to implement protocols</li>\n",
    "    <li>The power and elegance of combining lazy iterators</li>\n",
    "    <li>Why using contexts provides program safety and clearer code</li>\n",
    "    <li>How to express orthogonal (cross-cutting) concerns with decorators</li>\n",
    "</ul>"
   ]
  },
  {
   "cell_type": "markdown",
   "metadata": {
    "slideshow": {
     "slide_type": "slide"
    }
   },
   "source": [
    "<h2 style=\"font-weight: bold;\">\n",
    "    What Next?\n",
    "</h2>\n",
    "\n",
    "![orange-divider](https://user-images.githubusercontent.com/7065401/98619088-44ab6000-22e1-11eb-8f6d-5532e68ab274.png)\n",
    "\n",
    "<ul>\n",
    "    \n",
    "    <li>Refactor code that handles streaming data to use iterators\n",
    "        <br/>... and combine those streams using iterator algebra</li>\n",
    "    <li>Identify those places in your codebase that require setup and tear-down\n",
    "        <br/>... and see if those can be refactored as context managers</li>\n",
    "    <li>Find the \"boilerplate\" code that is repeated in many function of your projects\n",
    "        <br/>... and try to express the functionality as \"code injection\" via decorators</li>\n",
    "    <li>Research and practice decorating classes as well as functions</li>\n",
    "</ul>"
   ]
  },
  {
   "cell_type": "markdown",
   "metadata": {},
   "source": [
    "-------------\n",
    "Materials licensed under [CC BY-NC-ND 4.0](https://creativecommons.org/licenses/by-nc-nd/4.0/) by the authors"
   ]
  }
 ],
 "metadata": {
  "celltoolbar": "Slideshow",
  "kernelspec": {
   "display_name": "Python 3 (ipykernel)",
   "language": "python",
   "name": "python3"
  },
  "language_info": {
   "codemirror_mode": {
    "name": "ipython",
    "version": 3
   },
   "file_extension": ".py",
   "mimetype": "text/x-python",
   "name": "python",
   "nbconvert_exporter": "python",
   "pygments_lexer": "ipython3",
   "version": "3.10.7"
  }
 },
 "nbformat": 4,
 "nbformat_minor": 4
}
